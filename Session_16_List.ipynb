{
 "cells": [
  {
   "cell_type": "code",
   "execution_count": 6,
   "id": "53b688dd-5ece-4d71-8f1b-71dc43a588c6",
   "metadata": {},
   "outputs": [
    {
     "name": "stdin",
     "output_type": "stream",
     "text": [
      "Enter a number 1:  34#3\n",
      "Enter a number 2:  34#4\n"
     ]
    },
    {
     "name": "stdout",
     "output_type": "stream",
     "text": [
      "Both the numbers 34 and 34 are equal\n"
     ]
    }
   ],
   "source": [
    "# sandeep \n",
    "# how to find a greaterts number\n",
    "try:\n",
    "    num1 = eval(input(\"Enter a number 1: \"))\n",
    "    num2 = eval(input(\"Enter a number 2: \"))\n",
    "\n",
    "    if num1 == num2:\n",
    "        print(f\"Both the numbers {num1} and {num2} are equal\")\n",
    "    elif num1 > num2:\n",
    "        print(f\"{num1} is greater than {num2}\")\n",
    "    elif num1 < num2:\n",
    "        print(f\"{num1} is lesser than {num2}\")\n",
    "\n",
    "except Exception as e:\n",
    "    print(f\"You have encountered with an exception: {e}\")\n",
    "\n"
   ]
  },
  {
   "cell_type": "code",
   "execution_count": 11,
   "id": "9b4edff7-287f-46cb-893c-cf5111a11887",
   "metadata": {},
   "outputs": [
    {
     "data": {
      "text/plain": [
       "34"
      ]
     },
     "execution_count": 11,
     "metadata": {},
     "output_type": "execute_result"
    }
   ],
   "source": [
    "eval('34#344')  # spl charcters you can handle with int "
   ]
  },
  {
   "cell_type": "code",
   "execution_count": 15,
   "id": "943ced5d-5db9-44cc-84ce-06167c5e062a",
   "metadata": {},
   "outputs": [
    {
     "name": "stdout",
     "output_type": "stream",
     "text": [
      "123456\n"
     ]
    }
   ],
   "source": [
    "str1='the telephone number is 123456'\n",
    "# i want 123456\n",
    "# idea: split karo\n",
    "# then when you split ==== list \n",
    "\n",
    "# iterate each letter apply isdigit if it is\n",
    "# true then then keep in empty string\n",
    "num=''\n",
    "for i in str1:\n",
    "    if i.isdigit():\n",
    "        num=num+i\n",
    "print(num)"
   ]
  },
  {
   "cell_type": "markdown",
   "id": "d8e4a12b-045c-4c25-be51-ceb12a2eea6e",
   "metadata": {},
   "source": [
    "- Baisc representations\n",
    "\n",
    "- inbuilt functions\n",
    "\n",
    "    - type\n",
    "\n",
    "    - print\n",
    "\n",
    "    - min\n",
    "\n",
    "    - max\n",
    "\n",
    "    - len\n",
    "\n",
    "    - sum\n",
    "\n",
    "    - reveresd\n",
    "\n",
    "    - sorted\n",
    "\n",
    "- concatenation\n",
    "\n",
    "- index\n",
    "\n",
    "- in\n",
    "\n",
    "- difference between range and in\n",
    "\n",
    "- mutable vs immutable\n",
    "\n",
    "- slice\n",
    "\n",
    "- Methods"
   ]
  },
  {
   "cell_type": "markdown",
   "id": "ffa705ec-2e89-4fb7-8c09-e73785ee0af9",
   "metadata": {},
   "source": [
    "**Basic Representations**\n"
   ]
  },
  {
   "cell_type": "markdown",
   "id": "61af0cce-ea98-4cc1-97f2-b755ef517086",
   "metadata": {},
   "source": [
    "- strings elements is in quotes\n",
    "\n",
    "- List elements is in square brackets"
   ]
  },
  {
   "cell_type": "code",
   "execution_count": 16,
   "id": "b2e3e007-024c-4e9a-ab8c-e177dd287d7b",
   "metadata": {},
   "outputs": [
    {
     "data": {
      "text/plain": [
       "[1, 2, 3, 4]"
      ]
     },
     "execution_count": 16,
     "metadata": {},
     "output_type": "execute_result"
    }
   ],
   "source": [
    "list1=[1,2,3,4]\n",
    "list1"
   ]
  },
  {
   "cell_type": "code",
   "execution_count": 18,
   "id": "2442cbf9-e6dd-4abf-a001-d838c28957a5",
   "metadata": {},
   "outputs": [
    {
     "data": {
      "text/plain": [
       "list"
      ]
     },
     "execution_count": 18,
     "metadata": {},
     "output_type": "execute_result"
    }
   ],
   "source": [
    "type(list1)\n",
    "# for strings ===== str\n",
    "# we will say strings ==== but type is str\n",
    "# we will say list ====== type also list"
   ]
  },
  {
   "cell_type": "code",
   "execution_count": 19,
   "id": "6627932f-5c24-4110-9ad6-5d1d517fbb2b",
   "metadata": {},
   "outputs": [
    {
     "data": {
      "text/plain": [
       "['A', 'B', 'C']"
      ]
     },
     "execution_count": 19,
     "metadata": {},
     "output_type": "execute_result"
    }
   ],
   "source": [
    "list2=['A','B','C']\n",
    "list2"
   ]
  },
  {
   "cell_type": "code",
   "execution_count": 20,
   "id": "bc1cac10-753e-4088-90be-1a395203b533",
   "metadata": {},
   "outputs": [
    {
     "data": {
      "text/plain": [
       "[1, 2, 3, 'A', 'B', 'C']"
      ]
     },
     "execution_count": 20,
     "metadata": {},
     "output_type": "execute_result"
    }
   ],
   "source": [
    "list3=[1,2,3,'A','B','C']\n",
    "list3"
   ]
  },
  {
   "cell_type": "code",
   "execution_count": 32,
   "id": "cf598128-d3ec-4c81-ab17-404ec8fbe40e",
   "metadata": {},
   "outputs": [
    {
     "data": {
      "text/plain": [
       "[[[[[[[['python']]]]]]]]"
      ]
     },
     "execution_count": 32,
     "metadata": {},
     "output_type": "execute_result"
    }
   ],
   "source": [
    "list1=[1,2,3,4]\n",
    "list2=['A','B','C']\n",
    "list3=[1,2,3,'A','B','C']\n",
    "list4=[10,20,30,'Apple','Banana','Cherry',True,False,10.5,20+30j]\n",
    "list5=[10,10,10]\n",
    "list6=[10,20,30,['Apple','Banana']]\n",
    "list7=[[10]]\n",
    "name='python'\n",
    "list8=[name]\n",
    "list9=[_]\n",
    "list9"
   ]
  },
  {
   "cell_type": "code",
   "execution_count": 33,
   "id": "fd3c6283-fce5-4d5c-83ce-10cfd3abb83c",
   "metadata": {},
   "outputs": [],
   "source": [
    "list1=[10,20,2,5,75]\n",
    "list2=['Apple','apple','Cherry','banana']\n",
    "list3=[10,20,2,5,75,'Apple','apple','Cherry','banana']\n",
    "# perform all inbuilt functions\n",
    "# len max min sum sorted reversed"
   ]
  },
  {
   "cell_type": "code",
   "execution_count": 36,
   "id": "1ad54a89-2bfd-4106-8b08-90aec9dc78d2",
   "metadata": {},
   "outputs": [
    {
     "data": {
      "text/plain": [
       "(5, 4, 9)"
      ]
     },
     "execution_count": 36,
     "metadata": {},
     "output_type": "execute_result"
    }
   ],
   "source": [
    "len(list1),len(list2),len(list3)"
   ]
  },
  {
   "cell_type": "code",
   "execution_count": 39,
   "id": "1708c298-b026-4134-9d1c-51e24f38ae47",
   "metadata": {},
   "outputs": [
    {
     "data": {
      "text/plain": [
       "(2, 'APple')"
      ]
     },
     "execution_count": 39,
     "metadata": {},
     "output_type": "execute_result"
    }
   ],
   "source": [
    "list2=['Apple','APple','Cherry','banana']\n",
    "#       65,110   6580    97     67       98\n",
    "min(list1),min(list2)"
   ]
  },
  {
   "cell_type": "code",
   "execution_count": 40,
   "id": "f3bc0d77-709c-4bc1-970b-b8ce7363158e",
   "metadata": {},
   "outputs": [
    {
     "ename": "TypeError",
     "evalue": "'<' not supported between instances of 'str' and 'int'",
     "output_type": "error",
     "traceback": [
      "\u001b[1;31m---------------------------------------------------------------------------\u001b[0m",
      "\u001b[1;31mTypeError\u001b[0m                                 Traceback (most recent call last)",
      "Cell \u001b[1;32mIn[40], line 2\u001b[0m\n\u001b[0;32m      1\u001b[0m list3\u001b[38;5;241m=\u001b[39m[\u001b[38;5;241m10\u001b[39m,\u001b[38;5;241m20\u001b[39m,\u001b[38;5;241m2\u001b[39m,\u001b[38;5;241m5\u001b[39m,\u001b[38;5;241m75\u001b[39m,\u001b[38;5;124m'\u001b[39m\u001b[38;5;124mApple\u001b[39m\u001b[38;5;124m'\u001b[39m,\u001b[38;5;124m'\u001b[39m\u001b[38;5;124mapple\u001b[39m\u001b[38;5;124m'\u001b[39m,\u001b[38;5;124m'\u001b[39m\u001b[38;5;124mCherry\u001b[39m\u001b[38;5;124m'\u001b[39m,\u001b[38;5;124m'\u001b[39m\u001b[38;5;124mbanana\u001b[39m\u001b[38;5;124m'\u001b[39m]\n\u001b[1;32m----> 2\u001b[0m \u001b[38;5;28mmin\u001b[39m(list3)\n",
      "\u001b[1;31mTypeError\u001b[0m: '<' not supported between instances of 'str' and 'int'"
     ]
    }
   ],
   "source": [
    "list3=[10,20,2,5,75,'Apple','apple','Cherry','banana']\n",
    "min(list3)"
   ]
  },
  {
   "cell_type": "code",
   "execution_count": 43,
   "id": "77b82799-bdbb-4b39-8f3b-829e141bddb5",
   "metadata": {},
   "outputs": [
    {
     "data": {
      "text/plain": [
       "(75, 'banana')"
      ]
     },
     "execution_count": 43,
     "metadata": {},
     "output_type": "execute_result"
    }
   ],
   "source": [
    "list1=[10,20,2,5,75]\n",
    "list2=['Apple','apple','Cherry','banana']\n",
    "list3=[10,20,2,5,75,'Apple','apple','Cherry','banana']\n",
    "max(list1),max(list2)\n",
    "# max(list3)"
   ]
  },
  {
   "cell_type": "code",
   "execution_count": 44,
   "id": "17296ab0-4f53-430a-a43c-42d788b3d4af",
   "metadata": {},
   "outputs": [
    {
     "data": {
      "text/plain": [
       "112"
      ]
     },
     "execution_count": 44,
     "metadata": {},
     "output_type": "execute_result"
    }
   ],
   "source": [
    "list1=[10,20,2,5,75]\n",
    "sum(list1)"
   ]
  },
  {
   "cell_type": "code",
   "execution_count": 45,
   "id": "613b2937-4919-44fe-a279-dc631df25f18",
   "metadata": {},
   "outputs": [
    {
     "ename": "TypeError",
     "evalue": "unsupported operand type(s) for +: 'int' and 'str'",
     "output_type": "error",
     "traceback": [
      "\u001b[1;31m---------------------------------------------------------------------------\u001b[0m",
      "\u001b[1;31mTypeError\u001b[0m                                 Traceback (most recent call last)",
      "Cell \u001b[1;32mIn[45], line 2\u001b[0m\n\u001b[0;32m      1\u001b[0m list2\u001b[38;5;241m=\u001b[39m[\u001b[38;5;124m'\u001b[39m\u001b[38;5;124mApple\u001b[39m\u001b[38;5;124m'\u001b[39m,\u001b[38;5;124m'\u001b[39m\u001b[38;5;124mapple\u001b[39m\u001b[38;5;124m'\u001b[39m,\u001b[38;5;124m'\u001b[39m\u001b[38;5;124mCherry\u001b[39m\u001b[38;5;124m'\u001b[39m,\u001b[38;5;124m'\u001b[39m\u001b[38;5;124mbanana\u001b[39m\u001b[38;5;124m'\u001b[39m]\n\u001b[1;32m----> 2\u001b[0m \u001b[38;5;28msum\u001b[39m(list2)\n",
      "\u001b[1;31mTypeError\u001b[0m: unsupported operand type(s) for +: 'int' and 'str'"
     ]
    }
   ],
   "source": [
    "list2=['Apple','apple','Cherry','banana']\n",
    "sum(list2)"
   ]
  },
  {
   "cell_type": "code",
   "execution_count": 46,
   "id": "45235482-36cb-4f58-b725-90e7c62e639a",
   "metadata": {},
   "outputs": [
    {
     "data": {
      "text/plain": [
       "[2, 5, 10, 20, 75]"
      ]
     },
     "execution_count": 46,
     "metadata": {},
     "output_type": "execute_result"
    }
   ],
   "source": [
    "sorted(list1)"
   ]
  },
  {
   "cell_type": "code",
   "execution_count": 47,
   "id": "2292e96c-3575-4634-beb7-3822f54de7a0",
   "metadata": {},
   "outputs": [
    {
     "data": {
      "text/plain": [
       "['Apple', 'Cherry', 'apple', 'banana']"
      ]
     },
     "execution_count": 47,
     "metadata": {},
     "output_type": "execute_result"
    }
   ],
   "source": [
    "sorted(list2)"
   ]
  },
  {
   "cell_type": "code",
   "execution_count": 48,
   "id": "c3212c69-ad9f-4bf8-a979-af0708330ce8",
   "metadata": {},
   "outputs": [
    {
     "ename": "TypeError",
     "evalue": "'<' not supported between instances of 'str' and 'int'",
     "output_type": "error",
     "traceback": [
      "\u001b[1;31m---------------------------------------------------------------------------\u001b[0m",
      "\u001b[1;31mTypeError\u001b[0m                                 Traceback (most recent call last)",
      "Cell \u001b[1;32mIn[48], line 1\u001b[0m\n\u001b[1;32m----> 1\u001b[0m \u001b[38;5;28msorted\u001b[39m(list3)\n",
      "\u001b[1;31mTypeError\u001b[0m: '<' not supported between instances of 'str' and 'int'"
     ]
    }
   ],
   "source": [
    "sorted(list3) # fail"
   ]
  },
  {
   "cell_type": "code",
   "execution_count": 49,
   "id": "43922d98-d761-4fe8-9b56-cacd191fe7ad",
   "metadata": {},
   "outputs": [
    {
     "data": {
      "text/plain": [
       "<list_reverseiterator at 0x1cdaa15f100>"
      ]
     },
     "execution_count": 49,
     "metadata": {},
     "output_type": "execute_result"
    }
   ],
   "source": [
    "reversed(list1)"
   ]
  },
  {
   "cell_type": "code",
   "execution_count": 50,
   "id": "c8b46d91-8f55-4e38-ae8d-923b449c20a0",
   "metadata": {},
   "outputs": [
    {
     "data": {
      "text/plain": [
       "[75, 5, 2, 20, 10]"
      ]
     },
     "execution_count": 50,
     "metadata": {},
     "output_type": "execute_result"
    }
   ],
   "source": [
    "# method-1 : apply list\n",
    "list(reversed(list1))"
   ]
  },
  {
   "cell_type": "code",
   "execution_count": 51,
   "id": "e15b0b1e-5829-4eae-b3de-b152ebe85e6b",
   "metadata": {},
   "outputs": [
    {
     "name": "stdout",
     "output_type": "stream",
     "text": [
      "75\n",
      "5\n",
      "2\n",
      "20\n",
      "10\n"
     ]
    }
   ],
   "source": [
    "# method-2: iterate through for loop\n",
    "for i in reversed(list1):\n",
    "    print(i)"
   ]
  },
  {
   "cell_type": "code",
   "execution_count": 52,
   "id": "9d2fc26e-a62e-4b3f-897c-37d474b34c1c",
   "metadata": {},
   "outputs": [
    {
     "data": {
      "text/plain": [
       "([2, 5, 10, 20, 75], [75, 20, 10, 5, 2])"
      ]
     },
     "execution_count": 52,
     "metadata": {},
     "output_type": "execute_result"
    }
   ],
   "source": [
    "sorted(list1),sorted(list1,reverse=True)"
   ]
  },
  {
   "cell_type": "code",
   "execution_count": null,
   "id": "74ee099f-7eb3-408d-ad2e-3bdb18be0d5f",
   "metadata": {},
   "outputs": [],
   "source": [
    "# In the interview \n",
    "# list1=[10,20,2,5,75]\n",
    "# Q1) sort the list with out sorted function\n",
    "# Q2) Find the max value with out max function\n",
    "# Q3) Find the min value with out min function\n",
    "# Q4) Reverse the elemnts with out revrsed function\n",
    "# Q5) Sum the elements with out using sum function\n",
    "# Q6) Find the second max and second min "
   ]
  },
  {
   "cell_type": "markdown",
   "id": "3b5ae3bb-44ad-4664-8f50-4304b019c278",
   "metadata": {},
   "source": [
    "**concatenation**"
   ]
  },
  {
   "cell_type": "code",
   "execution_count": 53,
   "id": "f3f92181-5dae-4a8c-9cf2-0051620fbb2f",
   "metadata": {},
   "outputs": [
    {
     "data": {
      "text/plain": [
       "[1, 2, 3, 4, 'A', 'B', 'C', 'D']"
      ]
     },
     "execution_count": 53,
     "metadata": {},
     "output_type": "execute_result"
    }
   ],
   "source": [
    "list1=[1,2,3,4]\n",
    "list2=['A','B','C','D']\n",
    "\n",
    "list1+list2"
   ]
  },
  {
   "cell_type": "code",
   "execution_count": 55,
   "id": "523117ad-a4b0-46b3-a797-ec2ace5d6262",
   "metadata": {},
   "outputs": [
    {
     "name": "stdout",
     "output_type": "stream",
     "text": [
      "pythonpython\n",
      "pythonpython\n"
     ]
    }
   ],
   "source": [
    "print('python'*2)\n",
    "print('python'+'python') "
   ]
  },
  {
   "cell_type": "code",
   "execution_count": 56,
   "id": "7d001618-c88a-4750-8c05-61f2dda0b946",
   "metadata": {},
   "outputs": [
    {
     "name": "stdout",
     "output_type": "stream",
     "text": [
      "[1, 2, 3, 4, 1, 2, 3, 4]\n",
      "[1, 2, 3, 4, 1, 2, 3, 4]\n"
     ]
    }
   ],
   "source": [
    "print(list1+list1)\n",
    "print(list1*2)"
   ]
  },
  {
   "cell_type": "code",
   "execution_count": null,
   "id": "f20d7c4f-341d-4ac1-8de7-352fe695e412",
   "metadata": {},
   "outputs": [],
   "source": [
    "list1*list1  # Fail different error\n",
    "list1-list1  # Fail unsupposrted operand\n",
    "list1/lit1   # Fail unsupp"
   ]
  },
  {
   "cell_type": "markdown",
   "id": "11a42fc5-d9d4-4dd0-ac27-f47ee672817a",
   "metadata": {},
   "source": [
    "**index**"
   ]
  },
  {
   "cell_type": "code",
   "execution_count": 58,
   "id": "bde744e7-17b8-48be-b7ea-3034245370f2",
   "metadata": {},
   "outputs": [
    {
     "data": {
      "text/plain": [
       "(10, 10)"
      ]
     },
     "execution_count": 58,
     "metadata": {},
     "output_type": "execute_result"
    }
   ],
   "source": [
    "# -6  -5  -4   -3    -2     -1\n",
    "# 10  20  30   'A'   'B'   'C'\n",
    "# 0   1    2    3     4     5\n",
    "list1=[10,20,30,'A','B','C']\n",
    "list1[0],list1[-6]"
   ]
  },
  {
   "cell_type": "code",
   "execution_count": null,
   "id": "3711b03f-9581-4669-b5e3-dae0b2fc70fb",
   "metadata": {},
   "outputs": [],
   "source": [
    "# Postive index of 10 is 0\n",
    "# negative index of 10 is -6\n",
    "# postive index is 0 and negative index is -6 for 10"
   ]
  },
  {
   "cell_type": "code",
   "execution_count": 63,
   "id": "61dda755-ed28-45c3-9c98-d32b739a5de3",
   "metadata": {},
   "outputs": [
    {
     "data": {
      "text/plain": [
       "10"
      ]
     },
     "execution_count": 63,
     "metadata": {},
     "output_type": "execute_result"
    }
   ],
   "source": [
    "list1=[10]\n",
    "list1[0]\n",
    "# inside list how many elemnts are there: 1"
   ]
  },
  {
   "cell_type": "code",
   "execution_count": 66,
   "id": "eadae669-7bba-4066-ae9e-5ecbd8180448",
   "metadata": {},
   "outputs": [
    {
     "data": {
      "text/plain": [
       "10"
      ]
     },
     "execution_count": 66,
     "metadata": {},
     "output_type": "execute_result"
    }
   ],
   "source": [
    "list1=[[10]]\n",
    "# inside list how many elemnts are there:1\n",
    "# [10]\n",
    "list1[0][0]"
   ]
  },
  {
   "cell_type": "code",
   "execution_count": 68,
   "id": "11af0b48-a9ee-4318-ae28-dcd4e24f13f9",
   "metadata": {},
   "outputs": [
    {
     "data": {
      "text/plain": [
       "1"
      ]
     },
     "execution_count": 68,
     "metadata": {},
     "output_type": "execute_result"
    }
   ],
   "source": [
    "list1=[[10,20]]  # package\n",
    "len(list1)"
   ]
  },
  {
   "cell_type": "code",
   "execution_count": 69,
   "id": "228efca3-1b68-4092-8c30-e6ac34e6c4f9",
   "metadata": {},
   "outputs": [
    {
     "data": {
      "text/plain": [
       "(1, 2)"
      ]
     },
     "execution_count": 69,
     "metadata": {},
     "output_type": "execute_result"
    }
   ],
   "source": [
    "list1=[[10,20]]\n",
    "list2=[10,20]\n",
    "len(list1),len(list2)"
   ]
  },
  {
   "cell_type": "code",
   "execution_count": 70,
   "id": "3a9f92a1-f6c3-42e1-ac20-902e709daf1c",
   "metadata": {},
   "outputs": [
    {
     "data": {
      "text/plain": [
       "2"
      ]
     },
     "execution_count": 70,
     "metadata": {},
     "output_type": "execute_result"
    }
   ],
   "source": [
    "list1=[10,[20]]\n",
    "# i want 20\n",
    "len(list1)"
   ]
  },
  {
   "cell_type": "code",
   "execution_count": 72,
   "id": "c790c103-73fe-4ea1-b7bf-404e6b342790",
   "metadata": {},
   "outputs": [
    {
     "data": {
      "text/plain": [
       "20"
      ]
     },
     "execution_count": 72,
     "metadata": {},
     "output_type": "execute_result"
    }
   ],
   "source": [
    "list1=[10,[20]]\n",
    "list1[1][0]"
   ]
  },
  {
   "cell_type": "code",
   "execution_count": 74,
   "id": "a811bf0d-b7ef-489d-90ac-9fb3b9bc687d",
   "metadata": {},
   "outputs": [
    {
     "data": {
      "text/plain": [
       "'Cherry'"
      ]
     },
     "execution_count": 74,
     "metadata": {},
     "output_type": "execute_result"
    }
   ],
   "source": [
    "list1=[10,20,30,'A',['Banana','Cherry']]\n",
    "list1[4][1]"
   ]
  },
  {
   "cell_type": "code",
   "execution_count": 75,
   "id": "80e19cfc-48aa-431a-a1fb-d7164041bc76",
   "metadata": {},
   "outputs": [
    {
     "data": {
      "text/plain": [
       "['A', ['Apple', 'B', ['Banana'], 'C', ['Cherry']]]"
      ]
     },
     "execution_count": 75,
     "metadata": {},
     "output_type": "execute_result"
    }
   ],
   "source": [
    "list1=['A',['Apple','B',['Banana'],'C',['Cherry']]]\n",
    "list1"
   ]
  },
  {
   "cell_type": "code",
   "execution_count": 78,
   "id": "194e9ed2-477f-4a7a-93be-9955aa79c844",
   "metadata": {},
   "outputs": [
    {
     "data": {
      "text/plain": [
       "'Cherry'"
      ]
     },
     "execution_count": 78,
     "metadata": {},
     "output_type": "execute_result"
    }
   ],
   "source": [
    "list1[1][4][0]"
   ]
  },
  {
   "cell_type": "code",
   "execution_count": 101,
   "id": "5dc7a744-f199-47ae-be32-19d865c7486f",
   "metadata": {},
   "outputs": [
    {
     "data": {
      "text/plain": [
       "'Dragon fruite'"
      ]
     },
     "execution_count": 101,
     "metadata": {},
     "output_type": "execute_result"
    }
   ],
   "source": [
    "list1=['A',['Apple','B',['Banana','C',['Cherry','D',['Dragon fruite']]]]]\n",
    "len(list1) # two elements are there 0,1\n",
    "len(list1[1]) # three elememts 0,1,2\n",
    "len(list1[1][2]) # three elements 0,1,2\n",
    "len(list1[1][2][2]) # three elemnts 0,1,2\n",
    "list1[1][2][2][2][0]"
   ]
  },
  {
   "cell_type": "code",
   "execution_count": 105,
   "id": "63fb3071-5275-4f0e-87b4-4a913376b44e",
   "metadata": {},
   "outputs": [
    {
     "data": {
      "text/plain": [
       "'Bat'"
      ]
     },
     "execution_count": 105,
     "metadata": {},
     "output_type": "execute_result"
    }
   ],
   "source": [
    "list1=['Apple',['Kashmir',['India',['Criket',['Bat']]]]]\n",
    "list1[1][1][1][1][0]"
   ]
  },
  {
   "cell_type": "code",
   "execution_count": 110,
   "id": "0bc08f20-fcd1-4593-a36e-a17e1275ef09",
   "metadata": {},
   "outputs": [
    {
     "data": {
      "text/plain": [
       "'Viky'"
      ]
     },
     "execution_count": 110,
     "metadata": {},
     "output_type": "execute_result"
    }
   ],
   "source": [
    "list1=['Orange',['Nagpur',['MH',['Shivaji',['Shamabji',['Viky']]]]]]\n",
    "list1[1][1][1][1][1][0]"
   ]
  },
  {
   "cell_type": "code",
   "execution_count": 120,
   "id": "7132ad48-69f6-4fb0-abd0-c67cce510b33",
   "metadata": {},
   "outputs": [
    {
     "data": {
      "text/plain": [
       "'Apple'"
      ]
     },
     "execution_count": 120,
     "metadata": {},
     "output_type": "execute_result"
    }
   ],
   "source": [
    "list1=[[[[[[[[['Apple']]]]]]]]]\n",
    "list1[0][0][0][0][0][0][0][0][0]"
   ]
  },
  {
   "cell_type": "code",
   "execution_count": null,
   "id": "fe2e7c7b-29a9-43e2-82c5-9905a6d5bd29",
   "metadata": {},
   "outputs": [],
   "source": [
    "str1='python'\n",
    "list1=['p','y','t','h','o','n']\n",
    "\n",
    "len\n",
    "max\n",
    "min\n",
    "rev\n",
    "sor"
   ]
  },
  {
   "cell_type": "code",
   "execution_count": 1,
   "id": "98e69f26-e432-40ed-9a2e-11a802c5109c",
   "metadata": {},
   "outputs": [],
   "source": [
    "#       0   1   2   3   4   5\n",
    "list1=['p','y','t','h','o','n']\n",
    "str1='python'"
   ]
  },
  {
   "cell_type": "markdown",
   "id": "fad02248-b306-4c2c-9385-542d0d2a33c2",
   "metadata": {},
   "source": [
    "**in**"
   ]
  },
  {
   "cell_type": "code",
   "execution_count": 4,
   "id": "41de01fd-472d-42ef-8043-ef4f52e2f3e9",
   "metadata": {},
   "outputs": [
    {
     "name": "stdout",
     "output_type": "stream",
     "text": [
      "p\n",
      "y\n",
      "t\n",
      "h\n",
      "o\n",
      "n\n"
     ]
    }
   ],
   "source": [
    "'p' in str1\n",
    "'p' in list1\n",
    "\n",
    "for i in list1:\n",
    "    print(i)"
   ]
  },
  {
   "cell_type": "markdown",
   "id": "8d3bb767-bc4e-41e8-bbbe-9aa2d0443745",
   "metadata": {},
   "source": [
    "**range vs in**\n",
    "\n",
    "- when we have use with index then go for range\n",
    "\n",
    "- when we have use with only element go for in"
   ]
  },
  {
   "cell_type": "markdown",
   "id": "06c11f9e-0a9f-4cd2-a83c-2cda9c748f2a",
   "metadata": {},
   "source": [
    "**mutable vs immutable**"
   ]
  },
  {
   "cell_type": "code",
   "execution_count": 6,
   "id": "21bba537-cec9-4017-9ea0-54c0c5e67c0b",
   "metadata": {},
   "outputs": [
    {
     "data": {
      "text/plain": [
       "[20, 200, 300, 400]"
      ]
     },
     "execution_count": 6,
     "metadata": {},
     "output_type": "execute_result"
    }
   ],
   "source": [
    "list1=[100,200,300,400]\n",
    "list1[0]=20\n",
    "list1"
   ]
  },
  {
   "cell_type": "markdown",
   "id": "7b9327c6-40a6-4722-b8e7-ae39f655e0ce",
   "metadata": {},
   "source": [
    "**list are mutable**"
   ]
  },
  {
   "cell_type": "markdown",
   "id": "ee3c9251-26da-444d-9b65-949a6362a8ae",
   "metadata": {},
   "source": [
    "**slice**"
   ]
  },
  {
   "cell_type": "code",
   "execution_count": null,
   "id": "3a118b97-5f6d-4cc1-a68b-21d4df70fc07",
   "metadata": {},
   "outputs": [],
   "source": [
    "l1=[10,20,30,40,50,'A','B','C','D','E','apple','banana']\n",
    "l1[:]\n",
    "l1[::]\n",
    "l1[::-1]\n",
    "l1[2:10:2]\n",
    "l1[2:10:-2]\n",
    "l1[2:-10:2]\n",
    "l1[-2:10:2]\n",
    "l1[2:-10-2]\n",
    "l1[-2:10:-2]\n",
    "l1[-2:-10:2]\n",
    "l1[-2:-10:-2]\n",
    "l1[10:2:2]\n",
    "l1[10:2:-2]\n",
    "l1[10:-2:2]\n",
    "l1[-10:2:-2]\n",
    "l1[-10:-2:-2]"
   ]
  },
  {
   "cell_type": "markdown",
   "id": "62dda89e-1216-44f2-ada8-d1b78302c68a",
   "metadata": {},
   "source": [
    "**methods**"
   ]
  },
  {
   "cell_type": "code",
   "execution_count": null,
   "id": "84f55ea8-e2ce-4c76-a575-34bc6c588fca",
   "metadata": {},
   "outputs": [],
   "source": [
    "- if we wants to know the strings method\n",
    "\n",
    "dir('')"
   ]
  },
  {
   "cell_type": "code",
   "execution_count": 7,
   "id": "0a4734e5-23c1-4492-909f-3c1b6533e4df",
   "metadata": {},
   "outputs": [
    {
     "data": {
      "text/plain": [
       "['__add__',\n",
       " '__class__',\n",
       " '__class_getitem__',\n",
       " '__contains__',\n",
       " '__delattr__',\n",
       " '__delitem__',\n",
       " '__dir__',\n",
       " '__doc__',\n",
       " '__eq__',\n",
       " '__format__',\n",
       " '__ge__',\n",
       " '__getattribute__',\n",
       " '__getitem__',\n",
       " '__getstate__',\n",
       " '__gt__',\n",
       " '__hash__',\n",
       " '__iadd__',\n",
       " '__imul__',\n",
       " '__init__',\n",
       " '__init_subclass__',\n",
       " '__iter__',\n",
       " '__le__',\n",
       " '__len__',\n",
       " '__lt__',\n",
       " '__mul__',\n",
       " '__ne__',\n",
       " '__new__',\n",
       " '__reduce__',\n",
       " '__reduce_ex__',\n",
       " '__repr__',\n",
       " '__reversed__',\n",
       " '__rmul__',\n",
       " '__setattr__',\n",
       " '__setitem__',\n",
       " '__sizeof__',\n",
       " '__str__',\n",
       " '__subclasshook__',\n",
       " 'append',\n",
       " 'clear',\n",
       " 'copy',\n",
       " 'count',\n",
       " 'extend',\n",
       " 'index',\n",
       " 'insert',\n",
       " 'pop',\n",
       " 'remove',\n",
       " 'reverse',\n",
       " 'sort']"
      ]
     },
     "execution_count": 7,
     "metadata": {},
     "output_type": "execute_result"
    }
   ],
   "source": [
    "dir([])"
   ]
  },
  {
   "cell_type": "code",
   "execution_count": null,
   "id": "c4bfecd1-cf55-4ddc-8e94-a4e8dd9ca943",
   "metadata": {},
   "outputs": [],
   "source": [
    "'append',\n",
    "'clear',\n",
    "'copy',\n",
    "'count',\n",
    "'extend',\n",
    "'index',\n",
    "'insert',\n",
    "'pop',\n",
    "'remove',\n",
    "'reverse',\n",
    "'sort'"
   ]
  },
  {
   "cell_type": "markdown",
   "id": "6c4ed125-ab18-4a23-97c8-0bb32c49b1f2",
   "metadata": {},
   "source": [
    "- clear\n",
    "\n",
    "- copy \n",
    "\n",
    "- count"
   ]
  },
  {
   "cell_type": "code",
   "execution_count": 8,
   "id": "9b8b0946-a8fb-4e18-94f9-fc91e5b12e88",
   "metadata": {},
   "outputs": [
    {
     "name": "stdout",
     "output_type": "stream",
     "text": [
      "l1 before clear i should see the output: [10, 20, 30, 'A', 'B', 'C']\n",
      "l1 after apply clear method empty list: []\n"
     ]
    }
   ],
   "source": [
    "l1=[10,20,30,'A','B','C']\n",
    "print('l1 before clear i should see the output:',l1)\n",
    "l1.clear()\n",
    "print('l1 after apply clear method empty list:',l1)"
   ]
  },
  {
   "cell_type": "code",
   "execution_count": 9,
   "id": "e4518ffd-a0f3-44c1-b644-71eefe109f6d",
   "metadata": {},
   "outputs": [
    {
     "name": "stdout",
     "output_type": "stream",
     "text": [
      "[]\n",
      "[10, 20, 30, 'A', 'B', 'C']\n"
     ]
    }
   ],
   "source": [
    "l1=[10,20,30,'A','B','C']\n",
    "l2=l1.copy()\n",
    "# i just wants to show the difference\n",
    "print(l1)\n",
    "print(l2)"
   ]
  },
  {
   "cell_type": "code",
   "execution_count": 10,
   "id": "f997ab45-d5b5-4774-bbcb-406381d06e42",
   "metadata": {},
   "outputs": [
    {
     "data": {
      "text/plain": [
       "[10, 20, 30, 'A', 'B', 'C']"
      ]
     },
     "execution_count": 10,
     "metadata": {},
     "output_type": "execute_result"
    }
   ],
   "source": [
    "l1=[10,20,30,'A','B','C']\n",
    "l2=l1\n",
    "\n",
    "l2 "
   ]
  },
  {
   "cell_type": "code",
   "execution_count": 11,
   "id": "a5b52b46-56ea-46c7-adff-f62caae1833c",
   "metadata": {},
   "outputs": [
    {
     "data": {
      "text/plain": [
       "[10, 20, 30, 'A', 'B', 'C']"
      ]
     },
     "execution_count": 11,
     "metadata": {},
     "output_type": "execute_result"
    }
   ],
   "source": [
    "l11=[10,20,30,'A','B','C']\n",
    "l22=l11.copy()\n",
    "\n",
    "l22"
   ]
  },
  {
   "cell_type": "code",
   "execution_count": 13,
   "id": "0ca9d5ee-a511-4ab9-8772-22d5fbedbf92",
   "metadata": {},
   "outputs": [
    {
     "data": {
      "text/plain": [
       "40"
      ]
     },
     "execution_count": 13,
     "metadata": {},
     "output_type": "execute_result"
    }
   ],
   "source": [
    "a=10\n",
    "b=20\n",
    "c=b\n",
    "c\n",
    "d=b+20\n",
    "d"
   ]
  },
  {
   "cell_type": "code",
   "execution_count": 14,
   "id": "68f8b19f-c150-4019-a8f6-b9f1ad4aa3bb",
   "metadata": {},
   "outputs": [
    {
     "data": {
      "text/plain": [
       "2"
      ]
     },
     "execution_count": 14,
     "metadata": {},
     "output_type": "execute_result"
    }
   ],
   "source": [
    "l1=[10,20,30,'A','B','C',10]\n",
    "l1.count(10)"
   ]
  },
  {
   "cell_type": "code",
   "execution_count": 15,
   "id": "262f8489-302b-42fe-b78c-cec6d6f3d6ca",
   "metadata": {},
   "outputs": [
    {
     "data": {
      "text/plain": [
       "3"
      ]
     },
     "execution_count": 15,
     "metadata": {},
     "output_type": "execute_result"
    }
   ],
   "source": [
    "str1='ola ola ola'\n",
    "str1.count('l')"
   ]
  },
  {
   "cell_type": "markdown",
   "id": "6373fd7f-0c69-4c7a-8d57-9b726bd73cee",
   "metadata": {},
   "source": [
    "**append**\n",
    "\n",
    "- append is very very important method in the entire list\n",
    "\n",
    "- in our life we will use this method very very frequently\n",
    "\n",
    "- append means adding an elemnt at last"
   ]
  },
  {
   "cell_type": "code",
   "execution_count": 17,
   "id": "a8bbf692-4693-43a8-a365-dcb83673662c",
   "metadata": {},
   "outputs": [
    {
     "data": {
      "text/plain": [
       "[10, 20, 30, 'apple']"
      ]
     },
     "execution_count": 17,
     "metadata": {},
     "output_type": "execute_result"
    }
   ],
   "source": [
    "l1=[10,20,30]\n",
    "l1.append('apple')\n",
    "l1"
   ]
  },
  {
   "cell_type": "code",
   "execution_count": 18,
   "id": "92f31403-8e60-4f4c-be6e-1da443ca1549",
   "metadata": {},
   "outputs": [
    {
     "data": {
      "text/plain": [
       "[10, 20, 30, 'apple', 'banana']"
      ]
     },
     "execution_count": 18,
     "metadata": {},
     "output_type": "execute_result"
    }
   ],
   "source": [
    "l1=[10,20,30]\n",
    "l1.append('apple')\n",
    "l1.append('banana')\n",
    "l1"
   ]
  },
  {
   "cell_type": "code",
   "execution_count": 19,
   "id": "02c41c4f-135f-42a2-b89d-74295dbcc695",
   "metadata": {},
   "outputs": [
    {
     "ename": "TypeError",
     "evalue": "list.append() takes exactly one argument (2 given)",
     "output_type": "error",
     "traceback": [
      "\u001b[1;31m---------------------------------------------------------------------------\u001b[0m",
      "\u001b[1;31mTypeError\u001b[0m                                 Traceback (most recent call last)",
      "Cell \u001b[1;32mIn[19], line 2\u001b[0m\n\u001b[0;32m      1\u001b[0m l1\u001b[38;5;241m=\u001b[39m[\u001b[38;5;241m10\u001b[39m,\u001b[38;5;241m20\u001b[39m,\u001b[38;5;241m30\u001b[39m]\n\u001b[1;32m----> 2\u001b[0m l1\u001b[38;5;241m.\u001b[39mappend(\u001b[38;5;124m'\u001b[39m\u001b[38;5;124mapple\u001b[39m\u001b[38;5;124m'\u001b[39m,\u001b[38;5;124m'\u001b[39m\u001b[38;5;124mbanana\u001b[39m\u001b[38;5;124m'\u001b[39m)\n\u001b[0;32m      3\u001b[0m l1\n",
      "\u001b[1;31mTypeError\u001b[0m: list.append() takes exactly one argument (2 given)"
     ]
    }
   ],
   "source": [
    "l1=[10,20,30]\n",
    "l1.append('apple','banana')\n",
    "l1"
   ]
  },
  {
   "cell_type": "code",
   "execution_count": 20,
   "id": "797897ad-cb66-43b0-af52-9672b22e2e5a",
   "metadata": {},
   "outputs": [
    {
     "data": {
      "text/plain": [
       "[10, 20, 30, ['apple', 'banana']]"
      ]
     },
     "execution_count": 20,
     "metadata": {},
     "output_type": "execute_result"
    }
   ],
   "source": [
    "l1=[10,20,30]\n",
    "l1.append(['apple','banana'])\n",
    "l1"
   ]
  },
  {
   "cell_type": "markdown",
   "id": "4645d21d-5d3f-4b00-be36-4ff38ec908cb",
   "metadata": {},
   "source": [
    "**always recall if you see anywhere mutiple values means most of the time we will keep those values in a list**"
   ]
  },
  {
   "cell_type": "code",
   "execution_count": null,
   "id": "159839ae-cfab-489e-8e57-401a0138ff32",
   "metadata": {},
   "outputs": [],
   "source": [
    "l1=[10,20,30]\n",
    "l1.append('apple')\n",
    "l1\n",
    "\n",
    "l1=[10,20,30]\n",
    "l1.append('apple')\n",
    "l1.append('banana')\n",
    "l1\n",
    "\n",
    "l1=[10,20,30]\n",
    "l1.append('apple','banana')\n",
    "l1\n",
    "\n",
    "l1=[10,20,30]\n",
    "l1.append(['apple','banana'])\n",
    "l1"
   ]
  },
  {
   "cell_type": "markdown",
   "id": "42f53641-7cea-4baa-9bde-e3ffe16c3414",
   "metadata": {},
   "source": [
    "**append method is used to store the outputs**"
   ]
  },
  {
   "cell_type": "code",
   "execution_count": 21,
   "id": "46a77691-4b4c-4408-956a-d673aa0fccf1",
   "metadata": {},
   "outputs": [
    {
     "data": {
      "text/plain": [
       "[1, 2, 3, 4, 5]"
      ]
     },
     "execution_count": 21,
     "metadata": {},
     "output_type": "execute_result"
    }
   ],
   "source": [
    "# For example i want to append a numbers from 1 to 5\n",
    "# l=[1,2,3,4,5]\n",
    "\n",
    "l=[] \n",
    "##########################\n",
    "l.append(1)\n",
    "l.append(2)\n",
    "l.append(3)\n",
    "l.append(4)\n",
    "l.append(5)\n",
    "# l.append(i)\n",
    "###########################\n",
    "l"
   ]
  },
  {
   "cell_type": "code",
   "execution_count": null,
   "id": "bb3e01a1-d181-4d10-9554-59bc968d1e13",
   "metadata": {},
   "outputs": [],
   "source": [
    "l=[]\n",
    "for i in range(1,6):\n",
    "    l.append(i)\n",
    "l"
   ]
  },
  {
   "cell_type": "code",
   "execution_count": 22,
   "id": "5dfb5648-cefc-4776-a044-4deb6cfd9fcd",
   "metadata": {},
   "outputs": [
    {
     "name": "stdout",
     "output_type": "stream",
     "text": [
      "93\n",
      "43\n",
      "63\n"
     ]
    }
   ],
   "source": [
    "#Q1 wap ask the user enter 3 random numbers\n",
    "# and perform the square of the numbers , save those squares in a list\n",
    "import random\n",
    "for i in range(3):\n",
    "    num=random.randint(1,100)\n",
    "    print(num)"
   ]
  },
  {
   "cell_type": "code",
   "execution_count": 24,
   "id": "fb4efae2-005c-4758-a4cd-a7def0baefb0",
   "metadata": {},
   "outputs": [
    {
     "data": {
      "text/plain": [
       "[1, 33, 27]"
      ]
     },
     "execution_count": 24,
     "metadata": {},
     "output_type": "execute_result"
    }
   ],
   "source": [
    "import random\n",
    "l=[]\n",
    "for i in range(3):\n",
    "    num=random.randint(1,100)\n",
    "    l.append(num)\n",
    "l"
   ]
  },
  {
   "cell_type": "code",
   "execution_count": 26,
   "id": "4919580e-e53f-4ea4-9b7a-eea05db6998a",
   "metadata": {},
   "outputs": [
    {
     "data": {
      "text/plain": [
       "['61:3721', '44:1936', '50:2500']"
      ]
     },
     "execution_count": 26,
     "metadata": {},
     "output_type": "execute_result"
    }
   ],
   "source": [
    "import random\n",
    "l=[]\n",
    "for i in range(3):\n",
    "    num=random.randint(1,100)\n",
    "    l.append(f'{num}:{num*num}')\n",
    "l"
   ]
  },
  {
   "cell_type": "code",
   "execution_count": null,
   "id": "e1b981a4-ad5a-4122-89f2-7943973bcdd2",
   "metadata": {},
   "outputs": [],
   "source": [
    "# Q2) i alreday have a list of numbers\n",
    "#  l=[10,47,53,12,27]\n",
    "# from above list i want to get a even_list and odd_list\n",
    "# even_list=[10,12]\n",
    "# odd_list=[47,53,27]"
   ]
  },
  {
   "cell_type": "code",
   "execution_count": null,
   "id": "d2691249-0af6-4ebb-9470-75bf2fca356b",
   "metadata": {},
   "outputs": [],
   "source": [
    "# Q3) input=['hyd','bengaluru','pune','mumbai']\n",
    "#     output=['Hyd','Bengaluru','Pune','Mumbai']\n",
    "\n",
    "# Q4) input=['hyd','bengaluru','pune','mumbai']\n",
    "#     output=['HYD','BENGALURU','PUNE','MUMBAI']\n",
    "\n",
    "# Q5) input=['hyd','ben#galuru','pune','mu#mbai']\n",
    "#     output=[ben#galuru',mu#mbai']\n",
    "\n",
    "# Q6) input=['hyd','ben#galuru','pune','mu#mbai']\n",
    "#     output=[hyd,pune]\n",
    "\n",
    "# Q7) input = 'hai how are you'\n",
    "#     output=['HAI','HOW','ARE','YOU']\n",
    "\n",
    "# Q8) input='virat.kohli@rcb.com;rohit.sharma@mi.com;ms.dhoni@csk.com'\n",
    "#     fname=['virat','rohit'.'ms']\n",
    "#     sname=['kohli','sharma','dhoni']\n",
    "#     cname=['rcb','mi','csk']\n",
    "\n",
    "# Q9) input='can canner can you can not canner with you but you can the canner'\n",
    "#     output=['can'-4,'canner'-3,'you'-3,'not'-1,'with'-1,'but'-1,'the'-1]\n",
    "\n",
    "# Q10) input = 'can canner can you can not canner with you but you can the canner'\n",
    "#      stopwords=['not','you','but','with']\n",
    "#      using stopwords remove those words from input\n",
    "#     output='can canner can can canner can canner'\n",
    "\n",
    "# Q11) take a string find the most repeated word from string\n",
    "\n",
    "# Q12) take a string find the longest length of the word from string\n",
    "\n",
    "# Q13) take a string find the lowest length of the word from string\n",
    "\n",
    "# Q14) you have some qns list is there\n",
    "#      also you have answers list also there\n",
    "#     qns=['who is PM of india',\n",
    "#       'what is the capital of india', who is ICT MENS captain]\n",
    "#    ans=['Modi','Delhi','Rohit']\n",
    "#    whenerver correct answer marks +10\n",
    "#    print you got total "
   ]
  },
  {
   "cell_type": "code",
   "execution_count": 29,
   "id": "78b8169e-cb5b-49ad-90a0-2ffe28833840",
   "metadata": {},
   "outputs": [
    {
     "name": "stdin",
     "output_type": "stream",
     "text": [
      "who is PM of india modi\n",
      "what is the capital of india DELHI\n",
      "who is ICT MENS captain ROHIT\n"
     ]
    }
   ],
   "source": [
    "qns=['who is PM of india','what is the capital of india', 'who is ICT MENS captain']\n",
    "for i in qns:\n",
    "    ans=input(i)\n",
    "    "
   ]
  },
  {
   "cell_type": "code",
   "execution_count": 3,
   "id": "3563e6ef-5c46-4c21-974a-83a999097f53",
   "metadata": {},
   "outputs": [
    {
     "data": {
      "text/plain": [
       "['Hyd', 'Bengaluru', 'Pune', 'Mumbai']"
      ]
     },
     "execution_count": 3,
     "metadata": {},
     "output_type": "execute_result"
    }
   ],
   "source": [
    "# Q3) input=['hyd','bengaluru','pune','mumbai']\n",
    "#     output=['Hyd','Bengaluru','Pune','Mumbai']\n",
    "input=['hyd','bengaluru','pune','mumbai']\n",
    "output=[]\n",
    "for i in input:\n",
    "    output.append(i.capitalize())\n",
    "output"
   ]
  },
  {
   "cell_type": "code",
   "execution_count": 4,
   "id": "d3ed72e4-56f3-4a30-8ec7-2d10e6b38cc1",
   "metadata": {},
   "outputs": [
    {
     "data": {
      "text/plain": [
       "['HYD', 'BENGALURU', 'PUNE', 'MUMBAI']"
      ]
     },
     "execution_count": 4,
     "metadata": {},
     "output_type": "execute_result"
    }
   ],
   "source": [
    "# Q4) input=['hyd','bengaluru','pune','mumbai']\n",
    "#     output=['HYD','BENGALURU','PUNE','MUMBAI']\n",
    "input=['hyd','bengaluru','pune','mumbai']\n",
    "output=[]\n",
    "for i in input:\n",
    "    output.append(i.upper())\n",
    "output"
   ]
  },
  {
   "cell_type": "code",
   "execution_count": 8,
   "id": "34c35703-dc5b-4655-a5a6-31d4a8ccd0b4",
   "metadata": {},
   "outputs": [
    {
     "data": {
      "text/plain": [
       "['ben#galuru', 'mu#mbai']"
      ]
     },
     "execution_count": 8,
     "metadata": {},
     "output_type": "execute_result"
    }
   ],
   "source": [
    "# Q5) input=['hyd','ben#galuru','pune','mu#mbai']\n",
    "#     output=[ben#galuru',mu#mbai']\n",
    "input=['hyd','ben#galuru','pune','mu#mbai']\n",
    "# we need the elements which are having #\n",
    "output=[]\n",
    "for i in input:\n",
    "    if '#' in i:\n",
    "        output.append(i)\n",
    "output"
   ]
  },
  {
   "cell_type": "code",
   "execution_count": 9,
   "id": "77121082-4b74-4c15-9c30-621675f8c75f",
   "metadata": {},
   "outputs": [
    {
     "data": {
      "text/plain": [
       "['hyd', 'pune']"
      ]
     },
     "execution_count": 9,
     "metadata": {},
     "output_type": "execute_result"
    }
   ],
   "source": [
    "# Q6) input=['hyd','ben#galuru','pune','mu#mbai']\n",
    "#     output=[hyd,pune]\n",
    "input=['hyd','ben#galuru','pune','mu#mbai']\n",
    "# we need the elements which are not having #\n",
    "output=[]\n",
    "for i in input:\n",
    "    if '#' not in i:\n",
    "        output.append(i)\n",
    "output"
   ]
  },
  {
   "cell_type": "code",
   "execution_count": 13,
   "id": "a3dab4d5-c90f-4d32-8fd7-c9bbf5f0a777",
   "metadata": {},
   "outputs": [
    {
     "data": {
      "text/plain": [
       "['HAI', 'HOW', 'ARE', 'YOU']"
      ]
     },
     "execution_count": 13,
     "metadata": {},
     "output_type": "execute_result"
    }
   ],
   "source": [
    "# Q7) input = 'hai how are you'\n",
    "#     output=['HAI','HOW','ARE','YOU']\n",
    "input = 'hai how are you'\n",
    "l=input.split()\n",
    "output=[]\n",
    "for i in l:\n",
    "    output.append(i.upper())\n",
    "output"
   ]
  },
  {
   "cell_type": "code",
   "execution_count": 26,
   "id": "7fc138b0-1589-4eb8-a02e-5d55fe7e5105",
   "metadata": {},
   "outputs": [
    {
     "name": "stdout",
     "output_type": "stream",
     "text": [
      "virat.kohli@rcb.com\n",
      "rohit.sharma@mi.com\n",
      "ms.dhoni@csk.com\n"
     ]
    },
    {
     "data": {
      "text/plain": [
       "(['virat', 'rohit', 'ms'], ['kohli', 'sharma', 'dhoni'], ['rcb', 'mi', 'csk'])"
      ]
     },
     "execution_count": 26,
     "metadata": {},
     "output_type": "execute_result"
    }
   ],
   "source": [
    "# Q8) input='virat.kohli@rcb.com;rohit.sharma@mi.com;ms.dhoni@csk.com'\n",
    "#     fname=['virat','rohit'.'ms']\n",
    "#     sname=['kohli','sharma','dhoni']\n",
    "#     cname=['rcb','mi','csk']\n",
    "input='virat.kohli@rcb.com;rohit.sharma@mi.com;ms.dhoni@csk.com'\n",
    "l=input.split(';')\n",
    "fname=[]\n",
    "sname=[]\n",
    "cname=[]\n",
    "for i in l:\n",
    "    print(i)\n",
    "    id1=i.find('.')\n",
    "    id2=i.find('@')\n",
    "    id3=i.find('.',id1+1)\n",
    "    fname.append(i[:id1])\n",
    "    sname.append(i[id1+1:id2])\n",
    "    cname.append(i[id2+1:id3])\n",
    "fname,sname,cname"
   ]
  },
  {
   "cell_type": "markdown",
   "id": "584ea5e6-2057-47c7-9f39-7475aefd07db",
   "metadata": {},
   "source": [
    "**word frequency**"
   ]
  },
  {
   "cell_type": "code",
   "execution_count": 34,
   "id": "db65437c-8092-45f0-902c-fabb83f4291e",
   "metadata": {},
   "outputs": [
    {
     "data": {
      "text/plain": [
       "['can:4', 'canner:3', 'you:3', 'not:1', 'with:1', 'but:1', 'the:1']"
      ]
     },
     "execution_count": 34,
     "metadata": {},
     "output_type": "execute_result"
    }
   ],
   "source": [
    "# Q9) input='can canner can you can not canner with you but you can the canner'\n",
    "#     output=['can'-4,'canner'-3,'you'-3,'not'-1,'with'-1,'but'-1,'the'-1]\n",
    "input='can canner can you can not canner with you but you can the canner'\n",
    "l=input.split()\n",
    "l1=[]\n",
    "counter=[]\n",
    "for i in l: # we are getting element from l\n",
    "    if i not in l1: # that element will present in l1 or not\n",
    "        counter.append(f\"{i}:{l.count(i)}\")\n",
    "        l1.append(i)  # s=s+i\n",
    "counter  "
   ]
  },
  {
   "cell_type": "code",
   "execution_count": 30,
   "id": "67ba6f12-e876-43c7-b457-8dd19fff0bbe",
   "metadata": {},
   "outputs": [
    {
     "data": {
      "text/plain": [
       "3"
      ]
     },
     "execution_count": 30,
     "metadata": {},
     "output_type": "execute_result"
    }
   ],
   "source": [
    "'can canner can'.count('can')"
   ]
  },
  {
   "cell_type": "code",
   "execution_count": 38,
   "id": "3b3c2c5c-7c63-40b7-9920-1e2e1a1cc29d",
   "metadata": {},
   "outputs": [
    {
     "data": {
      "text/plain": [
       "['can', 'canner', 'can', 'can', 'canner', 'can', 'the', 'canner']"
      ]
     },
     "execution_count": 38,
     "metadata": {},
     "output_type": "execute_result"
    }
   ],
   "source": [
    "# Q10) input = 'can canner can you can not canner with you but you can the canner'\n",
    "#      stopwords=['not','you','but','with']\n",
    "#      using stopwords remove those words from input\n",
    "#     output='can canner can can canner can canner\n",
    "input='can canner can you can not canner with you but you can the canner'\n",
    "l=input.split()\n",
    "stopwords=['not','you','but','with']\n",
    "output=[]\n",
    "for i in l:\n",
    "    if i not in stopwords:\n",
    "        output.append(i)\n",
    "output"
   ]
  },
  {
   "cell_type": "code",
   "execution_count": 39,
   "id": "51722bba-82c0-400e-8b4c-d07b155a50dc",
   "metadata": {},
   "outputs": [
    {
     "data": {
      "text/plain": [
       "'can canner can can canner can the canner'"
      ]
     },
     "execution_count": 39,
     "metadata": {},
     "output_type": "execute_result"
    }
   ],
   "source": [
    "' '.join(output)"
   ]
  },
  {
   "cell_type": "code",
   "execution_count": null,
   "id": "0ab0ff24-2c42-4206-a060-becd11cb3c7c",
   "metadata": {},
   "outputs": [],
   "source": [
    "# Q11) take a string find the most repeated word from string\n",
    "input='can canner can you can not canner with you but you can the canner'\n",
    "['can:4', 'canner:3', 'you:3', 'not:1', 'with:1', 'but:1', 'the:1']\n",
    "elements=['can','canner','you','not','with','but','the']\n",
    "counter=[4,3,3,1,1,1,1]\n",
    "l=input.split()\n",
    "l1=[]\n",
    "counter=[]\n",
    "for i in l: # we are getting element from l\n",
    "    if i not in l1: # that element will present in l1 or not\n",
    "        counter.append(f\"{i}:{l.count(i)}\")\n",
    "        l1.append(i)  # s=s+i\n",
    "counter  "
   ]
  },
  {
   "cell_type": "code",
   "execution_count": null,
   "id": "82029283-ddb6-4eda-991c-21365029f97a",
   "metadata": {},
   "outputs": [],
   "source": [
    "str1='can canner can you can not canner with you but you can the canner'\n",
    "l1=str1.split()\n",
    "count=0\n",
    "for i in l1:\n",
    "    if count < l1.count(i):\n",
    "        count=l1.count(i)\n",
    "        letter=i\n",
    "print(f\"most repeated word from string is '{letter}' and its count is {count}\")"
   ]
  },
  {
   "cell_type": "code",
   "execution_count": null,
   "id": "a800b268-a45d-448d-a33d-b7a60e1d1113",
   "metadata": {},
   "outputs": [],
   "source": [
    "# 1 more day time \n",
    "# 11-14 qns atleast show me that\n",
    "# i tried something \n"
   ]
  },
  {
   "cell_type": "code",
   "execution_count": 40,
   "id": "a0db9c32-20d1-409b-873a-7fdb5071d867",
   "metadata": {},
   "outputs": [
    {
     "data": {
      "text/plain": [
       "['__add__',\n",
       " '__class__',\n",
       " '__class_getitem__',\n",
       " '__contains__',\n",
       " '__delattr__',\n",
       " '__delitem__',\n",
       " '__dir__',\n",
       " '__doc__',\n",
       " '__eq__',\n",
       " '__format__',\n",
       " '__ge__',\n",
       " '__getattribute__',\n",
       " '__getitem__',\n",
       " '__getstate__',\n",
       " '__gt__',\n",
       " '__hash__',\n",
       " '__iadd__',\n",
       " '__imul__',\n",
       " '__init__',\n",
       " '__init_subclass__',\n",
       " '__iter__',\n",
       " '__le__',\n",
       " '__len__',\n",
       " '__lt__',\n",
       " '__mul__',\n",
       " '__ne__',\n",
       " '__new__',\n",
       " '__reduce__',\n",
       " '__reduce_ex__',\n",
       " '__repr__',\n",
       " '__reversed__',\n",
       " '__rmul__',\n",
       " '__setattr__',\n",
       " '__setitem__',\n",
       " '__sizeof__',\n",
       " '__str__',\n",
       " '__subclasshook__',\n",
       " 'append',\n",
       " 'clear',\n",
       " 'copy',\n",
       " 'count',\n",
       " 'extend',\n",
       " 'index',\n",
       " 'insert',\n",
       " 'pop',\n",
       " 'remove',\n",
       " 'reverse',\n",
       " 'sort']"
      ]
     },
     "execution_count": 40,
     "metadata": {},
     "output_type": "execute_result"
    }
   ],
   "source": [
    "dir([])"
   ]
  },
  {
   "cell_type": "markdown",
   "id": "14d25b81-6ef9-4adc-a3ec-c5c284cb44a3",
   "metadata": {},
   "source": [
    "**extend**"
   ]
  },
  {
   "cell_type": "code",
   "execution_count": 42,
   "id": "dcf1eaf6-4819-4335-b911-e71b4f44cbd2",
   "metadata": {},
   "outputs": [
    {
     "data": {
      "text/plain": [
       "[1, 2, 3, 4, 5, 'A', 'B', 'C', 'D']"
      ]
     },
     "execution_count": 42,
     "metadata": {},
     "output_type": "execute_result"
    }
   ],
   "source": [
    "l1=[1,2,3,4,5]\n",
    "l2=['A','B','C','D']\n",
    "l1.extend(l2)\n",
    "l1"
   ]
  },
  {
   "cell_type": "code",
   "execution_count": 43,
   "id": "df5da9d6-1b74-4104-9ed1-a740ed06d72e",
   "metadata": {},
   "outputs": [
    {
     "data": {
      "text/plain": [
       "['A', 'B', 'C', 'D', 1, 2, 3, 4, 5]"
      ]
     },
     "execution_count": 43,
     "metadata": {},
     "output_type": "execute_result"
    }
   ],
   "source": [
    "l1=[1,2,3,4,5]\n",
    "l2=['A','B','C','D']\n",
    "l2.extend(l1)\n",
    "l2\n",
    "\n",
    "# find the diff between append extend concatenation"
   ]
  },
  {
   "cell_type": "code",
   "execution_count": 45,
   "id": "6d97d49e-661a-4958-9eef-f779b7cb4458",
   "metadata": {},
   "outputs": [
    {
     "data": {
      "text/plain": [
       "[1, 2, 3, 4, 5, ['A', 'B', 'C', 'D']]"
      ]
     },
     "execution_count": 45,
     "metadata": {},
     "output_type": "execute_result"
    }
   ],
   "source": [
    "l1=[1,2,3,4,5]\n",
    "l2=['A','B','C','D']\n",
    "l1.append(l2)\n",
    "l1"
   ]
  },
  {
   "cell_type": "code",
   "execution_count": 49,
   "id": "94b5efe2-b2ef-4b89-b1c0-5f63cd3e3d9d",
   "metadata": {},
   "outputs": [
    {
     "name": "stdout",
     "output_type": "stream",
     "text": [
      "[1, 2, 3, 4, 5, 'A', 'B', 'C', 'D']\n",
      "[1, 2, 3, 4, 5]\n",
      "['A', 'B', 'C', 'D']\n",
      "l1 will be overwrite if we use extend\n",
      "[1, 2, 3, 4, 5, 'A', 'B', 'C', 'D']\n"
     ]
    }
   ],
   "source": [
    "l1=[1,2,3,4,5]\n",
    "l2=['A','B','C','D']\n",
    "print(l1+l2)\n",
    "print(l1)\n",
    "print(l2)\n",
    "print('l1 will be overwrite if we use extend')\n",
    "l1.extend(l2)\n",
    "print(l1)"
   ]
  },
  {
   "cell_type": "markdown",
   "id": "cc5b4b82-bdd8-4c3e-92ac-33684b7f12dc",
   "metadata": {},
   "source": [
    "**index**"
   ]
  },
  {
   "cell_type": "markdown",
   "id": "26e2d593-0257-49a1-8b37-a7479bc95b5b",
   "metadata": {},
   "source": [
    "- strings we have index and find\n",
    "\n",
    "- but in list we have only index\n",
    "\n",
    "- same as strings concept"
   ]
  },
  {
   "cell_type": "code",
   "execution_count": 52,
   "id": "865d4226-c314-4da6-bf12-5fb3a4580824",
   "metadata": {},
   "outputs": [
    {
     "name": "stdout",
     "output_type": "stream",
     "text": [
      "8\n"
     ]
    }
   ],
   "source": [
    "l1=[10,20,30,40,50,'Apple','Banana','Cherry',40,50]\n",
    "i1=l1.index(40)\n",
    "print(l1.index(40,i1+1))"
   ]
  },
  {
   "cell_type": "markdown",
   "id": "e5d193d9-fbdd-4429-ab9f-5290a0f3261a",
   "metadata": {},
   "source": [
    "**insert**\n",
    "\n",
    "- difference between append and insert"
   ]
  },
  {
   "cell_type": "code",
   "execution_count": 55,
   "id": "a83cfc2f-8677-47a7-ba78-f4fd1fc86b6e",
   "metadata": {},
   "outputs": [
    {
     "data": {
      "text/plain": [
       "[10, 20, 30, 40, 50, 'Apple', 100, 'Banana', 'Cherry', 40, 50]"
      ]
     },
     "execution_count": 55,
     "metadata": {},
     "output_type": "execute_result"
    }
   ],
   "source": [
    "l1=[10,20,30,40,50,'Apple','Banana','Cherry',40,50]\n",
    "# i want insert 100 aftaer apple\n",
    "id=l1.index('Apple')\n",
    "l1.insert(id+1,100)\n",
    "l1"
   ]
  },
  {
   "cell_type": "code",
   "execution_count": 57,
   "id": "5dda2933-7faa-4478-8328-520a9470e9d8",
   "metadata": {},
   "outputs": [
    {
     "data": {
      "text/plain": [
       "[10, 20, 30, 40, 50, 'Apple', 'Banana', 'Cherry', 40, 50, 100]"
      ]
     },
     "execution_count": 57,
     "metadata": {},
     "output_type": "execute_result"
    }
   ],
   "source": [
    "l1=[10,20,30,40,50,'Apple','Banana','Cherry',40,50]\n",
    "l1.append(100)\n",
    "l1"
   ]
  },
  {
   "cell_type": "markdown",
   "id": "3ca9afe3-dc97-4fa8-bfb3-098f445dbb30",
   "metadata": {},
   "source": [
    "**pop vs remove**"
   ]
  },
  {
   "cell_type": "code",
   "execution_count": 58,
   "id": "4181f344-4dc9-4477-8883-8543ea68b0fb",
   "metadata": {},
   "outputs": [
    {
     "data": {
      "text/plain": [
       "50"
      ]
     },
     "execution_count": 58,
     "metadata": {},
     "output_type": "execute_result"
    }
   ],
   "source": [
    "l1=[10,20,30,40,50,'Apple','Banana','Cherry',40,50]\n",
    "l1.pop()"
   ]
  },
  {
   "cell_type": "code",
   "execution_count": 59,
   "id": "3c9289d1-ea71-4ef4-80ff-44b62a781325",
   "metadata": {},
   "outputs": [
    {
     "data": {
      "text/plain": [
       "[10, 20, 30, 40, 50, 'Banana', 'Cherry', 40, 50]"
      ]
     },
     "execution_count": 59,
     "metadata": {},
     "output_type": "execute_result"
    }
   ],
   "source": [
    "l1=[10,20,30,40,50,'Apple','Banana','Cherry',40,50]\n",
    "l1.pop(5)\n",
    "l1"
   ]
  },
  {
   "cell_type": "code",
   "execution_count": 61,
   "id": "920ddc68-5823-4c73-ab23-f3f7e76cfb4a",
   "metadata": {},
   "outputs": [
    {
     "data": {
      "text/plain": [
       "[10, 20, 30, 50, 'Apple', 'Banana', 'Cherry', 40, 50]"
      ]
     },
     "execution_count": 61,
     "metadata": {},
     "output_type": "execute_result"
    }
   ],
   "source": [
    "l1=[10,20,30,40,50,'Apple','Banana','Cherry',40,50]\n",
    "l1.remove(40)\n",
    "l1"
   ]
  },
  {
   "cell_type": "code",
   "execution_count": 63,
   "id": "939c2377-8391-446f-8e66-77b30027e565",
   "metadata": {},
   "outputs": [
    {
     "data": {
      "text/plain": [
       "[10, 20, 30, 40, 50, 'Banana', 'Cherry', 40, 50]"
      ]
     },
     "execution_count": 63,
     "metadata": {},
     "output_type": "execute_result"
    }
   ],
   "source": [
    "l1=[10,20,30,40,50,'Apple','Banana','Cherry',40,50]\n",
    "del(l1[5])\n",
    "l1"
   ]
  },
  {
   "cell_type": "markdown",
   "id": "ee1d7adc-b353-48e9-a7fd-15f7575c7f23",
   "metadata": {},
   "source": [
    "- if we want delete any element\n",
    "\n",
    "- pop : based on index\n",
    "\n",
    "- remove : based on value\n",
    "\n",
    "- del is an inbuilt function"
   ]
  },
  {
   "cell_type": "code",
   "execution_count": 65,
   "id": "67e34408-2387-457d-b943-c1a9748f9b1a",
   "metadata": {},
   "outputs": [
    {
     "name": "stdout",
     "output_type": "stream",
     "text": [
      "[10, 20, 30, 40, 50, 'Apple', 'Banana', 'Cherry', 40, 50]\n"
     ]
    },
    {
     "ename": "NameError",
     "evalue": "name 'l1' is not defined",
     "output_type": "error",
     "traceback": [
      "\u001b[1;31m---------------------------------------------------------------------------\u001b[0m",
      "\u001b[1;31mNameError\u001b[0m                                 Traceback (most recent call last)",
      "Cell \u001b[1;32mIn[65], line 4\u001b[0m\n\u001b[0;32m      2\u001b[0m \u001b[38;5;28mprint\u001b[39m(l1)\n\u001b[0;32m      3\u001b[0m \u001b[38;5;28;01mdel\u001b[39;00m(l1)\n\u001b[1;32m----> 4\u001b[0m l1\n",
      "\u001b[1;31mNameError\u001b[0m: name 'l1' is not defined"
     ]
    }
   ],
   "source": [
    "l1=[10,20,30,40,50,'Apple','Banana','Cherry',40,50]\n",
    "print(l1)\n",
    "del(l1)\n",
    "l1"
   ]
  },
  {
   "cell_type": "code",
   "execution_count": 67,
   "id": "4018e509-aace-4f99-917d-8366b89716cb",
   "metadata": {},
   "outputs": [
    {
     "data": {
      "text/plain": [
       "[10, 20, 30, 40, 50, 'Banana', 'Cherry', 40, 50]"
      ]
     },
     "execution_count": 67,
     "metadata": {},
     "output_type": "execute_result"
    }
   ],
   "source": [
    "l1=[10,20,30,40,50,'Apple','Banana','Cherry',40,50]\n",
    "del l1[5]  # del(l1[5])\n",
    "l1"
   ]
  },
  {
   "cell_type": "markdown",
   "id": "d7f874c0-c24f-4f47-93cf-02ac1eb2a9db",
   "metadata": {},
   "source": [
    "**reverse-reversed**\n",
    "\n",
    "- reverse is a method\n",
    "\n",
    "- reveresd is an inbuilt function"
   ]
  },
  {
   "cell_type": "code",
   "execution_count": 69,
   "id": "55f17245-56dd-4bed-9a4d-e2376ed03caf",
   "metadata": {},
   "outputs": [
    {
     "data": {
      "text/plain": [
       "[50, 40, 30, 20, 10]"
      ]
     },
     "execution_count": 69,
     "metadata": {},
     "output_type": "execute_result"
    }
   ],
   "source": [
    "l1=[10,20,30,40,50]\n",
    "l1.reverse()\n",
    "l1"
   ]
  },
  {
   "cell_type": "markdown",
   "id": "5f4cc97a-8213-4cf9-9f89-7833517c7a90",
   "metadata": {},
   "source": [
    "**in place**\n",
    "\n",
    "- when we perform the operations some times the values will not overrite\n",
    "\n",
    "- if we see **inplace** word or **inplace=True**\n",
    "\n",
    "- this indicates the output will be overwrite in correponding variable"
   ]
  },
  {
   "cell_type": "code",
   "execution_count": 71,
   "id": "05364064-ac8f-4bd7-9e27-9ca6a81d0324",
   "metadata": {},
   "outputs": [
    {
     "name": "stdout",
     "output_type": "stream",
     "text": [
      "[10, 20, 30, 40, 50]\n"
     ]
    }
   ],
   "source": [
    "l1=[10,20,30,40,50]\n",
    "reversed(l1)\n",
    "print(l1)"
   ]
  },
  {
   "cell_type": "markdown",
   "id": "445e21d3-44c0-4638-9680-0974ffbbf2a7",
   "metadata": {},
   "source": [
    "**sort-sorted**"
   ]
  },
  {
   "cell_type": "code",
   "execution_count": 73,
   "id": "aa193de4-8610-4a25-afbf-48f8b4cc049b",
   "metadata": {},
   "outputs": [
    {
     "data": {
      "text/plain": [
       "[10, 20, 30, 40, 50]"
      ]
     },
     "execution_count": 73,
     "metadata": {},
     "output_type": "execute_result"
    }
   ],
   "source": [
    "l1=[20,10,40,30,50]\n",
    "l1.sort()\n",
    "l1"
   ]
  },
  {
   "cell_type": "code",
   "execution_count": 74,
   "id": "e5600ef2-4c4e-4095-a450-d07329ddcd42",
   "metadata": {},
   "outputs": [
    {
     "data": {
      "text/plain": [
       "[10, 20, 30, 40, 50]"
      ]
     },
     "execution_count": 74,
     "metadata": {},
     "output_type": "execute_result"
    }
   ],
   "source": [
    "l1=[20,10,40,30,50]\n",
    "sorted(l1)"
   ]
  },
  {
   "cell_type": "code",
   "execution_count": 75,
   "id": "243aa19e-5289-4aca-80d0-273b513b6f04",
   "metadata": {},
   "outputs": [
    {
     "data": {
      "text/plain": [
       "['h', 'n', 'o', 'p', 't', 'y']"
      ]
     },
     "execution_count": 75,
     "metadata": {},
     "output_type": "execute_result"
    }
   ],
   "source": [
    "str1='python'\n",
    "sorted(str1)  # strings lists"
   ]
  },
  {
   "cell_type": "code",
   "execution_count": null,
   "id": "05466f50-9d1d-4a25-9377-49083a9c66c1",
   "metadata": {},
   "outputs": [],
   "source": [
    "str1.sort()  # it is not avialble"
   ]
  },
  {
   "cell_type": "markdown",
   "id": "71ba0188-2249-40d5-920b-f1505fd413e7",
   "metadata": {},
   "source": [
    "- inbuilt functions applicable for any datatype\n",
    "\n",
    "- but methods works wrt data types"
   ]
  },
  {
   "cell_type": "markdown",
   "id": "fd1346ac-977a-4509-a820-071a16f146cc",
   "metadata": {},
   "source": [
    "- clear\n",
    "\n",
    "- count\n",
    "\n",
    "- append/extend/insert\n",
    "\n",
    "- pop/remove/del\n",
    "\n",
    "- index\n",
    "\n",
    "- reverse/reversed\n",
    "\n",
    "- sort/sorted"
   ]
  },
  {
   "cell_type": "code",
   "execution_count": 76,
   "id": "9fb17008-df0f-455f-9078-971a708eca9d",
   "metadata": {},
   "outputs": [
    {
     "data": {
      "text/plain": [
       "['__add__',\n",
       " '__class__',\n",
       " '__class_getitem__',\n",
       " '__contains__',\n",
       " '__delattr__',\n",
       " '__dir__',\n",
       " '__doc__',\n",
       " '__eq__',\n",
       " '__format__',\n",
       " '__ge__',\n",
       " '__getattribute__',\n",
       " '__getitem__',\n",
       " '__getnewargs__',\n",
       " '__getstate__',\n",
       " '__gt__',\n",
       " '__hash__',\n",
       " '__init__',\n",
       " '__init_subclass__',\n",
       " '__iter__',\n",
       " '__le__',\n",
       " '__len__',\n",
       " '__lt__',\n",
       " '__mul__',\n",
       " '__ne__',\n",
       " '__new__',\n",
       " '__reduce__',\n",
       " '__reduce_ex__',\n",
       " '__repr__',\n",
       " '__rmul__',\n",
       " '__setattr__',\n",
       " '__sizeof__',\n",
       " '__str__',\n",
       " '__subclasshook__',\n",
       " 'count',\n",
       " 'index']"
      ]
     },
     "execution_count": 76,
     "metadata": {},
     "output_type": "execute_result"
    }
   ],
   "source": [
    "# I want every one tuple\n",
    "dir(())"
   ]
  },
  {
   "cell_type": "code",
   "execution_count": 78,
   "id": "6c59f4f9-ad8c-4a0b-9ffa-cd6a20ba5a5d",
   "metadata": {},
   "outputs": [
    {
     "name": "stdout",
     "output_type": "stream",
     "text": [
      "True\n",
      "True\n",
      "True\n"
     ]
    }
   ],
   "source": [
    "#case1\n",
    "s1='2'\n",
    "print(s1.isdecimal())\n",
    "print(s1.isdigit())\n",
    "print(s1.isnumeric())"
   ]
  },
  {
   "cell_type": "code",
   "execution_count": null,
   "id": "61a73181-c12d-41c4-af9c-6a374f9214c6",
   "metadata": {},
   "outputs": [],
   "source": []
  }
 ],
 "metadata": {
  "kernelspec": {
   "display_name": "Python 3 (ipykernel)",
   "language": "python",
   "name": "python3"
  },
  "language_info": {
   "codemirror_mode": {
    "name": "ipython",
    "version": 3
   },
   "file_extension": ".py",
   "mimetype": "text/x-python",
   "name": "python",
   "nbconvert_exporter": "python",
   "pygments_lexer": "ipython3",
   "version": "3.11.7"
  }
 },
 "nbformat": 4,
 "nbformat_minor": 5
}
