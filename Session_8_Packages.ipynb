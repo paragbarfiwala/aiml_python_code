{
 "cells": [
  {
   "cell_type": "code",
   "execution_count": null,
   "id": "54ba4e98-e830-4a42-8eb7-d2c7a1c2baf5",
   "metadata": {},
   "outputs": [],
   "source": [
    "likith is good python developer\n",
    "he created a addition code"
   ]
  },
  {
   "cell_type": "code",
   "execution_count": 1,
   "id": "4de10dac-b6bf-4398-9d79-4dde6cbdaeb8",
   "metadata": {},
   "outputs": [
    {
     "data": {
      "text/plain": [
       "30"
      ]
     },
     "execution_count": 1,
     "metadata": {},
     "output_type": "execute_result"
    }
   ],
   "source": [
    "n1=10\n",
    "n2=20\n",
    "add=n1+n2\n",
    "add"
   ]
  },
  {
   "cell_type": "code",
   "execution_count": null,
   "id": "ea99cd10-570a-4228-a979-b402ed5a53ce",
   "metadata": {},
   "outputs": [],
   "source": [
    "he though that he only created a addition code\n",
    "no one is created\n",
    "\n",
    "i will give this free to entire world\n",
    "\n",
    "he went anaconda organization\n",
    "\n",
    "who ever install your sofware that python code also\n",
    "should automatically in thier laptop\n",
    "\n",
    "anaconda : okay great\n",
    "\n",
    "make that python code as package\n",
    "\n",
    "package: python code\n",
    "         Python OOPS concept\n",
    "pcakges module"
   ]
  },
  {
   "cell_type": "code",
   "execution_count": null,
   "id": "d0b4696d-ba3c-41c5-a529-89e48c700d02",
   "metadata": {},
   "outputs": [],
   "source": [
    "green color line \n",
    "max 5 min\n",
    "packages are downloaded in your laptop\n",
    "\n",
    "\n",
    "package name: addition"
   ]
  },
  {
   "cell_type": "code",
   "execution_count": null,
   "id": "0a26eaa1-c74d-495d-a4df-4ff3108ff4e3",
   "metadata": {},
   "outputs": [],
   "source": [
    "# syntax: \n",
    "\n",
    "import <package name>\n"
   ]
  },
  {
   "cell_type": "code",
   "execution_count": null,
   "id": "6d3f53dd-3f4c-4c79-b261-827faa926bd9",
   "metadata": {},
   "outputs": [],
   "source": [
    "pacakage name: random\n",
    "package name : math\n",
    "package name : time\n",
    "package name : keyword\n",
    "package name : pandas\n",
    "package name : numpy\n",
    "package name : cv2"
   ]
  },
  {
   "cell_type": "code",
   "execution_count": 2,
   "id": "accdd841-5a5c-4e76-8c4a-783c23b845fa",
   "metadata": {},
   "outputs": [],
   "source": [
    "import random"
   ]
  },
  {
   "cell_type": "code",
   "execution_count": 3,
   "id": "3c3534bd-ccda-4d4e-99de-d28d42af1fd5",
   "metadata": {},
   "outputs": [],
   "source": [
    "import math"
   ]
  },
  {
   "cell_type": "code",
   "execution_count": 4,
   "id": "a0a90f1c-f3b3-4b0a-9e0f-2c9525e75cbb",
   "metadata": {},
   "outputs": [],
   "source": [
    "import time"
   ]
  },
  {
   "cell_type": "code",
   "execution_count": 5,
   "id": "ac11c282-16fc-431e-8e4f-2c407246b7dc",
   "metadata": {},
   "outputs": [],
   "source": [
    "import keyword"
   ]
  },
  {
   "cell_type": "code",
   "execution_count": 6,
   "id": "15dcd6eb-0cd0-456d-9571-3f7d7da9df8a",
   "metadata": {},
   "outputs": [],
   "source": [
    "import pandas"
   ]
  },
  {
   "cell_type": "code",
   "execution_count": 7,
   "id": "a4854483-d27d-465d-8fc0-bc4c078b7cef",
   "metadata": {},
   "outputs": [],
   "source": [
    "import numpy"
   ]
  },
  {
   "cell_type": "code",
   "execution_count": 8,
   "id": "15c7fe29-13e8-45dc-b632-8767c98c8748",
   "metadata": {},
   "outputs": [],
   "source": [
    "import cv2"
   ]
  },
  {
   "cell_type": "code",
   "execution_count": 9,
   "id": "6067fa7f-61f0-4196-8556-133cbd31bdf0",
   "metadata": {},
   "outputs": [
    {
     "ename": "ModuleNotFoundError",
     "evalue": "No module named 'addition'",
     "output_type": "error",
     "traceback": [
      "\u001b[1;31m---------------------------------------------------------------------------\u001b[0m",
      "\u001b[1;31mModuleNotFoundError\u001b[0m                       Traceback (most recent call last)",
      "Cell \u001b[1;32mIn[9], line 1\u001b[0m\n\u001b[1;32m----> 1\u001b[0m \u001b[38;5;28;01mimport\u001b[39;00m \u001b[38;5;21;01maddition\u001b[39;00m\n",
      "\u001b[1;31mModuleNotFoundError\u001b[0m: No module named 'addition'"
     ]
    }
   ],
   "source": [
    "import addition"
   ]
  },
  {
   "cell_type": "markdown",
   "id": "f5a00509-8cec-4bb6-89b5-8e631c126d38",
   "metadata": {},
   "source": [
    "- with this addition name no package available in your laptop\n",
    "\n",
    "- for you cv2 also not available in your laptop\n",
    "\n",
    "- whever you got error always share two screenshots\n",
    "\n",
    "    - the code lines which you written\n",
    "\n",
    "    - error screenshot till last line\n",
    "\n",
    "    - error information always at last line only"
   ]
  },
  {
   "cell_type": "code",
   "execution_count": 10,
   "id": "c6b55059-ef92-401a-a0fb-b80c5e840910",
   "metadata": {},
   "outputs": [],
   "source": [
    "import random"
   ]
  },
  {
   "cell_type": "code",
   "execution_count": 11,
   "id": "dc884c59-7609-46b7-9542-d0e8eaf6ae62",
   "metadata": {},
   "outputs": [
    {
     "data": {
      "text/plain": [
       "<module 'random' from 'C:\\\\Users\\\\omkar\\\\anaconda3\\\\Lib\\\\random.py'>"
      ]
     },
     "execution_count": 11,
     "metadata": {},
     "output_type": "execute_result"
    }
   ],
   "source": [
    "random"
   ]
  },
  {
   "cell_type": "markdown",
   "id": "26f44d99-05f5-49a1-8331-26b1a71a6465",
   "metadata": {},
   "source": [
    "- package or module is a python code only\n",
    "\n",
    "- many packages will automatically install while anaconda installations\n",
    "\n",
    "- if any module not available\n",
    "\n",
    "    - **Module not found error**\n",
    " \n",
    "- how we call the package : **import packagename**"
   ]
  },
  {
   "cell_type": "code",
   "execution_count": 12,
   "id": "5c89cfbf-af78-4835-b0d3-ab75e0170562",
   "metadata": {},
   "outputs": [],
   "source": [
    "import random"
   ]
  },
  {
   "cell_type": "markdown",
   "id": "2e5304b8-f653-4cb2-9de3-3ebe6dfc52e5",
   "metadata": {},
   "source": [
    "- random also have many sub function \n",
    "\n",
    "- these are called as methods\n",
    "\n",
    "- in order to see the available methods \n",
    "\n",
    "    - dir(packagename)"
   ]
  },
  {
   "cell_type": "code",
   "execution_count": 13,
   "id": "a349d627-7ce1-4a61-90ed-a6a389dee59e",
   "metadata": {},
   "outputs": [
    {
     "data": {
      "text/plain": [
       "['BPF',\n",
       " 'LOG4',\n",
       " 'NV_MAGICCONST',\n",
       " 'RECIP_BPF',\n",
       " 'Random',\n",
       " 'SG_MAGICCONST',\n",
       " 'SystemRandom',\n",
       " 'TWOPI',\n",
       " '_ONE',\n",
       " '_Sequence',\n",
       " '_Set',\n",
       " '__all__',\n",
       " '__builtins__',\n",
       " '__cached__',\n",
       " '__doc__',\n",
       " '__file__',\n",
       " '__loader__',\n",
       " '__name__',\n",
       " '__package__',\n",
       " '__spec__',\n",
       " '_accumulate',\n",
       " '_acos',\n",
       " '_bisect',\n",
       " '_ceil',\n",
       " '_cos',\n",
       " '_e',\n",
       " '_exp',\n",
       " '_floor',\n",
       " '_index',\n",
       " '_inst',\n",
       " '_isfinite',\n",
       " '_log',\n",
       " '_os',\n",
       " '_pi',\n",
       " '_random',\n",
       " '_repeat',\n",
       " '_sha512',\n",
       " '_sin',\n",
       " '_sqrt',\n",
       " '_test',\n",
       " '_test_generator',\n",
       " '_urandom',\n",
       " '_warn',\n",
       " 'betavariate',\n",
       " 'choice',\n",
       " 'choices',\n",
       " 'expovariate',\n",
       " 'gammavariate',\n",
       " 'gauss',\n",
       " 'getrandbits',\n",
       " 'getstate',\n",
       " 'lognormvariate',\n",
       " 'normalvariate',\n",
       " 'paretovariate',\n",
       " 'randbytes',\n",
       " 'randint',\n",
       " 'random',\n",
       " 'randrange',\n",
       " 'sample',\n",
       " 'seed',\n",
       " 'setstate',\n",
       " 'shuffle',\n",
       " 'triangular',\n",
       " 'uniform',\n",
       " 'vonmisesvariate',\n",
       " 'weibullvariate']"
      ]
     },
     "execution_count": 13,
     "metadata": {},
     "output_type": "execute_result"
    }
   ],
   "source": [
    "# step-1: import packagename\n",
    "# step-2: dir(packagename)\n",
    "\n",
    "import random\n",
    "dir(random)"
   ]
  },
  {
   "cell_type": "code",
   "execution_count": null,
   "id": "41906e21-761d-4514-b079-085529ff163f",
   "metadata": {},
   "outputs": [],
   "source": [
    "# method: randint\n",
    "# qn : what is randint\n",
    "#     package name: random\n",
    "#     method name : randint\n",
    "\n",
    "#    module name    : random\n",
    "#    attribute name : randint\n",
    "\n",
    "#    uncle name :\n",
    "#     gf name "
   ]
  },
  {
   "cell_type": "code",
   "execution_count": 14,
   "id": "6e15b946-7c54-44b5-9cde-fa6420ee6240",
   "metadata": {},
   "outputs": [
    {
     "data": {
      "text/plain": [
       "<bound method Random.randint of <random.Random object at 0x0000026879D299B0>>"
      ]
     },
     "execution_count": 14,
     "metadata": {},
     "output_type": "execute_result"
    }
   ],
   "source": [
    "# step-3:  packagename.methodname\n",
    "random.randint"
   ]
  },
  {
   "cell_type": "code",
   "execution_count": 15,
   "id": "1c091977-7b9d-4c2a-b4ec-7163730407a7",
   "metadata": {},
   "outputs": [
    {
     "data": {
      "text/plain": [
       "<bound method Random.randint of <random.Random object at 0x0000026879D299B0>>"
      ]
     },
     "execution_count": 15,
     "metadata": {},
     "output_type": "execute_result"
    }
   ],
   "source": [
    "# step-1: import package name\n",
    "# step-2: dir(package name)\n",
    "# step-3: packagename.methodname\n",
    "\n",
    "import random\n",
    "dir(random) #  i want to call randint\n",
    "random.randint"
   ]
  },
  {
   "cell_type": "code",
   "execution_count": 16,
   "id": "f7d62739-6910-401f-a582-2718b31acd66",
   "metadata": {},
   "outputs": [
    {
     "name": "stdout",
     "output_type": "stream",
     "text": [
      "Help on method randint in module random:\n",
      "\n",
      "randint(a, b) method of random.Random instance\n",
      "    Return random integer in range [a, b], including both end points.\n",
      "\n"
     ]
    }
   ],
   "source": [
    "help(random.randint)"
   ]
  },
  {
   "cell_type": "code",
   "execution_count": 17,
   "id": "ad0fc4c2-9f24-4a79-aa00-c6824477b582",
   "metadata": {},
   "outputs": [
    {
     "data": {
      "text/plain": [
       "11"
      ]
     },
     "execution_count": 17,
     "metadata": {},
     "output_type": "execute_result"
    }
   ],
   "source": [
    "random.randint(10,20)  # a=10  b=20  10 11 12 13 14 15v 16 17 18 19 20"
   ]
  },
  {
   "cell_type": "code",
   "execution_count": 23,
   "id": "ecd70ed3-e87e-41a5-a594-85749ab0af7d",
   "metadata": {},
   "outputs": [
    {
     "name": "stdout",
     "output_type": "stream",
     "text": [
      "Help on method randint in module random:\n",
      "\n",
      "randint(a, b) method of random.Random instance\n",
      "    Return random integer in range [a, b], including both end points.\n",
      "\n"
     ]
    },
    {
     "data": {
      "text/plain": [
       "7"
      ]
     },
     "execution_count": 23,
     "metadata": {},
     "output_type": "execute_result"
    }
   ],
   "source": [
    "import random\n",
    "dir(random)\n",
    "help(random.randint)\n",
    "random.randint(1,10)"
   ]
  },
  {
   "cell_type": "code",
   "execution_count": 25,
   "id": "1fe3a0b1-badd-4ab3-81df-ae03a6994511",
   "metadata": {},
   "outputs": [
    {
     "name": "stdout",
     "output_type": "stream",
     "text": [
      "Help on method randint in module random:\n",
      "\n",
      "randint(a, b) method of random.Random instance\n",
      "    Return random integer in range [a, b], including both end points.\n",
      "\n"
     ]
    },
    {
     "data": {
      "text/plain": [
       "8"
      ]
     },
     "execution_count": 25,
     "metadata": {},
     "output_type": "execute_result"
    }
   ],
   "source": [
    "import random\n",
    "dir(random)\n",
    "help(random.randint)\n",
    "random.randint(1,20)"
   ]
  },
  {
   "cell_type": "code",
   "execution_count": 26,
   "id": "d747928e-e251-4c3e-80e0-960e30c7dedc",
   "metadata": {},
   "outputs": [
    {
     "ename": "TypeError",
     "evalue": "Random.randint() missing 2 required positional arguments: 'a' and 'b'",
     "output_type": "error",
     "traceback": [
      "\u001b[1;31m---------------------------------------------------------------------------\u001b[0m",
      "\u001b[1;31mTypeError\u001b[0m                                 Traceback (most recent call last)",
      "Cell \u001b[1;32mIn[26], line 2\u001b[0m\n\u001b[0;32m      1\u001b[0m \u001b[38;5;28;01mimport\u001b[39;00m \u001b[38;5;21;01mrandom\u001b[39;00m\n\u001b[1;32m----> 2\u001b[0m random\u001b[38;5;241m.\u001b[39mrandint()\n",
      "\u001b[1;31mTypeError\u001b[0m: Random.randint() missing 2 required positional arguments: 'a' and 'b'"
     ]
    }
   ],
   "source": [
    "import random\n",
    "random.randint()  \n",
    "\n",
    "# take your cursor inside the bracket apply shift+tab\n",
    "# help function only return\n",
    "# the top name : Doc string"
   ]
  },
  {
   "cell_type": "code",
   "execution_count": 29,
   "id": "d4885a42-6a75-4de6-b2e9-c42e80360cbc",
   "metadata": {},
   "outputs": [
    {
     "data": {
      "text/plain": [
       "<bound method Random.randint of <random.Random object at 0x0000026879D299B0>>"
      ]
     },
     "execution_count": 29,
     "metadata": {},
     "output_type": "execute_result"
    }
   ],
   "source": [
    "import random\n",
    "random.randint()"
   ]
  },
  {
   "cell_type": "code",
   "execution_count": null,
   "id": "3d6760f1-24d3-4a1e-b10a-cb97e7d27770",
   "metadata": {},
   "outputs": [],
   "source": [
    "# package name is : random\n",
    "# method name is : random\n",
    "\n",
    "# package name is : math\n",
    "# method name is : sqrt\n",
    "\n",
    "# package name is : math\n",
    "# method name is : pow\n",
    "\n",
    "# package name is : math\n",
    "# method name is : pie\n",
    "\n",
    "# package name is : math\n",
    "# method name is : sin"
   ]
  },
  {
   "cell_type": "code",
   "execution_count": null,
   "id": "7200870d-412a-4baf-b021-0499a9023422",
   "metadata": {},
   "outputs": [],
   "source": [
    "# import packages one time is enough"
   ]
  },
  {
   "cell_type": "code",
   "execution_count": 34,
   "id": "533e5367-2864-4fcf-80ca-cc1b043858e6",
   "metadata": {},
   "outputs": [
    {
     "data": {
      "text/plain": [
       "0.5448638376502353"
      ]
     },
     "execution_count": 34,
     "metadata": {},
     "output_type": "execute_result"
    }
   ],
   "source": [
    "import random\n",
    "random.random()"
   ]
  },
  {
   "cell_type": "code",
   "execution_count": 35,
   "id": "86599551-c232-43f6-a65a-be7bc9a32571",
   "metadata": {},
   "outputs": [],
   "source": [
    "import math"
   ]
  },
  {
   "cell_type": "code",
   "execution_count": 37,
   "id": "18bdb327-0c1f-41bd-9c79-0d49b30dc5f9",
   "metadata": {},
   "outputs": [
    {
     "data": {
      "text/plain": [
       "5.0"
      ]
     },
     "execution_count": 37,
     "metadata": {},
     "output_type": "execute_result"
    }
   ],
   "source": [
    "math.sqrt(25)"
   ]
  },
  {
   "cell_type": "code",
   "execution_count": 40,
   "id": "877c939e-f5fd-493d-8054-3f7b09e06afa",
   "metadata": {},
   "outputs": [
    {
     "data": {
      "text/plain": [
       "8.0"
      ]
     },
     "execution_count": 40,
     "metadata": {},
     "output_type": "execute_result"
    }
   ],
   "source": [
    "math.pow(2,3)  # 2 power 3"
   ]
  },
  {
   "cell_type": "code",
   "execution_count": 41,
   "id": "ca4e07c8-3cb2-4646-96d9-1a2a364f24d1",
   "metadata": {},
   "outputs": [
    {
     "ename": "AttributeError",
     "evalue": "module 'math' has no attribute 'pie'",
     "output_type": "error",
     "traceback": [
      "\u001b[1;31m---------------------------------------------------------------------------\u001b[0m",
      "\u001b[1;31mAttributeError\u001b[0m                            Traceback (most recent call last)",
      "Cell \u001b[1;32mIn[41], line 1\u001b[0m\n\u001b[1;32m----> 1\u001b[0m math\u001b[38;5;241m.\u001b[39mpie\n",
      "\u001b[1;31mAttributeError\u001b[0m: module 'math' has no attribute 'pie'"
     ]
    }
   ],
   "source": [
    "math.pie"
   ]
  },
  {
   "cell_type": "code",
   "execution_count": 42,
   "id": "5f6b0aea-39fb-443a-a2a3-b8769f38c87b",
   "metadata": {},
   "outputs": [
    {
     "data": {
      "text/plain": [
       "['__doc__',\n",
       " '__loader__',\n",
       " '__name__',\n",
       " '__package__',\n",
       " '__spec__',\n",
       " 'acos',\n",
       " 'acosh',\n",
       " 'asin',\n",
       " 'asinh',\n",
       " 'atan',\n",
       " 'atan2',\n",
       " 'atanh',\n",
       " 'cbrt',\n",
       " 'ceil',\n",
       " 'comb',\n",
       " 'copysign',\n",
       " 'cos',\n",
       " 'cosh',\n",
       " 'degrees',\n",
       " 'dist',\n",
       " 'e',\n",
       " 'erf',\n",
       " 'erfc',\n",
       " 'exp',\n",
       " 'exp2',\n",
       " 'expm1',\n",
       " 'fabs',\n",
       " 'factorial',\n",
       " 'floor',\n",
       " 'fmod',\n",
       " 'frexp',\n",
       " 'fsum',\n",
       " 'gamma',\n",
       " 'gcd',\n",
       " 'hypot',\n",
       " 'inf',\n",
       " 'isclose',\n",
       " 'isfinite',\n",
       " 'isinf',\n",
       " 'isnan',\n",
       " 'isqrt',\n",
       " 'lcm',\n",
       " 'ldexp',\n",
       " 'lgamma',\n",
       " 'log',\n",
       " 'log10',\n",
       " 'log1p',\n",
       " 'log2',\n",
       " 'modf',\n",
       " 'nan',\n",
       " 'nextafter',\n",
       " 'perm',\n",
       " 'pi',\n",
       " 'pow',\n",
       " 'prod',\n",
       " 'radians',\n",
       " 'remainder',\n",
       " 'sin',\n",
       " 'sinh',\n",
       " 'sqrt',\n",
       " 'tan',\n",
       " 'tanh',\n",
       " 'tau',\n",
       " 'trunc',\n",
       " 'ulp']"
      ]
     },
     "execution_count": 42,
     "metadata": {},
     "output_type": "execute_result"
    }
   ],
   "source": [
    "dir(math)"
   ]
  },
  {
   "cell_type": "code",
   "execution_count": 43,
   "id": "c42d98dd-31f4-4603-8ba7-02ec3214ecfe",
   "metadata": {},
   "outputs": [
    {
     "data": {
      "text/plain": [
       "3.141592653589793"
      ]
     },
     "execution_count": 43,
     "metadata": {},
     "output_type": "execute_result"
    }
   ],
   "source": [
    "math.pi\n",
    "# contsant values does not need brackets"
   ]
  },
  {
   "cell_type": "code",
   "execution_count": 44,
   "id": "717356ec-25c6-410e-a43b-c069d9683b3f",
   "metadata": {},
   "outputs": [
    {
     "data": {
      "text/plain": [
       "2.718281828459045"
      ]
     },
     "execution_count": 44,
     "metadata": {},
     "output_type": "execute_result"
    }
   ],
   "source": [
    "math.e"
   ]
  },
  {
   "cell_type": "code",
   "execution_count": 46,
   "id": "2f2b0232-4b94-4722-8cb1-f9de8ceeb649",
   "metadata": {},
   "outputs": [
    {
     "data": {
      "text/plain": [
       "0.8939966636005579"
      ]
     },
     "execution_count": 46,
     "metadata": {},
     "output_type": "execute_result"
    }
   ],
   "source": [
    "math.sin(90)"
   ]
  },
  {
   "cell_type": "code",
   "execution_count": 47,
   "id": "6db927e8-2f0f-4e1b-bdfc-b3dee5f8b9d8",
   "metadata": {},
   "outputs": [
    {
     "data": {
      "text/plain": [
       "['__doc__',\n",
       " '__loader__',\n",
       " '__name__',\n",
       " '__package__',\n",
       " '__spec__',\n",
       " 'acos',\n",
       " 'acosh',\n",
       " 'asin',\n",
       " 'asinh',\n",
       " 'atan',\n",
       " 'atan2',\n",
       " 'atanh',\n",
       " 'cbrt',\n",
       " 'ceil',\n",
       " 'comb',\n",
       " 'copysign',\n",
       " 'cos',\n",
       " 'cosh',\n",
       " 'degrees',\n",
       " 'dist',\n",
       " 'e',\n",
       " 'erf',\n",
       " 'erfc',\n",
       " 'exp',\n",
       " 'exp2',\n",
       " 'expm1',\n",
       " 'fabs',\n",
       " 'factorial',\n",
       " 'floor',\n",
       " 'fmod',\n",
       " 'frexp',\n",
       " 'fsum',\n",
       " 'gamma',\n",
       " 'gcd',\n",
       " 'hypot',\n",
       " 'inf',\n",
       " 'isclose',\n",
       " 'isfinite',\n",
       " 'isinf',\n",
       " 'isnan',\n",
       " 'isqrt',\n",
       " 'lcm',\n",
       " 'ldexp',\n",
       " 'lgamma',\n",
       " 'log',\n",
       " 'log10',\n",
       " 'log1p',\n",
       " 'log2',\n",
       " 'modf',\n",
       " 'nan',\n",
       " 'nextafter',\n",
       " 'perm',\n",
       " 'pi',\n",
       " 'pow',\n",
       " 'prod',\n",
       " 'radians',\n",
       " 'remainder',\n",
       " 'sin',\n",
       " 'sinh',\n",
       " 'sqrt',\n",
       " 'tan',\n",
       " 'tanh',\n",
       " 'tau',\n",
       " 'trunc',\n",
       " 'ulp']"
      ]
     },
     "execution_count": 47,
     "metadata": {},
     "output_type": "execute_result"
    }
   ],
   "source": [
    "dir(math)"
   ]
  },
  {
   "cell_type": "code",
   "execution_count": null,
   "id": "fd0e4268-7bb0-4531-9ffa-ba6de770dbb8",
   "metadata": {},
   "outputs": [],
   "source": [
    "math.pie\n",
    "math.pi\n",
    "math.pi() # pi is a constant \n",
    "# constant does not need brackets"
   ]
  },
  {
   "cell_type": "code",
   "execution_count": 48,
   "id": "986aaf2e-30c6-4812-9e16-4b6f6035e8d4",
   "metadata": {},
   "outputs": [
    {
     "name": "stdout",
     "output_type": "stream",
     "text": [
      "hello\n",
      "bye\n"
     ]
    }
   ],
   "source": [
    "print('hello')\n",
    "print('bye')"
   ]
  },
  {
   "cell_type": "code",
   "execution_count": 49,
   "id": "4023afc8-fe3f-4163-8ffe-fd4ccfc80ac7",
   "metadata": {},
   "outputs": [
    {
     "name": "stdout",
     "output_type": "stream",
     "text": [
      "hello\n",
      "bye\n"
     ]
    }
   ],
   "source": [
    "import time\n",
    "print('hello')\n",
    "time.sleep(5)\n",
    "print('bye')"
   ]
  },
  {
   "cell_type": "code",
   "execution_count": 51,
   "id": "e92154b2-4005-4dbe-a036-b70aa6546d6c",
   "metadata": {},
   "outputs": [
    {
     "data": {
      "text/plain": [
       "35"
      ]
     },
     "execution_count": 51,
     "metadata": {},
     "output_type": "execute_result"
    }
   ],
   "source": [
    "#package name: keyword\n",
    "#method name: kwlist\n",
    "import keyword\n",
    "len(keyword.kwlist)"
   ]
  },
  {
   "cell_type": "code",
   "execution_count": null,
   "id": "4a45eb49-e69c-45f2-9cba-2243a7390473",
   "metadata": {},
   "outputs": [],
   "source": [
    "True\n",
    "False\n",
    "if\n",
    "else\n",
    "for\n",
    "while\n",
    "None\n",
    "elif\n",
    "and\n",
    "def\n",
    "or\n",
    "return\n",
    "class\n",
    "lambda\n",
    "try\n",
    "except\n",
    "continue\n",
    "break\n",
    "pass\n"
   ]
  }
 ],
 "metadata": {
  "kernelspec": {
   "display_name": "Python 3 (ipykernel)",
   "language": "python",
   "name": "python3"
  },
  "language_info": {
   "codemirror_mode": {
    "name": "ipython",
    "version": 3
   },
   "file_extension": ".py",
   "mimetype": "text/x-python",
   "name": "python",
   "nbconvert_exporter": "python",
   "pygments_lexer": "ipython3",
   "version": "3.11.7"
  }
 },
 "nbformat": 4,
 "nbformat_minor": 5
}
