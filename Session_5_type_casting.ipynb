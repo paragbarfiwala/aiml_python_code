{
 "cells": [
  {
   "cell_type": "markdown",
   "id": "ad9178ce-cadb-4dbc-9802-4ebfd02c40f0",
   "metadata": {},
   "source": [
    "## Type casting\n",
    "\n",
    "- Convert one data type to another data type\n",
    "\n",
    "- we learned 4 data types\n",
    "\n",
    "    - integer: int\n",
    "\n",
    "    - float : float\n",
    "\n",
    "    - boolean: bool\n",
    "\n",
    "    - string: str"
   ]
  },
  {
   "cell_type": "markdown",
   "id": "1c783037-a41b-497a-b4a6-eeae29d42fff",
   "metadata": {},
   "source": [
    "**int to other data types**"
   ]
  },
  {
   "cell_type": "code",
   "execution_count": 1,
   "id": "88539a25-dbf8-4bfc-939c-9dac9d2a78f6",
   "metadata": {},
   "outputs": [
    {
     "data": {
      "text/plain": [
       "int"
      ]
     },
     "execution_count": 1,
     "metadata": {},
     "output_type": "execute_result"
    }
   ],
   "source": [
    "number=100\n",
    "type(number)"
   ]
  },
  {
   "cell_type": "code",
   "execution_count": 5,
   "id": "ca73c69b-0382-4b13-84ff-3c183f69d698",
   "metadata": {},
   "outputs": [
    {
     "data": {
      "text/plain": [
       "float"
      ]
     },
     "execution_count": 5,
     "metadata": {},
     "output_type": "execute_result"
    }
   ],
   "source": [
    "float_number=float(number)\n",
    "type(float_number)"
   ]
  },
  {
   "cell_type": "code",
   "execution_count": 6,
   "id": "8adaa2ca-2a2d-43f9-a2bb-cb7c69a0860b",
   "metadata": {},
   "outputs": [
    {
     "data": {
      "text/plain": [
       "bool"
      ]
     },
     "execution_count": 6,
     "metadata": {},
     "output_type": "execute_result"
    }
   ],
   "source": [
    "bool_number=bool(number)\n",
    "type(bool_number)"
   ]
  },
  {
   "cell_type": "code",
   "execution_count": 7,
   "id": "fe94cccb-d141-41ee-9071-18ed853e009d",
   "metadata": {},
   "outputs": [
    {
     "data": {
      "text/plain": [
       "str"
      ]
     },
     "execution_count": 7,
     "metadata": {},
     "output_type": "execute_result"
    }
   ],
   "source": [
    "str_number=str(number)\n",
    "type(str_number)"
   ]
  },
  {
   "cell_type": "code",
   "execution_count": 8,
   "id": "c7bc6b4d-a8cf-4a25-b671-80051d08cf65",
   "metadata": {},
   "outputs": [
    {
     "data": {
      "text/plain": [
       "(100.0, True, '100')"
      ]
     },
     "execution_count": 8,
     "metadata": {},
     "output_type": "execute_result"
    }
   ],
   "source": [
    "float(100),bool(100),str(100)"
   ]
  },
  {
   "cell_type": "code",
   "execution_count": 10,
   "id": "e1b405b3-23bf-4e66-80d8-05ae99042320",
   "metadata": {},
   "outputs": [
    {
     "name": "stdout",
     "output_type": "stream",
     "text": [
      "100.0\n",
      "True\n",
      "100\n"
     ]
    }
   ],
   "source": [
    "print(float(100))\n",
    "print(bool(100))\n",
    "print(str(100))"
   ]
  },
  {
   "cell_type": "code",
   "execution_count": 11,
   "id": "8e8d44b1-1fec-4890-857f-c0cda4e2af38",
   "metadata": {},
   "outputs": [
    {
     "name": "stdout",
     "output_type": "stream",
     "text": [
      "-100.0\n",
      "True\n",
      "-100\n"
     ]
    }
   ],
   "source": [
    "print(float(-100))\n",
    "print(bool(-100))\n",
    "print(str(-100))"
   ]
  },
  {
   "cell_type": "markdown",
   "id": "369ea987-58ef-426a-90ef-881c1bfb6938",
   "metadata": {},
   "source": [
    "- zero means off \n",
    "\n",
    "- False means Off"
   ]
  },
  {
   "cell_type": "code",
   "execution_count": 12,
   "id": "d3e954a8-0d19-4eaf-8777-7de8b79e8152",
   "metadata": {},
   "outputs": [
    {
     "name": "stdout",
     "output_type": "stream",
     "text": [
      "0.0\n",
      "False\n",
      "0\n"
     ]
    }
   ],
   "source": [
    "print(float(0))\n",
    "print(bool(0))\n",
    "print(str(0))"
   ]
  },
  {
   "cell_type": "markdown",
   "id": "fa167305-cad6-4bcc-a05f-ea2c212f7df2",
   "metadata": {},
   "source": [
    "**float to other data types**"
   ]
  },
  {
   "cell_type": "code",
   "execution_count": 13,
   "id": "873f838d-fefb-438d-9164-b51cad176113",
   "metadata": {},
   "outputs": [
    {
     "data": {
      "text/plain": [
       "100"
      ]
     },
     "execution_count": 13,
     "metadata": {},
     "output_type": "execute_result"
    }
   ],
   "source": [
    "number=100.5\n",
    "int(number)"
   ]
  },
  {
   "cell_type": "code",
   "execution_count": 14,
   "id": "b69cb198-b0f2-4e4c-89a8-ad16eb23ed8d",
   "metadata": {},
   "outputs": [
    {
     "data": {
      "text/plain": [
       "True"
      ]
     },
     "execution_count": 14,
     "metadata": {},
     "output_type": "execute_result"
    }
   ],
   "source": [
    "bool(number)"
   ]
  },
  {
   "cell_type": "code",
   "execution_count": 15,
   "id": "9f8b0db1-a34a-41a9-9a98-74d3f471d8c3",
   "metadata": {},
   "outputs": [
    {
     "data": {
      "text/plain": [
       "'100.5'"
      ]
     },
     "execution_count": 15,
     "metadata": {},
     "output_type": "execute_result"
    }
   ],
   "source": [
    "str(number)"
   ]
  },
  {
   "cell_type": "code",
   "execution_count": 17,
   "id": "0b38182a-baa9-418e-a0f5-776dbe92155d",
   "metadata": {},
   "outputs": [
    {
     "name": "stdout",
     "output_type": "stream",
     "text": [
      "100\n",
      "True\n",
      "100.5\n"
     ]
    }
   ],
   "source": [
    "n1=int(100.5)\n",
    "n2=bool(100.5)\n",
    "n3=str(100.5)\n",
    "print(n1)\n",
    "print(n2)\n",
    "print(n3)"
   ]
  },
  {
   "cell_type": "code",
   "execution_count": 18,
   "id": "14476b03-2825-4817-aba3-e4aec0dd14f0",
   "metadata": {},
   "outputs": [
    {
     "name": "stdout",
     "output_type": "stream",
     "text": [
      "0\n",
      "False\n",
      "0.0\n"
     ]
    }
   ],
   "source": [
    "n1=int(0.0)\n",
    "n2=bool(0.0)\n",
    "n3=str(0.0)\n",
    "print(n1)\n",
    "print(n2)\n",
    "print(n3)"
   ]
  },
  {
   "cell_type": "markdown",
   "id": "2241dcc5-41f7-41a5-98cf-859bfd7a2ee4",
   "metadata": {},
   "source": [
    "**string to other types** "
   ]
  },
  {
   "cell_type": "code",
   "execution_count": null,
   "id": "c623936b-9111-4a35-b065-f371605295a2",
   "metadata": {},
   "outputs": [],
   "source": [
    "int('apple') # fail\n",
    "float('apple') # fail\n",
    "bool('apple') # works"
   ]
  },
  {
   "cell_type": "code",
   "execution_count": 19,
   "id": "6552a0b3-0f36-407a-8941-04f89f075485",
   "metadata": {},
   "outputs": [
    {
     "data": {
      "text/plain": [
       "True"
      ]
     },
     "execution_count": 19,
     "metadata": {},
     "output_type": "execute_result"
    }
   ],
   "source": [
    "bool('apple')"
   ]
  },
  {
   "cell_type": "markdown",
   "id": "28f23228-8059-46ca-8c17-6962e9931b83",
   "metadata": {},
   "source": [
    "- True : ON some thing is present\n",
    "\n",
    "- False: Off that is not present"
   ]
  },
  {
   "cell_type": "code",
   "execution_count": 20,
   "id": "8b6388c0-d2f7-434a-b5d7-bb3d5eddd16a",
   "metadata": {},
   "outputs": [
    {
     "data": {
      "text/plain": [
       "True"
      ]
     },
     "execution_count": 20,
     "metadata": {},
     "output_type": "execute_result"
    }
   ],
   "source": [
    "bool('0')"
   ]
  },
  {
   "cell_type": "code",
   "execution_count": 26,
   "id": "00cbbb95-a906-452e-ad59-f34d6bb4fe4d",
   "metadata": {},
   "outputs": [
    {
     "data": {
      "text/plain": [
       "False"
      ]
     },
     "execution_count": 26,
     "metadata": {},
     "output_type": "execute_result"
    }
   ],
   "source": [
    "bool('')"
   ]
  },
  {
   "cell_type": "code",
   "execution_count": 22,
   "id": "bcc45a36-5476-4fb6-820d-4e2d955d828d",
   "metadata": {},
   "outputs": [
    {
     "data": {
      "text/plain": [
       "5"
      ]
     },
     "execution_count": 22,
     "metadata": {},
     "output_type": "execute_result"
    }
   ],
   "source": [
    "len('apple')"
   ]
  },
  {
   "cell_type": "code",
   "execution_count": 23,
   "id": "8e78c2c7-2adc-4308-ae32-a6d55d7b2845",
   "metadata": {},
   "outputs": [
    {
     "data": {
      "text/plain": [
       "1"
      ]
     },
     "execution_count": 23,
     "metadata": {},
     "output_type": "execute_result"
    }
   ],
   "source": [
    "len('0')"
   ]
  },
  {
   "cell_type": "code",
   "execution_count": 29,
   "id": "17678d3d-2bf5-4a7b-ad3f-6583df63d769",
   "metadata": {},
   "outputs": [
    {
     "data": {
      "text/plain": [
       "3"
      ]
     },
     "execution_count": 29,
     "metadata": {},
     "output_type": "execute_result"
    }
   ],
   "source": [
    "len('   ')"
   ]
  },
  {
   "cell_type": "markdown",
   "id": "c929030e-0b1d-4738-8cdc-396962ad0d3d",
   "metadata": {},
   "source": [
    "- for number 0 and 0.0 boolean conversion gives **False**\n",
    "\n",
    "- for strings empty boolean conversion gives **False**"
   ]
  },
  {
   "cell_type": "code",
   "execution_count": 30,
   "id": "c674df59-ad0d-40a2-9a03-46f569c121cb",
   "metadata": {},
   "outputs": [
    {
     "data": {
      "text/plain": [
       "10"
      ]
     },
     "execution_count": 30,
     "metadata": {},
     "output_type": "execute_result"
    }
   ],
   "source": [
    "float('10') # works 10.0\n",
    "bool('10')  # works True\n",
    "int('10')   # works  10"
   ]
  },
  {
   "cell_type": "code",
   "execution_count": null,
   "id": "17c8982b-b164-4dd8-a130-c3fac3b5cea0",
   "metadata": {},
   "outputs": [],
   "source": [
    "float('apple')  # fail\n",
    "float('10')"
   ]
  },
  {
   "cell_type": "markdown",
   "id": "a3880994-ab6f-4985-9435-938b7df0361e",
   "metadata": {},
   "source": [
    "**object not callable**\n",
    "\n",
    "- python magic\n",
    "\n",
    "- either you need open new notebook\n",
    "\n",
    "- or go to kernel and restart"
   ]
  },
  {
   "cell_type": "code",
   "execution_count": 31,
   "id": "696fab74-6fed-443a-b80f-a1463d437ce8",
   "metadata": {},
   "outputs": [
    {
     "data": {
      "text/plain": [
       "(10.0, True, 10)"
      ]
     },
     "execution_count": 31,
     "metadata": {},
     "output_type": "execute_result"
    }
   ],
   "source": [
    "float('10'),bool('10'),int('10')   "
   ]
  },
  {
   "cell_type": "code",
   "execution_count": null,
   "id": "2c1e2ec3-262c-4318-bf2e-7e20eb6b91f3",
   "metadata": {},
   "outputs": [],
   "source": [
    "float('10.5') # w  10.5\n",
    "bool('10.5')  # w   True\n",
    "int('10.5')   ######### Fail"
   ]
  },
  {
   "cell_type": "code",
   "execution_count": null,
   "id": "9bfce891-4f15-4557-a5d4-cee4c82325b1",
   "metadata": {},
   "outputs": [],
   "source": [
    "**float is the boss**\n",
    "\n",
    "float('10') # w\n",
    "float('10.5') # w\n",
    "\n",
    "int('10') # w\n",
    "int('10.5') # F"
   ]
  },
  {
   "cell_type": "markdown",
   "id": "1444c314-d844-4d49-8010-530eb48e2272",
   "metadata": {},
   "source": [
    "**boolean other data types**"
   ]
  },
  {
   "cell_type": "code",
   "execution_count": 32,
   "id": "bbac641d-46d7-4d01-ad6d-b87acb149c70",
   "metadata": {},
   "outputs": [
    {
     "name": "stdout",
     "output_type": "stream",
     "text": [
      "1\n",
      "1.0\n",
      "True\n",
      "0\n",
      "0.0\n",
      "False\n"
     ]
    }
   ],
   "source": [
    "print(int(True))  # w  1\n",
    "print(float(True)) # w 1.0\n",
    "print(str(True))  # 'True'\n",
    "print(int(False)) # 0\n",
    "print(float(False)) # 0.0\n",
    "print(str(False)) # 'False'"
   ]
  },
  {
   "cell_type": "code",
   "execution_count": null,
   "id": "fb63d050-1b0e-4c7e-a2f4-3d259d23c5e1",
   "metadata": {},
   "outputs": [],
   "source": [
    "float(10) # 10.0\n",
    "str(10)   # '10'\n",
    "bool(10)  # T\n",
    "int(10.5) # 10\n",
    "str(10.5) # '10.5'\n",
    "bool(10.5) # T\n",
    "int('apple') # Fail\n",
    "float('apple') # Fail\n",
    "bool('apple') # T\n",
    "int('10') # 10\n",
    "float('10') # 10.0\n",
    "bool('10') # T\n",
    "int('10.5') # F\n",
    "float('10.5') # 10.5\n",
    "bool('10.5') # T\n",
    "int(True) # 1\n",
    "int(False) # 0\n",
    "float(True) # 1.0\n",
    "float(False) # 0.0\n",
    "str(True) # 'True'\n",
    "str(False) # 'False'\n",
    "bool(0)  # False\n",
    "bool(0.0) # False\n",
    "bool('') #False"
   ]
  }
 ],
 "metadata": {
  "kernelspec": {
   "display_name": "Python 3 (ipykernel)",
   "language": "python",
   "name": "python3"
  },
  "language_info": {
   "codemirror_mode": {
    "name": "ipython",
    "version": 3
   },
   "file_extension": ".py",
   "mimetype": "text/x-python",
   "name": "python",
   "nbconvert_exporter": "python",
   "pygments_lexer": "ipython3",
   "version": "3.11.7"
  }
 },
 "nbformat": 4,
 "nbformat_minor": 5
}
