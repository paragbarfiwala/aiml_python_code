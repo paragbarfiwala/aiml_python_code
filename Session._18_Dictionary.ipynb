{
 "cells": [
  {
   "cell_type": "code",
   "execution_count": 1,
   "id": "6f8f240d-5792-4655-9946-1bc4d0f7595c",
   "metadata": {},
   "outputs": [],
   "source": [
    "names=['Ramesh','Suresh','Sathish']\n",
    "age=[20,25,30]\n",
    "# 'Ramesh age is 20'\n",
    "# 'Suresh age is 25'"
   ]
  },
  {
   "cell_type": "code",
   "execution_count": 2,
   "id": "1f8f96a0-1ab3-4375-a8ee-a291d6423ece",
   "metadata": {},
   "outputs": [
    {
     "name": "stdout",
     "output_type": "stream",
     "text": [
      "Ramesh age is 20\n",
      "Suresh age is 25\n",
      "Sathish age is 30\n"
     ]
    }
   ],
   "source": [
    "for i in range(len(names)):\n",
    "    print(f\"{names[i]} age is {age[i]}\")"
   ]
  },
  {
   "cell_type": "markdown",
   "id": "7a42d1fd-fd9b-4ecd-893c-67844b47a354",
   "metadata": {},
   "source": [
    "**zip**"
   ]
  },
  {
   "cell_type": "code",
   "execution_count": 6,
   "id": "83be69d2-a370-4881-bb10-82c3bab9d4f0",
   "metadata": {},
   "outputs": [
    {
     "name": "stdout",
     "output_type": "stream",
     "text": [
      "Ramesh 20\n",
      "Ramesh age is 20\n",
      "Suresh 25\n",
      "Suresh age is 25\n",
      "Sathish 30\n",
      "Sathish age is 30\n"
     ]
    }
   ],
   "source": [
    "names=['Ramesh','Suresh','Sathish']\n",
    "age=[20,25,30]\n",
    "for i,j in zip(names,age):\n",
    "    print(i,j)\n",
    "    print(f\"{i} age is {j}\")"
   ]
  },
  {
   "cell_type": "code",
   "execution_count": 9,
   "id": "e71653f2-5d73-4472-9234-757c8f61a599",
   "metadata": {},
   "outputs": [
    {
     "name": "stdout",
     "output_type": "stream",
     "text": [
      "20\n",
      "25\n",
      "30\n"
     ]
    }
   ],
   "source": [
    "names=['Ramesh','Suresh','Sathish']\n",
    "age=[20,25,30]\n",
    "for i,j in zip(names,age):\n",
    "    print(j)"
   ]
  },
  {
   "cell_type": "code",
   "execution_count": null,
   "id": "115162c6-4ab3-42a9-ac7f-d71fac30426d",
   "metadata": {},
   "outputs": [],
   "source": [
    "names=['Ramesh','Suresh','Sathish']\n",
    "age=[20,25,30]\n"
   ]
  },
  {
   "cell_type": "markdown",
   "id": "3fe29916-3ba8-4182-895a-874025e3e5e9",
   "metadata": {},
   "source": [
    "**Dictionary**\n",
    "\n",
    "- in above example names and age both are together\n",
    "\n",
    "- when both are together we can pair them\n",
    "\n",
    "- This can happen using Dictionary\n",
    "\n",
    "- Dictionary is calles as **key-value** pair\n",
    "\n",
    "- it represents with curly braces : **{key:value}**\n",
    "\n",
    "- Ramesh and 20 years both are pair : {'Ramesh':20}"
   ]
  },
  {
   "cell_type": "code",
   "execution_count": 11,
   "id": "bc2c9012-98e7-4f35-9cb4-ce3e0738916d",
   "metadata": {},
   "outputs": [
    {
     "data": {
      "text/plain": [
       "{'Ramesh': 20, 'Suresh': 25, 'Sathish': 30}"
      ]
     },
     "execution_count": 11,
     "metadata": {},
     "output_type": "execute_result"
    }
   ],
   "source": [
    "d1={'Ramesh':20,'Suresh':25,'Sathish':30}\n",
    "d1"
   ]
  },
  {
   "cell_type": "code",
   "execution_count": 12,
   "id": "9476f60a-5b91-4190-a8cd-dae8681ed0c4",
   "metadata": {},
   "outputs": [
    {
     "data": {
      "text/plain": [
       "{20: 'Ramesh', 25: 'Suresh', 30: 'Sathish'}"
      ]
     },
     "execution_count": 12,
     "metadata": {},
     "output_type": "execute_result"
    }
   ],
   "source": [
    "d2={20:'Ramesh',25:'Suresh',30:'Sathish'}\n",
    "d2"
   ]
  },
  {
   "cell_type": "code",
   "execution_count": 27,
   "id": "e5ba425d-d468-4413-9c2e-b954c96d0ecc",
   "metadata": {},
   "outputs": [
    {
     "data": {
      "text/plain": [
       "{('Apple', 'Banana'): 'fruites'}"
      ]
     },
     "execution_count": 27,
     "metadata": {},
     "output_type": "execute_result"
    }
   ],
   "source": [
    "# start your imaginzation make a dictionary with many ways\n",
    "d1={'Ramesh':20,'Suresh':25,'Sathish':30}\n",
    "d2={20:'Ramesh',25:'Suresh',30:'Sathish'}\n",
    "d3={'Ramesh':'20','Suresh':'25','Sathish':30}\n",
    "d4={'20':'Ramesh','25':'Suresh',30:'Sathish'}\n",
    "d5={'Ramesh':20,'Ramesh':30}\n",
    "# If both keys are same it will take the latest value\n",
    "# Dictionarys kind database\n",
    "d6={'Ramesh':20,'Ramesh':20}\n",
    "# Dictionarys does not allow duplicates\n",
    "d7={'Ramesh':20,'Suresh':20}\n",
    "# In dictionary keys pays vital rols\n",
    "# keys can not be duplicate but values can be duplicate\n",
    "d8={20:'Ramesh',20:'Suresh'}\n",
    "d9={True:'true'}\n",
    "d10={'fruites':['Apple','Banana']} # list is value\n",
    "#d11={['Apple','Banana']:'fruites'} # list is key\n",
    "d12={'fruites':('Apple','Banana')} # list is value\n",
    "d13={('Apple','Banana'):'fruites'} # list is key\n",
    "d13"
   ]
  },
  {
   "cell_type": "code",
   "execution_count": null,
   "id": "fd0d39d0-bfd1-4442-bd2e-d3845e940600",
   "metadata": {},
   "outputs": [],
   "source": [
    "d10={'fruites':['Apple','Banana']} # w\n",
    "d10={'fruites':('Apple','Banana')} # w\n",
    "{['Apple','Banana']:'fruites'} # Fail\n",
    "{('Apple','Banana'):'fruites'} # workings"
   ]
  },
  {
   "cell_type": "markdown",
   "id": "0076f157-49c1-4a78-8a4e-10c5c33c087f",
   "metadata": {},
   "source": [
    "**list as keys fails becuase list has a mutable behavivour**\n",
    "\n",
    "**tuple as keys works becuase tuple has immutable behaviour**\n",
    "\n",
    "**in dictionary keys are very very imortant**\n",
    "\n",
    "**keys does not change so when we apply list is failin**"
   ]
  },
  {
   "cell_type": "code",
   "execution_count": null,
   "id": "811e202d-f6f3-4884-87f7-45e8ee4459d1",
   "metadata": {},
   "outputs": [],
   "source": []
  }
 ],
 "metadata": {
  "kernelspec": {
   "display_name": "Python 3 (ipykernel)",
   "language": "python",
   "name": "python3"
  },
  "language_info": {
   "codemirror_mode": {
    "name": "ipython",
    "version": 3
   },
   "file_extension": ".py",
   "mimetype": "text/x-python",
   "name": "python",
   "nbconvert_exporter": "python",
   "pygments_lexer": "ipython3",
   "version": "3.11.7"
  }
 },
 "nbformat": 4,
 "nbformat_minor": 5
}
