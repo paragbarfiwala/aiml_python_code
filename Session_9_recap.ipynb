{
 "cells": [
  {
   "cell_type": "code",
   "execution_count": null,
   "id": "511bdba2-a127-4b01-aadb-4a9adad51716",
   "metadata": {},
   "outputs": [],
   "source": [
    "import packagename\n",
    "dir(packagename)\n",
    "help(packagename.methodname)"
   ]
  },
  {
   "cell_type": "code",
   "execution_count": 1,
   "id": "4a3b204f-1280-4c7d-8460-f363a4112e01",
   "metadata": {},
   "outputs": [
    {
     "data": {
      "text/plain": [
       "<bound method Random.randint of <random.Random object at 0x00000240B94FA420>>"
      ]
     },
     "execution_count": 1,
     "metadata": {},
     "output_type": "execute_result"
    }
   ],
   "source": [
    "import random\n",
    "random.randint"
   ]
  },
  {
   "cell_type": "code",
   "execution_count": null,
   "id": "c0f32b37-04f4-4a02-a962-2af0065d73cd",
   "metadata": {},
   "outputs": [],
   "source": [
    "import random\n",
    "random.randintt  # attribute errir"
   ]
  },
  {
   "cell_type": "code",
   "execution_count": null,
   "id": "5a976dde-f5e8-4b32-b745-e2a781bdda20",
   "metadata": {},
   "outputs": [],
   "source": [
    "import 9ambatch # Module not found error"
   ]
  },
  {
   "cell_type": "code",
   "execution_count": null,
   "id": "800e9509-c870-45b7-8e77-c468aa27ddbc",
   "metadata": {},
   "outputs": [],
   "source": [
    "import random\n",
    "random.randint\n",
    "\n",
    "from random import randint\n",
    "\n",
    "from random import randint as virat"
   ]
  },
  {
   "cell_type": "code",
   "execution_count": null,
   "id": "97311666-003b-4b46-aae4-693b80536af3",
   "metadata": {},
   "outputs": [],
   "source": [
    "# 1)wap ask the user enter 3 numbers n1,n2,n3 from ketboard\n",
    "# calculate average\n",
    "\n",
    "# 2)wap ask the user enter name age city\n",
    "# print my name is python im 10 years old and came from hyd\n",
    "\n",
    "# 3)wap ask the user to enter radidus of a circle calculate area of the circle\n",
    "# var: radidus  var: pi=3.14\n",
    "# formuale: pi*radius*radius\n",
    "# print the answers using f string and format\n",
    "\n",
    "# 4)wap ask the user enter breadth and height of a right angle triangle\n",
    "# calculate the area\n",
    "# var1: bredath  var2: height\n",
    "# formuale : 0.5*breadth*heigh\n",
    "\n",
    "# 5)wap ask the user the bill amount and tip amount\n",
    "#   calculate total bill\n",
    "#   var1: bill amount var2: tip amount\n",
    "#   formuale\n",
    "\n",
    "# 6)wap ask the user the bill amount and tip percentage\n",
    "#    take tip percentage as 10\n",
    "#   calculate total bill= bill amount+ bill amount*tip per/100\n",
    "#   var1: bill amount var2: tip amount\n",
    "#    formuale\n",
    "\n",
    "# 7)wap ask the length and breadth of a rectangle calculate area\n",
    "#   var1: length  var2: breadth\n",
    "#   formulae: length * breadth\n",
    "\n",
    "# 8) wap ask the user take the radius and calculate volume of sphere\n",
    "#   formulae: pi*r**3(pi*r*r*r)\n",
    "\n",
    "# 9) wap ask the user enter amount in dollars convert into rupees\n",
    "#     1$=85rs\n",
    "\n",
    "# 10)wap ask the user enter weight in kgs convert into pounds\n",
    "#    1kg= 2.2pounds\n"
   ]
  },
  {
   "cell_type": "code",
   "execution_count": 2,
   "id": "508d0eba-2d1d-4bf5-a31d-db96520afa4b",
   "metadata": {},
   "outputs": [
    {
     "name": "stdout",
     "output_type": "stream",
     "text": [
      "the average of 58,89 and 4 is:51\n"
     ]
    }
   ],
   "source": [
    "# 1)wap ask the user enter 3 numbers n1,n2,n3 from ketboard\n",
    "# calculate average\n",
    "import random\n",
    "import math\n",
    "n1=random.randint(1,100)\n",
    "n2=random.randint(1,100)\n",
    "n3=random.randint(1,100)\n",
    "avg=(n1+n2+n3)/3\n",
    "avg1=math.ceil(avg)\n",
    "print(f\"the average of {n1},{n2} and {n3} is:{avg1}\")"
   ]
  },
  {
   "cell_type": "code",
   "execution_count": 4,
   "id": "a986d151-5773-43e7-8632-54d04e0f898e",
   "metadata": {},
   "outputs": [
    {
     "name": "stdin",
     "output_type": "stream",
     "text": [
      "enter the name: python\n",
      "enter the city: hyd\n"
     ]
    },
    {
     "name": "stdout",
     "output_type": "stream",
     "text": [
      "my name is python im 45 years old and came from hyd\n"
     ]
    }
   ],
   "source": [
    "# 2)wap ask the user enter name age city\n",
    "# print my name is python im 10 years old and came from hyd\n",
    "name=input(\"enter the name:\")\n",
    "age=random.randint(1,100)\n",
    "city=input('enter the city:')\n",
    "print(f\"my name is {name} im {age} years old and came from {city}\")"
   ]
  },
  {
   "cell_type": "code",
   "execution_count": null,
   "id": "8561f8d3-5997-4813-8ec3-bf32aeb1cf00",
   "metadata": {},
   "outputs": [],
   "source": [
    "# those who are done all the meanwhile do below qn\n",
    "# story between papa and son\n",
    "\n",
    "# son: hi papa\n",
    "# fa : hi beta\n",
    "# son: im going to school\n",
    "# fa: okay beta, i heared your results came out\n",
    "# son: yes papa\n",
    "# fa: then what about the result\n",
    "# son: lets play a game i will give the marks you tell me the perce\n",
    "# fa: exited\n",
    "# Telugu= random\n",
    "# hindi\n",
    "# end\n",
    "# maths\n",
    "# sci\n",
    "# soc\n",
    "# avg\n",
    "# display the avg"
   ]
  },
  {
   "cell_type": "code",
   "execution_count": 8,
   "id": "44367c28-51cc-4a93-854e-817b0231f910",
   "metadata": {},
   "outputs": [
    {
     "name": "stdout",
     "output_type": "stream",
     "text": [
      "the area of a circle for radius 18 is: 1017.36\n"
     ]
    }
   ],
   "source": [
    "# 3)wap ask the user to enter radidus of a circle calculate area of the circle\n",
    "# var: radidus  var: pi=3.14\n",
    "# formuale: pi*radius*radius\n",
    "# print the answers using f string and format\n",
    "radius=random.randint(1,100)\n",
    "pi=3.14\n",
    "area=pi*radius*radius\n",
    "print(f\"the area of a circle for radius {radius} is: {area}\")"
   ]
  },
  {
   "cell_type": "code",
   "execution_count": 9,
   "id": "f5ee88e4-23e8-4430-93b1-e9d186c5b3d9",
   "metadata": {},
   "outputs": [
    {
     "name": "stdout",
     "output_type": "stream",
     "text": [
      "for breadth 8 and height 6 are is 24.0\n"
     ]
    }
   ],
   "source": [
    "# 4)wap ask the user enter breadth and height of a right angle triangle\n",
    "# calculate the area\n",
    "# var1: bredath  var2: height\n",
    "# formuale : 0.5*breadth*heigh\n",
    "\n",
    "breadth=random.randint(1,20)\n",
    "height=random.randint(1,10)\n",
    "area=0.5*breadth*height\n",
    "print(f\"for breadth {breadth} and height {height} are is {area}\")"
   ]
  },
  {
   "cell_type": "code",
   "execution_count": 10,
   "id": "7240960a-ec3b-43f8-acff-2ad2ddbdf172",
   "metadata": {},
   "outputs": [
    {
     "name": "stdout",
     "output_type": "stream",
     "text": [
      "the total bill is: 840\n"
     ]
    }
   ],
   "source": [
    "# 5)wap ask the user the bill amount and tip amount\n",
    "#   calculate total bill\n",
    "#   var1: bill amount var2: tip amount\n",
    "#   formuale\n",
    "\n",
    "bill_amount=random.randint(500,1000)\n",
    "tip_amount=random.randint(20,100)\n",
    "total_bill=bill_amount+tip_amount\n",
    "print(\"the total bill is:\",total_bill)"
   ]
  },
  {
   "cell_type": "code",
   "execution_count": 12,
   "id": "ff0b15fe-aa68-4fa3-80f8-c5589e6dc448",
   "metadata": {},
   "outputs": [
    {
     "name": "stdout",
     "output_type": "stream",
     "text": [
      "the bill amount is: 505\n",
      "the tip percentage is: 9\n",
      "the total bill is: 550.45\n"
     ]
    }
   ],
   "source": [
    "# 6)wap ask the user the bill amount and tip percentage\n",
    "#    take tip percentage as 10\n",
    "#   calculate total bill= bill amount+ bill amount*tip per/100\n",
    "#   var1: bill amount var2: tip amount\n",
    "#    formuale\n",
    "bill_amount=random.randint(500,1000)\n",
    "tip_per=random.randint(1,10)\n",
    "tip_amount=bill_amount*tip_per/100\n",
    "total_bill=bill_amount+tip_amount\n",
    "print(\"the bill amount is:\",bill_amount)\n",
    "print(\"the tip percentage is:\",tip_per)\n",
    "print(\"the total bill is:\",total_bill)"
   ]
  },
  {
   "cell_type": "code",
   "execution_count": 13,
   "id": "05296cfd-257f-4cb7-836b-2a07be44a67b",
   "metadata": {},
   "outputs": [
    {
     "name": "stdout",
     "output_type": "stream",
     "text": [
      "for breadth 3 and length 19 are is 57\n"
     ]
    }
   ],
   "source": [
    "# 7)wap ask the length and breadth of a rectangle calculate area\n",
    "#   var1: length  var2: breadth\n",
    "#   formulae: length * breadth\n",
    "length=random.randint(1,20)\n",
    "breadth=random.randint(1,10)\n",
    "area=length*breadth\n",
    "print(f\"for breadth {breadth} and length {length} are is {area}\")"
   ]
  },
  {
   "cell_type": "code",
   "execution_count": 14,
   "id": "d3021cba-4657-4512-80a9-8fed4c762ed8",
   "metadata": {},
   "outputs": [
    {
     "name": "stdout",
     "output_type": "stream",
     "text": [
      "the volumn of a sphere for radius 13 is: 6898.58\n"
     ]
    }
   ],
   "source": [
    "# 8) wap ask the user take the radius and calculate volume of sphere\n",
    "#   formulae: pi*r**3(pi*r*r*r)\n",
    "radius=random.randint(1,100)\n",
    "pi=3.14\n",
    "area=pi*radius**3\n",
    "print(f\"the volumn of a sphere for radius {radius} is: {area}\")"
   ]
  },
  {
   "cell_type": "code",
   "execution_count": 15,
   "id": "28634762-a89b-4699-85c7-b6e0a0b1e4bf",
   "metadata": {},
   "outputs": [
    {
     "name": "stdout",
     "output_type": "stream",
     "text": [
      "number of 3$=255INR\n"
     ]
    }
   ],
   "source": [
    "# 9) wap ask the user enter amount in dollars convert into rupees\n",
    "#     1$=85rs\n",
    "dollar=random.randint(1,100)\n",
    "rupees=dollar*85\n",
    "print(f\"number of {dollar}$={rupees}INR\")"
   ]
  },
  {
   "cell_type": "code",
   "execution_count": 17,
   "id": "668f77f9-61b8-4798-9eee-4bd5a2100be5",
   "metadata": {},
   "outputs": [
    {
     "name": "stdout",
     "output_type": "stream",
     "text": [
      "57Kg=125.4 pounds\n"
     ]
    }
   ],
   "source": [
    "\n",
    "# 10)wap ask the user enter weight in kgs convert into pounds\n",
    "#    1kg= 2.2pounds\n",
    "weight=random.randint(1,100)\n",
    "pounds=weight*2.2\n",
    "print(f\"{weight}Kg={pounds} pounds\")"
   ]
  },
  {
   "cell_type": "code",
   "execution_count": 18,
   "id": "1ea08fed-8213-4f2a-962d-bace78fa60d3",
   "metadata": {},
   "outputs": [
    {
     "name": "stdout",
     "output_type": "stream",
     "text": [
      "son: hi papa\n",
      "fa : hi beta\n",
      "son: im going to school\n",
      "fa: okay beta, i heared your results came out\n",
      "son: yes papa\n",
      "fa: then what about the result\n",
      "son: lets play a game i will give the marks you tell me the percentege\n",
      "fa: exited\n"
     ]
    }
   ],
   "source": [
    "\n",
    "print(\"son: hi papa\")\n",
    "print(\"fa : hi beta\")\n",
    "print(\"son: im going to school\")\n",
    "print(\"fa: okay beta, i heared your results came out\")\n",
    "print(\"son: yes papa\")\n",
    "print(\"fa: then what about the result\")\n",
    "print(\"son: lets play a game i will give the marks you tell me the percentege\")\n",
    "print(\"fa: exited\")"
   ]
  },
  {
   "cell_type": "code",
   "execution_count": 20,
   "id": "67f4f26c-46aa-4be5-bb77-fa917a9a9c85",
   "metadata": {},
   "outputs": [
    {
     "name": "stdout",
     "output_type": "stream",
     "text": [
      "son: hi papa\n",
      "fa : hi beta\n",
      "son: im going to school\n",
      "fa: okay beta, i heared your results came out\n",
      "son: yes papa\n",
      "fa: then what about the result\n",
      "son: lets play a game i will give the marks you tell me the percentege\n",
      "fa: exited\n",
      "Telugu: 68\n",
      "Hindi: 68\n",
      "Maths: 68\n",
      "sci: 68\n",
      "soc: 68\n",
      "percentage secure in exam: 78.8\n",
      "avg secure in exam: 78.8\n"
     ]
    }
   ],
   "source": [
    "import random\n",
    "import time\n",
    "\n",
    "print(\"son: hi papa\")\n",
    "time.sleep(2)\n",
    "print(\"fa : hi beta\")\n",
    "time.sleep(2)\n",
    "print(\"son: im going to school\")\n",
    "time.sleep(2)\n",
    "print(\"fa: okay beta, i heared your results came out\")\n",
    "time.sleep(2)\n",
    "print(\"son: yes papa\")\n",
    "time.sleep(2)\n",
    "print(\"fa: then what about the result\")\n",
    "time.sleep(2)\n",
    "print(\"son: lets play a game i will give the marks you tell me the percentege\")\n",
    "time.sleep(2)\n",
    "print(\"fa: exited\")\n",
    "time.sleep(2)\n",
    "\n",
    "Telugu= random.randrange(60,70)\n",
    "print(\"Telugu:\",Telugu)\n",
    "Hindi= random.randrange(70,80)\n",
    "print(\"Hindi:\",Hindi)\n",
    "Maths= random.randrange(80,90)\n",
    "print(\"Maths:\",Maths)\n",
    "sci= random.randrange(90,100)\n",
    "print(\"sci:\",sci)\n",
    "soc= random.randrange(75,80)\n",
    "print(\"soc:\",soc)\n",
    "time.sleep(5)\n",
    "per= (Telugu+Hindi+Maths+sci+soc)*100/500\n",
    "print(f\"percentage secure in exam:\",per)\n",
    "avg= (Telugu+Hindi+Maths+sci+soc)/5\n",
    "print(f\"avg secure in exam:\",avg)"
   ]
  },
  {
   "cell_type": "code",
   "execution_count": 21,
   "id": "862f9b16-7310-46a1-a9e4-f53fbc036c21",
   "metadata": {},
   "outputs": [
    {
     "name": "stdin",
     "output_type": "stream",
     "text": [
      "son : hi papa\n",
      "father : hi beta\n",
      "son : im going\n",
      "father : okay result\n",
      "son : game\n",
      "father : exited\n",
      "son : chalo\n",
      "father : reday\n"
     ]
    },
    {
     "name": "stdout",
     "output_type": "stream",
     "text": [
      "marks got in each subject : Marathi : 88, Hindi : 43, Eng : 54, Maths : 58, Soc :47\n",
      "Son got 58.0%.\n",
      "Son got 58%.\n",
      "Elapsed time : 46.439520597457886\n"
     ]
    }
   ],
   "source": [
    "# conversation between father and son\n",
    "start = time.time()\n",
    "input(\"son :\")\n",
    "input(\"father :\")\n",
    "input(\"son :\")\n",
    "input(\"father :\")\n",
    "input(\"son :\")\n",
    "input(\"father :\")\n",
    "input(\"son :\")\n",
    "input(\"father :\")\n",
    "\n",
    "# providing marks\n",
    "marathi = random.randint(35,100)\n",
    "hindi = random.randint(35,100)\n",
    "eng = random.randint(35,100)\n",
    "maths = random.randint(35,100)\n",
    "soc = random.randint(35,100)\n",
    "\n",
    "print(f\"marks got in each subject : Marathi : {marathi}, Hindi : {hindi}, Eng : {eng}, Maths : {maths}, Soc :{soc}\")\n",
    "\n",
    "time.sleep(5)\n",
    "\n",
    "total_marks = 100+100+100+100+100\n",
    "total_marks_got = marathi+hindi+eng+maths+soc\n",
    "marks_in_percentage = total_marks_got*100/total_marks\n",
    "print(f\"Son got {marks_in_percentage}%.\")\n",
    "print(f\"Son got {math.ceil(marks_in_percentage)}%.\")\n",
    "\n",
    "end = time.time()\n",
    "reqd_time = end - start\n",
    "print(f\"Elapsed time : {reqd_time}\")"
   ]
  },
  {
   "cell_type": "code",
   "execution_count": null,
   "id": "c844b510-c682-453b-a653-1b5beb748066",
   "metadata": {},
   "outputs": [],
   "source": []
  }
 ],
 "metadata": {
  "kernelspec": {
   "display_name": "Python 3 (ipykernel)",
   "language": "python",
   "name": "python3"
  },
  "language_info": {
   "codemirror_mode": {
    "name": "ipython",
    "version": 3
   },
   "file_extension": ".py",
   "mimetype": "text/x-python",
   "name": "python",
   "nbconvert_exporter": "python",
   "pygments_lexer": "ipython3",
   "version": "3.11.7"
  }
 },
 "nbformat": 4,
 "nbformat_minor": 5
}
