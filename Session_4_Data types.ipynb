{
 "cells": [
  {
   "cell_type": "markdown",
   "id": "9c1f74dc-0d73-4e1e-8879-16c93bcd56d2",
   "metadata": {},
   "source": [
    "## Data Types"
   ]
  },
  {
   "cell_type": "markdown",
   "id": "8c70efe2-b23b-4d82-8ed7-05146417b926",
   "metadata": {},
   "source": [
    "- integer : int\n",
    "\n",
    "- float\n",
    "\n",
    "- string\n",
    "\n",
    "- list\n",
    "\n",
    "- tuple\n",
    "\n",
    "- set\n",
    "\n",
    "    - frozen set\n",
    "\n",
    "- dictionary\n",
    "\n",
    "- bool\n",
    "\n",
    "- complex\n",
    "\n",
    "- range\n",
    "\n",
    "- byte\n",
    "\n",
    "- byte array\n",
    "\n",
    "- memory view\n",
    "\n",
    "- None type"
   ]
  },
  {
   "cell_type": "markdown",
   "id": "a03ff2ba-f04b-4299-81da-08dd8ba49d57",
   "metadata": {},
   "source": [
    "- myth\n",
    "\n",
    "    - only 14-15 data type available "
   ]
  },
  {
   "cell_type": "markdown",
   "id": "6422aba1-4fb4-4187-85d6-3382beb27db9",
   "metadata": {},
   "source": [
    "$integer$"
   ]
  },
  {
   "cell_type": "code",
   "execution_count": 1,
   "id": "ee11890a-be02-43b7-bbcb-71edcef17524",
   "metadata": {},
   "outputs": [
    {
     "data": {
      "text/plain": [
       "100"
      ]
     },
     "execution_count": 1,
     "metadata": {},
     "output_type": "execute_result"
    }
   ],
   "source": [
    "number=100\n",
    "number"
   ]
  },
  {
   "cell_type": "code",
   "execution_count": 3,
   "id": "dab2110a-9ea4-4b7a-aa98-81a859e6b0ce",
   "metadata": {},
   "outputs": [
    {
     "data": {
      "text/plain": [
       "int"
      ]
     },
     "execution_count": 3,
     "metadata": {},
     "output_type": "execute_result"
    }
   ],
   "source": [
    "type(number)"
   ]
  },
  {
   "cell_type": "markdown",
   "id": "88ce648e-fe0b-4e16-a67b-a23d83693e17",
   "metadata": {},
   "source": [
    "**numbers system**\n",
    "\n",
    "- Binary number system\n",
    "\n",
    "- Decimal number system\n",
    "\n",
    "- Octa number system\n",
    "\n",
    "- hexa number system"
   ]
  },
  {
   "cell_type": "code",
   "execution_count": 6,
   "id": "0b474231-7b9d-42b0-a285-50118128d88c",
   "metadata": {},
   "outputs": [
    {
     "data": {
      "text/plain": [
       "2025"
      ]
     },
     "execution_count": 6,
     "metadata": {},
     "output_type": "execute_result"
    }
   ],
   "source": [
    "9*9\n",
    "5*5\n",
    "81*25"
   ]
  },
  {
   "cell_type": "code",
   "execution_count": 8,
   "id": "c501c7e9-3304-403e-bc4c-d74db652085d",
   "metadata": {},
   "outputs": [
    {
     "data": {
      "text/plain": [
       "2025"
      ]
     },
     "execution_count": 8,
     "metadata": {},
     "output_type": "execute_result"
    }
   ],
   "source": [
    "40*40+20*20+5*5"
   ]
  },
  {
   "cell_type": "code",
   "execution_count": 9,
   "id": "de0ebd0f-e43d-4702-978e-f9fa4b5e9376",
   "metadata": {},
   "outputs": [
    {
     "data": {
      "text/plain": [
       "2025"
      ]
     },
     "execution_count": 9,
     "metadata": {},
     "output_type": "execute_result"
    }
   ],
   "source": [
    "sum([i**3 for i in range(1,10)])"
   ]
  },
  {
   "cell_type": "markdown",
   "id": "cc50790e-0532-47ca-a42e-eb1058213369",
   "metadata": {},
   "source": [
    "**Binary number system**\n",
    "\n",
    "- it is denoted with **0b**  or **0B**\n",
    "\n",
    "- Binary means two\n",
    "\n",
    "- we have generally 0 to 9 digits available \n",
    "\n",
    "- binary means only twi digits allowed : 0 and 1\n",
    "\n",
    "- ex: 0b101 0b111 0b000  0B001\n",
    "\n",
    "- not valid : 0b123   0B1000012"
   ]
  },
  {
   "cell_type": "code",
   "execution_count": 15,
   "id": "5e9c218d-ea7a-42b7-a2a4-17ca4ceaddb2",
   "metadata": {},
   "outputs": [
    {
     "data": {
      "text/plain": [
       "(7, 5)"
      ]
     },
     "execution_count": 15,
     "metadata": {},
     "output_type": "execute_result"
    }
   ],
   "source": [
    "0b111,0b101"
   ]
  },
  {
   "cell_type": "code",
   "execution_count": 14,
   "id": "e6e26e8e-57db-44d3-9c28-2965c8133785",
   "metadata": {},
   "outputs": [
    {
     "data": {
      "text/plain": [
       "29"
      ]
     },
     "execution_count": 14,
     "metadata": {},
     "output_type": "execute_result"
    }
   ],
   "source": [
    "0b11101"
   ]
  },
  {
   "cell_type": "code",
   "execution_count": null,
   "id": "37eff4c6-7953-48aa-b081-a9e7f3288ea6",
   "metadata": {},
   "outputs": [],
   "source": [
    "2^2   2^1    2^0\n",
    "4      2      1\n",
    "##################################\n",
    "0      0      0     0\n",
    "0      0      1     1\n",
    "0      1      0     2\n",
    "0      1      1     3\n",
    "1      0      0     4\n",
    "1      0      1     5\n",
    "1      1      0     6\n",
    "1      1      1     7"
   ]
  },
  {
   "cell_type": "code",
   "execution_count": null,
   "id": "7f5606ac-94cb-43b5-8485-9091a196ba7b",
   "metadata": {},
   "outputs": [],
   "source": [
    "2^3   2^2   2^1    2^0\n",
    "8     4      2      1\n",
    "    ##################################\n",
    "0   0      0      0     0\n",
    "0   0      0      1     1\n",
    "0   0      1      0     2\n",
    "0   0      1      1     3\n",
    "0   1      0      0     4\n",
    "0   1      0      1     5\n",
    "0   1      1      0     6\n",
    "0   1      1      1     7\n",
    "1   0      0      0     8\n",
    "1   0      0      1     9\n",
    "1   0      1      0     10\n",
    "1   0      1      1     11\n",
    "1   1      0      0     12\n",
    "1   1      0      1     13\n",
    "1   1      1      0     14\n",
    "1   1      1      1     15\n"
   ]
  },
  {
   "cell_type": "markdown",
   "id": "11ed2d8d-3a97-41c1-bc03-3a3076548c0b",
   "metadata": {},
   "source": [
    "**octa number system**\n",
    "\n",
    "- it is denoted with **0o**  or **0O**\n",
    "\n",
    "- octa means 8\n",
    "\n",
    "- we have generally 0 to 9 digits available \n",
    "\n",
    "- octa means only twi digits allowed : 0 1 2 3 4 5 6 7\n",
    "\n",
    "- ex: 0o567 0o111 0o001  0O672\n",
    "\n",
    "- not valid : 0o768   0O169"
   ]
  },
  {
   "cell_type": "code",
   "execution_count": 16,
   "id": "393f6664-7291-463f-982e-2e9e92514a08",
   "metadata": {},
   "outputs": [
    {
     "data": {
      "text/plain": [
       "83"
      ]
     },
     "execution_count": 16,
     "metadata": {},
     "output_type": "execute_result"
    }
   ],
   "source": [
    "0o123"
   ]
  },
  {
   "cell_type": "markdown",
   "id": "fe73a550-5448-4b5a-a289-5ef4b79956ec",
   "metadata": {},
   "source": [
    "**hexa number system**\n",
    "\n",
    "- it is denoted with **0x**  or **0X**\n",
    "\n",
    "- hexa means 16\n",
    "\n",
    "- we have generally 0 to 9 digits available \n",
    "\n",
    "- hexa means only twi digits allowed : 0 to 9 A to F\n",
    "\n",
    "- A: 10   B:11  C: 12  D: 13  E: 14  F:15\n",
    "\n",
    "- ex: 0xabc  0XA1\n",
    "\n",
    "- not valid : 0xefg   "
   ]
  },
  {
   "cell_type": "code",
   "execution_count": 17,
   "id": "8154e887-7232-44ba-9b78-6a895271bbe9",
   "metadata": {},
   "outputs": [
    {
     "data": {
      "text/plain": [
       "2748"
      ]
     },
     "execution_count": 17,
     "metadata": {},
     "output_type": "execute_result"
    }
   ],
   "source": [
    "0xabc"
   ]
  },
  {
   "cell_type": "markdown",
   "id": "d3f928c4-690c-48c0-8ee6-99710ba58fb7",
   "metadata": {},
   "source": [
    "**2025**\n",
    "\n",
    "- binary\n",
    "\n",
    "- oct\n",
    "\n",
    "- hexa"
   ]
  },
  {
   "cell_type": "code",
   "execution_count": 18,
   "id": "5a42f6f7-0ceb-45a1-969a-6313095e0d18",
   "metadata": {},
   "outputs": [
    {
     "data": {
      "text/plain": [
       "2025"
      ]
     },
     "execution_count": 18,
     "metadata": {},
     "output_type": "execute_result"
    }
   ],
   "source": [
    "0b11111101001"
   ]
  },
  {
   "cell_type": "code",
   "execution_count": 19,
   "id": "ce0e62be-3f43-4cb8-97f0-4d0db999e08d",
   "metadata": {},
   "outputs": [
    {
     "data": {
      "text/plain": [
       "2025"
      ]
     },
     "execution_count": 19,
     "metadata": {},
     "output_type": "execute_result"
    }
   ],
   "source": [
    "0b11111101001"
   ]
  },
  {
   "cell_type": "code",
   "execution_count": 22,
   "id": "4e850b12-10ae-41ff-9a5c-d1e3353c9b9b",
   "metadata": {},
   "outputs": [
    {
     "data": {
      "text/plain": [
       "(2025, 2025)"
      ]
     },
     "execution_count": 22,
     "metadata": {},
     "output_type": "execute_result"
    }
   ],
   "source": [
    "0X7E9,0o3751"
   ]
  },
  {
   "cell_type": "markdown",
   "id": "10b9644b-e785-4908-9b3a-557852e0d582",
   "metadata": {},
   "source": [
    "**float**"
   ]
  },
  {
   "cell_type": "code",
   "execution_count": 23,
   "id": "cbecc307-5895-4072-be86-358afa787a88",
   "metadata": {},
   "outputs": [
    {
     "data": {
      "text/plain": [
       "float"
      ]
     },
     "execution_count": 23,
     "metadata": {},
     "output_type": "execute_result"
    }
   ],
   "source": [
    "number=10.5\n",
    "type(number)"
   ]
  },
  {
   "cell_type": "markdown",
   "id": "767b548d-5116-40b2-b0ff-2787fab5607a",
   "metadata": {},
   "source": [
    "**e represntation**"
   ]
  },
  {
   "cell_type": "code",
   "execution_count": 24,
   "id": "5617ffdd-89ac-4a55-b0e3-35a1d92c4560",
   "metadata": {},
   "outputs": [
    {
     "data": {
      "text/plain": [
       "10.0"
      ]
     },
     "execution_count": 24,
     "metadata": {},
     "output_type": "execute_result"
    }
   ],
   "source": [
    "1e1"
   ]
  },
  {
   "cell_type": "code",
   "execution_count": 25,
   "id": "b0776a14-b66d-436c-a758-b02c3e5bb460",
   "metadata": {},
   "outputs": [
    {
     "data": {
      "text/plain": [
       "100.0"
      ]
     },
     "execution_count": 25,
     "metadata": {},
     "output_type": "execute_result"
    }
   ],
   "source": [
    "1e2"
   ]
  },
  {
   "cell_type": "code",
   "execution_count": 26,
   "id": "8849248c-964a-4101-9b4d-d99545cf8ccf",
   "metadata": {},
   "outputs": [
    {
     "data": {
      "text/plain": [
       "1000.0"
      ]
     },
     "execution_count": 26,
     "metadata": {},
     "output_type": "execute_result"
    }
   ],
   "source": [
    "1e3 # 1*1000"
   ]
  },
  {
   "cell_type": "code",
   "execution_count": 27,
   "id": "8a4f04bc-80b8-495a-a6c2-586633ff7073",
   "metadata": {},
   "outputs": [
    {
     "data": {
      "text/plain": [
       "20000.0"
      ]
     },
     "execution_count": 27,
     "metadata": {},
     "output_type": "execute_result"
    }
   ],
   "source": [
    "2e4   # 2* 10000"
   ]
  },
  {
   "cell_type": "code",
   "execution_count": null,
   "id": "6458c4dc-9203-48ea-be3a-9c7fcc1eebea",
   "metadata": {},
   "outputs": [],
   "source": [
    "1e1   # 1*10=10\n",
    "1e2   # 1*100=100\n",
    "2e3   # 2*1000=2000\n",
    "4e4   # 4*10000=40000"
   ]
  },
  {
   "cell_type": "code",
   "execution_count": 29,
   "id": "57393a4b-8397-4820-ba45-f52e4d916dfc",
   "metadata": {},
   "outputs": [
    {
     "name": "stdout",
     "output_type": "stream",
     "text": [
      "0.1\n",
      "0.01\n",
      "0.002\n",
      "0.0004\n"
     ]
    }
   ],
   "source": [
    "print(1e-1)   # 1/10=0.1\n",
    "print(1e-2)   # 1/100=0.01\n",
    "print(2e-3)   # 2/1000=0.002\n",
    "print(4e-4)   # 4/10000=0.0004"
   ]
  },
  {
   "cell_type": "code",
   "execution_count": null,
   "id": "47243850-f0fa-4097-a946-1d9ccfd5d365",
   "metadata": {},
   "outputs": [],
   "source": [
    "# integer data type\n",
    "# float data type"
   ]
  },
  {
   "cell_type": "markdown",
   "id": "9b053281-19c1-4acd-84e9-d54ad20e4555",
   "metadata": {},
   "source": [
    "**boolean**"
   ]
  },
  {
   "cell_type": "code",
   "execution_count": 1,
   "id": "2e509d02-f3b0-4b4b-a1ed-50c453f0efe6",
   "metadata": {},
   "outputs": [
    {
     "data": {
      "text/plain": [
       "True"
      ]
     },
     "execution_count": 1,
     "metadata": {},
     "output_type": "execute_result"
    }
   ],
   "source": [
    "val=True\n",
    "val"
   ]
  },
  {
   "cell_type": "code",
   "execution_count": 2,
   "id": "8b813c8b-994a-466b-8188-0fd14c45200b",
   "metadata": {},
   "outputs": [
    {
     "data": {
      "text/plain": [
       "bool"
      ]
     },
     "execution_count": 2,
     "metadata": {},
     "output_type": "execute_result"
    }
   ],
   "source": [
    "type(val)"
   ]
  },
  {
   "cell_type": "code",
   "execution_count": 3,
   "id": "d2025e4f-f1ac-4ec5-aa5e-bfa1b048089c",
   "metadata": {},
   "outputs": [
    {
     "data": {
      "text/plain": [
       "bool"
      ]
     },
     "execution_count": 3,
     "metadata": {},
     "output_type": "execute_result"
    }
   ],
   "source": [
    "val1=False\n",
    "type(val1)"
   ]
  },
  {
   "cell_type": "markdown",
   "id": "b5f68d8c-6d5a-4d92-9bc1-35d07734917e",
   "metadata": {},
   "source": [
    "**Strings**"
   ]
  },
  {
   "cell_type": "markdown",
   "id": "4a64c1c4-9eb3-4815-be2e-ec9b8eebf896",
   "metadata": {},
   "source": [
    "- English format representation\n",
    "\n",
    "- strings represent with quotes\n",
    "\n",
    "- we can use single quotes, double quotes also triple quotes"
   ]
  },
  {
   "cell_type": "code",
   "execution_count": 4,
   "id": "0918cb49-bbe4-42c8-8312-f45d3f85a900",
   "metadata": {},
   "outputs": [
    {
     "data": {
      "text/plain": [
       "'python'"
      ]
     },
     "execution_count": 4,
     "metadata": {},
     "output_type": "execute_result"
    }
   ],
   "source": [
    "name='python'\n",
    "name"
   ]
  },
  {
   "cell_type": "code",
   "execution_count": 5,
   "id": "0510e1fa-ed56-4c6c-b8a6-b5a8db5a3c98",
   "metadata": {},
   "outputs": [
    {
     "data": {
      "text/plain": [
       "str"
      ]
     },
     "execution_count": 5,
     "metadata": {},
     "output_type": "execute_result"
    }
   ],
   "source": [
    "type(name)"
   ]
  },
  {
   "cell_type": "code",
   "execution_count": 6,
   "id": "453b33cb-ca79-4a00-a130-f92e0414731c",
   "metadata": {},
   "outputs": [
    {
     "name": "stdout",
     "output_type": "stream",
     "text": [
      "python\n"
     ]
    }
   ],
   "source": [
    "print(name)\n",
    "# when we print we will not able to see the quotes"
   ]
  },
  {
   "cell_type": "code",
   "execution_count": 7,
   "id": "b8602c0c-c343-47f4-ad46-c797eed44040",
   "metadata": {},
   "outputs": [
    {
     "data": {
      "text/plain": [
       "str"
      ]
     },
     "execution_count": 7,
     "metadata": {},
     "output_type": "execute_result"
    }
   ],
   "source": [
    "val='10'\n",
    "type(val)"
   ]
  },
  {
   "cell_type": "code",
   "execution_count": 8,
   "id": "a01d4add-9e36-49ae-a114-fbe84a511ae9",
   "metadata": {},
   "outputs": [
    {
     "data": {
      "text/plain": [
       "int"
      ]
     },
     "execution_count": 8,
     "metadata": {},
     "output_type": "execute_result"
    }
   ],
   "source": [
    "val1=10\n",
    "type(val1)"
   ]
  },
  {
   "cell_type": "code",
   "execution_count": 9,
   "id": "c1b8a9d4-77e0-45f5-b512-f7f250a130ff",
   "metadata": {},
   "outputs": [
    {
     "data": {
      "text/plain": [
       "'naresh it'"
      ]
     },
     "execution_count": 9,
     "metadata": {},
     "output_type": "execute_result"
    }
   ],
   "source": [
    "name=\"naresh it\"\n",
    "name\n",
    "# but the output displayed as single quotes"
   ]
  },
  {
   "cell_type": "code",
   "execution_count": 10,
   "id": "b6012e76-9a81-4133-8fa6-a51ecbb00d97",
   "metadata": {},
   "outputs": [
    {
     "data": {
      "text/plain": [
       "str"
      ]
     },
     "execution_count": 10,
     "metadata": {},
     "output_type": "execute_result"
    }
   ],
   "source": [
    "type(name)"
   ]
  },
  {
   "cell_type": "code",
   "execution_count": 11,
   "id": "bf4bb1de-f0e1-4a4b-b093-0a21e2e2e5ef",
   "metadata": {},
   "outputs": [
    {
     "name": "stdout",
     "output_type": "stream",
     "text": [
      "naresh it\n"
     ]
    }
   ],
   "source": [
    "print(name)"
   ]
  },
  {
   "cell_type": "code",
   "execution_count": 14,
   "id": "f73156a5-e731-4aa2-b0c2-b8d8792eb4d4",
   "metadata": {},
   "outputs": [
    {
     "name": "stdout",
     "output_type": "stream",
     "text": [
      "i love 'python'\n"
     ]
    }
   ],
   "source": [
    "str1=\"i love 'python'\"\n",
    "print(str1)"
   ]
  },
  {
   "cell_type": "code",
   "execution_count": 15,
   "id": "4d52e8e8-0002-4eff-bc63-bdbaf25a84f2",
   "metadata": {},
   "outputs": [
    {
     "name": "stdout",
     "output_type": "stream",
     "text": [
      "i love \"python\"\n"
     ]
    }
   ],
   "source": [
    "str1='i love \"python\"'\n",
    "print(str1)"
   ]
  },
  {
   "cell_type": "markdown",
   "id": "80f2bd62-7c02-40a8-9214-77b0e396a224",
   "metadata": {},
   "source": [
    "- Keep entire string in Double quotes then highlite the word with single quote vice versa"
   ]
  },
  {
   "cell_type": "markdown",
   "id": "397e39c9-5430-4aa9-90bb-0058bc6b2384",
   "metadata": {},
   "source": [
    "**triple quotes**\n",
    "\n",
    "- triple quotes can not use in coding part\n",
    "\n",
    "- triple quotes means conveying the inforamtion\n",
    "\n",
    "- this is process is called as **Doc string**\n",
    "\n",
    "- in jupyter notebook we have markdown option\n",
    "\n",
    "- but in vscode or pycharm there is no markdown option\n",
    "\n",
    "- so user will convey the information by providing triple quotes"
   ]
  },
  {
   "cell_type": "code",
   "execution_count": null,
   "id": "d99bd7cb-9504-4b99-aab7-c591954e925f",
   "metadata": {},
   "outputs": [],
   "source": [
    "\"\"\"hai \n",
    "today im learning python\n",
    "its easy\"\"\""
   ]
  },
  {
   "cell_type": "code",
   "execution_count": null,
   "id": "9d0fc815-4169-4d1d-91a9-525785b8ee01",
   "metadata": {},
   "outputs": [],
   "source": [
    "true=True  # works\n",
    "true='True' # w\n",
    "true=10.5 # w\n",
    "True=10 # f \n",
    "True=True # f"
   ]
  },
  {
   "cell_type": "code",
   "execution_count": 16,
   "id": "de9a02df-7c33-4e42-b893-a92429a845aa",
   "metadata": {},
   "outputs": [
    {
     "ename": "SyntaxError",
     "evalue": "cannot assign to True (2941772833.py, line 1)",
     "output_type": "error",
     "traceback": [
      "\u001b[1;36m  Cell \u001b[1;32mIn[16], line 1\u001b[1;36m\u001b[0m\n\u001b[1;33m    True=10\u001b[0m\n\u001b[1;37m    ^\u001b[0m\n\u001b[1;31mSyntaxError\u001b[0m\u001b[1;31m:\u001b[0m cannot assign to True\n"
     ]
    }
   ],
   "source": [
    "True=10"
   ]
  },
  {
   "cell_type": "code",
   "execution_count": 17,
   "id": "3a324c91-689e-413a-b8a0-46728bf65b9b",
   "metadata": {},
   "outputs": [
    {
     "ename": "SyntaxError",
     "evalue": "cannot assign to True (2826156406.py, line 1)",
     "output_type": "error",
     "traceback": [
      "\u001b[1;36m  Cell \u001b[1;32mIn[17], line 1\u001b[1;36m\u001b[0m\n\u001b[1;33m    True=True\u001b[0m\n\u001b[1;37m    ^\u001b[0m\n\u001b[1;31mSyntaxError\u001b[0m\u001b[1;31m:\u001b[0m cannot assign to True\n"
     ]
    }
   ],
   "source": [
    "True=True"
   ]
  },
  {
   "cell_type": "code",
   "execution_count": null,
   "id": "b82cc4c3-eb98-49a3-8b9a-20429d2b87b5",
   "metadata": {},
   "outputs": [],
   "source": []
  }
 ],
 "metadata": {
  "kernelspec": {
   "display_name": "Python 3 (ipykernel)",
   "language": "python",
   "name": "python3"
  },
  "language_info": {
   "codemirror_mode": {
    "name": "ipython",
    "version": 3
   },
   "file_extension": ".py",
   "mimetype": "text/x-python",
   "name": "python",
   "nbconvert_exporter": "python",
   "pygments_lexer": "ipython3",
   "version": "3.11.7"
  }
 },
 "nbformat": 4,
 "nbformat_minor": 5
}
