{
 "cells": [
  {
   "cell_type": "code",
   "execution_count": null,
   "id": "e92673e7-f298-4214-9357-499bc896f335",
   "metadata": {},
   "outputs": [],
   "source": [
    "# wap take the radidus of a circle calculate area of the circle\n",
    "# var: radidus  var: pi=3.14\n",
    "# formuale: pi*radius*radius\n",
    "# print the answers using f string and format\n",
    "\n",
    "# wap take the breadth and height of a right angle triangle\n",
    "# calculate the area\n",
    "# var1: bredath  var2: height\n",
    "# formuale : 0.5*breadth*heigh\n",
    "\n",
    "# wap take the bill amount and tip amount\n",
    "# calculate total bill\n",
    "# var1: bill amount var2: tip amount\n",
    "# formuale\n",
    "\n",
    "# wap take the length and breadth of a rectangle calculate area\n",
    "# var1: length  var2: breadth\n",
    "# formulae: length * breadth"
   ]
  },
  {
   "cell_type": "code",
   "execution_count": null,
   "id": "6c7db1d9-26b4-4b93-93fd-b33a3bd9b6d5",
   "metadata": {},
   "outputs": [],
   "source": [
    "# if you are not able to do\n",
    "# take pen and book\n",
    "# 3rd \n",
    "# on the notes you need write that\n"
   ]
  },
  {
   "cell_type": "code",
   "execution_count": null,
   "id": "72f6973c-7f49-4578-8b35-b2f9e4abc708",
   "metadata": {},
   "outputs": [],
   "source": [
    "# wap take the radidus of a circle calculate area of the circle\n",
    "# var: radidus  var: pi=3.14\n",
    "# formuale: pi*radius*radius\n",
    "# print the answers using f string and format"
   ]
  },
  {
   "cell_type": "code",
   "execution_count": 2,
   "id": "4bb2dd57-1114-48cb-9383-068178b05bbd",
   "metadata": {},
   "outputs": [
    {
     "name": "stdout",
     "output_type": "stream",
     "text": [
      "the are of circle is : 1256.0\n"
     ]
    }
   ],
   "source": [
    "radius=20\n",
    "pi=3.14\n",
    "area=pi*radius*radius\n",
    "print(f\"the are of circle is : {area}\")"
   ]
  },
  {
   "cell_type": "code",
   "execution_count": 3,
   "id": "b26186b7-2517-4538-a66b-179a85d8f40c",
   "metadata": {},
   "outputs": [
    {
     "name": "stdout",
     "output_type": "stream",
     "text": [
      "the area of Right angle triangle is : 400.0\n"
     ]
    }
   ],
   "source": [
    "# wap take the breadth and height of a right angle triangle\n",
    "# calculate the area\n",
    "# var1: bredath  var2: height\n",
    "# formuale : 0.5*breadth*heigh\n",
    "\n",
    "breadth=20\n",
    "height=40\n",
    "area=0.5*breadth*height\n",
    "print(f\"the area of Right angle triangle is : {area}\")"
   ]
  },
  {
   "cell_type": "code",
   "execution_count": 4,
   "id": "dbc366d9-f0b7-469b-a2fc-4db26fd3c620",
   "metadata": {},
   "outputs": [
    {
     "data": {
      "text/plain": [
       "1200"
      ]
     },
     "execution_count": 4,
     "metadata": {},
     "output_type": "execute_result"
    }
   ],
   "source": [
    "# wap take the bill amount and tip amount\n",
    "# calculate total bill\n",
    "# var1: bill amount var2: tip amount\n",
    "# formuale\n",
    "bill_amount=1000\n",
    "tip_amount=200\n",
    "total_bill=bill_amount+tip_amount\n",
    "total_bill"
   ]
  },
  {
   "cell_type": "code",
   "execution_count": 5,
   "id": "44d8c083-6575-4675-9a7e-c1505261e123",
   "metadata": {},
   "outputs": [
    {
     "name": "stdout",
     "output_type": "stream",
     "text": [
      "the area of rectangle is : 800\n"
     ]
    }
   ],
   "source": [
    "# wap take the length and breadth of a rectangle calculate area\n",
    "# var1: length  var2: breadth\n",
    "# formulae: length * breadth\n",
    "breadth=20\n",
    "height=40\n",
    "area=breadth*height\n",
    "print(f\"the area of rectangle is : {area}\")"
   ]
  },
  {
   "cell_type": "code",
   "execution_count": null,
   "id": "ecc1f3cd-4f28-4ba5-b4eb-4604c6cb5aa3",
   "metadata": {},
   "outputs": [],
   "source": [
    "radius=20\n",
    "pi=3.14\n",
    "\n",
    "breadth=20\n",
    "height=40\n",
    "\n",
    "bill_amount=1000\n",
    "tip_amount=200"
   ]
  },
  {
   "cell_type": "markdown",
   "id": "15c1451d-4fd5-481c-ade0-6350e5b1c4b1",
   "metadata": {},
   "source": [
    "**input**\n",
    "\n",
    "- in above we provided the value\n",
    "\n",
    "- input is the inbuilt function\n",
    "\n",
    "- using input the user can provide any value"
   ]
  },
  {
   "cell_type": "code",
   "execution_count": 6,
   "id": "4f6f429c-d451-4b47-8d12-846929e4e9ca",
   "metadata": {},
   "outputs": [
    {
     "data": {
      "text/plain": [
       "<bound method Kernel.raw_input of <ipykernel.ipkernel.IPythonKernel object at 0x000001CCCF31AFD0>>"
      ]
     },
     "execution_count": 6,
     "metadata": {},
     "output_type": "execute_result"
    }
   ],
   "source": [
    "input"
   ]
  },
  {
   "cell_type": "markdown",
   "id": "487447ec-9546-4724-9618-27bda0728864",
   "metadata": {},
   "source": [
    "**note:whenerver if we see bound method or function which indicates we forgot the brackets**"
   ]
  },
  {
   "cell_type": "code",
   "execution_count": 8,
   "id": "5f1d3f76-9be7-4b87-bb97-c575e1e49990",
   "metadata": {},
   "outputs": [
    {
     "name": "stdin",
     "output_type": "stream",
     "text": [
      " 100\n"
     ]
    },
    {
     "data": {
      "text/plain": [
       "'100'"
      ]
     },
     "execution_count": 8,
     "metadata": {},
     "output_type": "execute_result"
    }
   ],
   "source": [
    "input()"
   ]
  },
  {
   "cell_type": "code",
   "execution_count": 9,
   "id": "7ea607c4-4da1-4f2c-91dd-9defe177eec0",
   "metadata": {},
   "outputs": [
    {
     "name": "stdin",
     "output_type": "stream",
     "text": [
      " python\n"
     ]
    },
    {
     "data": {
      "text/plain": [
       "'python'"
      ]
     },
     "execution_count": 9,
     "metadata": {},
     "output_type": "execute_result"
    }
   ],
   "source": [
    "input()"
   ]
  },
  {
   "cell_type": "code",
   "execution_count": 10,
   "id": "703de792-db72-412a-8ea8-42d28a809e4d",
   "metadata": {},
   "outputs": [
    {
     "data": {
      "text/plain": [
       "int"
      ]
     },
     "execution_count": 10,
     "metadata": {},
     "output_type": "execute_result"
    }
   ],
   "source": [
    "a=100\n",
    "type(a)"
   ]
  },
  {
   "cell_type": "code",
   "execution_count": 11,
   "id": "12be8702-6432-41a8-9ed5-936da6368b12",
   "metadata": {},
   "outputs": [
    {
     "name": "stdin",
     "output_type": "stream",
     "text": [
      " 200\n"
     ]
    }
   ],
   "source": [
    "b=input()"
   ]
  },
  {
   "cell_type": "code",
   "execution_count": 12,
   "id": "ed73895f-5c46-4f6a-9a30-5fc735380271",
   "metadata": {},
   "outputs": [
    {
     "data": {
      "text/plain": [
       "'200'"
      ]
     },
     "execution_count": 12,
     "metadata": {},
     "output_type": "execute_result"
    }
   ],
   "source": [
    "b"
   ]
  },
  {
   "cell_type": "code",
   "execution_count": 13,
   "id": "fba1ec08-8c79-405f-94a6-a6f5c4d6eaf3",
   "metadata": {},
   "outputs": [
    {
     "data": {
      "text/plain": [
       "'python'"
      ]
     },
     "execution_count": 13,
     "metadata": {},
     "output_type": "execute_result"
    }
   ],
   "source": [
    "name=\"python\"\n",
    "name"
   ]
  },
  {
   "cell_type": "code",
   "execution_count": 14,
   "id": "9109f616-1c1f-47a2-8173-951365ca909f",
   "metadata": {},
   "outputs": [
    {
     "name": "stdin",
     "output_type": "stream",
     "text": [
      " nareshit\n"
     ]
    }
   ],
   "source": [
    "name=input()"
   ]
  },
  {
   "cell_type": "code",
   "execution_count": 15,
   "id": "8d08ad7e-8ff9-4218-ba20-fbf05d8e413f",
   "metadata": {},
   "outputs": [
    {
     "data": {
      "text/plain": [
       "'nareshit'"
      ]
     },
     "execution_count": 15,
     "metadata": {},
     "output_type": "execute_result"
    }
   ],
   "source": [
    "name"
   ]
  },
  {
   "cell_type": "code",
   "execution_count": 17,
   "id": "263ef6f1-c8dc-49ba-b284-1fa335bb57c4",
   "metadata": {},
   "outputs": [
    {
     "name": "stdin",
     "output_type": "stream",
     "text": [
      " 100\n",
      " 200\n",
      " 300\n"
     ]
    }
   ],
   "source": [
    "n1=input()  # n1='100'\n",
    "n2=input()  # n2= '200'\n",
    "n3=input() # n3='300'"
   ]
  },
  {
   "cell_type": "code",
   "execution_count": 18,
   "id": "6eb3ac71-5e04-4a5d-9c76-ce0f0475f819",
   "metadata": {},
   "outputs": [
    {
     "data": {
      "text/plain": [
       "('100', '200', '300')"
      ]
     },
     "execution_count": 18,
     "metadata": {},
     "output_type": "execute_result"
    }
   ],
   "source": [
    "n1,n2,n3"
   ]
  },
  {
   "cell_type": "code",
   "execution_count": 22,
   "id": "1d519c5e-e539-4205-88dc-1e0da93ea3ab",
   "metadata": {},
   "outputs": [
    {
     "name": "stdin",
     "output_type": "stream",
     "text": [
      "enter the number1: 100\n",
      "enter the number2: 200\n"
     ]
    }
   ],
   "source": [
    "n1=input(\"enter the number1:\")\n",
    "n2=input(\"enter the number2:\")\n",
    "\n",
    "#n1='100'\n",
    "#n2='200'"
   ]
  },
  {
   "cell_type": "code",
   "execution_count": 26,
   "id": "17cfe5ee-5980-485e-be74-49a58a202548",
   "metadata": {},
   "outputs": [
    {
     "name": "stdin",
     "output_type": "stream",
     "text": [
      "enter the number1: 500\n",
      "enter the number2: 600\n"
     ]
    },
    {
     "data": {
      "text/plain": [
       "'500600'"
      ]
     },
     "execution_count": 26,
     "metadata": {},
     "output_type": "execute_result"
    }
   ],
   "source": [
    "n1=input(\"enter the number1:\") # n1='500'\n",
    "n2=input(\"enter the number2:\") # n2='600'\n",
    "n1+n2 # '500'+'600'='500600'"
   ]
  },
  {
   "cell_type": "markdown",
   "id": "dc148e49-a8a4-43a4-81af-f3d60304e5e7",
   "metadata": {},
   "source": [
    "**input values by default string type**"
   ]
  },
  {
   "cell_type": "code",
   "execution_count": 24,
   "id": "422c691b-4a34-4b5a-b867-e0ddf4e72f0c",
   "metadata": {},
   "outputs": [
    {
     "data": {
      "text/plain": [
       "'100200'"
      ]
     },
     "execution_count": 24,
     "metadata": {},
     "output_type": "execute_result"
    }
   ],
   "source": [
    "'100'+'200'"
   ]
  },
  {
   "cell_type": "code",
   "execution_count": 25,
   "id": "68102658-f0c7-45d1-8559-0655b62d9e1c",
   "metadata": {},
   "outputs": [
    {
     "data": {
      "text/plain": [
       "300"
      ]
     },
     "execution_count": 25,
     "metadata": {},
     "output_type": "execute_result"
    }
   ],
   "source": [
    "100+200"
   ]
  },
  {
   "cell_type": "code",
   "execution_count": 27,
   "id": "490e7633-78a6-4acb-bcb8-f6edc26f2490",
   "metadata": {},
   "outputs": [
    {
     "data": {
      "text/plain": [
       "'appleisfruite'"
      ]
     },
     "execution_count": 27,
     "metadata": {},
     "output_type": "execute_result"
    }
   ],
   "source": [
    "str1='apple'\n",
    "str2='is'\n",
    "str3='fruite'\n",
    "str1+str2+str3"
   ]
  },
  {
   "cell_type": "code",
   "execution_count": 31,
   "id": "1acd57a1-c035-4193-adc6-0e5cfe5e4817",
   "metadata": {},
   "outputs": [
    {
     "name": "stdin",
     "output_type": "stream",
     "text": [
      "enter a string1:  apple     \n",
      "enter a string2: is   \n",
      "enter a string3:   fruite   \n"
     ]
    },
    {
     "data": {
      "text/plain": [
       "' apple     is     fruite   '"
      ]
     },
     "execution_count": 31,
     "metadata": {},
     "output_type": "execute_result"
    }
   ],
   "source": [
    "str1=input(\"enter a string1:\")\n",
    "str2=input(\"enter a string2:\")\n",
    "str3=input(\"enter a string3:\")\n",
    "str1+str2+str3"
   ]
  },
  {
   "cell_type": "code",
   "execution_count": 33,
   "id": "4e55124a-4da5-447a-8bed-ad7c6abbe0e5",
   "metadata": {},
   "outputs": [
    {
     "name": "stdin",
     "output_type": "stream",
     "text": [
      "enter the number1: 500\n",
      "enter the number2: 600\n"
     ]
    },
    {
     "data": {
      "text/plain": [
       "1100"
      ]
     },
     "execution_count": 33,
     "metadata": {},
     "output_type": "execute_result"
    }
   ],
   "source": [
    "n1=int(input(\"enter the number1:\")) # n1=int('500')=500\n",
    "n2=int(input(\"enter the number2:\")) # n2=int('600')=600\n",
    "n1+n2 # 500+600=1100"
   ]
  },
  {
   "cell_type": "code",
   "execution_count": 32,
   "id": "2680e99f-e572-4408-9a51-da0c40e88545",
   "metadata": {},
   "outputs": [
    {
     "data": {
      "text/plain": [
       "1100"
      ]
     },
     "execution_count": 32,
     "metadata": {},
     "output_type": "execute_result"
    }
   ],
   "source": [
    "n1=int('500')\n",
    "n2=int('600')\n",
    "n1+n2"
   ]
  },
  {
   "cell_type": "code",
   "execution_count": 34,
   "id": "483371c9-618d-40d7-8593-215b4de83458",
   "metadata": {},
   "outputs": [
    {
     "name": "stdin",
     "output_type": "stream",
     "text": [
      "enter the number1: 500\n",
      "enter the number2: 600\n"
     ]
    },
    {
     "data": {
      "text/plain": [
       "1100"
      ]
     },
     "execution_count": 34,
     "metadata": {},
     "output_type": "execute_result"
    }
   ],
   "source": [
    "n1=input(\"enter the number1:\") # n1='500'\n",
    "n2=input(\"enter the number2:\") # n2='600'\n",
    "int(n1)+int(n2) # int('500')+int('600')=500+600=1100"
   ]
  },
  {
   "cell_type": "code",
   "execution_count": null,
   "id": "53fb728d-7626-4700-9842-1444757946d9",
   "metadata": {},
   "outputs": [],
   "source": [
    "n1=int(input(\"enter the number1:\")) # n1=int('500')=500\n",
    "n2=int(input(\"enter the number2:\")) # n2=int('600')=600\n",
    "n1+n2 # 500+600=1100\n",
    "\n",
    "n1=input(\"enter the number1:\") # n1='500'\n",
    "n2=input(\"enter the number2:\") # n2='600'\n",
    "int(n1)+int(n2) # int('500')+int('600')=500+600=1100"
   ]
  },
  {
   "cell_type": "code",
   "execution_count": 36,
   "id": "40519202-4dc2-45c6-a4fb-a8cf4cb0dd10",
   "metadata": {},
   "outputs": [
    {
     "name": "stdin",
     "output_type": "stream",
     "text": [
      "enter the number1: 10.5\n",
      "enter the number2: 10\n"
     ]
    },
    {
     "data": {
      "text/plain": [
       "20.5"
      ]
     },
     "execution_count": 36,
     "metadata": {},
     "output_type": "execute_result"
    }
   ],
   "source": [
    "n1=float(input(\"enter the number1:\")) \n",
    "n2=int(input(\"enter the number2:\")) \n",
    "n1+n2"
   ]
  },
  {
   "cell_type": "markdown",
   "id": "b860f702-3ce0-4be0-839d-ad3fb7f899d1",
   "metadata": {},
   "source": [
    "**eval**\n",
    "\n",
    "- eval means evaluate\n",
    "\n",
    "- it is related to math family\n",
    "\n",
    "- which means it works only number represnt as strings\n",
    "\n",
    "- it will not works on english letters\n",
    "\n",
    "- eval will convert the repective data type which is user enter\n",
    "\n",
    "- if user enter 10 in quotes it will convert into 10\n",
    "\n",
    "- if user enter 10.5 in quotes it will conver into 10.5"
   ]
  },
  {
   "cell_type": "code",
   "execution_count": null,
   "id": "09ecde61-9967-48f0-ae9e-17a9e7f21b8b",
   "metadata": {},
   "outputs": [],
   "source": [
    "int('10')  # 10\n",
    "int('10.5') # error\n",
    "\n",
    "float('10') # 10.0 \n",
    "float('10.5') # 10.5"
   ]
  },
  {
   "cell_type": "code",
   "execution_count": 37,
   "id": "d071caf0-be74-4a71-a462-b6ba155ec772",
   "metadata": {},
   "outputs": [
    {
     "data": {
      "text/plain": [
       "(10, 10.5)"
      ]
     },
     "execution_count": 37,
     "metadata": {},
     "output_type": "execute_result"
    }
   ],
   "source": [
    "eval('10'),eval('10.5')"
   ]
  },
  {
   "cell_type": "code",
   "execution_count": 40,
   "id": "0f21ad3e-b636-4989-a1e1-e8363e84c46e",
   "metadata": {},
   "outputs": [
    {
     "name": "stdin",
     "output_type": "stream",
     "text": [
      "enter the number1: 10\n",
      "enter the number2: 20.5\n"
     ]
    },
    {
     "data": {
      "text/plain": [
       "30.5"
      ]
     },
     "execution_count": 40,
     "metadata": {},
     "output_type": "execute_result"
    }
   ],
   "source": [
    "n1=eval(input(\"enter the number1:\")) \n",
    "n2=eval(input(\"enter the number2:\")) \n",
    "n1+n2 \n"
   ]
  },
  {
   "cell_type": "code",
   "execution_count": null,
   "id": "62361287-bda6-4db0-966b-d05510fa6ce4",
   "metadata": {},
   "outputs": [],
   "source": [
    "# 1)wap ask the user enter 3 numbers n1,n2,n3 from ketboard\n",
    "# calculate average\n",
    "\n",
    "# 2)wap ask the user enter name age city\n",
    "# print my name is python im 10 years old and came from hyd\n",
    "\n",
    "# 3)wap ask the user to enter radidus of a circle calculate area of the circle\n",
    "# var: radidus  var: pi=3.14\n",
    "# formuale: pi*radius*radius\n",
    "# print the answers using f string and format\n",
    "\n",
    "# 4)wap ask the user enter breadth and height of a right angle triangle\n",
    "# calculate the area\n",
    "# var1: bredath  var2: height\n",
    "# formuale : 0.5*breadth*heigh\n",
    "\n",
    "# 5)wap ask the user the bill amount and tip amount\n",
    "#   calculate total bill\n",
    "#   var1: bill amount var2: tip amount\n",
    "#   formuale\n",
    "\n",
    "# 6)wap ask the user the bill amount and tip percentage\n",
    "#    take tip percentage as 10\n",
    "#   calculate total bill= bill amount+ bill amount*tip per/100\n",
    "#   var1: bill amount var2: tip amount\n",
    "#    formuale\n",
    "\n",
    "# 7)wap ask the length and breadth of a rectangle calculate area\n",
    "#   var1: length  var2: breadth\n",
    "#   formulae: length * breadth\n",
    "\n",
    "# 8) wap ask the user take the radius and calculate volume of sphere\n",
    "#   formulae: pi*r**3(pi*r*r*r)\n",
    "\n",
    "# 9) wap ask the user enter amount in dollars convert into rupees\n",
    "#     1$=85rs\n",
    "\n",
    "# 10)wap ask the user enter weight in kgs convert into pounds\n",
    "#    1kg= 2.2pounds\n"
   ]
  },
  {
   "cell_type": "code",
   "execution_count": null,
   "id": "db130988-0108-4a2c-b38c-1d529b2e6f4a",
   "metadata": {},
   "outputs": [],
   "source": [
    "- strings or english does not require eval\n",
    "\n",
    "- avg= eval(n1+n2+n3)"
   ]
  }
 ],
 "metadata": {
  "kernelspec": {
   "display_name": "Python 3 (ipykernel)",
   "language": "python",
   "name": "python3"
  },
  "language_info": {
   "codemirror_mode": {
    "name": "ipython",
    "version": 3
   },
   "file_extension": ".py",
   "mimetype": "text/x-python",
   "name": "python",
   "nbconvert_exporter": "python",
   "pygments_lexer": "ipython3",
   "version": "3.11.7"
  }
 },
 "nbformat": 4,
 "nbformat_minor": 5
}
