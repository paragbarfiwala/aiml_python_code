{
 "cells": [
  {
   "cell_type": "markdown",
   "id": "d604e867-a198-4b09-b25a-0c33c69a958e",
   "metadata": {},
   "source": [
    "## Conditional statements\n",
    "\n",
    "- Conditional statements are used to execute the code based on some condition\n",
    "\n",
    "- assume a statement\n",
    "\n",
    "    - if rain comes i will stay at hostel\n",
    "\n",
    "    - if rain comes i will stay at hostel otherwise i will go to play cricket\n",
    "\n",
    "    - if rain comes i will stay at hostel otherwise i will go to ground but if omkar sir call i will go to NareshIT\n",
    "\n",
    "\n",
    "- if rain comes i will stay at hostel else i will go to play cricket\n",
    "\n",
    "- **if**\n",
    "\n",
    "- **if-else**\n",
    "\n",
    "- **if-elif-else**"
   ]
  },
  {
   "cell_type": "markdown",
   "id": "acf5a418-aa04-4d6e-b326-8e1b57751c2a",
   "metadata": {},
   "source": [
    "**case-1:if**"
   ]
  },
  {
   "cell_type": "code",
   "execution_count": null,
   "id": "2553b322-8d91-4b4f-a371-f9f75a97a336",
   "metadata": {},
   "outputs": [],
   "source": [
    "if <condition>:\n",
    "    # write your code here\n",
    "\n",
    "# whenever the condition is True\n",
    "# then python will go iside the if area then the lines will be execute"
   ]
  },
  {
   "cell_type": "code",
   "execution_count": 1,
   "id": "e189e7f2-5549-4e3d-af34-f51c03d07a92",
   "metadata": {},
   "outputs": [
    {
     "name": "stdout",
     "output_type": "stream",
     "text": [
      "False\n",
      "True\n",
      "False\n",
      "False\n",
      "True\n",
      "True\n"
     ]
    }
   ],
   "source": [
    "num=10 # assignment 10 is a value stored in a variable name\n",
    "print(num==100)# F # condition check num value equla to 10 or not\n",
    "print(num==10) # T\n",
    "print(num>10) # F\n",
    "print(num<10) # F\n",
    "print(num>=10) # T\n",
    "print(num<=10) # T"
   ]
  },
  {
   "cell_type": "code",
   "execution_count": 4,
   "id": "50f19975-be97-4480-9f0e-0fc5b0123773",
   "metadata": {},
   "outputs": [
    {
     "name": "stdout",
     "output_type": "stream",
     "text": [
      "hello\n"
     ]
    }
   ],
   "source": [
    "if 100>10:\n",
    "    print('hello')\n",
    "\n",
    "# step-1: 100>10  True \n",
    "# step-2: hello"
   ]
  },
  {
   "cell_type": "markdown",
   "id": "5a8f4f29-687c-406c-866d-12edb7718bd5",
   "metadata": {},
   "source": [
    "**mistake-1**\n",
    "\n",
    "**indentation error**\n",
    "\n",
    "- whenver a line startws with keyword at last : will be there\n",
    "\n",
    "- whenever : there then we have indenatation "
   ]
  },
  {
   "cell_type": "code",
   "execution_count": 10,
   "id": "1aacac6e-0fc7-4f73-8ac1-fffb2ddc17b9",
   "metadata": {},
   "outputs": [
    {
     "name": "stdout",
     "output_type": "stream",
     "text": [
      "hello\n"
     ]
    }
   ],
   "source": [
    "if 100>10:\n",
    "    print('hello')"
   ]
  },
  {
   "cell_type": "markdown",
   "id": "1194586d-951b-40d3-8dde-82cb19986b6f",
   "metadata": {},
   "source": [
    "**mistake-2**\n"
   ]
  },
  {
   "cell_type": "code",
   "execution_count": 11,
   "id": "dff1c693-d3d5-4657-8fd9-7ada72fa8555",
   "metadata": {},
   "outputs": [
    {
     "ename": "SyntaxError",
     "evalue": "expected ':' (4081822489.py, line 1)",
     "output_type": "error",
     "traceback": [
      "\u001b[1;36m  Cell \u001b[1;32mIn[11], line 1\u001b[1;36m\u001b[0m\n\u001b[1;33m    if 100>10\u001b[0m\n\u001b[1;37m             ^\u001b[0m\n\u001b[1;31mSyntaxError\u001b[0m\u001b[1;31m:\u001b[0m expected ':'\n"
     ]
    }
   ],
   "source": [
    "if 100>10\n",
    "    print('hello')"
   ]
  },
  {
   "cell_type": "code",
   "execution_count": 12,
   "id": "e7c48ae6-0984-483e-a332-0590baa498a5",
   "metadata": {},
   "outputs": [],
   "source": [
    "if 100<10:\n",
    "    print('hello')\n",
    "\n",
    "# step-1: 100<10  False"
   ]
  },
  {
   "cell_type": "code",
   "execution_count": 13,
   "id": "018e4fbc-858c-4714-a5ea-39d67c3da496",
   "metadata": {},
   "outputs": [
    {
     "data": {
      "text/plain": [
       "True"
      ]
     },
     "execution_count": 13,
     "metadata": {},
     "output_type": "execute_result"
    }
   ],
   "source": [
    "100>10"
   ]
  },
  {
   "cell_type": "code",
   "execution_count": 14,
   "id": "1796f990-8480-418d-bf75-cc144520453b",
   "metadata": {},
   "outputs": [
    {
     "name": "stdout",
     "output_type": "stream",
     "text": [
      "hello\n"
     ]
    }
   ],
   "source": [
    "if True:\n",
    "    print('hello')"
   ]
  },
  {
   "cell_type": "code",
   "execution_count": 15,
   "id": "a1dd59e5-8f31-4707-9cff-b05347b8df3c",
   "metadata": {},
   "outputs": [],
   "source": [
    "if False:\n",
    "    print('hello')"
   ]
  },
  {
   "cell_type": "code",
   "execution_count": 17,
   "id": "839ff3b4-df9f-4e3e-b285-452c91d24451",
   "metadata": {},
   "outputs": [
    {
     "data": {
      "text/plain": [
       "True"
      ]
     },
     "execution_count": 17,
     "metadata": {},
     "output_type": "execute_result"
    }
   ],
   "source": [
    "bool(100)"
   ]
  },
  {
   "cell_type": "code",
   "execution_count": 18,
   "id": "20452537-0892-48d2-bdcb-0b9074f9a9ed",
   "metadata": {},
   "outputs": [
    {
     "name": "stdout",
     "output_type": "stream",
     "text": [
      "hello\n",
      "hello\n",
      "hello\n"
     ]
    }
   ],
   "source": [
    "if bool(100):\n",
    "    print('hello')\n",
    "\n",
    "if 100>10:\n",
    "    print('hello')\n",
    "\n",
    "if True:\n",
    "    print('hello')"
   ]
  },
  {
   "cell_type": "code",
   "execution_count": 21,
   "id": "e44d9f61-eb2d-4bfa-a8d6-65babc304d63",
   "metadata": {},
   "outputs": [
    {
     "name": "stdout",
     "output_type": "stream",
     "text": [
      "hello\n",
      "hai\n",
      "im with condition bye\n",
      "im with out condition bye\n"
     ]
    }
   ],
   "source": [
    "#######################\n",
    "if 100>10:\n",
    "    print('hello')\n",
    "    print('hai')\n",
    "    print('im with condition bye')\n",
    "##########################\n",
    "print('im with out condition bye')"
   ]
  },
  {
   "cell_type": "code",
   "execution_count": 22,
   "id": "49d443cb-b7b8-459d-b8e1-bada400c924f",
   "metadata": {},
   "outputs": [
    {
     "data": {
      "text/plain": [
       "True"
      ]
     },
     "execution_count": 22,
     "metadata": {},
     "output_type": "execute_result"
    }
   ],
   "source": [
    "100>10  # mask\n",
    "True    # face"
   ]
  },
  {
   "cell_type": "code",
   "execution_count": 23,
   "id": "47037ba4-4fca-408e-8ae0-394879a2d0f9",
   "metadata": {},
   "outputs": [
    {
     "name": "stdout",
     "output_type": "stream",
     "text": [
      "im with out condition bye\n"
     ]
    }
   ],
   "source": [
    "#######################\n",
    "if 100<10:\n",
    "    print('hello')\n",
    "    print('hai')\n",
    "    print('im with condition bye')\n",
    "##########################\n",
    "print('im with out condition bye')"
   ]
  },
  {
   "cell_type": "code",
   "execution_count": 24,
   "id": "14ffcbf7-6aef-41c9-9cfa-a31a99142ccf",
   "metadata": {},
   "outputs": [
    {
     "name": "stdout",
     "output_type": "stream",
     "text": [
      "1\n",
      "2\n",
      "im with out condition bye\n"
     ]
    }
   ],
   "source": [
    "print(1)\n",
    "print(2)\n",
    "#######################\n",
    "if 100<10:\n",
    "    print('hello')\n",
    "    print('hai')\n",
    "    print('im with condition bye')\n",
    "##########################\n",
    "print('im with out condition bye')"
   ]
  },
  {
   "cell_type": "code",
   "execution_count": 25,
   "id": "c786f96b-b6cd-4006-8d94-8eade6e3e46b",
   "metadata": {},
   "outputs": [
    {
     "name": "stdout",
     "output_type": "stream",
     "text": [
      "hello\n",
      "hai\n",
      "im with condition bye\n",
      "1\n",
      "2\n",
      "im with out condition bye\n"
     ]
    }
   ],
   "source": [
    "if 100>10:\n",
    "    print('hello')\n",
    "    print('hai')\n",
    "    print('im with condition bye')\n",
    "##########################\n",
    "print(1)\n",
    "print(2)\n",
    "#######################\n",
    "if 100<10:\n",
    "    print('hello')\n",
    "    print('hai')\n",
    "    print('im with condition bye')\n",
    "##########################\n",
    "print('im with out condition bye')"
   ]
  },
  {
   "cell_type": "code",
   "execution_count": null,
   "id": "9510513c-208e-41c9-85dc-2e92e878f21b",
   "metadata": {},
   "outputs": [],
   "source": []
  }
 ],
 "metadata": {
  "kernelspec": {
   "display_name": "Python 3 (ipykernel)",
   "language": "python",
   "name": "python3"
  },
  "language_info": {
   "codemirror_mode": {
    "name": "ipython",
    "version": 3
   },
   "file_extension": ".py",
   "mimetype": "text/x-python",
   "name": "python",
   "nbconvert_exporter": "python",
   "pygments_lexer": "ipython3",
   "version": "3.11.7"
  }
 },
 "nbformat": 4,
 "nbformat_minor": 5
}
