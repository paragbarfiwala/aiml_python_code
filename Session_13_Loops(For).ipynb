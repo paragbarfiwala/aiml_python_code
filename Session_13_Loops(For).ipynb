{
 "cells": [
  {
   "cell_type": "code",
   "execution_count": 1,
   "id": "ee873c36-b52c-4bc6-ae36-00c5af0bed6b",
   "metadata": {},
   "outputs": [
    {
     "name": "stdin",
     "output_type": "stream",
     "text": [
      "enter the salary: 100000\n",
      "tax percentage: 10\n"
     ]
    },
    {
     "name": "stdout",
     "output_type": "stream",
     "text": [
      "10000.0\n"
     ]
    }
   ],
   "source": [
    "salary=eval(input('enter the salary:'))\n",
    "tax_per=eval(input('tax percentage:'))\n",
    "tax_pay=salary*tax_per/100\n",
    "print(tax_pay)"
   ]
  },
  {
   "cell_type": "code",
   "execution_count": null,
   "id": "f2cb8141-92b0-463e-bf79-d5a9b3ce3f1d",
   "metadata": {},
   "outputs": [],
   "source": [
    "firm 500 *4=2000\n",
    "\n",
    "def TAX_PAY():\n",
    "    salary=eval(input('enter the salary:'))\n",
    "    tax_per=eval(input('tax percentage:'))\n",
    "    tax_pay=salary*tax_per/100\n",
    "    print(tax_pay)\n",
    " \n",
    "TAX_PAY ======= 500\n",
    "\n",
    "1time"
   ]
  },
  {
   "cell_type": "markdown",
   "id": "86d9990a-3fb2-40b0-a6a9-d380011c01eb",
   "metadata": {},
   "source": [
    "**Loops**\n",
    "\n",
    "- Loops are used to itearte the code multiple times\n",
    "\n",
    "- functions are used to reuse the code block\n",
    "\n",
    "- that code block can be repeated multiple times \n",
    "\n",
    "- whenever you are doing same task multiple times then think about loop\n",
    "\n",
    "- We have two loops\n",
    "\n",
    "    - for loop\n",
    "\n",
    "    - while loop\n",
    "\n",
    "- Any loop we need three things\n",
    "\n",
    "    - Intialization (start point)\n",
    "\n",
    "    - increment or decrement\n",
    "\n",
    "    - Condition to stop"
   ]
  },
  {
   "cell_type": "markdown",
   "id": "af852350-05fd-4c21-8abf-86f937212d1d",
   "metadata": {},
   "source": [
    "**For loop**"
   ]
  },
  {
   "cell_type": "code",
   "execution_count": null,
   "id": "badb78d8-ec90-4656-bae6-d8f596e275fd",
   "metadata": {},
   "outputs": [],
   "source": [
    "for <variable> in range(<number>):\n",
    "    <write your code here>"
   ]
  },
  {
   "cell_type": "code",
   "execution_count": 2,
   "id": "f867b11a-f1e2-49bc-9864-2a152b87d076",
   "metadata": {},
   "outputs": [
    {
     "name": "stdout",
     "output_type": "stream",
     "text": [
      "0\n",
      "1\n",
      "2\n",
      "3\n",
      "4\n"
     ]
    }
   ],
   "source": [
    "for i in range(5):\n",
    "    print(i)"
   ]
  },
  {
   "cell_type": "code",
   "execution_count": 5,
   "id": "7e4e0818-f91a-4929-9af2-3ac8fac23b50",
   "metadata": {},
   "outputs": [
    {
     "name": "stdout",
     "output_type": "stream",
     "text": [
      "0\n",
      "1\n",
      "2\n"
     ]
    }
   ],
   "source": [
    "# print(0)\n",
    "# print(1)\n",
    "# print(2)\n",
    "for trump in range(3):\n",
    "    print(trump)"
   ]
  },
  {
   "cell_type": "code",
   "execution_count": 9,
   "id": "f056c3d4-0dab-4ebd-8f4b-2a9a701898b9",
   "metadata": {},
   "outputs": [
    {
     "name": "stdout",
     "output_type": "stream",
     "text": [
      "0 1 2 "
     ]
    }
   ],
   "source": [
    "# print(0,end=' ')\n",
    "# print(1,end=' ')\n",
    "# print(2)\n",
    "for i in range(3):\n",
    "    print(i,end=' ')"
   ]
  },
  {
   "cell_type": "markdown",
   "id": "213c11a6-8c13-4117-958a-57781c6e2cd6",
   "metadata": {},
   "source": [
    "**case-1:range(stop)**\n",
    "\n",
    "- start=0 : python index always starts with zero\n",
    "\n",
    "- increment by 1\n",
    "\n",
    "- last=stop-1\n"
   ]
  },
  {
   "cell_type": "code",
   "execution_count": 10,
   "id": "9c118377-3ac9-4625-a77c-a85af8256d21",
   "metadata": {},
   "outputs": [
    {
     "name": "stdout",
     "output_type": "stream",
     "text": [
      "0 1 2 3 4 5 6 7 8 9 "
     ]
    }
   ],
   "source": [
    "for i in range(10):\n",
    "    print(i,end=' ')"
   ]
  },
  {
   "cell_type": "code",
   "execution_count": 11,
   "id": "8025cb52-c460-462d-ac89-504d725d054e",
   "metadata": {},
   "outputs": [
    {
     "name": "stdout",
     "output_type": "stream",
     "text": [
      "good night\n",
      "good night\n",
      "good night\n"
     ]
    }
   ],
   "source": [
    "print('good night')\n",
    "print('good night')\n",
    "print('good night')"
   ]
  },
  {
   "cell_type": "code",
   "execution_count": 12,
   "id": "1b671419-c17d-4264-8dbe-7d71d31b057e",
   "metadata": {},
   "outputs": [
    {
     "name": "stdout",
     "output_type": "stream",
     "text": [
      "good night\n",
      "good night\n",
      "good night\n"
     ]
    }
   ],
   "source": [
    "for i in range(3):\n",
    "    print('good night')"
   ]
  },
  {
   "cell_type": "markdown",
   "id": "0e0ba710-48f5-4f48-99c4-f4b9e30c95cf",
   "metadata": {},
   "source": [
    "**Case-2:range(start,stop)**\n",
    "\n",
    "- Suppose I want to start my loop with a particular number\n",
    "\n",
    "- then add start also inside range\n",
    "\n",
    "- start=start\n",
    "\n",
    "- increment by 1\n",
    "\n",
    "- last= stop-1\n",
    "\n",
    "range(10,20)\n",
    "\n",
    "- start=10,increment by1 , last=20-1=19"
   ]
  },
  {
   "cell_type": "code",
   "execution_count": 13,
   "id": "923debbe-cbb9-415a-88e2-3f12ada9529e",
   "metadata": {},
   "outputs": [
    {
     "name": "stdout",
     "output_type": "stream",
     "text": [
      "10 11 12 13 14 15 16 17 18 19 "
     ]
    }
   ],
   "source": [
    "for i in range(10,20):\n",
    "    print(i,end=' ')"
   ]
  },
  {
   "cell_type": "code",
   "execution_count": 14,
   "id": "382e901f-b740-4d16-b18f-d7fc7531a5dc",
   "metadata": {},
   "outputs": [
    {
     "name": "stdout",
     "output_type": "stream",
     "text": [
      "the square of 1 is:1\n",
      "the square of 2 is:4\n",
      "the square of 3 is:9\n",
      "the square of 4 is:16\n",
      "the square of 5 is:25\n"
     ]
    }
   ],
   "source": [
    "# wap ask the user print the square first 5 number\n",
    "# square of 1 is 1\n",
    "# square of 2 is 4\n",
    "# so on \n",
    "\n",
    "for i in range(1,6):\n",
    "    print(f\"the square of {i} is:{i*i}\")"
   ]
  },
  {
   "cell_type": "code",
   "execution_count": 15,
   "id": "67dd295b-45e0-4abe-9aca-cb0f16da286c",
   "metadata": {},
   "outputs": [
    {
     "name": "stdin",
     "output_type": "stream",
     "text": [
      "enter the number: 20\n"
     ]
    },
    {
     "name": "stdout",
     "output_type": "stream",
     "text": [
      "the square of 20 is:400\n"
     ]
    },
    {
     "name": "stdin",
     "output_type": "stream",
     "text": [
      "enter the number: 30\n"
     ]
    },
    {
     "name": "stdout",
     "output_type": "stream",
     "text": [
      "the square of 30 is:900\n"
     ]
    },
    {
     "name": "stdin",
     "output_type": "stream",
     "text": [
      "enter the number: 40\n"
     ]
    },
    {
     "name": "stdout",
     "output_type": "stream",
     "text": [
      "the square of 40 is:1600\n"
     ]
    },
    {
     "name": "stdin",
     "output_type": "stream",
     "text": [
      "enter the number: 50\n"
     ]
    },
    {
     "name": "stdout",
     "output_type": "stream",
     "text": [
      "the square of 50 is:2500\n"
     ]
    },
    {
     "name": "stdin",
     "output_type": "stream",
     "text": [
      "enter the number: 60\n"
     ]
    },
    {
     "name": "stdout",
     "output_type": "stream",
     "text": [
      "the square of 60 is:3600\n"
     ]
    }
   ],
   "source": [
    "# wap ask the user enter a number the prompt should happen 5 times\n",
    "# and print the square of the number\n",
    "for i in range(5):\n",
    "    num=eval(input('enter the number:'))\n",
    "    print(f\"the square of {num} is:{num*num}\")"
   ]
  },
  {
   "cell_type": "code",
   "execution_count": 16,
   "id": "824ac64c-fb93-4211-993c-6c6afa3c23e4",
   "metadata": {},
   "outputs": [
    {
     "name": "stdin",
     "output_type": "stream",
     "text": [
      "enter the number: 30\n"
     ]
    },
    {
     "name": "stdout",
     "output_type": "stream",
     "text": [
      "the square of 30 is:900\n"
     ]
    },
    {
     "name": "stdin",
     "output_type": "stream",
     "text": [
      "enter the number: 50\n"
     ]
    },
    {
     "name": "stdout",
     "output_type": "stream",
     "text": [
      "the square of 50 is:2500\n"
     ]
    }
   ],
   "source": [
    "def square():\n",
    "    num=eval(input('enter the number:'))\n",
    "    print(f\"the square of {num} is:{num*num}\")\n",
    "    \n",
    "for i in range(2):\n",
    "    square()"
   ]
  },
  {
   "cell_type": "code",
   "execution_count": 18,
   "id": "2c4c5cfa-af62-4ca0-aa3d-72c0af04ef6b",
   "metadata": {},
   "outputs": [
    {
     "name": "stdin",
     "output_type": "stream",
     "text": [
      "enter the number: 4\n"
     ]
    },
    {
     "name": "stdout",
     "output_type": "stream",
     "text": [
      "the square of 4 is:16\n"
     ]
    },
    {
     "name": "stdin",
     "output_type": "stream",
     "text": [
      "enter the number: 5\n"
     ]
    },
    {
     "name": "stdout",
     "output_type": "stream",
     "text": [
      "the square of 5 is:25\n"
     ]
    },
    {
     "name": "stdin",
     "output_type": "stream",
     "text": [
      "enter the number: 6\n"
     ]
    },
    {
     "name": "stdout",
     "output_type": "stream",
     "text": [
      "the square of 6 is:36\n"
     ]
    }
   ],
   "source": [
    "for i in range(133,136):\n",
    "    num=eval(input('enter the number:'))\n",
    "    print(f\"the square of {num} is:{num*num}\")"
   ]
  },
  {
   "cell_type": "markdown",
   "id": "847e931e-9ebc-49d0-bc4f-10f48b3dc51b",
   "metadata": {},
   "source": [
    "**Case-3: range(start,stop,step)**\n",
    "\n",
    "- start=start only\n",
    "\n",
    "- step:\n",
    "\n",
    "    - look about step sign is it postive or negative sign\n",
    "\n",
    "    - positive means increment\n",
    "\n",
    "        - last:stop-1\n",
    "\n",
    "   - negative means decrement\n",
    "\n",
    "        - last:stop+1"
   ]
  },
  {
   "cell_type": "code",
   "execution_count": 19,
   "id": "cc67435e-60f5-44b5-a00f-c1778b13a5a3",
   "metadata": {},
   "outputs": [
    {
     "name": "stdout",
     "output_type": "stream",
     "text": [
      "3 5 7 9 11 13 15 17 "
     ]
    }
   ],
   "source": [
    "# example1: range(3,19,2)\n",
    "# start=3\n",
    "# step=+2 postive direction\n",
    "# last = 19-1=18\n",
    "# 3,5,7,9,11,13,15,17\n",
    "for i in range(3,19,2):\n",
    "    print(i,end=' ')"
   ]
  },
  {
   "cell_type": "code",
   "execution_count": 20,
   "id": "4900cef9-812d-4f25-aa90-c5359a22282f",
   "metadata": {},
   "outputs": [],
   "source": [
    "# example2: range(3,19,-2)\n",
    "# start=3\n",
    "# step=-2 negative direction\n",
    "# last = 19+1=20\n",
    "for i in range(3,19,-2):\n",
    "    print(i)"
   ]
  },
  {
   "cell_type": "code",
   "execution_count": 21,
   "id": "6f8167e7-fca2-4783-98b4-725d29b036ff",
   "metadata": {},
   "outputs": [
    {
     "name": "stdout",
     "output_type": "stream",
     "text": [
      "3 1 -1 -3 -5 -7 -9 -11 -13 -15 -17 "
     ]
    }
   ],
   "source": [
    "for i in range(3,-19,-2):\n",
    "    print(i,end=' ')\n",
    "\n",
    "# start=3  dire =nega  last= stop+1= -19+1=-18"
   ]
  },
  {
   "cell_type": "code",
   "execution_count": 22,
   "id": "09e93d1b-1273-4e43-8a29-071aa15202e9",
   "metadata": {},
   "outputs": [],
   "source": [
    "for i in range(3,-19,2):\n",
    "    print(i,end=' ')"
   ]
  },
  {
   "cell_type": "code",
   "execution_count": null,
   "id": "1383c652-8228-4f0d-8445-ae91368dda00",
   "metadata": {},
   "outputs": [],
   "source": [
    "range(3,15,3) # P\n",
    "range(3,15,-3) # np\n",
    "range(3,-15,3) # np\n",
    "range(-3,15,3) # p\n",
    "range(3,-15,-3) # p\n",
    "range(-3,-15,3) # np\n",
    "range(-3,15,-3) # np \n",
    "range(15,3,3) # np\n",
    "range(15,3,-3) # p \n",
    "range(15,-3,3) # np\n",
    "range(-15,3,3) # p\n",
    "range(-15,3,-3) # np\n",
    "range(-15,-3,3) # p\n",
    "ranhe(-15,-3,-3) # np"
   ]
  }
 ],
 "metadata": {
  "kernelspec": {
   "display_name": "Python 3 (ipykernel)",
   "language": "python",
   "name": "python3"
  },
  "language_info": {
   "codemirror_mode": {
    "name": "ipython",
    "version": 3
   },
   "file_extension": ".py",
   "mimetype": "text/x-python",
   "name": "python",
   "nbconvert_exporter": "python",
   "pygments_lexer": "ipython3",
   "version": "3.11.7"
  }
 },
 "nbformat": 4,
 "nbformat_minor": 5
}
