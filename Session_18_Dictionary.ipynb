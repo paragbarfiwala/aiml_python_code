{
 "cells": [
  {
   "cell_type": "code",
   "execution_count": 1,
   "id": "6f8f240d-5792-4655-9946-1bc4d0f7595c",
   "metadata": {},
   "outputs": [],
   "source": [
    "names=['Ramesh','Suresh','Sathish']\n",
    "age=[20,25,30]\n",
    "# 'Ramesh age is 20'\n",
    "# 'Suresh age is 25'"
   ]
  },
  {
   "cell_type": "code",
   "execution_count": 2,
   "id": "1f8f96a0-1ab3-4375-a8ee-a291d6423ece",
   "metadata": {},
   "outputs": [
    {
     "name": "stdout",
     "output_type": "stream",
     "text": [
      "Ramesh age is 20\n",
      "Suresh age is 25\n",
      "Sathish age is 30\n"
     ]
    }
   ],
   "source": [
    "for i in range(len(names)):\n",
    "    print(f\"{names[i]} age is {age[i]}\")"
   ]
  },
  {
   "cell_type": "markdown",
   "id": "7a42d1fd-fd9b-4ecd-893c-67844b47a354",
   "metadata": {},
   "source": [
    "**zip**"
   ]
  },
  {
   "cell_type": "code",
   "execution_count": 6,
   "id": "83be69d2-a370-4881-bb10-82c3bab9d4f0",
   "metadata": {},
   "outputs": [
    {
     "name": "stdout",
     "output_type": "stream",
     "text": [
      "Ramesh 20\n",
      "Ramesh age is 20\n",
      "Suresh 25\n",
      "Suresh age is 25\n",
      "Sathish 30\n",
      "Sathish age is 30\n"
     ]
    }
   ],
   "source": [
    "names=['Ramesh','Suresh','Sathish']\n",
    "age=[20,25,30]\n",
    "for i,j in zip(names,age):\n",
    "    print(i,j)\n",
    "    print(f\"{i} age is {j}\")"
   ]
  },
  {
   "cell_type": "code",
   "execution_count": 9,
   "id": "e71653f2-5d73-4472-9234-757c8f61a599",
   "metadata": {},
   "outputs": [
    {
     "name": "stdout",
     "output_type": "stream",
     "text": [
      "20\n",
      "25\n",
      "30\n"
     ]
    }
   ],
   "source": [
    "names=['Ramesh','Suresh','Sathish']\n",
    "age=[20,25,30]\n",
    "for i,j in zip(names,age):\n",
    "    print(j)"
   ]
  },
  {
   "cell_type": "code",
   "execution_count": null,
   "id": "115162c6-4ab3-42a9-ac7f-d71fac30426d",
   "metadata": {},
   "outputs": [],
   "source": [
    "names=['Ramesh','Suresh','Sathish']\n",
    "age=[20,25,30]\n"
   ]
  },
  {
   "cell_type": "markdown",
   "id": "3fe29916-3ba8-4182-895a-874025e3e5e9",
   "metadata": {},
   "source": [
    "**Dictionary**\n",
    "\n",
    "- in above example names and age both are together\n",
    "\n",
    "- when both are together we can pair them\n",
    "\n",
    "- This can happen using Dictionary\n",
    "\n",
    "- Dictionary is calles as **key-value** pair\n",
    "\n",
    "- it represents with curly braces : **{key:value}**\n",
    "\n",
    "- Ramesh and 20 years both are pair : {'Ramesh':20}"
   ]
  },
  {
   "cell_type": "code",
   "execution_count": 11,
   "id": "bc2c9012-98e7-4f35-9cb4-ce3e0738916d",
   "metadata": {},
   "outputs": [
    {
     "data": {
      "text/plain": [
       "{'Ramesh': 20, 'Suresh': 25, 'Sathish': 30}"
      ]
     },
     "execution_count": 11,
     "metadata": {},
     "output_type": "execute_result"
    }
   ],
   "source": [
    "d1={'Ramesh':20,'Suresh':25,'Sathish':30}\n",
    "d1"
   ]
  },
  {
   "cell_type": "code",
   "execution_count": 12,
   "id": "9476f60a-5b91-4190-a8cd-dae8681ed0c4",
   "metadata": {},
   "outputs": [
    {
     "data": {
      "text/plain": [
       "{20: 'Ramesh', 25: 'Suresh', 30: 'Sathish'}"
      ]
     },
     "execution_count": 12,
     "metadata": {},
     "output_type": "execute_result"
    }
   ],
   "source": [
    "d2={20:'Ramesh',25:'Suresh',30:'Sathish'}\n",
    "d2"
   ]
  },
  {
   "cell_type": "code",
   "execution_count": 27,
   "id": "e5ba425d-d468-4413-9c2e-b954c96d0ecc",
   "metadata": {},
   "outputs": [
    {
     "data": {
      "text/plain": [
       "{('Apple', 'Banana'): 'fruites'}"
      ]
     },
     "execution_count": 27,
     "metadata": {},
     "output_type": "execute_result"
    }
   ],
   "source": [
    "# start your imaginzation make a dictionary with many ways\n",
    "d1={'Ramesh':20,'Suresh':25,'Sathish':30}\n",
    "d2={20:'Ramesh',25:'Suresh',30:'Sathish'}\n",
    "d3={'Ramesh':'20','Suresh':'25','Sathish':30}\n",
    "d4={'20':'Ramesh','25':'Suresh',30:'Sathish'}\n",
    "d5={'Ramesh':20,'Ramesh':30}\n",
    "# If both keys are same it will take the latest value\n",
    "# Dictionarys kind database\n",
    "d6={'Ramesh':20,'Ramesh':20}\n",
    "# Dictionarys does not allow duplicates\n",
    "d7={'Ramesh':20,'Suresh':20}\n",
    "# In dictionary keys pays vital rols\n",
    "# keys can not be duplicate but values can be duplicate\n",
    "d8={20:'Ramesh',20:'Suresh'}\n",
    "d9={True:'true'}\n",
    "d10={'fruites':['Apple','Banana']} # list is value\n",
    "#d11={['Apple','Banana']:'fruites'} # list is key\n",
    "d12={'fruites':('Apple','Banana')} # list is value\n",
    "d13={('Apple','Banana'):'fruites'} # list is key\n",
    "d14={'Fruites':{'Apple':20}}"
   ]
  },
  {
   "cell_type": "code",
   "execution_count": null,
   "id": "fd0d39d0-bfd1-4442-bd2e-d3845e940600",
   "metadata": {},
   "outputs": [],
   "source": [
    "d10={'fruites':['Apple','Banana']} # w\n",
    "d10={'fruites':('Apple','Banana')} # w\n",
    "{['Apple','Banana']:'fruites'} # Fail\n",
    "{('Apple','Banana'):'fruites'} # workings"
   ]
  },
  {
   "cell_type": "markdown",
   "id": "0076f157-49c1-4a78-8a4e-10c5c33c087f",
   "metadata": {},
   "source": [
    "**list as keys fails becuase list has a mutable behavivour**\n",
    "\n",
    "**tuple as keys works becuase tuple has immutable behaviour**\n",
    "\n",
    "**in dictionary keys are very very imortant**\n",
    "\n",
    "**keys does not change so when we apply list is failin**"
   ]
  },
  {
   "cell_type": "markdown",
   "id": "b6543537-b01d-4191-bd84-d641b4bcaba4",
   "metadata": {},
   "source": [
    "- If both keys are same it will take the latest value\n",
    "\n",
    "- Dictionarys does not allow duplicates\n",
    "\n",
    "- In dictionary keys pays vital rols\n",
    "\n",
    "- keys can not be duplicate but values can be duplicate"
   ]
  },
  {
   "cell_type": "code",
   "execution_count": 2,
   "id": "116295e8-9099-4804-83e1-1bcd1613718e",
   "metadata": {},
   "outputs": [
    {
     "ename": "TypeError",
     "evalue": "unhashable type: 'dict'",
     "output_type": "error",
     "traceback": [
      "\u001b[1;31m---------------------------------------------------------------------------\u001b[0m",
      "\u001b[1;31mTypeError\u001b[0m                                 Traceback (most recent call last)",
      "Cell \u001b[1;32mIn[2], line 2\u001b[0m\n\u001b[0;32m      1\u001b[0m d14\u001b[38;5;241m=\u001b[39m{\u001b[38;5;124m'\u001b[39m\u001b[38;5;124mFruites\u001b[39m\u001b[38;5;124m'\u001b[39m:{\u001b[38;5;124m'\u001b[39m\u001b[38;5;124mApple\u001b[39m\u001b[38;5;124m'\u001b[39m:\u001b[38;5;241m20\u001b[39m}}\n\u001b[1;32m----> 2\u001b[0m d15\u001b[38;5;241m=\u001b[39m{{\u001b[38;5;124m'\u001b[39m\u001b[38;5;124mApple\u001b[39m\u001b[38;5;124m'\u001b[39m:\u001b[38;5;241m20\u001b[39m}:\u001b[38;5;124m'\u001b[39m\u001b[38;5;124mFruites\u001b[39m\u001b[38;5;124m'\u001b[39m}\n",
      "\u001b[1;31mTypeError\u001b[0m: unhashable type: 'dict'"
     ]
    }
   ],
   "source": [
    "d14={'Fruites':{'Apple':20}} # works\n",
    "d15={{'Apple':20}:'Fruites'} # Fails"
   ]
  },
  {
   "cell_type": "code",
   "execution_count": 3,
   "id": "27cce314-d804-4a0f-aa26-a095606ae694",
   "metadata": {},
   "outputs": [],
   "source": [
    "dict1={'Apple':20,'Banana':30,'Cherry':50}\n",
    "dict2={'Apple':20,'apple':30}\n",
    "dict3={20:'Apple',30:'Banana',50:'Cherry'}\n",
    "# apply min max sum sorted reversed"
   ]
  },
  {
   "cell_type": "code",
   "execution_count": 8,
   "id": "303f3ba5-c6eb-4b89-83c9-ec6ebb51f7be",
   "metadata": {},
   "outputs": [
    {
     "ename": "TypeError",
     "evalue": "'>' not supported between instances of 'str' and 'int'",
     "output_type": "error",
     "traceback": [
      "\u001b[1;31m---------------------------------------------------------------------------\u001b[0m",
      "\u001b[1;31mTypeError\u001b[0m                                 Traceback (most recent call last)",
      "Cell \u001b[1;32mIn[8], line 6\u001b[0m\n\u001b[0;32m      4\u001b[0m \u001b[38;5;28mmax\u001b[39m(dict2)\n\u001b[0;32m      5\u001b[0m dict3\u001b[38;5;241m=\u001b[39m{\u001b[38;5;241m20\u001b[39m:\u001b[38;5;124m'\u001b[39m\u001b[38;5;124mApple\u001b[39m\u001b[38;5;124m'\u001b[39m,\u001b[38;5;241m30\u001b[39m:\u001b[38;5;124m'\u001b[39m\u001b[38;5;124mBanana\u001b[39m\u001b[38;5;124m'\u001b[39m,\u001b[38;5;241m50\u001b[39m:\u001b[38;5;124m'\u001b[39m\u001b[38;5;124mCherry\u001b[39m\u001b[38;5;124m'\u001b[39m,\u001b[38;5;124m'\u001b[39m\u001b[38;5;124mBanana\u001b[39m\u001b[38;5;124m'\u001b[39m:\u001b[38;5;241m30\u001b[39m}\n\u001b[1;32m----> 6\u001b[0m \u001b[38;5;28mmax\u001b[39m(dict3)\n",
      "\u001b[1;31mTypeError\u001b[0m: '>' not supported between instances of 'str' and 'int'"
     ]
    }
   ],
   "source": [
    "dict1={'Apple':20,'Banana':30,'Cherry':10}\n",
    "max(dict1)\n",
    "dict2={'Apple':20,'apple':30}\n",
    "max(dict2)\n",
    "dict3={20:'Apple',30:'Banana',50:'Cherry','Banana':30}\n",
    "max(dict3)\n",
    "# [20,30,50,'Banana']"
   ]
  },
  {
   "cell_type": "code",
   "execution_count": 9,
   "id": "d2a4641f-c3dc-4ce2-ab51-5d073f8742d5",
   "metadata": {},
   "outputs": [
    {
     "data": {
      "text/plain": [
       "('Apple', 'Apple', 20)"
      ]
     },
     "execution_count": 9,
     "metadata": {},
     "output_type": "execute_result"
    }
   ],
   "source": [
    "dict1={'Apple':20,'Banana':30,'Cherry':10}\n",
    "dict2={'Apple':20,'apple':30}\n",
    "dict3={20:'Apple',30:'Banana',50:'Cherry'}\n",
    "min(dict1),min(dict2),min(dict3)"
   ]
  },
  {
   "cell_type": "code",
   "execution_count": 11,
   "id": "8a61f5f4-5240-48c2-a7f4-1c5cbc3ab6d2",
   "metadata": {},
   "outputs": [
    {
     "data": {
      "text/plain": [
       "['Cherry', 'Banana', 'Apple']"
      ]
     },
     "execution_count": 11,
     "metadata": {},
     "output_type": "execute_result"
    }
   ],
   "source": [
    "list(reversed(dict1))"
   ]
  },
  {
   "cell_type": "code",
   "execution_count": 12,
   "id": "8e0a11e1-2d3c-4145-8e84-12ff920679de",
   "metadata": {},
   "outputs": [
    {
     "data": {
      "text/plain": [
       "['Apple', 'Banana', 'Cherry']"
      ]
     },
     "execution_count": 12,
     "metadata": {},
     "output_type": "execute_result"
    }
   ],
   "source": [
    "sorted(dict1)"
   ]
  },
  {
   "cell_type": "code",
   "execution_count": 13,
   "id": "ce74cee6-1a15-4fe4-ad62-66440beaa391",
   "metadata": {},
   "outputs": [
    {
     "data": {
      "text/plain": [
       "3"
      ]
     },
     "execution_count": 13,
     "metadata": {},
     "output_type": "execute_result"
    }
   ],
   "source": [
    "len(dict1)"
   ]
  },
  {
   "cell_type": "code",
   "execution_count": null,
   "id": "56539beb-9545-4a0e-aea2-547126b1e198",
   "metadata": {},
   "outputs": [],
   "source": [
    "dict1={'Apple':20,'Banana':30,'Cherry':10}\n",
    "'Apple' in dict1  # T\n",
    "20 in dict1    # F\n",
    "'Apple':20 in dict1 # E"
   ]
  },
  {
   "cell_type": "code",
   "execution_count": 16,
   "id": "088c7a49-88af-45d8-b404-b830234932a1",
   "metadata": {},
   "outputs": [
    {
     "data": {
      "text/plain": [
       "True"
      ]
     },
     "execution_count": 16,
     "metadata": {},
     "output_type": "execute_result"
    }
   ],
   "source": [
    "dict1={'Apple':20,'Banana':30,'Cherry':10}\n",
    "'Apple' in dict1\n",
    "'Banana' in dict1\n",
    "'Cherry' in dict1\n",
    "\n",
    "# i in dict1"
   ]
  },
  {
   "cell_type": "code",
   "execution_count": 17,
   "id": "b1387747-97cb-4f36-a27c-ba6f65c2c7e7",
   "metadata": {},
   "outputs": [
    {
     "name": "stdout",
     "output_type": "stream",
     "text": [
      "Apple\n",
      "Banana\n",
      "Cherry\n"
     ]
    }
   ],
   "source": [
    "for i in dict1:\n",
    "    print(i)"
   ]
  },
  {
   "cell_type": "markdown",
   "id": "9464afce-cbbd-4fff-9ac5-10a56fdae4e3",
   "metadata": {},
   "source": [
    "**index**"
   ]
  },
  {
   "cell_type": "code",
   "execution_count": 19,
   "id": "ef041c6e-0063-4c5f-b6b4-7a84edd23035",
   "metadata": {},
   "outputs": [
    {
     "data": {
      "text/plain": [
       "10"
      ]
     },
     "execution_count": 19,
     "metadata": {},
     "output_type": "execute_result"
    }
   ],
   "source": [
    "l1=[10,20,30]\n",
    "l1[0]"
   ]
  },
  {
   "cell_type": "code",
   "execution_count": 20,
   "id": "ea60ae5c-b616-43a9-a5db-1e86b0aae6e1",
   "metadata": {},
   "outputs": [
    {
     "data": {
      "text/plain": [
       "'p'"
      ]
     },
     "execution_count": 20,
     "metadata": {},
     "output_type": "execute_result"
    }
   ],
   "source": [
    "str1='python'\n",
    "str1[0]"
   ]
  },
  {
   "cell_type": "code",
   "execution_count": 22,
   "id": "5b3a23ce-5cea-4391-9179-65a434d434b8",
   "metadata": {},
   "outputs": [
    {
     "ename": "KeyError",
     "evalue": "0",
     "output_type": "error",
     "traceback": [
      "\u001b[1;31m---------------------------------------------------------------------------\u001b[0m",
      "\u001b[1;31mKeyError\u001b[0m                                  Traceback (most recent call last)",
      "Cell \u001b[1;32mIn[22], line 2\u001b[0m\n\u001b[0;32m      1\u001b[0m dict1\u001b[38;5;241m=\u001b[39m{\u001b[38;5;124m'\u001b[39m\u001b[38;5;124mApple\u001b[39m\u001b[38;5;124m'\u001b[39m:\u001b[38;5;241m20\u001b[39m,\u001b[38;5;124m'\u001b[39m\u001b[38;5;124mBanana\u001b[39m\u001b[38;5;124m'\u001b[39m:\u001b[38;5;241m30\u001b[39m,\u001b[38;5;124m'\u001b[39m\u001b[38;5;124mCherry\u001b[39m\u001b[38;5;124m'\u001b[39m:\u001b[38;5;241m10\u001b[39m}\n\u001b[1;32m----> 2\u001b[0m dict1[\u001b[38;5;241m0\u001b[39m]\n",
      "\u001b[1;31mKeyError\u001b[0m: 0"
     ]
    }
   ],
   "source": [
    "dict1={'Apple':20,'Banana':30,'Cherry':10}\n",
    "dict1[0]\n",
    "\n",
    "#'Apple':20 in dict1"
   ]
  },
  {
   "cell_type": "markdown",
   "id": "6cd871a4-90d3-4f84-a32c-5da488e89b5f",
   "metadata": {},
   "source": [
    "**how to extract the values**\n",
    "\n",
    "- in dictionary we have a comcept key:value pair\n",
    "\n",
    "- keys are very important\n",
    "\n",
    "- in order to get the values we need to take keys help"
   ]
  },
  {
   "cell_type": "code",
   "execution_count": 26,
   "id": "8a50d234-8979-4f47-9f3d-1f5abc0e98ce",
   "metadata": {},
   "outputs": [
    {
     "data": {
      "text/plain": [
       "10"
      ]
     },
     "execution_count": 26,
     "metadata": {},
     "output_type": "execute_result"
    }
   ],
   "source": [
    "dict1={'Apple':20,'Banana':30,'Cherry':10}\n",
    "dict1['Apple']\n",
    "dict1['Banana']\n",
    "dict1['Cherry']\n",
    "\n",
    "# dict1[i]"
   ]
  },
  {
   "cell_type": "code",
   "execution_count": 28,
   "id": "a833212b-c9ba-4d1b-b24b-ab037e199fa2",
   "metadata": {},
   "outputs": [
    {
     "name": "stdout",
     "output_type": "stream",
     "text": [
      "Apple 20\n",
      "Banana 30\n",
      "Cherry 10\n"
     ]
    }
   ],
   "source": [
    "for i in dict1:\n",
    "    print(i,dict1[i])"
   ]
  },
  {
   "cell_type": "code",
   "execution_count": 29,
   "id": "caf78f11-4969-46b5-9353-83c48527d018",
   "metadata": {},
   "outputs": [
    {
     "name": "stdout",
     "output_type": "stream",
     "text": [
      "Ramesh age is 20\n",
      "Suresh age is 25\n",
      "Sathish age is 30\n"
     ]
    }
   ],
   "source": [
    "# names=['Ramesh','Suresh','Sathish']\n",
    "# age=[20,25,30]\n",
    "# 'Ramesh age is 20'\n",
    "# 'Suresh age is 25'\n",
    "names={'Ramesh':20,'Suresh':25,'Sathish':30}\n",
    "for key in names:\n",
    "    value=names[key]\n",
    "    print(f'{key} age is {value}')"
   ]
  },
  {
   "cell_type": "code",
   "execution_count": null,
   "id": "b8cd5397-840a-47f9-88c8-0743c68996f2",
   "metadata": {},
   "outputs": [],
   "source": [
    "# range means only numbers will come\n",
    "# number is not useful its pair"
   ]
  },
  {
   "cell_type": "code",
   "execution_count": 31,
   "id": "8b0a02e7-4bde-4e9a-94bb-5bf1ad3e975c",
   "metadata": {},
   "outputs": [
    {
     "data": {
      "text/plain": [
       "'Cherry'"
      ]
     },
     "execution_count": 31,
     "metadata": {},
     "output_type": "execute_result"
    }
   ],
   "source": [
    "d={'Fruites':['Apple','Banana','Cherry']}\n",
    "# get cherry\n",
    "d['Fruites'][2]"
   ]
  },
  {
   "cell_type": "code",
   "execution_count": 41,
   "id": "158e60a0-7fa7-4544-a813-98aaf6ae2dee",
   "metadata": {},
   "outputs": [
    {
     "data": {
      "text/plain": [
       "'green'"
      ]
     },
     "execution_count": 41,
     "metadata": {},
     "output_type": "execute_result"
    }
   ],
   "source": [
    "d={'Fruites':{'Apple':['sweet','sour','green']}}\n",
    "d \n",
    "# identify how many key-value pairs\n",
    "d['Fruites'] # dictionary\n",
    "d['Fruites']['Apple'] # list\n",
    "d['Fruites']['Apple'][2]"
   ]
  },
  {
   "cell_type": "code",
   "execution_count": 53,
   "id": "a121f366-8dc7-4926-aec8-71893124b5fe",
   "metadata": {},
   "outputs": [
    {
     "data": {
      "text/plain": [
       "50"
      ]
     },
     "execution_count": 53,
     "metadata": {},
     "output_type": "execute_result"
    }
   ],
   "source": [
    "d={'Fruites':[{'Cost':[50]}]}\n",
    "d['Fruites'] # list\n",
    "d['Fruites'][0] # dict\n",
    "d['Fruites'][0]['Cost'] # list\n",
    "d['Fruites'][0]['Cost'][0]"
   ]
  },
  {
   "cell_type": "code",
   "execution_count": 64,
   "id": "d4b42061-e2a5-4341-851f-cd9113d49d83",
   "metadata": {},
   "outputs": [
    {
     "data": {
      "text/plain": [
       "40"
      ]
     },
     "execution_count": 64,
     "metadata": {},
     "output_type": "execute_result"
    }
   ],
   "source": [
    "d={'Fruites':['Apple'],'Cost':[{'1kg':[20,30,40],\n",
    "                               '2kg':None}]}\n",
    "len(d)\n",
    "len(d['Cost'])\n",
    "d['Cost'][0]['2kg']\n",
    "d['Cost'][0]['1kg'][2]"
   ]
  },
  {
   "cell_type": "code",
   "execution_count": 73,
   "id": "6c0a28c1-90ca-4bb2-b77a-a63144a917d3",
   "metadata": {},
   "outputs": [
    {
     "data": {
      "text/plain": [
       "{'Shambaji'}"
      ]
     },
     "execution_count": 73,
     "metadata": {},
     "output_type": "execute_result"
    }
   ],
   "source": [
    "d={'Fruites':{'Orange':{'Nagpur':{'MH':{'King':{'Shivaji':{'Shambaji'}}}}}}}\n",
    "d['Fruites']['Orange']['Nagpur']['MH']['King']['Shivaji']#\n",
    "# do it sets today tomorrow shamabaji "
   ]
  },
  {
   "cell_type": "markdown",
   "id": "c958012b-89f1-4b20-a354-bc9df0ebca31",
   "metadata": {},
   "source": [
    "**how to create an empty dictionary**\n",
    "\n",
    "- Now onwards focus on creation of empty list , strings  and dictionary\n",
    "\n",
    "- we will take empty list will use append operation\n",
    "\n",
    "- we will take empty string will use concatenation\n",
    "\n",
    "- we will take empty dictionary will use key:value pair concept"
   ]
  },
  {
   "cell_type": "code",
   "execution_count": 75,
   "id": "388a6e5f-8e3e-4097-b8c0-e380d419976a",
   "metadata": {},
   "outputs": [
    {
     "data": {
      "text/plain": [
       "[10, 20]"
      ]
     },
     "execution_count": 75,
     "metadata": {},
     "output_type": "execute_result"
    }
   ],
   "source": [
    "# list\n",
    "l=[]\n",
    "l.append(10)\n",
    "l.append(20)\n",
    "l"
   ]
  },
  {
   "cell_type": "code",
   "execution_count": 77,
   "id": "a6f77794-d54b-4465-8f63-625c203be20d",
   "metadata": {},
   "outputs": [
    {
     "data": {
      "text/plain": [
       "'py'"
      ]
     },
     "execution_count": 77,
     "metadata": {},
     "output_type": "execute_result"
    }
   ],
   "source": [
    "# strings\n",
    "s=''\n",
    "s=s+'p'  # ''+'p'\n",
    "s=s+'y'  # 'p'+'y'='py'\n",
    "s"
   ]
  },
  {
   "cell_type": "code",
   "execution_count": 79,
   "id": "72d6a66d-908d-4774-a915-b0eb483401a2",
   "metadata": {},
   "outputs": [
    {
     "data": {
      "text/plain": [
       "{'Ramesh': 20, 'Suresh': 25, 'Sathish': 30}"
      ]
     },
     "execution_count": 79,
     "metadata": {},
     "output_type": "execute_result"
    }
   ],
   "source": [
    "# dictionary\n",
    "d={}\n",
    "d['Ramesh']=20\n",
    "d['Suresh']=25\n",
    "d['Sathish']=30\n",
    "d"
   ]
  },
  {
   "cell_type": "code",
   "execution_count": null,
   "id": "495502fd-56de-4204-ae57-1839fcbcb95c",
   "metadata": {},
   "outputs": [],
   "source": [
    "d={}\n",
    "d['Ramesh']=20\n",
    "d['Suresh']=25\n",
    "d['Sathish']=30\n",
    "# d[key]=value\n",
    "# d[i]=j"
   ]
  },
  {
   "cell_type": "markdown",
   "id": "efab1124-d6a7-4fe4-8fb4-8060e8beaa8d",
   "metadata": {},
   "source": [
    "**How to convert list to dictionary**"
   ]
  },
  {
   "cell_type": "code",
   "execution_count": 81,
   "id": "fdab45c4-7c5a-4d81-be69-10bcef531fc6",
   "metadata": {},
   "outputs": [
    {
     "data": {
      "text/plain": [
       "{'Ramesh': 20, 'Suresh': 25, 'Sathish': 30}"
      ]
     },
     "execution_count": 81,
     "metadata": {},
     "output_type": "execute_result"
    }
   ],
   "source": [
    "names=['Ramesh','Suresh','Sathish'] # i \n",
    "age=[20,25,30] # j\n",
    "dict1={}\n",
    "for i,j in zip(names,age):\n",
    "    dict1[i]=j\n",
    "dict1"
   ]
  },
  {
   "cell_type": "markdown",
   "id": "7a8d47a9-9f48-4a88-a366-b0ea82a946ad",
   "metadata": {},
   "source": [
    "**dictionary comprehension**"
   ]
  },
  {
   "cell_type": "markdown",
   "id": "e4cf1041-5b18-4f74-a617-2a79ce1e48a1",
   "metadata": {},
   "source": [
    "- for list comprehension we written everything inside list\n",
    "\n",
    "- for dict comprehension we should write everything inside dictionary\n",
    "\n"
   ]
  },
  {
   "cell_type": "code",
   "execution_count": null,
   "id": "365019be-9ffb-4883-84c0-8a5948082947",
   "metadata": {},
   "outputs": [],
   "source": [
    "# list comprehension: [<output> <forloop>]\n",
    "# dict comprehension: {key:value <forloop>}\n",
    "\n"
   ]
  },
  {
   "cell_type": "code",
   "execution_count": 82,
   "id": "d34653f6-d2cf-4da6-a874-ebcf756aa32c",
   "metadata": {},
   "outputs": [
    {
     "data": {
      "text/plain": [
       "{'Ramesh': 20, 'Suresh': 25, 'Sathish': 30}"
      ]
     },
     "execution_count": 82,
     "metadata": {},
     "output_type": "execute_result"
    }
   ],
   "source": [
    "names=['Ramesh','Suresh','Sathish'] \n",
    "age=[20,25,30] \n",
    "{i:j for i,j in zip(names,age)}"
   ]
  },
  {
   "cell_type": "markdown",
   "id": "d392d407-35b0-44a5-b8fb-76644c4d1621",
   "metadata": {},
   "source": [
    "**mutable-immutable**\n",
    "\n",
    "- lists are mutable\n",
    "\n",
    "- dictionary are also mutable\n",
    "\n",
    "- strings immutable\n",
    "\n",
    "- tuple immutable\n",
    "\n",
    "- in dictionarys we can change the values using keys"
   ]
  },
  {
   "cell_type": "code",
   "execution_count": 84,
   "id": "32560b16-c4bb-4002-b901-6f55a925af20",
   "metadata": {},
   "outputs": [
    {
     "data": {
      "text/plain": [
       "{'Ramesh': 30, 'Suresh': 25, 'Sathish': 30}"
      ]
     },
     "execution_count": 84,
     "metadata": {},
     "output_type": "execute_result"
    }
   ],
   "source": [
    "d={'Ramesh': 20, 'Suresh': 25, 'Sathish': 30}\n",
    "d['Ramesh']=30\n",
    "d"
   ]
  },
  {
   "cell_type": "markdown",
   "id": "9ff4025d-6f22-4ef1-9b81-5be9192f96da",
   "metadata": {},
   "source": [
    "**methods**"
   ]
  },
  {
   "cell_type": "code",
   "execution_count": 85,
   "id": "7c41dd69-c354-4f41-a314-163835ad47f2",
   "metadata": {},
   "outputs": [
    {
     "data": {
      "text/plain": [
       "['__class__',\n",
       " '__class_getitem__',\n",
       " '__contains__',\n",
       " '__delattr__',\n",
       " '__delitem__',\n",
       " '__dir__',\n",
       " '__doc__',\n",
       " '__eq__',\n",
       " '__format__',\n",
       " '__ge__',\n",
       " '__getattribute__',\n",
       " '__getitem__',\n",
       " '__getstate__',\n",
       " '__gt__',\n",
       " '__hash__',\n",
       " '__init__',\n",
       " '__init_subclass__',\n",
       " '__ior__',\n",
       " '__iter__',\n",
       " '__le__',\n",
       " '__len__',\n",
       " '__lt__',\n",
       " '__ne__',\n",
       " '__new__',\n",
       " '__or__',\n",
       " '__reduce__',\n",
       " '__reduce_ex__',\n",
       " '__repr__',\n",
       " '__reversed__',\n",
       " '__ror__',\n",
       " '__setattr__',\n",
       " '__setitem__',\n",
       " '__sizeof__',\n",
       " '__str__',\n",
       " '__subclasshook__',\n",
       " 'clear',\n",
       " 'copy',\n",
       " 'fromkeys',\n",
       " 'get',\n",
       " 'items',\n",
       " 'keys',\n",
       " 'pop',\n",
       " 'popitem',\n",
       " 'setdefault',\n",
       " 'update',\n",
       " 'values']"
      ]
     },
     "execution_count": 85,
     "metadata": {},
     "output_type": "execute_result"
    }
   ],
   "source": [
    "dir({})"
   ]
  },
  {
   "cell_type": "markdown",
   "id": "90339cd9-67d6-404e-b027-a5937c0c0b64",
   "metadata": {},
   "source": [
    "- clear\n",
    "\n",
    "- copy\n",
    "\n",
    "- keys\n",
    "\n",
    "- values\n",
    "\n",
    "- items"
   ]
  },
  {
   "cell_type": "markdown",
   "id": "230c9f59-81b0-462a-9459-47f74aa0ec92",
   "metadata": {},
   "source": [
    "**keys**"
   ]
  },
  {
   "cell_type": "code",
   "execution_count": 2,
   "id": "ff54589b-b44a-40ca-9ee1-5604852f1e40",
   "metadata": {},
   "outputs": [
    {
     "data": {
      "text/plain": [
       "dict_keys(['Ramesh', 'Suresh', 'Sathish'])"
      ]
     },
     "execution_count": 2,
     "metadata": {},
     "output_type": "execute_result"
    }
   ],
   "source": [
    "d={'Ramesh': 20, 'Suresh': 25, 'Sathish': 30}\n",
    "keys=d.keys()\n",
    "keys"
   ]
  },
  {
   "cell_type": "code",
   "execution_count": 3,
   "id": "2cdd894a-e9f0-43e1-beee-f1aedbb3286f",
   "metadata": {},
   "outputs": [
    {
     "data": {
      "text/plain": [
       "dict_keys"
      ]
     },
     "execution_count": 3,
     "metadata": {},
     "output_type": "execute_result"
    }
   ],
   "source": [
    "type(keys)"
   ]
  },
  {
   "cell_type": "code",
   "execution_count": 4,
   "id": "fa9875d7-5385-408f-8cdd-a6b6a96438d8",
   "metadata": {},
   "outputs": [
    {
     "ename": "AttributeError",
     "evalue": "'dict_keys' object has no attribute 'count'",
     "output_type": "error",
     "traceback": [
      "\u001b[1;31m---------------------------------------------------------------------------\u001b[0m",
      "\u001b[1;31mAttributeError\u001b[0m                            Traceback (most recent call last)",
      "Cell \u001b[1;32mIn[4], line 2\u001b[0m\n\u001b[0;32m      1\u001b[0m \u001b[38;5;66;03m# i got mistaken im assuming this is list type\u001b[39;00m\n\u001b[1;32m----> 2\u001b[0m keys\u001b[38;5;241m.\u001b[39mcount(\u001b[38;5;124m'\u001b[39m\u001b[38;5;124mRamesh\u001b[39m\u001b[38;5;124m'\u001b[39m)\n",
      "\u001b[1;31mAttributeError\u001b[0m: 'dict_keys' object has no attribute 'count'"
     ]
    }
   ],
   "source": [
    "# i got mistaken im assuming this is list type\n",
    "keys.count('Ramesh')"
   ]
  },
  {
   "cell_type": "markdown",
   "id": "7dfc3ca6-1c83-4995-a2ca-c6682fb2812c",
   "metadata": {},
   "source": [
    "**Convert dictionary to list**\n",
    "\n",
    "- in order to convert dictionary to list\n",
    "\n",
    "- first we need to seperate keys and values\n",
    "\n",
    "- then apply list type casting\n"
   ]
  },
  {
   "cell_type": "code",
   "execution_count": 10,
   "id": "8ed954e0-8146-4caf-b56a-ee8376419210",
   "metadata": {},
   "outputs": [
    {
     "data": {
      "text/plain": [
       "['Ramesh', 'Suresh', 'Sathish']"
      ]
     },
     "execution_count": 10,
     "metadata": {},
     "output_type": "execute_result"
    }
   ],
   "source": [
    "d={'Ramesh': 20, 'Suresh': 25, 'Sathish': 30}\n",
    "keys=d.keys()\n",
    "keys_list=list(keys)\n",
    "keys_list"
   ]
  },
  {
   "cell_type": "code",
   "execution_count": 7,
   "id": "0a8a34ac-0a3e-40fc-a3c0-287e20898bb7",
   "metadata": {},
   "outputs": [
    {
     "data": {
      "text/plain": [
       "[20, 25, 30]"
      ]
     },
     "execution_count": 7,
     "metadata": {},
     "output_type": "execute_result"
    }
   ],
   "source": [
    "d={'Ramesh': 20, 'Suresh': 25, 'Sathish': 30}\n",
    "values=d.values()\n",
    "values_list=list(values)\n",
    "values_list"
   ]
  },
  {
   "cell_type": "code",
   "execution_count": 8,
   "id": "e0bb8665-4f1d-442e-ad58-4628de7b3ec9",
   "metadata": {},
   "outputs": [
    {
     "data": {
      "text/plain": [
       "[('Ramesh', 20), ('Suresh', 25), ('Sathish', 30)]"
      ]
     },
     "execution_count": 8,
     "metadata": {},
     "output_type": "execute_result"
    }
   ],
   "source": [
    "d={'Ramesh': 20, 'Suresh': 25, 'Sathish': 30}\n",
    "items=d.items()\n",
    "items_list=list(items)\n",
    "items_list"
   ]
  },
  {
   "cell_type": "code",
   "execution_count": 12,
   "id": "9b5342cb-3f4d-4f70-b5f1-965e191da318",
   "metadata": {},
   "outputs": [
    {
     "data": {
      "text/plain": [
       "(list, dict_keys)"
      ]
     },
     "execution_count": 12,
     "metadata": {},
     "output_type": "execute_result"
    }
   ],
   "source": [
    "type(keys_list),type(keys)"
   ]
  },
  {
   "cell_type": "code",
   "execution_count": 13,
   "id": "553592ac-6774-47d8-a3b7-47fc11a7a03f",
   "metadata": {},
   "outputs": [
    {
     "data": {
      "text/plain": [
       "1"
      ]
     },
     "execution_count": 13,
     "metadata": {},
     "output_type": "execute_result"
    }
   ],
   "source": [
    "keys_list.count('Ramesh')"
   ]
  },
  {
   "cell_type": "code",
   "execution_count": null,
   "id": "f18ffed5-44ca-436c-b85a-bf93e8643d01",
   "metadata": {},
   "outputs": [],
   "source": [
    "list === string  using join\n",
    "string === list  using split\n",
    "list ==== dict   zip \n",
    "dict === list     typecasting"
   ]
  },
  {
   "cell_type": "code",
   "execution_count": 6,
   "id": "17e6df03-c4ab-4404-8e33-66fb8d6b72ac",
   "metadata": {},
   "outputs": [
    {
     "ename": "SyntaxError",
     "evalue": "invalid syntax (280770841.py, line 1)",
     "output_type": "error",
     "traceback": [
      "\u001b[1;36m  Cell \u001b[1;32mIn[6], line 1\u001b[1;36m\u001b[0m\n\u001b[1;33m    ['Ramesh':20]\u001b[0m\n\u001b[1;37m             ^\u001b[0m\n\u001b[1;31mSyntaxError\u001b[0m\u001b[1;31m:\u001b[0m invalid syntax\n"
     ]
    }
   ],
   "source": [
    "['Ramesh':20]"
   ]
  },
  {
   "cell_type": "code",
   "execution_count": null,
   "id": "3ac414a8-420f-436a-ba56-abad921e7e2b",
   "metadata": {},
   "outputs": [],
   "source": [
    "# input='virat.kohli@rcb.com;rohit.sharma@mi.com;ms.dhoni@csk.com'\n",
    "# output= {'Firstname':['virat','rohit','ms'],\n",
    "#          'Secondname':['kohli','sharma','dhoni'],\n",
    "#          'cname':['rcb','mi','csk']}\n",
    "\n",
    "# idea : first convert string to list\n",
    "#       from there extract 3 lists\n",
    "#        1) fname 2) sname  3) cname\n",
    "#       from 3 lists create dictionary"
   ]
  },
  {
   "cell_type": "code",
   "execution_count": 25,
   "id": "0ef94f7c-bc79-4ba2-beae-3df930fd8a3a",
   "metadata": {},
   "outputs": [
    {
     "data": {
      "text/plain": [
       "{'Fname': ['virat', 'rohit', 'ms'],\n",
       " 'Sname': ['kohli', 'sharma', 'dhoni'],\n",
       " 'Cname': ['rcb', 'mi', 'csk']}"
      ]
     },
     "execution_count": 25,
     "metadata": {},
     "output_type": "execute_result"
    }
   ],
   "source": [
    "input='virat.kohli@rcb.com;rohit.sharma@mi.com;ms.dhoni@csk.com'\n",
    "l1=input.split(';')\n",
    "###################################################\n",
    "fname,sname,cname=[],[],[]\n",
    "d={}\n",
    "for i in l1:\n",
    "    first_dot=i.index('.')\n",
    "    second_dot=i.index('.',first_dot+1)\n",
    "    at_the_rate=i.index('@')\n",
    "    fname.append(i[:first_dot])\n",
    "    sname.append(i[first_dot+1:at_the_rate])\n",
    "    cname.append(i[at_the_rate+1:second_dot])\n",
    "######################################################\n",
    "d['Fname']=fname\n",
    "d['Sname']=sname\n",
    "d['Cname']=cname\n",
    "d"
   ]
  },
  {
   "cell_type": "code",
   "execution_count": null,
   "id": "7a774a12-9d60-46fc-9104-0eda67701464",
   "metadata": {},
   "outputs": [],
   "source": [
    "# today everyone in the class\n",
    "# take word document\n",
    "# write only classroom questions\n",
    "# and show me tomorrow\n",
    "\n"
   ]
  },
  {
   "cell_type": "code",
   "execution_count": 26,
   "id": "380482af-a84c-4277-82fc-ffd2f39e20cc",
   "metadata": {},
   "outputs": [
    {
     "data": {
      "text/plain": [
       "['__class__',\n",
       " '__class_getitem__',\n",
       " '__contains__',\n",
       " '__delattr__',\n",
       " '__delitem__',\n",
       " '__dir__',\n",
       " '__doc__',\n",
       " '__eq__',\n",
       " '__format__',\n",
       " '__ge__',\n",
       " '__getattribute__',\n",
       " '__getitem__',\n",
       " '__getstate__',\n",
       " '__gt__',\n",
       " '__hash__',\n",
       " '__init__',\n",
       " '__init_subclass__',\n",
       " '__ior__',\n",
       " '__iter__',\n",
       " '__le__',\n",
       " '__len__',\n",
       " '__lt__',\n",
       " '__ne__',\n",
       " '__new__',\n",
       " '__or__',\n",
       " '__reduce__',\n",
       " '__reduce_ex__',\n",
       " '__repr__',\n",
       " '__reversed__',\n",
       " '__ror__',\n",
       " '__setattr__',\n",
       " '__setitem__',\n",
       " '__sizeof__',\n",
       " '__str__',\n",
       " '__subclasshook__',\n",
       " 'clear',\n",
       " 'copy',\n",
       " 'fromkeys',\n",
       " 'get',\n",
       " 'items',\n",
       " 'keys',\n",
       " 'pop',\n",
       " 'popitem',\n",
       " 'setdefault',\n",
       " 'update',\n",
       " 'values']"
      ]
     },
     "execution_count": 26,
     "metadata": {},
     "output_type": "execute_result"
    }
   ],
   "source": [
    "dir({})"
   ]
  },
  {
   "cell_type": "markdown",
   "id": "f53159a1-664a-46f4-a9ee-40bf290e1077",
   "metadata": {},
   "source": [
    "**pop-popitem**"
   ]
  },
  {
   "cell_type": "code",
   "execution_count": 28,
   "id": "961a7744-c942-41a7-b0e9-b884eba89c82",
   "metadata": {},
   "outputs": [
    {
     "data": {
      "text/plain": [
       "20"
      ]
     },
     "execution_count": 28,
     "metadata": {},
     "output_type": "execute_result"
    }
   ],
   "source": [
    "d={'Ramesh': 20, 'Suresh': 25, 'Sathish': 30}\n",
    "d.pop('Ramesh')"
   ]
  },
  {
   "cell_type": "code",
   "execution_count": 29,
   "id": "c7368532-9b48-4fee-8ec5-95e6becdb390",
   "metadata": {},
   "outputs": [
    {
     "data": {
      "text/plain": [
       "{'Suresh': 25, 'Sathish': 30}"
      ]
     },
     "execution_count": 29,
     "metadata": {},
     "output_type": "execute_result"
    }
   ],
   "source": [
    "d"
   ]
  },
  {
   "cell_type": "code",
   "execution_count": 30,
   "id": "64dce248-50e7-4300-8b87-b274908de5e3",
   "metadata": {},
   "outputs": [
    {
     "data": {
      "text/plain": [
       "['Suresh', 'Sathish']"
      ]
     },
     "execution_count": 30,
     "metadata": {},
     "output_type": "execute_result"
    }
   ],
   "source": [
    "l1=['Ramesh','Suresh','Sathish']\n",
    "l1.remove('Ramesh')\n",
    "l1"
   ]
  },
  {
   "cell_type": "code",
   "execution_count": 31,
   "id": "aa77ebf8-dcad-4caf-a894-b97fc332556f",
   "metadata": {},
   "outputs": [
    {
     "data": {
      "text/plain": [
       "('Sathish', 30)"
      ]
     },
     "execution_count": 31,
     "metadata": {},
     "output_type": "execute_result"
    }
   ],
   "source": [
    "d={'Ramesh': 20, 'Suresh': 25, 'Sathish': 30}\n",
    "d.popitem()\n"
   ]
  },
  {
   "cell_type": "code",
   "execution_count": 32,
   "id": "b75b136f-684b-407f-8c7b-605dd5655eb3",
   "metadata": {},
   "outputs": [
    {
     "data": {
      "text/plain": [
       "{'Ramesh': 20, 'Suresh': 25}"
      ]
     },
     "execution_count": 32,
     "metadata": {},
     "output_type": "execute_result"
    }
   ],
   "source": [
    "d"
   ]
  },
  {
   "cell_type": "code",
   "execution_count": 33,
   "id": "21a3562f-460b-4161-b695-d1295c5ff2bf",
   "metadata": {},
   "outputs": [
    {
     "data": {
      "text/plain": [
       "['Ramesh', 'Suresh']"
      ]
     },
     "execution_count": 33,
     "metadata": {},
     "output_type": "execute_result"
    }
   ],
   "source": [
    "l1=['Ramesh','Suresh','Sathish']\n",
    "l1.pop()\n",
    "l1"
   ]
  },
  {
   "cell_type": "markdown",
   "id": "7d4ddab6-2079-42c1-b8e0-876cbe66a5f2",
   "metadata": {},
   "source": [
    "- **pop** in dictionary, similar analogy **remove** in list\n",
    "\n",
    "- **pop item** in dictionary, similar analogy **pop** in list"
   ]
  },
  {
   "cell_type": "markdown",
   "id": "24b8b2e8-91c6-42e8-8432-447d7b178772",
   "metadata": {},
   "source": [
    "**get**"
   ]
  },
  {
   "cell_type": "code",
   "execution_count": 35,
   "id": "a8d01255-b323-492a-ac03-5053f0c6769b",
   "metadata": {},
   "outputs": [
    {
     "data": {
      "text/plain": [
       "20"
      ]
     },
     "execution_count": 35,
     "metadata": {},
     "output_type": "execute_result"
    }
   ],
   "source": [
    "d={'Ramesh': 20, 'Suresh': 25, 'Sathish': 30}\n",
    "d.get('Ramesh')"
   ]
  },
  {
   "cell_type": "code",
   "execution_count": 36,
   "id": "8a01ef93-4855-4fad-8656-1b834dad4c47",
   "metadata": {},
   "outputs": [
    {
     "data": {
      "text/plain": [
       "20"
      ]
     },
     "execution_count": 36,
     "metadata": {},
     "output_type": "execute_result"
    }
   ],
   "source": [
    "d['Ramesh']  # key as an index"
   ]
  },
  {
   "cell_type": "markdown",
   "id": "1ffb962e-43b6-4117-a8f6-8d1074a4d0f4",
   "metadata": {},
   "source": [
    "**update**\n",
    "\n",
    "- update is similar analogy **list extend**\n",
    "\n",
    "- take two dictionarys and apply update method"
   ]
  },
  {
   "cell_type": "code",
   "execution_count": 38,
   "id": "a701a5b8-5859-4c40-b67f-69c15ac6cf8a",
   "metadata": {},
   "outputs": [
    {
     "data": {
      "text/plain": [
       "{'Ramesh': 20,\n",
       " 'Suresh': 25,\n",
       " 'Sathish': 30,\n",
       " 'Manish': 20,\n",
       " 'Mahesh': 25,\n",
       " 'Saresh': 30}"
      ]
     },
     "execution_count": 38,
     "metadata": {},
     "output_type": "execute_result"
    }
   ],
   "source": [
    "d1={'Ramesh': 20, 'Suresh': 25, 'Sathish': 30}\n",
    "d2={'Manish': 20, 'Mahesh': 25, 'Saresh': 30}\n",
    "d1.update(d2)\n",
    "d1"
   ]
  },
  {
   "cell_type": "code",
   "execution_count": 40,
   "id": "5316e579-80a7-45f4-803c-c7e728cf52e2",
   "metadata": {},
   "outputs": [
    {
     "data": {
      "text/plain": [
       "['Ramesh', 'Suresh', 'Sathish', 20, 30, 40]"
      ]
     },
     "execution_count": 40,
     "metadata": {},
     "output_type": "execute_result"
    }
   ],
   "source": [
    "l1=['Ramesh','Suresh','Sathish']\n",
    "l2=[20,30,40]\n",
    "l1.extend(l2)\n",
    "l1"
   ]
  },
  {
   "cell_type": "markdown",
   "id": "6b930ab1-6fa3-4b3f-ae3d-8e9f4a86960c",
   "metadata": {},
   "source": [
    "- **update in dictionary**, similar analogy **list extend**"
   ]
  },
  {
   "cell_type": "markdown",
   "id": "3cbb9198-c292-4d9e-b9e1-c8d0cecadfec",
   "metadata": {},
   "source": [
    "**setdefault**\n",
    "\n",
    "- suppose an alreday existed dictionary available\n",
    "\n",
    "- we can update the dictionary with new key:value pair"
   ]
  },
  {
   "cell_type": "code",
   "execution_count": 43,
   "id": "1622cd88-ee61-4afd-82f4-3460730ba154",
   "metadata": {},
   "outputs": [
    {
     "data": {
      "text/plain": [
       "{'Ramesh': 20, 'Suresh': 25, 'Sathish': 30, 'Mansih': None, 'Mahesh': 35}"
      ]
     },
     "execution_count": 43,
     "metadata": {},
     "output_type": "execute_result"
    }
   ],
   "source": [
    "d1={'Ramesh': 20, 'Suresh': 25, 'Sathish': 30}\n",
    "d1.setdefault('Mansih')\n",
    "d1.setdefault('Mahesh',35)\n",
    "d1"
   ]
  },
  {
   "cell_type": "markdown",
   "id": "df6e45b5-9e78-419f-a698-92b6a9e4d828",
   "metadata": {},
   "source": [
    "- **setdefault** in dictionary, similar analogy **list append**\n",
    "\n",
    "- always rember dictionary is a key:value pair concept\n",
    "\n",
    "- it never involves index opertaions\n",
    "\n",
    "- thats why we dont have any index or find methods \n",
    "\n",
    "- we have get method to extract values using key"
   ]
  },
  {
   "cell_type": "markdown",
   "id": "04c978c9-a024-4698-b961-8bde452574d7",
   "metadata": {},
   "source": [
    "**fromkeys**\n",
    "\n",
    "- create a dictionary with different keys but same value\n",
    "\n",
    "- fromkeys will take an argument **iterable**\n",
    "\n",
    "- try to provide an iterator i.e string,list,tuple"
   ]
  },
  {
   "cell_type": "code",
   "execution_count": 45,
   "id": "dcdf4170-9353-4232-bd6b-830e31f0e838",
   "metadata": {},
   "outputs": [
    {
     "data": {
      "text/plain": [
       "{'Ramesh': 'NareshIT', 'Suresh': 'NareshIT', 'Sathish': 'NareshIT'}"
      ]
     },
     "execution_count": 45,
     "metadata": {},
     "output_type": "execute_result"
    }
   ],
   "source": [
    "d={}\n",
    "names=['Ramesh','Suresh','Sathish']\n",
    "d.fromkeys(names,'NareshIT')"
   ]
  },
  {
   "cell_type": "code",
   "execution_count": 46,
   "id": "409557f2-ae35-4845-9d09-dae68e843bae",
   "metadata": {},
   "outputs": [
    {
     "data": {
      "text/plain": [
       "{'p': None, 'y': None, 't': None, 'h': None, 'o': None, 'n': None}"
      ]
     },
     "execution_count": 46,
     "metadata": {},
     "output_type": "execute_result"
    }
   ],
   "source": [
    "d={}\n",
    "d.fromkeys('python')"
   ]
  },
  {
   "cell_type": "markdown",
   "id": "b0e909e9-b973-4d3c-84ef-892ffd78a607",
   "metadata": {},
   "source": [
    "- **pop** in dictionary, similar analogy **remove** in list\n",
    "\n",
    "- **pop item** in dictionary, similar analogy **pop** in list\n",
    "\n",
    "- **update in dictionary**, similar analogy **list extend**\n",
    "\n",
    "- **setdefault** in dictionary, similar analogy **list append**\n",
    "\n",
    "- **get** in dictionary, similar analogy **list index**\n",
    "\n",
    "- list has count , string has count and tuple also has count\n",
    "\n",
    "    - but dictionarys does not have **count**\n",
    "\n",
    "    - becuase dictionary does not allow **duplicates**\n",
    "\n",
    "- strings has find but list does not have"
   ]
  },
  {
   "cell_type": "code",
   "execution_count": null,
   "id": "1ef72359-dc7c-4a1d-8662-afa953bea4f8",
   "metadata": {},
   "outputs": [],
   "source": [
    "# take the word document\n",
    "# basic python codes\n",
    "# till today dictionary"
   ]
  }
 ],
 "metadata": {
  "kernelspec": {
   "display_name": "Python 3 (ipykernel)",
   "language": "python",
   "name": "python3"
  },
  "language_info": {
   "codemirror_mode": {
    "name": "ipython",
    "version": 3
   },
   "file_extension": ".py",
   "mimetype": "text/x-python",
   "name": "python",
   "nbconvert_exporter": "python",
   "pygments_lexer": "ipython3",
   "version": "3.11.7"
  }
 },
 "nbformat": 4,
 "nbformat_minor": 5
}
