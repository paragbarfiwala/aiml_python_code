{
 "cells": [
  {
   "cell_type": "code",
   "execution_count": null,
   "id": "90166581-18bd-45c1-892c-617f527bcf80",
   "metadata": {},
   "outputs": [],
   "source": [
    "- variables\n",
    "\n",
    "- eval input\n",
    "\n",
    "- basic python questions\n",
    "\n",
    "- packages\n",
    "\n",
    "- if-else\n",
    "\n",
    "- try-except"
   ]
  },
  {
   "cell_type": "markdown",
   "id": "a1a8a522-77dc-4082-b4ea-c704d27cfd6a",
   "metadata": {},
   "source": [
    "**try-except**\n",
    "\n",
    "- try and except is a concept of exception handling\n",
    "\n",
    "- there are two blocks\n",
    "\n",
    "    - 1.try block\n",
    "\n",
    "    - 2.except block\n",
    "\n",
    "- original code will run under try block\n",
    "\n",
    "- if any error occures in try block, the error will catch by except block\n",
    "\n",
    "- usecase-1: The code should catch the errors automatically\n",
    "\n",
    "- usecase-2: The code should continue eventhough we got the error"
   ]
  },
  {
   "cell_type": "code",
   "execution_count": 1,
   "id": "7e2595a7-abc1-4422-b56c-d589e1fd52e5",
   "metadata": {},
   "outputs": [
    {
     "ename": "ZeroDivisionError",
     "evalue": "division by zero",
     "output_type": "error",
     "traceback": [
      "\u001b[1;31m---------------------------------------------------------------------------\u001b[0m",
      "\u001b[1;31mZeroDivisionError\u001b[0m                         Traceback (most recent call last)",
      "Cell \u001b[1;32mIn[1], line 3\u001b[0m\n\u001b[0;32m      1\u001b[0m a\u001b[38;5;241m=\u001b[39m\u001b[38;5;241m10\u001b[39m\n\u001b[0;32m      2\u001b[0m b\u001b[38;5;241m=\u001b[39m\u001b[38;5;241m0\u001b[39m\n\u001b[1;32m----> 3\u001b[0m c\u001b[38;5;241m=\u001b[39ma\u001b[38;5;241m/\u001b[39mb\n\u001b[0;32m      4\u001b[0m \u001b[38;5;28mprint\u001b[39m(\u001b[38;5;124m'\u001b[39m\u001b[38;5;124mhello\u001b[39m\u001b[38;5;124m'\u001b[39m)\n",
      "\u001b[1;31mZeroDivisionError\u001b[0m: division by zero"
     ]
    }
   ],
   "source": [
    "a=10\n",
    "b=0\n",
    "c=a/b  # this is not a important line\n",
    "       # even though we are getting error nothig wil happend\n",
    "       # my python code should not stop here\n",
    "       # i want to cretae a log in thta i want catch \n",
    "print('hello')"
   ]
  },
  {
   "cell_type": "code",
   "execution_count": 2,
   "id": "8424e1c8-7374-4e1c-91fb-9b71f87210e0",
   "metadata": {},
   "outputs": [
    {
     "name": "stdout",
     "output_type": "stream",
     "text": [
      "error coming in try block\n",
      "zero division error\n"
     ]
    }
   ],
   "source": [
    "try:\n",
    "    a=10\n",
    "    b=0\n",
    "    c=a/b  # we will get error\n",
    "except:  \n",
    "    print('error coming in try block')\n",
    "    print('zero division error')\n",
    "    "
   ]
  },
  {
   "cell_type": "code",
   "execution_count": 3,
   "id": "e21c7e8a-071c-4191-8c0f-6691d6a69870",
   "metadata": {},
   "outputs": [
    {
     "name": "stdout",
     "output_type": "stream",
     "text": [
      "1.0\n"
     ]
    }
   ],
   "source": [
    "try:\n",
    "    a=10\n",
    "    b=10\n",
    "    c=a/b  # we will get error\n",
    "    print(c)\n",
    "except:  \n",
    "    print('error coming in try block')\n",
    "    print('zero division error')"
   ]
  },
  {
   "cell_type": "markdown",
   "id": "2fde38d0-7985-4487-b67c-7988da4c5df7",
   "metadata": {},
   "source": [
    "**Note**: \n",
    "\n",
    "- Except block will run when we got the error in try block\n",
    "\n",
    "- if code is correct only try block executed\n"
   ]
  },
  {
   "cell_type": "markdown",
   "id": "021ef816-3c5e-415c-8002-2c27f49612aa",
   "metadata": {},
   "source": [
    "- syntax error\n",
    "\n",
    "- attribute error\n",
    "\n",
    "- name error\n",
    "\n",
    "- type error\n",
    "\n",
    "- indentation error\n",
    "\n",
    "- module not found error\n",
    "\n",
    "- zero division error\n",
    "\n",
    "- object not callable error"
   ]
  },
  {
   "cell_type": "code",
   "execution_count": 4,
   "id": "8a36d4bc-a26b-49c1-9352-f81df2ab5c7f",
   "metadata": {},
   "outputs": [
    {
     "ename": "SyntaxError",
     "evalue": "incomplete input (1116166254.py, line 4)",
     "output_type": "error",
     "traceback": [
      "\u001b[1;36m  Cell \u001b[1;32mIn[4], line 4\u001b[1;36m\u001b[0m\n\u001b[1;33m    print(c\u001b[0m\n\u001b[1;37m           ^\u001b[0m\n\u001b[1;31mSyntaxError\u001b[0m\u001b[1;31m:\u001b[0m incomplete input\n"
     ]
    }
   ],
   "source": [
    "a=10\n",
    "b=20\n",
    "c=a+b\n",
    "print(c"
   ]
  },
  {
   "cell_type": "markdown",
   "id": "67a6ce18-4d72-4e4e-bb60-4f3def55570b",
   "metadata": {},
   "source": [
    "- syntax error will not catch \n",
    "\n",
    "- minimum expectation every one should write a code with out syntax error\n",
    "\n"
   ]
  },
  {
   "cell_type": "code",
   "execution_count": 5,
   "id": "52b12da1-2051-4911-8616-965624b1a488",
   "metadata": {},
   "outputs": [
    {
     "ename": "ModuleNotFoundError",
     "evalue": "No module named 'nareshit'",
     "output_type": "error",
     "traceback": [
      "\u001b[1;31m---------------------------------------------------------------------------\u001b[0m",
      "\u001b[1;31mModuleNotFoundError\u001b[0m                       Traceback (most recent call last)",
      "Cell \u001b[1;32mIn[5], line 1\u001b[0m\n\u001b[1;32m----> 1\u001b[0m \u001b[38;5;28;01mimport\u001b[39;00m \u001b[38;5;21;01mnareshit\u001b[39;00m\n",
      "\u001b[1;31mModuleNotFoundError\u001b[0m: No module named 'nareshit'"
     ]
    }
   ],
   "source": [
    "import nareshit"
   ]
  },
  {
   "cell_type": "code",
   "execution_count": 6,
   "id": "928807db-48d2-4247-bc78-7bd5270b24ce",
   "metadata": {},
   "outputs": [
    {
     "ename": "AttributeError",
     "evalue": "module 'random' has no attribute 'pushpa'",
     "output_type": "error",
     "traceback": [
      "\u001b[1;31m---------------------------------------------------------------------------\u001b[0m",
      "\u001b[1;31mAttributeError\u001b[0m                            Traceback (most recent call last)",
      "Cell \u001b[1;32mIn[6], line 2\u001b[0m\n\u001b[0;32m      1\u001b[0m \u001b[38;5;28;01mimport\u001b[39;00m \u001b[38;5;21;01mrandom\u001b[39;00m\n\u001b[1;32m----> 2\u001b[0m random\u001b[38;5;241m.\u001b[39mpushpa\n",
      "\u001b[1;31mAttributeError\u001b[0m: module 'random' has no attribute 'pushpa'"
     ]
    }
   ],
   "source": [
    "import random\n",
    "random.pushpa"
   ]
  },
  {
   "cell_type": "code",
   "execution_count": 7,
   "id": "d681bcd1-611c-444c-a9f2-10a35c98cbb2",
   "metadata": {},
   "outputs": [
    {
     "ename": "NameError",
     "evalue": "name 'num1' is not defined",
     "output_type": "error",
     "traceback": [
      "\u001b[1;31m---------------------------------------------------------------------------\u001b[0m",
      "\u001b[1;31mNameError\u001b[0m                                 Traceback (most recent call last)",
      "Cell \u001b[1;32mIn[7], line 1\u001b[0m\n\u001b[1;32m----> 1\u001b[0m c\u001b[38;5;241m=\u001b[39mnum1\u001b[38;5;241m+\u001b[39mnum2\n",
      "\u001b[1;31mNameError\u001b[0m: name 'num1' is not defined"
     ]
    }
   ],
   "source": [
    "c=num1+num2"
   ]
  },
  {
   "cell_type": "code",
   "execution_count": 8,
   "id": "f719e747-65bd-43b7-85bc-5f13852e60ad",
   "metadata": {},
   "outputs": [
    {
     "ename": "TypeError",
     "evalue": "can't multiply sequence by non-int of type 'str'",
     "output_type": "error",
     "traceback": [
      "\u001b[1;31m---------------------------------------------------------------------------\u001b[0m",
      "\u001b[1;31mTypeError\u001b[0m                                 Traceback (most recent call last)",
      "Cell \u001b[1;32mIn[8], line 1\u001b[0m\n\u001b[1;32m----> 1\u001b[0m \u001b[38;5;124m'\u001b[39m\u001b[38;5;124m10\u001b[39m\u001b[38;5;124m'\u001b[39m\u001b[38;5;241m*\u001b[39m\u001b[38;5;124m'\u001b[39m\u001b[38;5;124m10\u001b[39m\u001b[38;5;124m'\u001b[39m\n",
      "\u001b[1;31mTypeError\u001b[0m: can't multiply sequence by non-int of type 'str'"
     ]
    }
   ],
   "source": [
    "'10'*'10'"
   ]
  },
  {
   "cell_type": "code",
   "execution_count": 9,
   "id": "7bc76531-80da-49e4-8a31-6ed40bb815a5",
   "metadata": {},
   "outputs": [
    {
     "ename": "IndentationError",
     "evalue": "expected an indented block after 'if' statement on line 1 (3173271649.py, line 2)",
     "output_type": "error",
     "traceback": [
      "\u001b[1;36m  Cell \u001b[1;32mIn[9], line 2\u001b[1;36m\u001b[0m\n\u001b[1;33m    a=10\u001b[0m\n\u001b[1;37m    ^\u001b[0m\n\u001b[1;31mIndentationError\u001b[0m\u001b[1;31m:\u001b[0m expected an indented block after 'if' statement on line 1\n"
     ]
    }
   ],
   "source": [
    "if True:\n",
    "a=10"
   ]
  },
  {
   "cell_type": "code",
   "execution_count": 10,
   "id": "ad3ace1a-f59c-4dd9-bda0-a91adcc27f03",
   "metadata": {},
   "outputs": [
    {
     "ename": "TypeError",
     "evalue": "'module' object is not callable",
     "output_type": "error",
     "traceback": [
      "\u001b[1;31m---------------------------------------------------------------------------\u001b[0m",
      "\u001b[1;31mTypeError\u001b[0m                                 Traceback (most recent call last)",
      "Cell \u001b[1;32mIn[10], line 1\u001b[0m\n\u001b[1;32m----> 1\u001b[0m random()\n",
      "\u001b[1;31mTypeError\u001b[0m: 'module' object is not callable"
     ]
    }
   ],
   "source": [
    "random()"
   ]
  },
  {
   "cell_type": "code",
   "execution_count": 11,
   "id": "4df1ebc4-e0d6-419c-9e7f-2b55213826c8",
   "metadata": {},
   "outputs": [
    {
     "name": "stdin",
     "output_type": "stream",
     "text": [
      "enter n1: 100\n",
      "enter n2: 10\n"
     ]
    },
    {
     "name": "stdout",
     "output_type": "stream",
     "text": [
      "the div is: 10.0\n"
     ]
    }
   ],
   "source": [
    "n1=eval(input('enter n1:'))\n",
    "n2=eval(input('enter n2:'))\n",
    "div=n1/n2\n",
    "print('the div is:',div)"
   ]
  },
  {
   "cell_type": "code",
   "execution_count": 21,
   "id": "7471e96b-4397-4bd1-abec-730b6b1314fd",
   "metadata": {},
   "outputs": [
    {
     "name": "stdin",
     "output_type": "stream",
     "text": [
      "enter n1: hello\n"
     ]
    },
    {
     "name": "stdout",
     "output_type": "stream",
     "text": [
      "name 'hello' is not defined\n"
     ]
    }
   ],
   "source": [
    "try:\n",
    "    n1=eval(input('enter n1:'))\n",
    "    n2=eval(input('enter n2:'))\n",
    "    div=n1/n2\n",
    "    print('the div is:',div)\n",
    "except Exception as e:\n",
    "    print(e)"
   ]
  },
  {
   "cell_type": "code",
   "execution_count": null,
   "id": "9a0cacae-2ee2-4512-995e-ed8483366a38",
   "metadata": {},
   "outputs": [],
   "source": [
    "try:\n",
    "    import nareshit\n",
    "except Exception as e:\n",
    "    print(e)"
   ]
  },
  {
   "cell_type": "code",
   "execution_count": null,
   "id": "0eb570bf-a365-45e6-a034-cf4cbc6141ae",
   "metadata": {},
   "outputs": [],
   "source": [
    "try:\n",
    "    import random\n",
    "    random.pushpa\n",
    "except Exception as e:\n",
    "    print(e)"
   ]
  },
  {
   "cell_type": "code",
   "execution_count": 22,
   "id": "d0bd0b79-8c33-4dcf-8315-f8119af0980c",
   "metadata": {},
   "outputs": [
    {
     "name": "stdin",
     "output_type": "stream",
     "text": [
      "enter n1: hello\n"
     ]
    },
    {
     "ename": "NameError",
     "evalue": "name 'hello' is not defined",
     "output_type": "error",
     "traceback": [
      "\u001b[1;31m---------------------------------------------------------------------------\u001b[0m",
      "\u001b[1;31mNameError\u001b[0m                                 Traceback (most recent call last)",
      "Cell \u001b[1;32mIn[22], line 1\u001b[0m\n\u001b[1;32m----> 1\u001b[0m \u001b[38;5;28meval\u001b[39m(\u001b[38;5;28minput\u001b[39m(\u001b[38;5;124m'\u001b[39m\u001b[38;5;124menter n1:\u001b[39m\u001b[38;5;124m'\u001b[39m))\n",
      "File \u001b[1;32m<string>:1\u001b[0m\n",
      "\u001b[1;31mNameError\u001b[0m: name 'hello' is not defined"
     ]
    }
   ],
   "source": [
    "eval(input('enter n1:'))"
   ]
  },
  {
   "cell_type": "code",
   "execution_count": 23,
   "id": "fa47f4d6-24df-4daa-b636-20ee8a424353",
   "metadata": {},
   "outputs": [
    {
     "name": "stdout",
     "output_type": "stream",
     "text": [
      "unsupported operand type(s) for /: 'int' and 'str'\n"
     ]
    }
   ],
   "source": [
    "try:\n",
    "    a=1\n",
    "    b='a'\n",
    "    c=a/b\n",
    "except Exception as e:\n",
    "    print(e)"
   ]
  },
  {
   "cell_type": "markdown",
   "id": "e07b25f1-fddb-4ade-b18f-2e8971bf9111",
   "metadata": {},
   "source": [
    "- step-1: are you able to write the code with out silly mistakes\n",
    "\n",
    "- step-2: are you able to understand the logic\n",
    "\n",
    "- step-3: are you able to implement the logic\n",
    "\n"
   ]
  },
  {
   "cell_type": "code",
   "execution_count": 24,
   "id": "d1108eb6-1789-4152-b176-c91eba0eda54",
   "metadata": {},
   "outputs": [
    {
     "name": "stdin",
     "output_type": "stream",
     "text": [
      "enter the number: 20\n"
     ]
    },
    {
     "name": "stdout",
     "output_type": "stream",
     "text": [
      "20 is an even\n"
     ]
    }
   ],
   "source": [
    "n1=eval(input('enter the number:'))\n",
    "if n1%2==0:\n",
    "    print(f\"{n1} is an even\")\n",
    "else:\n",
    "    print(f\"{n1} is an odd\")"
   ]
  },
  {
   "cell_type": "code",
   "execution_count": 28,
   "id": "0aae4098-52b2-46ad-8877-c46ac16b15be",
   "metadata": {},
   "outputs": [
    {
     "name": "stdin",
     "output_type": "stream",
     "text": [
      "enter the number: 45\n"
     ]
    },
    {
     "name": "stdout",
     "output_type": "stream",
     "text": [
      "name 'n21' is not defined\n",
      "a+b: 30\n"
     ]
    }
   ],
   "source": [
    "try:\n",
    "    n1=eval(input('enter the number:'))\n",
    "    if n1%2==0:\n",
    "        print(f\"{n21} is an even\")\n",
    "    else:\n",
    "        print(f\"{n21} is an odd\")  \n",
    "except Exception as e:\n",
    "    print(e)\n",
    "    a=10\n",
    "    b=20\n",
    "    print('a+b:',a+b)\n",
    "\n",
    "# step-1: n1=45\n",
    "# step-2: if 45%2==0   False\n",
    "# step-3: else   n21 error\n",
    "# step-4: exception block catch the error\n",
    "# step-5:  a=10  b=20  30"
   ]
  },
  {
   "cell_type": "code",
   "execution_count": 29,
   "id": "decbb9e1-0781-48d3-afae-4bba48d87abd",
   "metadata": {},
   "outputs": [
    {
     "name": "stdin",
     "output_type": "stream",
     "text": [
      "enter number : 20\n"
     ]
    },
    {
     "name": "stdout",
     "output_type": "stream",
     "text": [
      "20 is even number\n"
     ]
    }
   ],
   "source": [
    "try:\n",
    "    n1=eval(input(\"enter number :\"))\n",
    "    if n1%2==0:\n",
    "        print(f\"{n1} is even number\")\n",
    "    else:\n",
    "        print(f\"{n1} is odd number\")\n",
    "except Exception as e:\n",
    "    print(e)"
   ]
  },
  {
   "cell_type": "code",
   "execution_count": null,
   "id": "e81e93c3-a0ea-47a8-9923-814ba5185c38",
   "metadata": {},
   "outputs": [],
   "source": [
    "basic qns: 7-8 practice \n",
    "if-else : 7-8 pratice\n",
    "\n",
    "every code should write with try-except"
   ]
  }
 ],
 "metadata": {
  "kernelspec": {
   "display_name": "Python 3 (ipykernel)",
   "language": "python",
   "name": "python3"
  },
  "language_info": {
   "codemirror_mode": {
    "name": "ipython",
    "version": 3
   },
   "file_extension": ".py",
   "mimetype": "text/x-python",
   "name": "python",
   "nbconvert_exporter": "python",
   "pygments_lexer": "ipython3",
   "version": "3.11.7"
  }
 },
 "nbformat": 4,
 "nbformat_minor": 5
}
