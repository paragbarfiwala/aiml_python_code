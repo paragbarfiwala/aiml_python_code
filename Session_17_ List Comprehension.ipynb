{
 "cells": [
  {
   "cell_type": "markdown",
   "id": "22bb7ef2-5695-4b25-82b8-5d33a6a14e7e",
   "metadata": {},
   "source": [
    "## List comprehension\n",
    "\n",
    "- List comprehension a way to write list operations in a single line\n",
    "\n",
    "- when we apply for loop and if-else conditional statements then the code compilation\n",
    "  becomes slow\n",
    "\n",
    "- which means it takes much time \n",
    "\n",
    "- in order to avoid the time complexity we will use list comprehension\n",
    "\n",
    "- List comprehension is a single line code"
   ]
  },
  {
   "cell_type": "markdown",
   "id": "727e4c1b-303f-4d3e-82d3-acfad08e586b",
   "metadata": {},
   "source": [
    "**Case-1: Only for loop**"
   ]
  },
  {
   "cell_type": "code",
   "execution_count": 1,
   "id": "a8158b86-07f8-4eb9-bc4d-8c1ebcac0603",
   "metadata": {},
   "outputs": [
    {
     "data": {
      "text/plain": [
       "[0, 1, 2, 3, 4, 5, 6, 7, 8, 9]"
      ]
     },
     "execution_count": 1,
     "metadata": {},
     "output_type": "execute_result"
    }
   ],
   "source": [
    "list1=[]\n",
    "for i in range(10):\n",
    "    list1.append(i)\n",
    "list1"
   ]
  },
  {
   "cell_type": "code",
   "execution_count": null,
   "id": "8989aa5d-e625-4624-82f0-265846615157",
   "metadata": {},
   "outputs": [],
   "source": [
    "list1=[<code should write here>]\n",
    "# inside code no need of append\n",
    "list1=[<output var> <for loop>]"
   ]
  },
  {
   "cell_type": "code",
   "execution_count": 2,
   "id": "ce7e0171-2cf0-4f82-8a98-c6dd0b1ee9e9",
   "metadata": {},
   "outputs": [
    {
     "data": {
      "text/plain": [
       "[0, 1, 2, 3, 4, 5, 6, 7, 8, 9]"
      ]
     },
     "execution_count": 2,
     "metadata": {},
     "output_type": "execute_result"
    }
   ],
   "source": [
    "list1=[i for i in range(10)]\n",
    "list1"
   ]
  },
  {
   "cell_type": "markdown",
   "id": "66251acb-56a9-433c-9d7d-7abd450dd196",
   "metadata": {},
   "source": [
    "**dont give : after for loop**"
   ]
  },
  {
   "cell_type": "code",
   "execution_count": null,
   "id": "06368726-70ee-4967-ac1a-ab2180be9ee7",
   "metadata": {},
   "outputs": [],
   "source": [
    "# Q1) input=['hyd','bengaluru','pune','mumbai']\n",
    "#     output=['Hyd','Bengaluru','Pune','Mumbai']\n",
    "\n",
    "# Q2) input=['hyd','bengaluru','pune','mumbai']\n",
    "#     output=['HYD','BENGALURU','PUNE','MUMBAI']\n",
    "\n",
    "# Q3) input=['hyd','bengaluru','pune','mumbai']\n",
    "#     multiply the indexes with 10\n",
    "\n",
    "# Q4) input=['hyd','bengaluru','pune','mumbai']\n",
    "#     calculate the sum of the indexs\n",
    "\n",
    "# Q5) Sum of first 10 natural numbers answer save in a list"
   ]
  },
  {
   "cell_type": "code",
   "execution_count": 3,
   "id": "625ddc9c-6289-49ed-babe-48af44f423a2",
   "metadata": {},
   "outputs": [
    {
     "data": {
      "text/plain": [
       "['Hyd', 'Bengaluru', 'Pune', 'Mumbai']"
      ]
     },
     "execution_count": 3,
     "metadata": {},
     "output_type": "execute_result"
    }
   ],
   "source": [
    "# Q1) input=['hyd','bengaluru','pune','mumbai']\n",
    "#     output=['Hyd','Bengaluru','Pune','Mumbai']\n",
    "input=['hyd','bengaluru','pune','mumbai']\n",
    "output=[]\n",
    "for i in input:\n",
    "    output.append(i.capitalize())\n",
    "output"
   ]
  },
  {
   "cell_type": "code",
   "execution_count": 4,
   "id": "9813de85-d772-4de3-9813-43c6dae9dcb6",
   "metadata": {},
   "outputs": [
    {
     "data": {
      "text/plain": [
       "['Hyd', 'Bengaluru', 'Pune', 'Mumbai']"
      ]
     },
     "execution_count": 4,
     "metadata": {},
     "output_type": "execute_result"
    }
   ],
   "source": [
    "input=['hyd','bengaluru','pune','mumbai']\n",
    "output=[i.capitalize() for i in input]\n",
    "output"
   ]
  },
  {
   "cell_type": "code",
   "execution_count": 5,
   "id": "9e391cf4-3b59-4762-88ae-70a44445e711",
   "metadata": {},
   "outputs": [
    {
     "data": {
      "text/plain": [
       "['HYD', 'BENGALURU', 'PUNE', 'MUMBAI']"
      ]
     },
     "execution_count": 5,
     "metadata": {},
     "output_type": "execute_result"
    }
   ],
   "source": [
    "# Q2) input=['hyd','bengaluru','pune','mumbai']\n",
    "#     output=['HYD','BENGALURU','PUNE','MUMBAI']\n",
    "input=['hyd','bengaluru','pune','mumbai']\n",
    "output=[]\n",
    "for i in input:\n",
    "    output.append(i.upper())\n",
    "output"
   ]
  },
  {
   "cell_type": "code",
   "execution_count": 6,
   "id": "83fd85a0-ea54-4d54-a421-780c48e028b5",
   "metadata": {},
   "outputs": [
    {
     "data": {
      "text/plain": [
       "['HYD', 'BENGALURU', 'PUNE', 'MUMBAI']"
      ]
     },
     "execution_count": 6,
     "metadata": {},
     "output_type": "execute_result"
    }
   ],
   "source": [
    "input=['hyd','bengaluru','pune','mumbai']\n",
    "output=[i.upper() for i in input]\n",
    "output"
   ]
  },
  {
   "cell_type": "code",
   "execution_count": 10,
   "id": "cde74c98-1205-47d7-8ef7-ebbeca836b97",
   "metadata": {},
   "outputs": [
    {
     "data": {
      "text/plain": [
       "[0, 10, 20, 30]"
      ]
     },
     "execution_count": 10,
     "metadata": {},
     "output_type": "execute_result"
    }
   ],
   "source": [
    "# Q3) input=['hyd','bengaluru','pune','mumbai']\n",
    "#     multiply the indexes with 10\n",
    "\n",
    "# idea : get the indexes list first\n",
    "#       then multiply with 10\n",
    "\n",
    "input=['hyd','bengaluru','pune','mumbai']\n",
    "# for i in input:\n",
    "#     print(input.index(i)*10)\n",
    "\n",
    "[input.index(i)*10 for i in ['hyd','bengaluru','pune','mumbai']]\n",
    "[input.index(i)*10 for i in input]"
   ]
  },
  {
   "cell_type": "code",
   "execution_count": 12,
   "id": "07ebcb8a-1f51-4e95-a89c-44c51097d65e",
   "metadata": {},
   "outputs": [
    {
     "data": {
      "text/plain": [
       "60"
      ]
     },
     "execution_count": 12,
     "metadata": {},
     "output_type": "execute_result"
    }
   ],
   "source": [
    "# Q4) input=['hyd','bengaluru','pune','mumbai']\n",
    "#     calculate the sum of the indexs\n",
    "input=['hyd','bengaluru','pune','mumbai']\n",
    "output=[input.index(i)*10 for i in input]\n",
    "sum(output)"
   ]
  },
  {
   "cell_type": "code",
   "execution_count": 13,
   "id": "cc1948f9-885d-4c96-831a-f19b731de14b",
   "metadata": {},
   "outputs": [
    {
     "name": "stdout",
     "output_type": "stream",
     "text": [
      "55\n"
     ]
    }
   ],
   "source": [
    "summ=0\n",
    "for i in range(1,11):\n",
    "    summ=summ+i\n",
    "print(summ)"
   ]
  },
  {
   "cell_type": "markdown",
   "id": "01c65c8f-2046-4cb7-97eb-fd5607c3273e",
   "metadata": {},
   "source": [
    "**walrus operator**"
   ]
  },
  {
   "cell_type": "code",
   "execution_count": 20,
   "id": "75047ffc-307e-437e-89a9-9367d310adc9",
   "metadata": {},
   "outputs": [
    {
     "data": {
      "text/plain": [
       "55"
      ]
     },
     "execution_count": 20,
     "metadata": {},
     "output_type": "execute_result"
    }
   ],
   "source": [
    "summ=0\n",
    "# for i in range(1,11):\n",
    "#     summ=summ+i\n",
    "[summ:=summ+i for i in range(1,11)]\n",
    "summ"
   ]
  },
  {
   "cell_type": "markdown",
   "id": "7e86258c-5d80-4788-b2b9-da5cb75f6364",
   "metadata": {},
   "source": [
    "**Case-2: for loop if condition**"
   ]
  },
  {
   "cell_type": "code",
   "execution_count": 25,
   "id": "932a0ebb-f7fb-492a-a732-750b2aa65e39",
   "metadata": {},
   "outputs": [
    {
     "data": {
      "text/plain": [
       "['even:2', 'even:4', 'even:6', 'even:8']"
      ]
     },
     "execution_count": 25,
     "metadata": {},
     "output_type": "execute_result"
    }
   ],
   "source": [
    "# even number\n",
    "even_list=[]\n",
    "for i in range(1,10):\n",
    "    if i%2==0:\n",
    "        even_list.append(f'even:{i}')\n",
    "even_list"
   ]
  },
  {
   "cell_type": "code",
   "execution_count": null,
   "id": "42b4bb74-15a2-4d1f-ac9f-4eb9e0a3c153",
   "metadata": {},
   "outputs": [],
   "source": [
    "[<output> <if condtiton> <forloop>] --- not working\n",
    "[<output> <forloop> <if condtiton>] --- working"
   ]
  },
  {
   "cell_type": "code",
   "execution_count": 26,
   "id": "45feee22-7d85-46a7-bf98-466fc6a3c65f",
   "metadata": {},
   "outputs": [
    {
     "data": {
      "text/plain": [
       "['even:2', 'even:4', 'even:6', 'even:8']"
      ]
     },
     "execution_count": 26,
     "metadata": {},
     "output_type": "execute_result"
    }
   ],
   "source": [
    "[f'even:{i}' for i in range(1,10) if i%2==0]"
   ]
  },
  {
   "cell_type": "code",
   "execution_count": null,
   "id": "2208f249-42d2-48c3-b92b-6ab178a0820e",
   "metadata": {},
   "outputs": [],
   "source": [
    "# Q6) input=['hyd','ben#galuru','pune','mu#mbai']\n",
    "#     output=[ben#galuru',mu#mbai']\n",
    "\n",
    "# Q7) input=['hyd','ben#galuru','pune','mu#mbai']\n",
    "#     output=[hyd,pune]"
   ]
  },
  {
   "cell_type": "code",
   "execution_count": 28,
   "id": "24c51245-fda8-4ebd-9c1f-91127337c751",
   "metadata": {},
   "outputs": [
    {
     "data": {
      "text/plain": [
       "['ben#galuru', 'mu#mbai']"
      ]
     },
     "execution_count": 28,
     "metadata": {},
     "output_type": "execute_result"
    }
   ],
   "source": [
    "# Q6) input=['hyd','ben#galuru','pune','mu#mbai']\n",
    "#     output=[ben#galuru',mu#mbai']\n",
    "input=['hyd','ben#galuru','pune','mu#mbai']\n",
    "output=[]\n",
    "for i in input:\n",
    "    if '#' in i:\n",
    "        output.append(i)\n",
    "output"
   ]
  },
  {
   "cell_type": "code",
   "execution_count": 29,
   "id": "4fcbd7d3-b9fe-4f4b-870d-b65910ab4f08",
   "metadata": {},
   "outputs": [
    {
     "data": {
      "text/plain": [
       "['ben#galuru', 'mu#mbai']"
      ]
     },
     "execution_count": 29,
     "metadata": {},
     "output_type": "execute_result"
    }
   ],
   "source": [
    "input=['hyd','ben#galuru','pune','mu#mbai']\n",
    "output=[i for i in input if '#' in i]\n",
    "output"
   ]
  },
  {
   "cell_type": "code",
   "execution_count": 31,
   "id": "c79b409a-0b90-458b-83ad-2c0602d3d1d6",
   "metadata": {},
   "outputs": [
    {
     "data": {
      "text/plain": [
       "['hyd', 'pune']"
      ]
     },
     "execution_count": 31,
     "metadata": {},
     "output_type": "execute_result"
    }
   ],
   "source": [
    "# Q7) input=['hyd','ben#galuru','pune','mu#mbai']\n",
    "#     output=[hyd,pune]\n",
    "input=['hyd','ben#galuru','pune','mu#mbai']\n",
    "output=[i for i in input if '#' not in i]\n",
    "output"
   ]
  },
  {
   "cell_type": "markdown",
   "id": "8e565f9a-89ff-420b-a3e8-d8e131fa7236",
   "metadata": {},
   "source": [
    "**case-3:for-if-else**"
   ]
  },
  {
   "cell_type": "code",
   "execution_count": null,
   "id": "aa793498-8389-4309-894e-825b80665890",
   "metadata": {},
   "outputs": [],
   "source": [
    "case-1 for loop: [<output> <for loop>]\n",
    "case-2: for-if: [<output> <for loop> <if condi>]\n",
    "case-3: for-if-else: [<if out> <if cond> else <else out> <for loop>]"
   ]
  },
  {
   "cell_type": "code",
   "execution_count": 33,
   "id": "93f4d5a4-634e-4017-85dd-8b0f0e47eabf",
   "metadata": {},
   "outputs": [
    {
     "data": {
      "text/plain": [
       "['odd:1',\n",
       " 'even:2',\n",
       " 'odd:3',\n",
       " 'even:4',\n",
       " 'odd:5',\n",
       " 'even:6',\n",
       " 'odd:7',\n",
       " 'even:8',\n",
       " 'odd:9']"
      ]
     },
     "execution_count": 33,
     "metadata": {},
     "output_type": "execute_result"
    }
   ],
   "source": [
    "# even number\n",
    "# list1=[]\n",
    "# for i in range(1,10):\n",
    "#     if i%2==0:\n",
    "#         list1.append(f'even:{i}')\n",
    "#     else:\n",
    "#         list1.append(f'odd:{i}')\n",
    "# list1\n",
    "\n",
    "[f'even:{i}' if i%2==0 else f'odd:{i}' for i in range(1,10)] "
   ]
  },
  {
   "cell_type": "markdown",
   "id": "b7e3fd22-db94-46ec-b777-6a56b7fc8ec3",
   "metadata": {},
   "source": [
    "**case-4: for-if-elif-else**\n",
    "\n",
    "- in List Comprehension we dont have **elif** representation\n",
    "\n",
    "- elif also represent as **else+if**\n",
    "\n",
    "- in elif we have **elif condition** and **elif output**\n",
    "\n",
    "- else elif_output elif_condition  "
   ]
  },
  {
   "cell_type": "code",
   "execution_count": null,
   "id": "520ea49f-6c71-4dff-842c-cd7a9da2dc1a",
   "metadata": {},
   "outputs": [],
   "source": [
    "case-1 for loop: [<output> <for loop>]\n",
    "case-2: for-if: [<output> <for loop> <if condi>]\n",
    "case-3: for-if-else: [<if out> <if cond> else <else out> <for loop>]\n",
    "case-4: for-if-elif-else:\n",
    "\n",
    "[<if out> <if cond> else <elif out> <elif cond> else <else out> <for loop>]\n",
    "\n",
    "**Note**: instead of elif term write if "
   ]
  },
  {
   "cell_type": "code",
   "execution_count": 35,
   "id": "442c8cea-9ce4-4297-b214-1859538d1ec7",
   "metadata": {},
   "outputs": [
    {
     "name": "stdout",
     "output_type": "stream",
     "text": [
      "45: C grade\n",
      "55: C grade\n",
      "65: B grade\n",
      "75: B grade\n",
      "85: B grade\n",
      "95: A grade\n"
     ]
    }
   ],
   "source": [
    "# >85 A grade  60-85 B grade  less than 60 C grade\n",
    "l=[45,55,65,75,85,95]\n",
    "for i in l:\n",
    "    if i>85:\n",
    "        print(f'{i}: A grade')\n",
    "    elif i>60:\n",
    "        print(f'{i}: B grade')\n",
    "    else:\n",
    "        print(f'{i}: C grade')"
   ]
  },
  {
   "cell_type": "code",
   "execution_count": 41,
   "id": "642eca20-73df-4026-9228-b40233ccac3e",
   "metadata": {},
   "outputs": [
    {
     "data": {
      "text/plain": [
       "['45: C grade',\n",
       " '55: C grade',\n",
       " '65: B grade',\n",
       " '75: B grade',\n",
       " '85: B grade',\n",
       " '95: A grade']"
      ]
     },
     "execution_count": 41,
     "metadata": {},
     "output_type": "execute_result"
    }
   ],
   "source": [
    "#[<if out> <if cond> else <elif out> <elif cond> else <else out> <for loop>]\n",
    "[f'{i}: A grade' if i>85 \\\n",
    " else \n",
    " f'{i}: B grade' if i>60 \\\n",
    " else f'{i}: C grade' \\\n",
    " for i in l]"
   ]
  },
  {
   "cell_type": "code",
   "execution_count": null,
   "id": "36ec9ff0-911b-4bef-af1f-e720a24c4c46",
   "metadata": {},
   "outputs": [],
   "source": [
    "case-1 for loop: [<output> <for loop>]\n",
    "case-2: for-if: [<output> <for loop> <if condi>]\n",
    "case-3: for-if-else: [<if out> <if cond> else <else out> <for loop>]\n",
    "case-4: for-if-elif-else:\n",
    "\n",
    "[<if out> <if cond> else <elif out> <elif cond> else <else out> <for loop>]"
   ]
  },
  {
   "cell_type": "markdown",
   "id": "24d17ab0-65af-4ed2-bcb2-809766e38c91",
   "metadata": {},
   "source": [
    "**screening paper question**"
   ]
  },
  {
   "cell_type": "code",
   "execution_count": 1,
   "id": "cc2449b8-a87f-4b6f-928d-e0f63c41f8e4",
   "metadata": {},
   "outputs": [],
   "source": [
    "marks=[45,76,89,53,67,90,82,49,33,99]\n"
   ]
  },
  {
   "cell_type": "code",
   "execution_count": 5,
   "id": "2805aecd-b82c-4e47-9523-05b0ae9065a7",
   "metadata": {},
   "outputs": [
    {
     "data": {
      "text/plain": [
       "[76, 89, 53, 67, 90, 82, 99]"
      ]
     },
     "execution_count": 5,
     "metadata": {},
     "output_type": "execute_result"
    }
   ],
   "source": [
    "# Q1) Filter the students who passes marks>=50\n",
    "# for i in marks:\n",
    "#     if i>=50:\n",
    "#         print(marks.index(i))\n",
    "\n",
    "[i for i in marks if i>=50]"
   ]
  },
  {
   "cell_type": "code",
   "execution_count": 6,
   "id": "2b9eb34e-7503-4656-af2a-697055f7ef70",
   "metadata": {},
   "outputs": [
    {
     "name": "stdout",
     "output_type": "stream",
     "text": [
      "45:F\n",
      "76:B\n",
      "89:A\n",
      "53:C\n",
      "67:C\n",
      "90:A\n",
      "82:B\n",
      "49:F\n",
      "33:F\n",
      "99:A\n"
     ]
    }
   ],
   "source": [
    "# Q2) calculate grades of all students\n",
    "# A: 85+   B: 70-84  C: 50-69 F< 50\n",
    "for i in marks:\n",
    "    if i>=85:\n",
    "        print(f'{i}:A')\n",
    "    elif i>=70:\n",
    "        print(f'{i}:B')\n",
    "    elif i>=50:\n",
    "        print(f'{i}:C')\n",
    "    else:\n",
    "        print(f'{i}:F')\n",
    "\n"
   ]
  },
  {
   "cell_type": "code",
   "execution_count": 7,
   "id": "6225a8ff-c9b4-4166-a04d-ba4fdefc6dd4",
   "metadata": {},
   "outputs": [
    {
     "name": "stdout",
     "output_type": "stream",
     "text": [
      "['Marks = 45 : F grade.', 'Marks = 76 : B grade.', 'Marks = 89 : A grade.', 'Marks = 53 : C grade.', 'Marks = 67 : C grade.', 'Marks = 90 : A grade.', 'Marks = 82 : B grade.', 'Marks = 49 : F grade.', 'Marks = 33 : F grade.', 'Marks = 99 : A grade.']\n"
     ]
    }
   ],
   "source": [
    "marks = [45,76,89,53,67,90,82,49,33,99]\n",
    "grades_list = [f\"Marks = {i} : A grade.\" if i>=85 else f\"Marks = {i} : B grade.\" if i>=70 else f\"Marks = {i} : C grade.\" if i>=50 else f\"Marks = {i} : F grade.\" for i in marks]\n",
    "print(grades_list)"
   ]
  },
  {
   "cell_type": "code",
   "execution_count": 8,
   "id": "901bb917-93c0-493f-a4b6-83627e9c740e",
   "metadata": {},
   "outputs": [
    {
     "data": {
      "text/plain": [
       "['Marks = 45 : F grade.',\n",
       " 'Marks = 76 : B grade.',\n",
       " 'Marks = 89 : A grade.',\n",
       " 'Marks = 53 : C grade.',\n",
       " 'Marks = 67 : C grade.',\n",
       " 'Marks = 90 : A grade.',\n",
       " 'Marks = 82 : B grade.',\n",
       " 'Marks = 49 : F grade.',\n",
       " 'Marks = 33 : F grade.',\n",
       " 'Marks = 99 : A grade.']"
      ]
     },
     "execution_count": 8,
     "metadata": {},
     "output_type": "execute_result"
    }
   ],
   "source": [
    "[f\"Marks = {i} : A grade.\" if i>=85\n",
    "else f\"Marks = {i} : B grade.\" if i>=70\n",
    "else f\"Marks = {i} : C grade.\" if i>=50\n",
    "else f\"Marks = {i} : F grade.\"\n",
    "for i in marks]"
   ]
  },
  {
   "cell_type": "code",
   "execution_count": 11,
   "id": "d9bf6c62-bf9f-4265-8a1c-e8408d311713",
   "metadata": {},
   "outputs": [
    {
     "data": {
      "text/plain": [
       "[50, 54, 38]"
      ]
     },
     "execution_count": 11,
     "metadata": {},
     "output_type": "execute_result"
    }
   ],
   "source": [
    "# Q3) Add 5 marks grace to failed\n",
    "\n",
    "# for i in marks:\n",
    "#     if i<50:\n",
    "#         print(i+5)\n",
    "[i+5 for i in marks if i<50]"
   ]
  },
  {
   "cell_type": "code",
   "execution_count": 12,
   "id": "131d2106-6d36-499b-a5dc-2d90f61db9aa",
   "metadata": {},
   "outputs": [
    {
     "data": {
      "text/plain": [
       "[45, 76, 89, 53, 67, 90, 82, 49, 33, 99]"
      ]
     },
     "execution_count": 12,
     "metadata": {},
     "output_type": "execute_result"
    }
   ],
   "source": [
    "# Q4) top 5\n",
    "marks\n",
    "# with out using sorted or sort method sort all the values\n"
   ]
  },
  {
   "cell_type": "code",
   "execution_count": 13,
   "id": "01023aa0-3746-49b8-9cf4-3194b6e6cb61",
   "metadata": {},
   "outputs": [
    {
     "name": "stdout",
     "output_type": "stream",
     "text": [
      "[99, 90, 89]\n"
     ]
    }
   ],
   "source": [
    "marks = [45,76,89,53,67,90,82,49,33,99]\n",
    "top_3 = [(max_val:= max(marks), marks.remove(max_val))[0] for i in range(3)]\n",
    "print(top_3)"
   ]
  },
  {
   "cell_type": "code",
   "execution_count": 14,
   "id": "d181d102-6cc4-4312-b178-dadfabdded40",
   "metadata": {},
   "outputs": [
    {
     "data": {
      "text/plain": [
       "99"
      ]
     },
     "execution_count": 14,
     "metadata": {},
     "output_type": "execute_result"
    }
   ],
   "source": [
    "marks = [45,76,89,53,67,90,82,49,33,99]\n",
    "max(marks)"
   ]
  },
  {
   "cell_type": "code",
   "execution_count": 19,
   "id": "89a724a6-1248-4e9a-ba8f-8c3d6a2ba64d",
   "metadata": {},
   "outputs": [
    {
     "name": "stdout",
     "output_type": "stream",
     "text": [
      "99\n",
      "90\n",
      "89\n"
     ]
    }
   ],
   "source": [
    "marks = [45,76,89,53,67,90,82,49,33,99]\n",
    "max_val=max(marks) # 99\n",
    "for i in range(3):\n",
    "    max_val=max(marks) # 99 90 89\n",
    "    print(max_val)     # 99 90 89\n",
    "    marks.remove(max_val) ## 99 gone 90 89"
   ]
  },
  {
   "cell_type": "code",
   "execution_count": 21,
   "id": "e711c055-06b8-4f45-b3bf-f83b85efd43a",
   "metadata": {},
   "outputs": [
    {
     "data": {
      "text/plain": [
       "68.3"
      ]
     },
     "execution_count": 21,
     "metadata": {},
     "output_type": "execute_result"
    }
   ],
   "source": [
    "# Find the avergae marks\n",
    "\n",
    "summ=0\n",
    "marks = [45,76,89,53,67,90,82,49,33,99]\n",
    "[summ:=summ+i for i in marks]\n",
    "summ/len(marks)"
   ]
  },
  {
   "cell_type": "markdown",
   "id": "a863cc80-a733-43d8-ad68-0cefb7999a22",
   "metadata": {},
   "source": [
    "**distance between two points**\n"
   ]
  },
  {
   "cell_type": "code",
   "execution_count": null,
   "id": "f1deec1d-dad0-4291-920e-8e43fbd1ad46",
   "metadata": {},
   "outputs": [],
   "source": [
    "l1=[[1,2],[4,5],[7,9]]\n",
    "l2=[10,20]\n",
    "# find the distance between l2 with all other points from l1\n",
    "# which is the maximum distance give me that"
   ]
  },
  {
   "cell_type": "markdown",
   "id": "498229b5-66b4-406a-a245-29a35046854b",
   "metadata": {},
   "source": [
    "<img id=\"dimg_UXypZ974O5KPseMPhf6eoA4_291\" src=\"data:image/png;base64,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\" class=\"YQ4gaf\" height=\"162\" style=\"object-position:71% 75%\" width=\"311\" alt=\"Calculate Euclidean distance in Python ...\" data-csiid=\"UXypZ974O5KPseMPhf6eoA4_22\" data-atf=\"1\">"
   ]
  },
  {
   "cell_type": "code",
   "execution_count": 30,
   "id": "09005b1b-ae21-4972-a68c-4f6e4b7f4857",
   "metadata": {},
   "outputs": [],
   "source": [
    "import math\n",
    "l1=[10,20]  # [x1,y1]\n",
    "l2=[30,40]  # [x2,y2]\n",
    "##########################################\n",
    "d1=l2[0]-l1[0] # (x2-x1)^2= 30-10=20\n",
    "d1_square=math.pow(d1,2)\n",
    "d1_square\n",
    "#######################################\n",
    "d2=l2[1]-l1[1] # (y2-y1)^2= 40-20=20\n",
    "d2_square=math.pow(d2,2)\n",
    "d2_square\n",
    "######################################\n",
    "summ=d1_square+d2_square\n",
    "##########################################\n",
    "math.sqrt(summ)"
   ]
  },
  {
   "cell_type": "code",
   "execution_count": 31,
   "id": "f9ddb29d-2277-44c5-99dc-831cf9e86e6c",
   "metadata": {},
   "outputs": [
    {
     "data": {
      "text/plain": [
       "22.360679774997898"
      ]
     },
     "execution_count": 31,
     "metadata": {},
     "output_type": "execute_result"
    }
   ],
   "source": [
    "math.sqrt(math.pow(l2[0]-l1[0],2)+math.pow(l2[1]-l1[1],2))"
   ]
  },
  {
   "cell_type": "code",
   "execution_count": 29,
   "id": "024e7eb7-8ba2-4c85-b25d-24baee305179",
   "metadata": {},
   "outputs": [
    {
     "name": "stdout",
     "output_type": "stream",
     "text": [
      "100\n",
      "400\n"
     ]
    },
    {
     "data": {
      "text/plain": [
       "0.0"
      ]
     },
     "execution_count": 29,
     "metadata": {},
     "output_type": "execute_result"
    }
   ],
   "source": [
    "import math\n",
    "l1 = [10, 20]\n",
    "l2 = [20, 40]\n",
    "co_diff = 0\n",
    "for j in range(len(l2)):\n",
    "    co_diff += pow(l2[j] - l1[j], 2)\n",
    "    print(pow(l2[j] - l1[j], 2))\n",
    "    print(co_diff)\n",
    "\n",
    "output = math.sqrt(co_diff)\n",
    "output"
   ]
  },
  {
   "cell_type": "code",
   "execution_count": null,
   "id": "74a48402-323d-423a-b4a8-4f8c5c5ca540",
   "metadata": {},
   "outputs": [],
   "source": [
    "# how to sort the list\n",
    "# how to find the maximum value of the list\n",
    "# how to find the minimum value of the list\n",
    "# how to find the second maximum value of the list\n",
    "# how to find the second minimum value of the list\n",
    "# how to find the longest word of a string\n",
    "# how to find the most repeated word of a string\n",
    "\n",
    "[10,20,30,35,120,500,490,320,240,120]"
   ]
  }
 ],
 "metadata": {
  "kernelspec": {
   "display_name": "Python 3 (ipykernel)",
   "language": "python",
   "name": "python3"
  },
  "language_info": {
   "codemirror_mode": {
    "name": "ipython",
    "version": 3
   },
   "file_extension": ".py",
   "mimetype": "text/x-python",
   "name": "python",
   "nbconvert_exporter": "python",
   "pygments_lexer": "ipython3",
   "version": "3.11.7"
  }
 },
 "nbformat": 4,
 "nbformat_minor": 5
}
