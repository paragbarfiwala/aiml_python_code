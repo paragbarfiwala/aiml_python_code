{
 "cells": [
  {
   "cell_type": "code",
   "execution_count": 1,
   "id": "3410122c-83db-46ef-acda-0a78cb88192f",
   "metadata": {},
   "outputs": [
    {
     "data": {
      "text/plain": [
       "20"
      ]
     },
     "execution_count": 1,
     "metadata": {},
     "output_type": "execute_result"
    }
   ],
   "source": [
    "a=10\n",
    "b=20\n",
    "a\n",
    "b"
   ]
  },
  {
   "cell_type": "code",
   "execution_count": 2,
   "id": "afccf1a2-104a-4bcb-b80d-5ad123e54d00",
   "metadata": {},
   "outputs": [
    {
     "name": "stdout",
     "output_type": "stream",
     "text": [
      "10\n",
      "20\n"
     ]
    }
   ],
   "source": [
    "a=10\n",
    "b=20\n",
    "print(a)\n",
    "print(b)"
   ]
  },
  {
   "cell_type": "code",
   "execution_count": 3,
   "id": "a6fbfce7-3c19-4a1f-ac63-44e1995e1247",
   "metadata": {},
   "outputs": [
    {
     "name": "stdout",
     "output_type": "stream",
     "text": [
      "10\n",
      "20\n"
     ]
    }
   ],
   "source": [
    "print(10)\n",
    "print(20)"
   ]
  },
  {
   "cell_type": "code",
   "execution_count": 4,
   "id": "77778a2a-79a5-482b-8b1f-169a7a51a9cc",
   "metadata": {},
   "outputs": [
    {
     "name": "stdout",
     "output_type": "stream",
     "text": [
      "10\n",
      "20\n"
     ]
    },
    {
     "data": {
      "text/plain": [
       "(None, None)"
      ]
     },
     "execution_count": 4,
     "metadata": {},
     "output_type": "execute_result"
    }
   ],
   "source": [
    "print(10),print(20)"
   ]
  },
  {
   "cell_type": "code",
   "execution_count": 5,
   "id": "27bdfdfd-2c51-4a32-8ef5-877c812e46b8",
   "metadata": {},
   "outputs": [
    {
     "data": {
      "text/plain": [
       "(10, 20)"
      ]
     },
     "execution_count": 5,
     "metadata": {},
     "output_type": "execute_result"
    }
   ],
   "source": [
    "10,20"
   ]
  },
  {
   "cell_type": "code",
   "execution_count": 6,
   "id": "f32a134d-92bc-49ee-a72f-aa379abb0334",
   "metadata": {},
   "outputs": [
    {
     "name": "stdout",
     "output_type": "stream",
     "text": [
      "10 20\n"
     ]
    }
   ],
   "source": [
    "print(a,b)"
   ]
  },
  {
   "cell_type": "code",
   "execution_count": 7,
   "id": "20d9954e-ce71-48bd-8c3f-e5caa4742bf2",
   "metadata": {},
   "outputs": [
    {
     "name": "stdout",
     "output_type": "stream",
     "text": [
      "30 Nareshit Hyd\n"
     ]
    }
   ],
   "source": [
    "print(30,'Nareshit','Hyd')\n",
    "# 3values "
   ]
  },
  {
   "cell_type": "code",
   "execution_count": 17,
   "id": "802b5cc1-e976-4254-b4d3-da9618015aaf",
   "metadata": {},
   "outputs": [
    {
     "name": "stdout",
     "output_type": "stream",
     "text": [
      "the addition of 100 and 200 is 300\n",
      "the addition of num1 and num2 is 300\n",
      "the addition of 1000 and 200 is 1200\n"
     ]
    }
   ],
   "source": [
    "num1=1000\n",
    "num2=200\n",
    "add=num1+num2\n",
    "# the addition of 100 and 200 is 300\n",
    "print(\"the addition of 100 and 200 is 300\")\n",
    "print(\"the addition of num1 and num2 is 300\")\n",
    "print(\"the addition of\",num1,\"and\",num2,\"is\",add)"
   ]
  },
  {
   "cell_type": "code",
   "execution_count": 22,
   "id": "0f84327f-f474-40df-bd3c-2b506434bdc0",
   "metadata": {},
   "outputs": [
    {
     "name": "stdout",
     "output_type": "stream",
     "text": [
      "my name is python im 10 years old and came from hyd\n",
      "my name is name im age years old and came from city\n",
      "my name is python im 10 years old and came from hyd\n"
     ]
    }
   ],
   "source": [
    "name=\"python\"\n",
    "age=10\n",
    "city=\"hyd\"\n",
    "# my name is python im 10 years old and came from hyd\n",
    "print(\"my name is python im 10 years old and came from hyd\")\n",
    "print(\"my name is name im age years old and came from city\")\n",
    "print(\"my name is\",name,\"im\",age,\"years old and came from\",city)"
   ]
  },
  {
   "cell_type": "markdown",
   "id": "873ebb9f-8c0c-455b-8953-dba21e6682c4",
   "metadata": {},
   "source": [
    "**format**"
   ]
  },
  {
   "cell_type": "code",
   "execution_count": 24,
   "id": "2b797bd8-9b9b-4099-8f70-c3efc2ff4209",
   "metadata": {},
   "outputs": [
    {
     "name": "stdout",
     "output_type": "stream",
     "text": [
      "my name is python im 10 years old and came from hyd\n"
     ]
    }
   ],
   "source": [
    "name=\"python\"\n",
    "age=10\n",
    "city=\"hyd\"\n",
    "print(\"my name is {} im {} years old and came from {}\".format(name,age,city))"
   ]
  },
  {
   "cell_type": "code",
   "execution_count": 25,
   "id": "5e754cb4-f5a7-4981-ab9b-d62ecf8bcdc4",
   "metadata": {},
   "outputs": [
    {
     "name": "stdout",
     "output_type": "stream",
     "text": [
      "my name is hyd im 10 years old and came from python\n"
     ]
    }
   ],
   "source": [
    "name=\"python\"\n",
    "age=10\n",
    "city=\"hyd\"\n",
    "print(\"my name is {} im {} years old and came from {}\".format(city,age,name))"
   ]
  },
  {
   "cell_type": "code",
   "execution_count": 27,
   "id": "3e21f8d3-3f52-4cfd-ae36-80fd1db818b9",
   "metadata": {},
   "outputs": [
    {
     "name": "stdout",
     "output_type": "stream",
     "text": [
      "the addition of 100 and 200 is 300\n",
      "the addition of 1000 and 200 is 1200\n"
     ]
    }
   ],
   "source": [
    "num1=1000\n",
    "num2=200\n",
    "add=num1+num2\n",
    "# the addition of 100 and 200 is 300\n",
    "print(\"the addition of 100 and 200 is 300\")\n",
    "print(\"the addition of {} and {} is {}\".format(num1,num2,add))"
   ]
  },
  {
   "cell_type": "code",
   "execution_count": null,
   "id": "c48ca8f3-8f55-4a85-933c-812d68e60f18",
   "metadata": {},
   "outputs": [],
   "source": [
    "# wap take two numbers perform the\n",
    "# subtraction\n",
    "# multiplication\n",
    "# division\n",
    "# print the statements as follows\n",
    "\n",
    "# the subtraction of 100 and 200 is -100\n",
    "# the multiplication of 100 and 200 is 20000\n",
    "# the division of 100 and 200 is 0.5"
   ]
  },
  {
   "cell_type": "code",
   "execution_count": null,
   "id": "dad9d5a3-0f8e-47fa-b16b-63db19c8bc54",
   "metadata": {},
   "outputs": [],
   "source": [
    "# wap take three number perform the avearage\n",
    "# a,b,c \n",
    "# avg= (a+b+c)/3\n",
    "# print the statement\n",
    "# the avge of a,b,c is : avg"
   ]
  },
  {
   "cell_type": "markdown",
   "id": "eb282b40-d669-48c7-9d39-529801805c30",
   "metadata": {},
   "source": [
    "**mistake-1**"
   ]
  },
  {
   "cell_type": "code",
   "execution_count": 29,
   "id": "ae4c451d-c900-4172-aa30-7131d75c59d1",
   "metadata": {},
   "outputs": [
    {
     "ename": "TypeError",
     "evalue": "'sub' is an invalid keyword argument for print()",
     "output_type": "error",
     "traceback": [
      "\u001b[1;31m---------------------------------------------------------------------------\u001b[0m",
      "\u001b[1;31mTypeError\u001b[0m                                 Traceback (most recent call last)",
      "Cell \u001b[1;32mIn[29], line 3\u001b[0m\n\u001b[0;32m      1\u001b[0m num1\u001b[38;5;241m=\u001b[39m\u001b[38;5;241m100\u001b[39m\n\u001b[0;32m      2\u001b[0m num2\u001b[38;5;241m=\u001b[39m\u001b[38;5;241m200\u001b[39m\n\u001b[1;32m----> 3\u001b[0m \u001b[38;5;28mprint\u001b[39m(sub\u001b[38;5;241m=\u001b[39mnum1\u001b[38;5;241m-\u001b[39mnum2)\n",
      "\u001b[1;31mTypeError\u001b[0m: 'sub' is an invalid keyword argument for print()"
     ]
    }
   ],
   "source": [
    "num1=100\n",
    "num2=200\n",
    "print(sub=num1-num2)\n",
    "# print is used for to see the output"
   ]
  },
  {
   "cell_type": "markdown",
   "id": "c43f651b-c402-408a-af03-37c6abd768cb",
   "metadata": {},
   "source": [
    "**mistake-2**"
   ]
  },
  {
   "cell_type": "code",
   "execution_count": 30,
   "id": "f09be9a3-fcee-4f59-9f4e-56bf229a3372",
   "metadata": {},
   "outputs": [
    {
     "name": "stdout",
     "output_type": "stream",
     "text": [
      "-100\n"
     ]
    }
   ],
   "source": [
    "num1=100\n",
    "num2=200\n",
    "sub=num1-num2\n",
    "print(\"the subtraction of num1 and num2 is sub.format\")"
   ]
  },
  {
   "cell_type": "code",
   "execution_count": 33,
   "id": "158f3305-165b-4ced-a051-9d18bcc468e8",
   "metadata": {},
   "outputs": [
    {
     "name": "stdout",
     "output_type": "stream",
     "text": [
      "the subtraction of num1 and num2 is sub\n",
      "the subtraction of 100 and 200 is -100\n"
     ]
    }
   ],
   "source": [
    "num1=100\n",
    "num2=200\n",
    "sub=num1-num2\n",
    "print(\"the subtraction of num1 and num2 is sub\")\n",
    "print(\"the subtraction of {} and {} is {}\".format(num1,num2,sub))"
   ]
  },
  {
   "cell_type": "code",
   "execution_count": 34,
   "id": "78a9c770-7786-48d6-b84c-12e05a4e33f9",
   "metadata": {},
   "outputs": [
    {
     "name": "stdout",
     "output_type": "stream",
     "text": [
      "the multiplication of num1 and num2 is mul\n",
      "the multiplication of 100 and 200 is 20000\n"
     ]
    }
   ],
   "source": [
    "num1=100\n",
    "num2=200\n",
    "mul=num1*num2\n",
    "print(\"the multiplication of num1 and num2 is mul\")\n",
    "print(\"the multiplication of {} and {} is {}\".format(num1,num2,mul))"
   ]
  },
  {
   "cell_type": "code",
   "execution_count": 35,
   "id": "175bf80f-9f5c-4be3-bfbf-c6b8748ba155",
   "metadata": {},
   "outputs": [
    {
     "name": "stdout",
     "output_type": "stream",
     "text": [
      "the division of num1 and num2 is div\n",
      "the division of 100 and 200 is 0.5\n"
     ]
    }
   ],
   "source": [
    "num1=100\n",
    "num2=200\n",
    "div=num1/num2\n",
    "print(\"the division of num1 and num2 is div\")\n",
    "print(\"the division of {} and {} is {}\".format(num1,num2,div))"
   ]
  },
  {
   "cell_type": "code",
   "execution_count": 37,
   "id": "ce0519df-4b35-43ac-8b3a-e45da5e2eb28",
   "metadata": {},
   "outputs": [
    {
     "name": "stdout",
     "output_type": "stream",
     "text": [
      "the average of a,b,c is : avg\n",
      "the average of 10,20,30 is : 20.0\n"
     ]
    }
   ],
   "source": [
    "a=10\n",
    "b=20\n",
    "c=30\n",
    "avg=(a+b+c)/3\n",
    "print(\"the average of a,b,c is : avg\")\n",
    "print(\"the average of {},{},{} is : {}\".format(a,b,c,avg))"
   ]
  },
  {
   "cell_type": "code",
   "execution_count": 41,
   "id": "eb0db613-5cfb-4b27-92a0-e6f3021530cc",
   "metadata": {},
   "outputs": [
    {
     "name": "stdout",
     "output_type": "stream",
     "text": [
      "======================ADDITION===========================\n",
      "the addition of 100 and 200 is 300\n",
      "the addition of 1000 and 200 is 1200\n",
      "========================SUBTRACTION===========================\n",
      "the subtraction of num1 and num2 is sub\n",
      "the subtraction of 100 and 200 is -100\n",
      "=======================MULTIPLICATION============================\n",
      "the division of num1 and num2 is div\n",
      "the division of 100 and 200 is 0.5\n",
      "========================DIVISION==========================\n",
      "the average of a,b,c is : avg\n",
      "the average of 10,20,30 is : 20.0\n"
     ]
    }
   ],
   "source": [
    "\n",
    "print(\"======================ADDITION===========================\")\n",
    "num1=1000\n",
    "num2=200\n",
    "add=num1+num2\n",
    "# the addition of 100 and 200 is 300\n",
    "print(\"the addition of 100 and 200 is 300\")\n",
    "print(\"the addition of {} and {} is {}\".format(num1,num2,add))\n",
    "\n",
    "print(\"========================SUBTRACTION===========================\")\n",
    "\n",
    "num1=100\n",
    "num2=200\n",
    "sub=num1-num2\n",
    "print(\"the subtraction of num1 and num2 is sub\")\n",
    "print(\"the subtraction of {} and {} is {}\".format(num1,num2,sub))\n",
    "\n",
    "\n",
    "print(\"=======================MULTIPLICATION============================\")\n",
    "\n",
    "\n",
    "num1=100\n",
    "num2=200\n",
    "div=num1/num2\n",
    "print(\"the division of num1 and num2 is div\")\n",
    "print(\"the division of {} and {} is {}\".format(num1,num2,div))\n",
    "\n",
    "\n",
    "print(\"========================DIVISION==========================\")\n",
    "\n",
    "a=10\n",
    "b=20\n",
    "c=30\n",
    "avg=(a+b+c)/3\n",
    "print(\"the average of a,b,c is : avg\")\n",
    "print(\"the average of {},{},{} is : {}\".format(a,b,c,avg))"
   ]
  },
  {
   "cell_type": "markdown",
   "id": "1c03c911-e2b5-426e-af8b-863640184937",
   "metadata": {},
   "source": [
    "**f string: formatted string method**"
   ]
  },
  {
   "cell_type": "code",
   "execution_count": 44,
   "id": "32c71d3c-f3a2-4c3e-935c-6b81bd96f4dd",
   "metadata": {},
   "outputs": [
    {
     "name": "stdout",
     "output_type": "stream",
     "text": [
      "the addition of 100 and 200 is 300\n",
      "the addition of 1000 and 200 is 1200\n",
      "the addition of 1000 and 200 is 1200\n"
     ]
    }
   ],
   "source": [
    "num1=1000\n",
    "num2=200\n",
    "add=num1+num2\n",
    "\n",
    "print(\"the addition of 100 and 200 is 300\")\n",
    "print(\"the addition of {} and {} is {}\".format(num1,num2,add))\n",
    "print(f\"the addition of {num1} and {num2} is {add}\")"
   ]
  },
  {
   "cell_type": "code",
   "execution_count": 48,
   "id": "2c3901d7-7e08-4b33-aa06-17f3036e73b1",
   "metadata": {},
   "outputs": [
    {
     "name": "stdout",
     "output_type": "stream",
     "text": [
      "the addition of 100 and 200 is 300\n"
     ]
    }
   ],
   "source": [
    "print(\"the addition of 100 and 200 is 300\")"
   ]
  },
  {
   "cell_type": "code",
   "execution_count": 46,
   "id": "dbe30b6f-d669-4fbd-9931-460416fe7d96",
   "metadata": {},
   "outputs": [
    {
     "ename": "TypeError",
     "evalue": "format expected at most 2 arguments, got 3",
     "output_type": "error",
     "traceback": [
      "\u001b[1;31m---------------------------------------------------------------------------\u001b[0m",
      "\u001b[1;31mTypeError\u001b[0m                                 Traceback (most recent call last)",
      "Cell \u001b[1;32mIn[46], line 1\u001b[0m\n\u001b[1;32m----> 1\u001b[0m \u001b[38;5;28mprint\u001b[39m(\u001b[38;5;124m\"\u001b[39m\u001b[38;5;124mthe addition of \u001b[39m\u001b[38;5;132;01m{}\u001b[39;00m\u001b[38;5;124m and \u001b[39m\u001b[38;5;132;01m{}\u001b[39;00m\u001b[38;5;124m is \u001b[39m\u001b[38;5;132;01m{}\u001b[39;00m\u001b[38;5;124m\"\u001b[39m,\u001b[38;5;28mformat\u001b[39m(num1,num2,add))\n",
      "\u001b[1;31mTypeError\u001b[0m: format expected at most 2 arguments, got 3"
     ]
    }
   ],
   "source": [
    "print(\"the addition of {} and {} is {}\",format(num1,num2,add))"
   ]
  },
  {
   "cell_type": "code",
   "execution_count": 47,
   "id": "1ccce727-fac2-4c98-b754-d91cbbaf1a23",
   "metadata": {},
   "outputs": [
    {
     "name": "stdout",
     "output_type": "stream",
     "text": [
      "the average of a,b,c is : avg\n"
     ]
    },
    {
     "ename": "IndexError",
     "evalue": "Replacement index 3 out of range for positional args tuple",
     "output_type": "error",
     "traceback": [
      "\u001b[1;31m---------------------------------------------------------------------------\u001b[0m",
      "\u001b[1;31mIndexError\u001b[0m                                Traceback (most recent call last)",
      "Cell \u001b[1;32mIn[47], line 6\u001b[0m\n\u001b[0;32m      4\u001b[0m avg\u001b[38;5;241m=\u001b[39m(a\u001b[38;5;241m+\u001b[39mb\u001b[38;5;241m+\u001b[39mc)\u001b[38;5;241m/\u001b[39m\u001b[38;5;241m3\u001b[39m\n\u001b[0;32m      5\u001b[0m \u001b[38;5;28mprint\u001b[39m(\u001b[38;5;124m\"\u001b[39m\u001b[38;5;124mthe average of a,b,c is : avg\u001b[39m\u001b[38;5;124m\"\u001b[39m)\n\u001b[1;32m----> 6\u001b[0m \u001b[38;5;28mprint\u001b[39m(\u001b[38;5;124m\"\u001b[39m\u001b[38;5;124mthe average of \u001b[39m\u001b[38;5;132;01m{}\u001b[39;00m\u001b[38;5;124m,\u001b[39m\u001b[38;5;132;01m{}\u001b[39;00m\u001b[38;5;124m,\u001b[39m\u001b[38;5;132;01m{}\u001b[39;00m\u001b[38;5;124m is : \u001b[39m\u001b[38;5;132;01m{}\u001b[39;00m\u001b[38;5;124m\"\u001b[39m\u001b[38;5;241m.\u001b[39mformat(a,b,c))\n",
      "\u001b[1;31mIndexError\u001b[0m: Replacement index 3 out of range for positional args tuple"
     ]
    }
   ],
   "source": [
    "a=10\n",
    "b=20\n",
    "c=30\n",
    "avg=(a+b+c)/3\n",
    "print(\"the average of a,b,c is : avg\")\n",
    "print(\"the average of {},{},{} is : {}\".format(a,b,c))"
   ]
  },
  {
   "cell_type": "code",
   "execution_count": 49,
   "id": "2e8ab8e4-47d4-4c30-b871-62301985c66e",
   "metadata": {},
   "outputs": [
    {
     "name": "stdout",
     "output_type": "stream",
     "text": [
      "======================ADDITION===========================\n",
      "the addition of 100 and 200 is 300\n",
      "the addition of 1000 and 200 is 1200\n",
      "the addition of 1000 and 200 is 1200\n",
      "========================SUBTRACTION===========================\n",
      "the subtraction of num1 and num2 is sub\n",
      "the subtraction of 100 and 200 is -100\n",
      "the subtraction of 100 and 200 is -100\n",
      "=======================MULTIPLICATION============================\n",
      "the division of num1 and num2 is div\n",
      "the division of 100 and 200 is 0.5\n",
      "the division of 100 and 200 is 0.5\n",
      "========================DIVISION==========================\n",
      "the average of a,b,c is : avg\n",
      "the average of 10,20,30 is : 20.0\n",
      "the average of 10,20,30 is : 20.0\n"
     ]
    }
   ],
   "source": [
    "\n",
    "print(\"======================ADDITION===========================\")\n",
    "num1=1000\n",
    "num2=200\n",
    "add=num1+num2\n",
    "# the addition of 100 and 200 is 300\n",
    "print(\"the addition of 100 and 200 is 300\")\n",
    "print(\"the addition of {} and {} is {}\".format(num1,num2,add))\n",
    "print(f\"the addition of {num1} and {num2} is {add}\")\n",
    "\n",
    "print(\"========================SUBTRACTION===========================\")\n",
    "\n",
    "num1=100\n",
    "num2=200\n",
    "sub=num1-num2\n",
    "print(\"the subtraction of num1 and num2 is sub\")\n",
    "print(\"the subtraction of {} and {} is {}\".format(num1,num2,sub))\n",
    "print(f\"the subtraction of {num1} and {num2} is {sub}\")\n",
    "\n",
    "print(\"=======================MULTIPLICATION============================\")\n",
    "\n",
    "\n",
    "num1=100\n",
    "num2=200\n",
    "div=num1/num2\n",
    "print(\"the division of num1 and num2 is div\")\n",
    "print(\"the division of {} and {} is {}\".format(num1,num2,div))\n",
    "print(f\"the division of {num1} and {num2} is {div}\")\n",
    "\n",
    "\n",
    "print(\"========================DIVISION==========================\")\n",
    "\n",
    "a=10\n",
    "b=20\n",
    "c=30\n",
    "avg=(a+b+c)/3\n",
    "print(\"the average of a,b,c is : avg\")\n",
    "print(\"the average of {},{},{} is : {}\".format(a,b,c,avg))\n",
    "print(f\"the average of {a},{b},{c} is : {avg}\")"
   ]
  },
  {
   "cell_type": "code",
   "execution_count": 50,
   "id": "10ae389c-18ee-4b91-b32b-e8c69385a61f",
   "metadata": {},
   "outputs": [
    {
     "name": "stdout",
     "output_type": "stream",
     "text": [
      "20.333333333333332\n"
     ]
    }
   ],
   "source": [
    "a=11\n",
    "b=20\n",
    "c=30\n",
    "avg=(a+b+c)/3\n",
    "print(avg)"
   ]
  },
  {
   "cell_type": "markdown",
   "id": "a4749945-4825-485e-a7a8-25d45f0491f5",
   "metadata": {},
   "source": [
    "**round**"
   ]
  },
  {
   "cell_type": "code",
   "execution_count": 52,
   "id": "5191a261-dee4-4a49-9066-d7141cdc6bb4",
   "metadata": {},
   "outputs": [],
   "source": [
    "# print()\n",
    "# type()\n",
    "# int()\n",
    "# float()\n",
    "# str()\n",
    "# bool()\n",
    "# round()\n",
    "\n",
    "# CTRL+A \n",
    "# CTRL+/"
   ]
  },
  {
   "cell_type": "code",
   "execution_count": 53,
   "id": "e48f08d7-b76b-40c2-89dc-ce9c938c1c5d",
   "metadata": {},
   "outputs": [
    {
     "data": {
      "text/plain": [
       "11"
      ]
     },
     "execution_count": 53,
     "metadata": {},
     "output_type": "execute_result"
    }
   ],
   "source": [
    "round(10.77777)  # 10.7 ===> 11\n",
    "# 79.7  80"
   ]
  },
  {
   "cell_type": "code",
   "execution_count": 54,
   "id": "31ab4205-9cc4-4b33-89b9-dd639dafb652",
   "metadata": {},
   "outputs": [
    {
     "data": {
      "text/plain": [
       "10.78"
      ]
     },
     "execution_count": 54,
     "metadata": {},
     "output_type": "execute_result"
    }
   ],
   "source": [
    "round(10.77777,2)"
   ]
  },
  {
   "cell_type": "code",
   "execution_count": 55,
   "id": "96dacce3-463b-467b-90e8-d16866cd239b",
   "metadata": {},
   "outputs": [
    {
     "data": {
      "text/plain": [
       "10.778"
      ]
     },
     "execution_count": 55,
     "metadata": {},
     "output_type": "execute_result"
    }
   ],
   "source": [
    "round(10.77777,3)"
   ]
  },
  {
   "cell_type": "code",
   "execution_count": 56,
   "id": "2499618f-d881-4988-989f-78eb793d61e5",
   "metadata": {},
   "outputs": [
    {
     "name": "stdout",
     "output_type": "stream",
     "text": [
      "11\n",
      "10.78\n",
      "10.778\n"
     ]
    }
   ],
   "source": [
    "print(round(10.77777))\n",
    "print(round(10.77777,2))\n",
    "print(round(10.77777,3))"
   ]
  },
  {
   "cell_type": "code",
   "execution_count": 64,
   "id": "3828282d-d30d-4aee-8898-9454c89b8910",
   "metadata": {},
   "outputs": [
    {
     "name": "stdout",
     "output_type": "stream",
     "text": [
      "20.33\n",
      "20.33\n"
     ]
    }
   ],
   "source": [
    "a=11\n",
    "b=20\n",
    "c=30\n",
    "avg=(a+b+c)/3\n",
    "avg1=round(avg,2)\n",
    "print(avg1)\n",
    "print(round(avg,2))"
   ]
  },
  {
   "cell_type": "code",
   "execution_count": 58,
   "id": "fec95518-e31b-4c01-8aff-cf0f8f008524",
   "metadata": {},
   "outputs": [
    {
     "data": {
      "text/plain": [
       "10.78"
      ]
     },
     "execution_count": 58,
     "metadata": {},
     "output_type": "execute_result"
    }
   ],
   "source": [
    "round(10.778,2)"
   ]
  },
  {
   "cell_type": "markdown",
   "id": "204febad-5020-402f-a068-8ccbff545db3",
   "metadata": {},
   "source": [
    "**I have multiple print statements**\n",
    "**but i want to show in single line**"
   ]
  },
  {
   "cell_type": "code",
   "execution_count": 65,
   "id": "10177fa0-5e36-4cac-aaf0-748f2bcfd5b7",
   "metadata": {},
   "outputs": [
    {
     "name": "stdout",
     "output_type": "stream",
     "text": [
      "10\n",
      "20\n"
     ]
    }
   ],
   "source": [
    "print(10)\n",
    "print(20)"
   ]
  },
  {
   "cell_type": "code",
   "execution_count": 67,
   "id": "c3bb3617-5251-43a1-a686-b50390d30906",
   "metadata": {},
   "outputs": [
    {
     "data": {
      "text/plain": [
       "(10, 20)"
      ]
     },
     "execution_count": 67,
     "metadata": {},
     "output_type": "execute_result"
    }
   ],
   "source": [
    "10,20"
   ]
  },
  {
   "cell_type": "code",
   "execution_count": 68,
   "id": "b859d9e8-7c5d-4a3e-80d5-57cca3659314",
   "metadata": {},
   "outputs": [
    {
     "name": "stdout",
     "output_type": "stream",
     "text": [
      "10 20\n"
     ]
    }
   ],
   "source": [
    "print(10,20)"
   ]
  },
  {
   "cell_type": "markdown",
   "id": "30320695-322e-4504-8c2a-43bbf3c60a85",
   "metadata": {},
   "source": [
    "**end**"
   ]
  },
  {
   "cell_type": "code",
   "execution_count": 73,
   "id": "b8346194-c28d-4a66-b2d4-aacae3713de9",
   "metadata": {},
   "outputs": [
    {
     "name": "stdout",
     "output_type": "stream",
     "text": [
      "10====>20\n"
     ]
    }
   ],
   "source": [
    "print(10,end=\"====>\")\n",
    "print(20)"
   ]
  },
  {
   "cell_type": "code",
   "execution_count": 75,
   "id": "f8c83420-f219-4be0-9922-779d7f3451f0",
   "metadata": {},
   "outputs": [
    {
     "name": "stdout",
     "output_type": "stream",
     "text": [
      "10 20 30\n"
     ]
    }
   ],
   "source": [
    "print(10,end=\" \")\n",
    "print(20,end=\" \")\n",
    "print(30)"
   ]
  },
  {
   "cell_type": "code",
   "execution_count": 81,
   "id": "88ab2517-7c4f-4088-8d68-12a3713eab30",
   "metadata": {},
   "outputs": [
    {
     "name": "stdout",
     "output_type": "stream",
     "text": [
      "hello how are you\n"
     ]
    }
   ],
   "source": [
    "print('hello',end=' ')\n",
    "print('how',end=' ')\n",
    "print('are',end=' ')\n",
    "print('you')"
   ]
  },
  {
   "cell_type": "code",
   "execution_count": 82,
   "id": "c2e26ae5-a08b-4c23-a243-a1ec11e3af2b",
   "metadata": {},
   "outputs": [
    {
     "name": "stdout",
     "output_type": "stream",
     "text": [
      "hello how are you\n"
     ]
    }
   ],
   "source": [
    "print('hello how are you')"
   ]
  },
  {
   "cell_type": "code",
   "execution_count": 84,
   "id": "1e8e3e2e-8795-41fe-8fee-c14115a65587",
   "metadata": {},
   "outputs": [
    {
     "name": "stdout",
     "output_type": "stream",
     "text": [
      "1 2 3 4 5 6 7 8 9 "
     ]
    }
   ],
   "source": []
  },
  {
   "cell_type": "markdown",
   "id": "139bc233-53f3-43c7-aa28-e003086be404",
   "metadata": {},
   "source": [
    "**i have multiple values in a single print statement**\n",
    "\n",
    "**i want print them with some seperation**"
   ]
  },
  {
   "cell_type": "code",
   "execution_count": 85,
   "id": "e6e8b72e-c066-4a85-bb54-59c51ba8eeee",
   "metadata": {},
   "outputs": [
    {
     "name": "stdout",
     "output_type": "stream",
     "text": [
      "10 20 30\n"
     ]
    }
   ],
   "source": [
    "print(10,20,30)\n",
    "# 10 ===> 20 ====> 30"
   ]
  },
  {
   "cell_type": "markdown",
   "id": "bc34aa3a-2089-4698-a362-84f406708544",
   "metadata": {},
   "source": [
    "**sep**"
   ]
  },
  {
   "cell_type": "code",
   "execution_count": 91,
   "id": "5553ef25-4522-4f9d-b467-2801b32c4177",
   "metadata": {},
   "outputs": [
    {
     "name": "stdout",
     "output_type": "stream",
     "text": [
      "10====>20====>30\n"
     ]
    }
   ],
   "source": [
    "print(10,20,30,sep='====>')"
   ]
  },
  {
   "cell_type": "markdown",
   "id": "5b4b272c-f628-4f20-965b-4a308e708949",
   "metadata": {},
   "source": [
    "- basic print statement\n",
    "\n",
    "- we learn format method\n",
    "\n",
    "- we learn f string method\n",
    "\n",
    "- we learn round\n",
    "\n",
    "- we learn end operator\n",
    "\n",
    "- we learn sep operator"
   ]
  },
  {
   "cell_type": "code",
   "execution_count": null,
   "id": "7deb4618-9058-42af-8a1d-6a1be947548e",
   "metadata": {},
   "outputs": [],
   "source": [
    "# wap take the radidus of a circle calculate area of the circle\n",
    "# var: radidus  var: pi=3.14\n",
    "# formuale: pi*radius*radius\n",
    "# print the answers using f string and format\n",
    "\n",
    "# wap take the breadth and height of a right angle triangle\n",
    "# calculate the area\n",
    "# var1: bredath  var2: height\n",
    "# formuale : 0.5*breadth*heigh\n",
    "\n",
    "# wap take the bill amount and tip amount\n",
    "# calculate total bill\n",
    "# var1: bill amount var2: tip amount\n",
    "# formuale\n",
    "\n",
    "# wap take the length and breadth of a rectangle calculate area\n",
    "# var1: length  var2: breadth\n",
    "# formulae: length * breadth"
   ]
  }
 ],
 "metadata": {
  "kernelspec": {
   "display_name": "Python 3 (ipykernel)",
   "language": "python",
   "name": "python3"
  },
  "language_info": {
   "codemirror_mode": {
    "name": "ipython",
    "version": 3
   },
   "file_extension": ".py",
   "mimetype": "text/x-python",
   "name": "python",
   "nbconvert_exporter": "python",
   "pygments_lexer": "ipython3",
   "version": "3.11.7"
  }
 },
 "nbformat": 4,
 "nbformat_minor": 5
}
