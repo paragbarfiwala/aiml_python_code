{
 "cells": [
  {
   "cell_type": "code",
   "execution_count": null,
   "id": "6b20d66c-32fd-49be-8f25-b08dc0f293d8",
   "metadata": {},
   "outputs": [],
   "source": [
    "================== Basic Python ==============================\n",
    "- Variables\n",
    "\n",
    "- Data types\n",
    "\n",
    "- Type conversion\n",
    "\n",
    "- Print\n",
    "\n",
    "- eval and input\n",
    "\n",
    "- Basic codes\n",
    "\n",
    "- Packages\n",
    "\n",
    "- conditional statements\n",
    "\n",
    "- try and except\n",
    "\n",
    "- functions\n",
    "\n",
    "- for loop\n",
    "\n",
    "- while loop\n",
    "\n",
    "=================== Intermediate python =======================\n",
    "- Strings\n",
    "\n",
    "- Lists\n",
    "\n",
    "- List Comprhension\n",
    "\n",
    "- Tuple ====== > You should\n",
    "\n",
    "- Sets  ====== > You should\n",
    "\n",
    "- Dictionary\n",
    "\n",
    "- Lambda functions\n",
    "\n",
    "- File handling\n",
    "\n",
    "============ OOPS Concepts ================= (ML)"
   ]
  },
  {
   "cell_type": "markdown",
   "id": "9661661b-848f-4af6-9fd9-0d5aa28c0cdd",
   "metadata": {},
   "source": [
    "- Basic representations\n",
    "\n",
    "- Inbuilt functions\n",
    "\n",
    "    - print\n",
    "\n",
    "    - type\n",
    "\n",
    "    - len\n",
    "\n",
    "    - sum\n",
    "\n",
    "    - max\n",
    "\n",
    "    - min\n",
    "\n",
    "    - sorted\n",
    "\n",
    "    - reveresed\n",
    "\n",
    "- concatenation\n",
    "\n",
    "- indexing\n",
    "\n",
    "- mutable or immutable concept\n",
    "\n",
    "- slice\n",
    "\n",
    "- methods"
   ]
  },
  {
   "cell_type": "markdown",
   "id": "9e3f2d0f-6d4c-433a-b401-8420a9b0c6f3",
   "metadata": {},
   "source": [
    "**Basic Representations**\n"
   ]
  },
  {
   "cell_type": "code",
   "execution_count": 1,
   "id": "60214aab-193f-4ad7-8b14-ff5f1df1fa2e",
   "metadata": {},
   "outputs": [
    {
     "data": {
      "text/plain": [
       "'python'"
      ]
     },
     "execution_count": 1,
     "metadata": {},
     "output_type": "execute_result"
    }
   ],
   "source": [
    "name='python'\n",
    "name"
   ]
  },
  {
   "cell_type": "code",
   "execution_count": 2,
   "id": "fc4fbfdf-ddfe-4a3f-98d2-9caf3c0ba998",
   "metadata": {},
   "outputs": [
    {
     "name": "stdout",
     "output_type": "stream",
     "text": [
      "python\n"
     ]
    }
   ],
   "source": [
    "print(name)"
   ]
  },
  {
   "cell_type": "code",
   "execution_count": 3,
   "id": "998f12c1-e012-4f34-ab42-7558a36eb173",
   "metadata": {},
   "outputs": [
    {
     "data": {
      "text/plain": [
       "'python'"
      ]
     },
     "execution_count": 3,
     "metadata": {},
     "output_type": "execute_result"
    }
   ],
   "source": [
    "name=\"python\"\n",
    "name"
   ]
  },
  {
   "cell_type": "markdown",
   "id": "a7985103-5670-4760-9cd9-73bf9122c86b",
   "metadata": {},
   "source": [
    "- python by defualt gives output in **single quotes**\n",
    "\n",
    "- when we print the string the output display **without quotes**"
   ]
  },
  {
   "cell_type": "code",
   "execution_count": 5,
   "id": "b4ab5a8b-915b-45fc-b8c7-8e3ef55373da",
   "metadata": {},
   "outputs": [
    {
     "name": "stdout",
     "output_type": "stream",
     "text": [
      "I love 'Python'\n"
     ]
    }
   ],
   "source": [
    "str1=\"I love 'Python'\"\n",
    "print(str1)"
   ]
  },
  {
   "cell_type": "code",
   "execution_count": 6,
   "id": "59461cac-3c04-4a2f-ab0d-32b2e356ee05",
   "metadata": {},
   "outputs": [
    {
     "name": "stdout",
     "output_type": "stream",
     "text": [
      "I love \"Python\"\n"
     ]
    }
   ],
   "source": [
    "str2='I love \"Python\"'\n",
    "print(str2)"
   ]
  },
  {
   "cell_type": "markdown",
   "id": "c36d3fd1-fbe5-4f90-8d7d-d9cdb63e32a7",
   "metadata": {},
   "source": [
    "**Doc string**\n",
    "\n",
    "- triple quotes also called as doc string\n",
    "\n",
    "- triple quotes means the user try to convey some information"
   ]
  },
  {
   "cell_type": "markdown",
   "id": "bce3606f-ff12-462f-862d-ff1082e7d946",
   "metadata": {},
   "source": [
    "**type**"
   ]
  },
  {
   "cell_type": "code",
   "execution_count": 7,
   "id": "4c17b33a-2379-4efd-9291-b19408ddcc2f",
   "metadata": {},
   "outputs": [
    {
     "data": {
      "text/plain": [
       "str"
      ]
     },
     "execution_count": 7,
     "metadata": {},
     "output_type": "execute_result"
    }
   ],
   "source": [
    "name='python'\n",
    "type(name)"
   ]
  },
  {
   "cell_type": "code",
   "execution_count": null,
   "id": "d2032d6c-762e-4749-8bac-98caea0b6a34",
   "metadata": {},
   "outputs": [],
   "source": [
    "print(<>)\n",
    "type(<>)\n",
    "eval(<>)\n",
    "input()\n",
    "len()\n",
    "sum()\n",
    "max()"
   ]
  },
  {
   "cell_type": "markdown",
   "id": "338bba8e-d326-4d9a-8ede-8e7039b54500",
   "metadata": {},
   "source": [
    "**len**"
   ]
  },
  {
   "cell_type": "code",
   "execution_count": 8,
   "id": "51f9f4fb-f8d9-42fb-b5eb-f0836da34438",
   "metadata": {},
   "outputs": [
    {
     "data": {
      "text/plain": [
       "6"
      ]
     },
     "execution_count": 8,
     "metadata": {},
     "output_type": "execute_result"
    }
   ],
   "source": [
    "name='python'\n",
    "len(name)"
   ]
  },
  {
   "cell_type": "code",
   "execution_count": 9,
   "id": "9be4a00e-1723-4b1e-a590-311693dcdeae",
   "metadata": {},
   "outputs": [
    {
     "data": {
      "text/plain": [
       "15"
      ]
     },
     "execution_count": 9,
     "metadata": {},
     "output_type": "execute_result"
    }
   ],
   "source": [
    "len('hai how are you')"
   ]
  },
  {
   "cell_type": "markdown",
   "id": "67de1e78-3f8d-4e52-9cdb-e815fb11b890",
   "metadata": {},
   "source": [
    "**max**"
   ]
  },
  {
   "cell_type": "code",
   "execution_count": 10,
   "id": "00a1f8de-efbd-4fa8-8c7c-d973baae7310",
   "metadata": {},
   "outputs": [
    {
     "data": {
      "text/plain": [
       "'y'"
      ]
     },
     "execution_count": 10,
     "metadata": {},
     "output_type": "execute_result"
    }
   ],
   "source": [
    "max('python')"
   ]
  },
  {
   "cell_type": "code",
   "execution_count": 11,
   "id": "8b54bd3e-ce8c-4ce5-b051-82d02bab846f",
   "metadata": {},
   "outputs": [
    {
     "name": "stdout",
     "output_type": "stream",
     "text": [
      "112 p\n",
      "121 y\n",
      "116 t\n",
      "104 h\n",
      "111 o\n",
      "110 n\n"
     ]
    }
   ],
   "source": [
    "for i in 'python':\n",
    "    print(ord(i),i)"
   ]
  },
  {
   "cell_type": "markdown",
   "id": "5e8fe38d-e1da-4c18-ba85-bd9481874314",
   "metadata": {},
   "source": [
    "**min**"
   ]
  },
  {
   "cell_type": "code",
   "execution_count": 12,
   "id": "40ce954c-3638-447d-af64-8644c8414d1c",
   "metadata": {},
   "outputs": [
    {
     "data": {
      "text/plain": [
       "'h'"
      ]
     },
     "execution_count": 12,
     "metadata": {},
     "output_type": "execute_result"
    }
   ],
   "source": [
    "min('python')"
   ]
  },
  {
   "cell_type": "markdown",
   "id": "313adda7-a096-4b9c-bf5d-7cb26f7b2372",
   "metadata": {},
   "source": [
    "**sum**"
   ]
  },
  {
   "cell_type": "code",
   "execution_count": 13,
   "id": "4f24e466-da05-4b69-ab8c-9b4bad2170c9",
   "metadata": {},
   "outputs": [
    {
     "ename": "TypeError",
     "evalue": "unsupported operand type(s) for +: 'int' and 'str'",
     "output_type": "error",
     "traceback": [
      "\u001b[1;31m---------------------------------------------------------------------------\u001b[0m",
      "\u001b[1;31mTypeError\u001b[0m                                 Traceback (most recent call last)",
      "Cell \u001b[1;32mIn[13], line 1\u001b[0m\n\u001b[1;32m----> 1\u001b[0m \u001b[38;5;28msum\u001b[39m(\u001b[38;5;124m'\u001b[39m\u001b[38;5;124mpython\u001b[39m\u001b[38;5;124m'\u001b[39m)\n",
      "\u001b[1;31mTypeError\u001b[0m: unsupported operand type(s) for +: 'int' and 'str'"
     ]
    }
   ],
   "source": [
    "sum('python')"
   ]
  },
  {
   "cell_type": "markdown",
   "id": "db4018f2-37d8-45ad-b570-2b83b7416ecd",
   "metadata": {},
   "source": [
    "**sorted**"
   ]
  },
  {
   "cell_type": "markdown",
   "id": "8be848b5-5e40-42b6-984d-f9a82848d405",
   "metadata": {},
   "source": [
    "- sorted means either ascending or descending order\n",
    "\n",
    "- ascending order : Small to Big\n",
    "\n",
    "- descending : Big to Small"
   ]
  },
  {
   "cell_type": "code",
   "execution_count": 16,
   "id": "be9e485f-7b65-41dd-864b-f8e6a0491ae8",
   "metadata": {},
   "outputs": [
    {
     "data": {
      "text/plain": [
       "['h', 'n', 'o', 'p', 't', 'y']"
      ]
     },
     "execution_count": 16,
     "metadata": {},
     "output_type": "execute_result"
    }
   ],
   "source": [
    "sorted('python')\n",
    "# By default ascending\n",
    "# can i change the order?"
   ]
  },
  {
   "cell_type": "code",
   "execution_count": null,
   "id": "43131e1b-b6fb-48d4-8813-c0e7df95669d",
   "metadata": {},
   "outputs": [],
   "source": [
    "**iterable**: Anything that can be print using loop\n",
    "\n",
    "/ "
   ]
  },
  {
   "cell_type": "code",
   "execution_count": 21,
   "id": "3d3a00d3-b1b6-4341-a1db-6eab914e0d88",
   "metadata": {},
   "outputs": [
    {
     "name": "stdout",
     "output_type": "stream",
     "text": [
      "30\n"
     ]
    }
   ],
   "source": [
    "def add(a,b):\n",
    "    print(a+b)\n",
    "add(10,20)  ############# Works"
   ]
  },
  {
   "cell_type": "code",
   "execution_count": 22,
   "id": "5fda4c26-7660-47ea-a831-202ee637c530",
   "metadata": {},
   "outputs": [
    {
     "name": "stdout",
     "output_type": "stream",
     "text": [
      "30\n"
     ]
    }
   ],
   "source": [
    "def add(a,b):\n",
    "    print(a+b)\n",
    "add(a=10,b=20) ########## Works"
   ]
  },
  {
   "cell_type": "code",
   "execution_count": 23,
   "id": "addcaf99-b358-400d-928d-7700a3bedbca",
   "metadata": {},
   "outputs": [
    {
     "ename": "TypeError",
     "evalue": "add() got some positional-only arguments passed as keyword arguments: 'a'",
     "output_type": "error",
     "traceback": [
      "\u001b[1;31m---------------------------------------------------------------------------\u001b[0m",
      "\u001b[1;31mTypeError\u001b[0m                                 Traceback (most recent call last)",
      "Cell \u001b[1;32mIn[23], line 3\u001b[0m\n\u001b[0;32m      1\u001b[0m \u001b[38;5;28;01mdef\u001b[39;00m \u001b[38;5;21madd\u001b[39m(a,\u001b[38;5;241m/\u001b[39m,b):\n\u001b[0;32m      2\u001b[0m     \u001b[38;5;28mprint\u001b[39m(a\u001b[38;5;241m+\u001b[39mb)\n\u001b[1;32m----> 3\u001b[0m add(a\u001b[38;5;241m=\u001b[39m\u001b[38;5;241m10\u001b[39m,b\u001b[38;5;241m=\u001b[39m\u001b[38;5;241m20\u001b[39m)\n",
      "\u001b[1;31mTypeError\u001b[0m: add() got some positional-only arguments passed as keyword arguments: 'a'"
     ]
    }
   ],
   "source": [
    "def add(a,/,b):\n",
    "    print(a+b)\n",
    "add(a=10,b=20)   /"
   ]
  },
  {
   "cell_type": "code",
   "execution_count": 24,
   "id": "7c56542d-4d4e-4279-b011-5d6324e8928e",
   "metadata": {},
   "outputs": [
    {
     "name": "stdout",
     "output_type": "stream",
     "text": [
      "30\n"
     ]
    }
   ],
   "source": [
    "def add(a,/,b):\n",
    "    print(a+b)\n",
    "add(10,b=20)"
   ]
  },
  {
   "cell_type": "code",
   "execution_count": 25,
   "id": "5632e9f0-a57b-4275-b0a5-e112b0af0be0",
   "metadata": {},
   "outputs": [
    {
     "ename": "SyntaxError",
     "evalue": "positional argument follows keyword argument (3787002837.py, line 3)",
     "output_type": "error",
     "traceback": [
      "\u001b[1;36m  Cell \u001b[1;32mIn[25], line 3\u001b[1;36m\u001b[0m\n\u001b[1;33m    add(a=10,20)\u001b[0m\n\u001b[1;37m               ^\u001b[0m\n\u001b[1;31mSyntaxError\u001b[0m\u001b[1;31m:\u001b[0m positional argument follows keyword argument\n"
     ]
    }
   ],
   "source": [
    "def add(a,/,b):\n",
    "    print(a+b)\n",
    "add(a=10,20)"
   ]
  },
  {
   "cell_type": "code",
   "execution_count": null,
   "id": "74e4f3d4-ea89-4fb1-85fa-f122887147cd",
   "metadata": {},
   "outputs": [],
   "source": [
    "a,/,b\n",
    "a=10 b=10  ==== fail\n",
    "a=10 30   ==== fail\n",
    "10  b=30     === pass"
   ]
  },
  {
   "cell_type": "code",
   "execution_count": null,
   "id": "12d2608b-afe5-4808-9472-6c4722cdfbc0",
   "metadata": {},
   "outputs": [],
   "source": [
    "def add(a,b):\n",
    "    print(a+b)\n",
    "add(10,20)  ############### Works\n",
    "\n",
    "def add(a,b):\n",
    "    print(a+b)\n",
    "add(a=10,b=20) ########## Works\n",
    "\n",
    "def add(a,/,b):\n",
    "    print(a+b)\n",
    "add(a=10,b=20)   ########### F F  / a=10  b=20\n",
    "\n",
    "def add(a,/,b):\n",
    "    print(a+b)\n",
    "add(10,b=20)  ##########  Pass    b=20\n",
    "\n",
    "def add(a,/,b):\n",
    "    print(a+b)\n",
    "add(a=10,20) ====== slash before not working"
   ]
  },
  {
   "cell_type": "code",
   "execution_count": null,
   "id": "43e60835-adc5-4d8e-9998-413e6271c493",
   "metadata": {},
   "outputs": [],
   "source": [
    "(a,/,b)\n",
    "a=10  b=20  ===== > F\n",
    "a=10  20    ===== > F\n",
    "10    20   ===== > W\n",
    "10   b=20  ===== > W"
   ]
  },
  {
   "cell_type": "code",
   "execution_count": 26,
   "id": "32c13ea9-6c8d-45ce-988e-aef599594b8d",
   "metadata": {},
   "outputs": [
    {
     "ename": "TypeError",
     "evalue": "sorted expected 1 argument, got 0",
     "output_type": "error",
     "traceback": [
      "\u001b[1;31m---------------------------------------------------------------------------\u001b[0m",
      "\u001b[1;31mTypeError\u001b[0m                                 Traceback (most recent call last)",
      "Cell \u001b[1;32mIn[26], line 1\u001b[0m\n\u001b[1;32m----> 1\u001b[0m \u001b[38;5;28msorted\u001b[39m(iterable\u001b[38;5;241m=\u001b[39m\u001b[38;5;124m'\u001b[39m\u001b[38;5;124mpython\u001b[39m\u001b[38;5;124m'\u001b[39m)\n",
      "\u001b[1;31mTypeError\u001b[0m: sorted expected 1 argument, got 0"
     ]
    }
   ],
   "source": [
    "sorted(iterable='python')"
   ]
  },
  {
   "cell_type": "markdown",
   "id": "d2e4df83-7e4a-4532-83ba-689f5362d551",
   "metadata": {},
   "source": [
    "**Note:** \n",
    "\n",
    "- / before dont use argument name\n",
    "\n",
    "- / after you can use argument name, that is our wish\n",
    "\n",
    "- (*) indicates no need maintain the order of the arguments  "
   ]
  },
  {
   "cell_type": "code",
   "execution_count": 28,
   "id": "d4f65f99-0825-46e8-9953-245a0243ae8b",
   "metadata": {},
   "outputs": [
    {
     "name": "stdout",
     "output_type": "stream",
     "text": [
      "60\n"
     ]
    }
   ],
   "source": [
    "def add(a,/,*,b,c):\n",
    "    print(a+b+c)\n",
    "\n",
    "add(10,c=20,b=30)"
   ]
  },
  {
   "cell_type": "code",
   "execution_count": 29,
   "id": "3ddfe262-e507-46a3-abff-7c42dd18d1c8",
   "metadata": {},
   "outputs": [
    {
     "ename": "TypeError",
     "evalue": "add() missing 1 required keyword-only argument: 'b'",
     "output_type": "error",
     "traceback": [
      "\u001b[1;31m---------------------------------------------------------------------------\u001b[0m",
      "\u001b[1;31mTypeError\u001b[0m                                 Traceback (most recent call last)",
      "Cell \u001b[1;32mIn[29], line 1\u001b[0m\n\u001b[1;32m----> 1\u001b[0m add(\u001b[38;5;241m10\u001b[39m,c\u001b[38;5;241m=\u001b[39m\u001b[38;5;241m20\u001b[39m)\n",
      "\u001b[1;31mTypeError\u001b[0m: add() missing 1 required keyword-only argument: 'b'"
     ]
    }
   ],
   "source": [
    "add(10,c=20)"
   ]
  },
  {
   "cell_type": "code",
   "execution_count": 30,
   "id": "8ee12bd7-4e3d-4505-82c9-c2f23435ac2d",
   "metadata": {},
   "outputs": [
    {
     "ename": "TypeError",
     "evalue": "add() takes 1 positional argument but 2 were given",
     "output_type": "error",
     "traceback": [
      "\u001b[1;31m---------------------------------------------------------------------------\u001b[0m",
      "\u001b[1;31mTypeError\u001b[0m                                 Traceback (most recent call last)",
      "Cell \u001b[1;32mIn[30], line 1\u001b[0m\n\u001b[1;32m----> 1\u001b[0m add(\u001b[38;5;241m10\u001b[39m,\u001b[38;5;241m20\u001b[39m)\n",
      "\u001b[1;31mTypeError\u001b[0m: add() takes 1 positional argument but 2 were given"
     ]
    }
   ],
   "source": [
    "add(10,20)"
   ]
  },
  {
   "cell_type": "code",
   "execution_count": 31,
   "id": "c61c17ee-3a45-4171-86c4-cd14aa8bb890",
   "metadata": {},
   "outputs": [
    {
     "ename": "TypeError",
     "evalue": "add() takes 1 positional argument but 3 were given",
     "output_type": "error",
     "traceback": [
      "\u001b[1;31m---------------------------------------------------------------------------\u001b[0m",
      "\u001b[1;31mTypeError\u001b[0m                                 Traceback (most recent call last)",
      "Cell \u001b[1;32mIn[31], line 4\u001b[0m\n\u001b[0;32m      1\u001b[0m \u001b[38;5;28;01mdef\u001b[39;00m \u001b[38;5;21madd\u001b[39m(a,\u001b[38;5;241m/\u001b[39m,\u001b[38;5;241m*\u001b[39m,b,c):\n\u001b[0;32m      2\u001b[0m     \u001b[38;5;28mprint\u001b[39m(a\u001b[38;5;241m+\u001b[39mb\u001b[38;5;241m+\u001b[39mc)\n\u001b[1;32m----> 4\u001b[0m add(\u001b[38;5;241m10\u001b[39m,\u001b[38;5;241m20\u001b[39m,\u001b[38;5;241m30\u001b[39m)\n",
      "\u001b[1;31mTypeError\u001b[0m: add() takes 1 positional argument but 3 were given"
     ]
    }
   ],
   "source": [
    "def add(a,/,*,b,c):\n",
    "    print(a+b+c)\n",
    "\n",
    "add(10,20,30)"
   ]
  },
  {
   "cell_type": "markdown",
   "id": "815e3d4d-e07c-4bae-92fc-a55eba1c18d9",
   "metadata": {},
   "source": [
    "**Note**\n",
    "\n",
    "(*) indicates provide the argument name"
   ]
  },
  {
   "cell_type": "code",
   "execution_count": 33,
   "id": "b3550750-e118-4e21-a6d4-8c2e32cdded1",
   "metadata": {},
   "outputs": [
    {
     "ename": "TypeError",
     "evalue": "sorted expected 1 argument, got 2",
     "output_type": "error",
     "traceback": [
      "\u001b[1;31m---------------------------------------------------------------------------\u001b[0m",
      "\u001b[1;31mTypeError\u001b[0m                                 Traceback (most recent call last)",
      "Cell \u001b[1;32mIn[33], line 1\u001b[0m\n\u001b[1;32m----> 1\u001b[0m \u001b[38;5;28msorted\u001b[39m(\u001b[38;5;124m'\u001b[39m\u001b[38;5;124mpython\u001b[39m\u001b[38;5;124m'\u001b[39m,\u001b[38;5;28;01mTrue\u001b[39;00m)\n",
      "\u001b[1;31mTypeError\u001b[0m: sorted expected 1 argument, got 2"
     ]
    }
   ],
   "source": [
    "sorted('python',True)\n",
    "\n",
    "# / before dont use ==== correct\n",
    "# * after you should use === wrong"
   ]
  },
  {
   "cell_type": "code",
   "execution_count": 34,
   "id": "bd4f5637-813c-45a5-bfd3-45ccd9c1542d",
   "metadata": {},
   "outputs": [
    {
     "data": {
      "text/plain": [
       "['y', 't', 'p', 'o', 'n', 'h']"
      ]
     },
     "execution_count": 34,
     "metadata": {},
     "output_type": "execute_result"
    }
   ],
   "source": [
    "sorted('python',reverse=True)\n"
   ]
  },
  {
   "cell_type": "code",
   "execution_count": null,
   "id": "e37d5b24-63d2-484e-8321-f7358797394d",
   "metadata": {},
   "outputs": [],
   "source": [
    "sorted('python')  # w  by default reverse=False\n",
    "sorted(iterable='python') # F\n",
    "sorted('python',reverse=True) # W\n",
    "sorted(iterable='python',reverse=True) # F\n",
    "sorted('python',True) # F\n"
   ]
  },
  {
   "cell_type": "markdown",
   "id": "71f3f05b-6c4b-45e3-84be-62b7bfa4ad2b",
   "metadata": {},
   "source": [
    "**reveresd**"
   ]
  },
  {
   "cell_type": "code",
   "execution_count": 35,
   "id": "9a3d725f-7300-42b5-ba10-8c9fb25e6734",
   "metadata": {},
   "outputs": [
    {
     "ename": "TypeError",
     "evalue": "reversed() takes no keyword arguments",
     "output_type": "error",
     "traceback": [
      "\u001b[1;31m---------------------------------------------------------------------------\u001b[0m",
      "\u001b[1;31mTypeError\u001b[0m                                 Traceback (most recent call last)",
      "Cell \u001b[1;32mIn[35], line 1\u001b[0m\n\u001b[1;32m----> 1\u001b[0m \u001b[38;5;28mreversed\u001b[39m(sequence\u001b[38;5;241m=\u001b[39m\u001b[38;5;124m'\u001b[39m\u001b[38;5;124mprashanth\u001b[39m\u001b[38;5;124m'\u001b[39m)\n",
      "\u001b[1;31mTypeError\u001b[0m: reversed() takes no keyword arguments"
     ]
    }
   ],
   "source": [
    "reversed(sequence='prashanth')"
   ]
  },
  {
   "cell_type": "code",
   "execution_count": 37,
   "id": "fa57ec7e-642a-46f0-85b5-f56216ffb807",
   "metadata": {},
   "outputs": [
    {
     "data": {
      "text/plain": [
       "<reversed at 0x1ecd06b3c70>"
      ]
     },
     "execution_count": 37,
     "metadata": {},
     "output_type": "execute_result"
    }
   ],
   "source": [
    "ans=reversed('prashanth')\n",
    "ans"
   ]
  },
  {
   "cell_type": "markdown",
   "id": "6db17156-ce6f-4d08-a884-df489305d39b",
   "metadata": {},
   "source": [
    "- Answer saved at address memory location\n",
    "\n",
    "- we can see the answer by using for loop or list\n",
    "\n",
    "- whenever we see less than greater than symbol answer\n",
    "\n",
    "- try to apply for loop or list"
   ]
  },
  {
   "cell_type": "code",
   "execution_count": 38,
   "id": "828743d6-4c97-4796-8974-939f5e0eda2f",
   "metadata": {},
   "outputs": [
    {
     "name": "stdout",
     "output_type": "stream",
     "text": [
      "h\n",
      "t\n",
      "n\n",
      "a\n",
      "h\n",
      "s\n",
      "a\n",
      "r\n",
      "p\n"
     ]
    }
   ],
   "source": [
    "for i in ans:\n",
    "    print(i)"
   ]
  },
  {
   "cell_type": "code",
   "execution_count": 40,
   "id": "15e43b6f-2e39-494c-8a40-d2ce2936593c",
   "metadata": {},
   "outputs": [
    {
     "data": {
      "text/plain": [
       "['h', 't', 'n', 'a', 'h', 's', 'a', 'r', 'p']"
      ]
     },
     "execution_count": 40,
     "metadata": {},
     "output_type": "execute_result"
    }
   ],
   "source": [
    "ans=reversed('prashanth')\n",
    "list(ans)"
   ]
  },
  {
   "cell_type": "markdown",
   "id": "2f0e6ff5-4f4e-4511-96f6-284fddc47186",
   "metadata": {},
   "source": [
    "**Concatenation**"
   ]
  },
  {
   "cell_type": "code",
   "execution_count": 41,
   "id": "5fcdbe1c-9858-4ab9-94c8-aaa5efe39ae0",
   "metadata": {},
   "outputs": [
    {
     "data": {
      "text/plain": [
       "'hellopython'"
      ]
     },
     "execution_count": 41,
     "metadata": {},
     "output_type": "execute_result"
    }
   ],
   "source": [
    "str1='hello'\n",
    "str2='python'\n",
    "str1+str2"
   ]
  },
  {
   "cell_type": "code",
   "execution_count": null,
   "id": "deddd1c4-69f6-488e-89b8-79a7e9ecc91b",
   "metadata": {},
   "outputs": [],
   "source": [
    "str1-str2  # see the error\n",
    "str1*str2  # see the error\n",
    "str1/str2  # see the error"
   ]
  },
  {
   "cell_type": "code",
   "execution_count": 42,
   "id": "7c42ba51-9f6c-45cb-81c5-ec871cd6943f",
   "metadata": {},
   "outputs": [
    {
     "ename": "TypeError",
     "evalue": "unsupported operand type(s) for -: 'str' and 'str'",
     "output_type": "error",
     "traceback": [
      "\u001b[1;31m---------------------------------------------------------------------------\u001b[0m",
      "\u001b[1;31mTypeError\u001b[0m                                 Traceback (most recent call last)",
      "Cell \u001b[1;32mIn[42], line 1\u001b[0m\n\u001b[1;32m----> 1\u001b[0m str1\u001b[38;5;241m-\u001b[39mstr2\n",
      "\u001b[1;31mTypeError\u001b[0m: unsupported operand type(s) for -: 'str' and 'str'"
     ]
    }
   ],
   "source": [
    "str1-str2"
   ]
  },
  {
   "cell_type": "code",
   "execution_count": 43,
   "id": "34f9f566-b96c-4dca-ab72-bbb1a6b2ab4f",
   "metadata": {},
   "outputs": [
    {
     "ename": "TypeError",
     "evalue": "can't multiply sequence by non-int of type 'str'",
     "output_type": "error",
     "traceback": [
      "\u001b[1;31m---------------------------------------------------------------------------\u001b[0m",
      "\u001b[1;31mTypeError\u001b[0m                                 Traceback (most recent call last)",
      "Cell \u001b[1;32mIn[43], line 1\u001b[0m\n\u001b[1;32m----> 1\u001b[0m str1\u001b[38;5;241m*\u001b[39mstr2\n",
      "\u001b[1;31mTypeError\u001b[0m: can't multiply sequence by non-int of type 'str'"
     ]
    }
   ],
   "source": [
    "str1*str2"
   ]
  },
  {
   "cell_type": "code",
   "execution_count": 44,
   "id": "30ccfb3d-a6ec-4c21-8fe1-4f4dd725ac0c",
   "metadata": {},
   "outputs": [
    {
     "ename": "TypeError",
     "evalue": "unsupported operand type(s) for /: 'str' and 'str'",
     "output_type": "error",
     "traceback": [
      "\u001b[1;31m---------------------------------------------------------------------------\u001b[0m",
      "\u001b[1;31mTypeError\u001b[0m                                 Traceback (most recent call last)",
      "Cell \u001b[1;32mIn[44], line 1\u001b[0m\n\u001b[1;32m----> 1\u001b[0m str1\u001b[38;5;241m/\u001b[39mstr2\n",
      "\u001b[1;31mTypeError\u001b[0m: unsupported operand type(s) for /: 'str' and 'str'"
     ]
    }
   ],
   "source": [
    "str1/str2"
   ]
  },
  {
   "cell_type": "code",
   "execution_count": null,
   "id": "e6077baa-8474-43e2-b609-5357d4b5a271",
   "metadata": {},
   "outputs": [],
   "source": [
    "str1-str2:\n",
    "TypeError: unsupported operand type(s) for -: 'str' and 'str'\n",
    "\n",
    "str1/str2:\n",
    "TypeError: unsupported operand type(s) for /: 'str' and 'str'\n",
    "\n",
    "str1(sequence)*3:\n",
    "TypeError: can't multiply sequence by non-int of type 'str'"
   ]
  },
  {
   "cell_type": "code",
   "execution_count": 45,
   "id": "b007c101-333e-401b-9aae-60d4236bbf17",
   "metadata": {},
   "outputs": [
    {
     "data": {
      "text/plain": [
       "'pythonpythonpython'"
      ]
     },
     "execution_count": 45,
     "metadata": {},
     "output_type": "execute_result"
    }
   ],
   "source": [
    "'python'*3"
   ]
  },
  {
   "cell_type": "code",
   "execution_count": 47,
   "id": "fbc86d23-538d-409f-9668-41a10ba13911",
   "metadata": {},
   "outputs": [
    {
     "data": {
      "text/plain": [
       "'hello python'"
      ]
     },
     "execution_count": 47,
     "metadata": {},
     "output_type": "execute_result"
    }
   ],
   "source": [
    "str1='hello '\n",
    "str2='python'\n",
    "str1+str2"
   ]
  },
  {
   "cell_type": "code",
   "execution_count": 48,
   "id": "12d6d006-cf54-45eb-b5a6-a5848ad16b12",
   "metadata": {},
   "outputs": [
    {
     "data": {
      "text/plain": [
       "'hello python'"
      ]
     },
     "execution_count": 48,
     "metadata": {},
     "output_type": "execute_result"
    }
   ],
   "source": [
    "str1='hello'\n",
    "str2=' python'\n",
    "str1+str2"
   ]
  },
  {
   "cell_type": "code",
   "execution_count": 49,
   "id": "958275fa-a83a-4c80-af35-879c93eaa4ba",
   "metadata": {},
   "outputs": [
    {
     "data": {
      "text/plain": [
       "'hello python'"
      ]
     },
     "execution_count": 49,
     "metadata": {},
     "output_type": "execute_result"
    }
   ],
   "source": [
    "str1='hello'\n",
    "str2='python'\n",
    "str1+' '+str2"
   ]
  },
  {
   "cell_type": "code",
   "execution_count": null,
   "id": "71e74cb8-9651-43c0-8f4d-13ac43160d1e",
   "metadata": {},
   "outputs": [],
   "source": [
    "- Basic represenations\n",
    "\n",
    "- min max len\n",
    "\n",
    "- sorted  \n",
    "\n",
    "- reveresd\n",
    "\n",
    "- concatenation"
   ]
  },
  {
   "cell_type": "code",
   "execution_count": null,
   "id": "72d477ec-c47f-431d-bcdd-8aabfff60b55",
   "metadata": {},
   "outputs": [],
   "source": [
    "# every day after the class till 12 you need to be in Lab\n",
    "# 140Python book also\n",
    "# 5qns you need \n",
    "# whatsapp group online and offline "
   ]
  },
  {
   "cell_type": "markdown",
   "id": "c73754a0-17e4-4139-a8c2-75de4e402a12",
   "metadata": {},
   "source": [
    "**index**"
   ]
  },
  {
   "cell_type": "code",
   "execution_count": 1,
   "id": "2bb3807d-7176-4080-9ea6-e23655e47853",
   "metadata": {},
   "outputs": [
    {
     "data": {
      "text/plain": [
       "'python'"
      ]
     },
     "execution_count": 1,
     "metadata": {},
     "output_type": "execute_result"
    }
   ],
   "source": [
    "str1='python'\n",
    "str1"
   ]
  },
  {
   "cell_type": "code",
   "execution_count": null,
   "id": "826e50d9-e939-409f-9ac7-14d7e6c3c5d1",
   "metadata": {},
   "outputs": [],
   "source": [
    "-6 -5 -4 -3 -2 -1\n",
    "p  y  t  h  o  n\n",
    "0  1  2  3  4  5"
   ]
  },
  {
   "cell_type": "markdown",
   "id": "aa92de28-256b-4762-ba7c-9d75304c8032",
   "metadata": {},
   "source": [
    "- access the charcters or elements use square bracket"
   ]
  },
  {
   "cell_type": "code",
   "execution_count": 8,
   "id": "60611742-f6ec-487c-a03e-8aea8810744e",
   "metadata": {},
   "outputs": [
    {
     "data": {
      "text/plain": [
       "('n', 'n')"
      ]
     },
     "execution_count": 8,
     "metadata": {},
     "output_type": "execute_result"
    }
   ],
   "source": [
    "str1[0],str1[-6]\n",
    "str1[1],str1[-5]\n",
    "str1[2],str1[-4]\n",
    "str1[3],str1[-3]\n",
    "str1[4],str1[-2]\n",
    "str1[5],str1[-1]"
   ]
  },
  {
   "cell_type": "code",
   "execution_count": null,
   "id": "b9fbef3d-ce56-4044-a2e5-a34cdcb10af1",
   "metadata": {},
   "outputs": [],
   "source": [
    "str1[0]\n",
    "str1[1]\n",
    "str1[2]\n",
    "str1[3]\n",
    "str1[4]\n",
    "str1[5]\n",
    "\n",
    "str1[i]"
   ]
  },
  {
   "cell_type": "code",
   "execution_count": 9,
   "id": "0f6fd517-c770-413a-b787-0907190cb2f3",
   "metadata": {
    "scrolled": true
   },
   "outputs": [
    {
     "name": "stdout",
     "output_type": "stream",
     "text": [
      "p\n",
      "y\n",
      "t\n",
      "h\n",
      "o\n",
      "n\n"
     ]
    }
   ],
   "source": [
    "str1='python'\n",
    "n=len(str1)\n",
    "for i in range(0,n):\n",
    "    print(str1[i])"
   ]
  },
  {
   "cell_type": "code",
   "execution_count": 10,
   "id": "ea2a699e-303c-40cc-ad83-9e3e0ddc9180",
   "metadata": {},
   "outputs": [
    {
     "name": "stdout",
     "output_type": "stream",
     "text": [
      "h\n",
      "e\n",
      "l\n",
      "l\n",
      "o\n",
      " \n",
      "h\n",
      "o\n",
      "w\n",
      " \n",
      "a\n",
      "r\n",
      "e\n",
      " \n",
      "y\n",
      "o\n",
      "u\n"
     ]
    }
   ],
   "source": [
    "str1='hello how are you'\n",
    "n=len(str1)\n",
    "for i in range(0,n):\n",
    "    print(str1[i])"
   ]
  },
  {
   "cell_type": "code",
   "execution_count": null,
   "id": "475f5481-300f-410e-aeb8-8b35b1b9786f",
   "metadata": {},
   "outputs": [],
   "source": [
    "# Q1)\n",
    "# the postive index of p is 0\n",
    "# the postive index of y is 1\n",
    "# the postive index of n is 2\n",
    "\n",
    "# Q2)\n",
    "# the negative index of p is -6\n",
    "# the negative index of y is -5\n",
    "# the negative index of n is -4 and so on\n",
    "\n",
    "# Q3)\n",
    "# The postvive index is 0 and negtaive index is -6 for p"
   ]
  },
  {
   "cell_type": "code",
   "execution_count": 12,
   "id": "1dcdd9a6-d356-4503-9344-583b8a17f6e8",
   "metadata": {},
   "outputs": [
    {
     "name": "stdout",
     "output_type": "stream",
     "text": [
      "0 1 2 3 4 5 -6 -5 -4 -3 -2 -1 "
     ]
    }
   ],
   "source": [
    "# Q1) first you need to print the numbers\n",
    "\n",
    "#-6 -5 -4 -3 -2 -1\n",
    "#p  y  t  h  o  n\n",
    "#0  1  2  3  4  5\n",
    "for i in range(0,6):print(i,end=' ')\n",
    "for i in range(-6,0):print(i,end=' ')"
   ]
  },
  {
   "cell_type": "code",
   "execution_count": 16,
   "id": "edeef7c4-49f4-46aa-a1db-7bcd743d618d",
   "metadata": {},
   "outputs": [
    {
     "name": "stdout",
     "output_type": "stream",
     "text": [
      "the postive index of p is 0\n",
      "the postive index of y is 1\n",
      "the postive index of t is 2\n",
      "the postive index of h is 3\n",
      "the postive index of o is 4\n",
      "the postive index of n is 5\n"
     ]
    }
   ],
   "source": [
    "str1='python'\n",
    "n=len(str1)\n",
    "for i in range(0,n):\n",
    "    print(f'the postive index of {str1[i]} is {i}')"
   ]
  },
  {
   "cell_type": "code",
   "execution_count": 17,
   "id": "f4eb8c80-28c0-489a-94eb-52f1fa2de9c5",
   "metadata": {},
   "outputs": [
    {
     "name": "stdout",
     "output_type": "stream",
     "text": [
      "-6\n",
      "-5\n",
      "-4\n",
      "-3\n",
      "-2\n",
      "-1\n"
     ]
    }
   ],
   "source": [
    "str1='python'\n",
    "n=len(str1)\n",
    "for i in range(-6,0):\n",
    "    print(i)"
   ]
  },
  {
   "cell_type": "code",
   "execution_count": 19,
   "id": "81ed1106-2f8d-4217-b60a-f4e39f24f497",
   "metadata": {},
   "outputs": [
    {
     "name": "stdout",
     "output_type": "stream",
     "text": [
      "0 -6\n",
      "1 -5\n",
      "2 -4\n",
      "3 -3\n",
      "4 -2\n",
      "5 -1\n"
     ]
    }
   ],
   "source": [
    "for i in range(0,6):  postive\n",
    "for i in range(-6,0)  nega\n",
    "for i in range(-6,6)"
   ]
  },
  {
   "cell_type": "code",
   "execution_count": 24,
   "id": "7294190b-450d-41ed-bc34-5d9837dc8948",
   "metadata": {},
   "outputs": [
    {
     "name": "stdout",
     "output_type": "stream",
     "text": [
      "0 -6\n",
      "the postive index is 0,neagtive index is -6 for : p\n",
      "the postive index is 0 for: p\n",
      "the negative index is -6 for: p\n",
      "1 -5\n",
      "the postive index is 1,neagtive index is -5 for : y\n",
      "the postive index is 1 for: y\n",
      "the negative index is -5 for: y\n",
      "2 -4\n",
      "the postive index is 2,neagtive index is -4 for : t\n",
      "the postive index is 2 for: t\n",
      "the negative index is -4 for: t\n",
      "3 -3\n",
      "the postive index is 3,neagtive index is -3 for : h\n",
      "the postive index is 3 for: h\n",
      "the negative index is -3 for: h\n",
      "4 -2\n",
      "the postive index is 4,neagtive index is -2 for : o\n",
      "the postive index is 4 for: o\n",
      "the negative index is -2 for: o\n",
      "5 -1\n",
      "the postive index is 5,neagtive index is -1 for : n\n",
      "the postive index is 5 for: n\n",
      "the negative index is -1 for: n\n"
     ]
    }
   ],
   "source": [
    "for i in range(0,6):\n",
    "    print(i,i-6)\n",
    "    print(f'the postive index is {i},neagtive index is {i-6} for : {str1[i]}')\n",
    "    print(f'the postive index is {i} for: {str1[i]}')\n",
    "    print(f'the negative index is {i-6} for: {str1[i]}')"
   ]
  },
  {
   "cell_type": "markdown",
   "id": "9bd38752-ddca-4905-b6c2-00922f11ce83",
   "metadata": {},
   "source": [
    "**when to use **in** - When to use **range** opeartor**"
   ]
  },
  {
   "cell_type": "markdown",
   "id": "7e447aff-18c8-4edb-b418-55bec6bae21f",
   "metadata": {},
   "source": [
    "- **in** operator directly access the elements\n",
    "\n",
    "- **range** opeartor access the elements using index or numbers\n",
    "\n",
    "- any problem statement if you need numbers then go for range\n",
    "\n",
    "- otherwise go for in opeartor directly"
   ]
  },
  {
   "cell_type": "code",
   "execution_count": 26,
   "id": "7433e5cc-005a-401d-aacc-e4710e1d55c2",
   "metadata": {},
   "outputs": [
    {
     "name": "stdout",
     "output_type": "stream",
     "text": [
      "p\n",
      "y\n",
      "t\n",
      "h\n",
      "o\n",
      "n\n",
      "0 p\n",
      "1 y\n",
      "2 t\n",
      "3 h\n",
      "4 o\n",
      "5 n\n"
     ]
    }
   ],
   "source": [
    "str1='python'\n",
    "for i in str1:\n",
    "    print(i)\n",
    "\n",
    "for i in range(0,6):\n",
    "    print(i,str1[i])"
   ]
  },
  {
   "cell_type": "code",
   "execution_count": null,
   "id": "74b27255-c4f6-417b-a8e7-718bdf5af058",
   "metadata": {},
   "outputs": [],
   "source": [
    "# Q4) write a progarm to find the indexes of 'a' in a given string\n",
    "#     str1='ola ola ola'\n",
    "\n",
    "# Q5) write a program to find the sum of all indexes of 'a' in a given string\n",
    "#    str1='ola ola ola'\n",
    "\n",
    "# Q6) write a progarm to find the number of 'a' in a given string\n",
    "#    str1='ola ola ola'\n",
    "\n",
    "# Q7) write a progarm to find the vowels and its count in a given string\n",
    "#    str1='hai how are you'\n",
    "\n",
    "# Q8) write a progarm to find the vowels which are repaeting then print only \n",
    "#     one time \n",
    "#     example: helleo  \n",
    "#      e is coming two times but we want to print only one time"
   ]
  },
  {
   "cell_type": "code",
   "execution_count": 30,
   "id": "bf89ed64-28cd-4748-852e-c19fb612b976",
   "metadata": {},
   "outputs": [
    {
     "name": "stdout",
     "output_type": "stream",
     "text": [
      "2\n",
      "6\n",
      "10\n"
     ]
    }
   ],
   "source": [
    "# Q4) write a progarm to find the indexes of 'a' in a given string\n",
    "#     str1='ola ola ola'\n",
    "str1='ola ola ola'\n",
    "for i in range(len(str1)):\n",
    "    if str1[i]=='a':\n",
    "        print(i)\n"
   ]
  },
  {
   "cell_type": "code",
   "execution_count": 31,
   "id": "ac64b616-91ce-4d18-9474-9cbc9ec90b05",
   "metadata": {},
   "outputs": [
    {
     "name": "stdout",
     "output_type": "stream",
     "text": [
      "2\n",
      "6\n",
      "10\n",
      "the number of a are: 3\n",
      "the sum of indexes are: 18\n"
     ]
    }
   ],
   "source": [
    "# Q5) write a progarm to find the indexes of 'a' in a given string\n",
    "#     str1='ola ola ola'\n",
    "str1='ola ola ola'\n",
    "summ=0\n",
    "count=0\n",
    "for i in range(len(str1)):\n",
    "    if str1[i]=='a':\n",
    "        print(i)\n",
    "        summ=summ+i\n",
    "        count=count+1\n",
    "\n",
    "print('the number of a are:',count)\n",
    "print('the sum of indexes are:',summ)"
   ]
  },
  {
   "cell_type": "code",
   "execution_count": 32,
   "id": "085d56fd-0d6f-4637-9c37-7d17d58a6980",
   "metadata": {},
   "outputs": [],
   "source": [
    "# Q6) write a progarm to find the number of 'a' in a given string\n",
    "#    str1='ola ola ola'\n",
    "# in this problem we are counting number of 'a'\n",
    "# we are not using index\n",
    "count=0\n",
    "for i in str1:\n",
    "    if i=='a':\n",
    "        count=count+1"
   ]
  },
  {
   "cell_type": "code",
   "execution_count": 34,
   "id": "d8095016-91b0-48df-be5f-122164738c90",
   "metadata": {},
   "outputs": [
    {
     "name": "stdout",
     "output_type": "stream",
     "text": [
      "a\n",
      "i\n",
      "o\n",
      "a\n",
      "e\n",
      "o\n",
      "u\n",
      "7\n"
     ]
    }
   ],
   "source": [
    "# Q7) write a progarm to find the vowels and its count in a given string\n",
    "#    str1='hai how are you'\n",
    "str1='hai how are you'\n",
    "s1='aeiou'\n",
    "count=0\n",
    "for i in str1:\n",
    "    if i in s1:\n",
    "        print(i)\n",
    "        count=count+1\n",
    "print(count)"
   ]
  },
  {
   "cell_type": "code",
   "execution_count": 35,
   "id": "47bab155-080b-4480-8520-6cf16e3c3899",
   "metadata": {},
   "outputs": [
    {
     "name": "stdout",
     "output_type": "stream",
     "text": [
      "a\n",
      "e\n"
     ]
    }
   ],
   "source": [
    "# Q8)\n",
    "str1='aaae' #  'ae'\n",
    "s1=''\n",
    "for i in str1:\n",
    "    if i in 'aeiou' and i not in s1:\n",
    "        print(i)\n",
    "        s1=s1+i\n",
    "\n",
    "# i=a  if  a in aeiou  Tr  print a\n",
    "# i=a  say i alreday seen"
   ]
  },
  {
   "cell_type": "code",
   "execution_count": 36,
   "id": "8e615fd4-646e-49c7-bb32-9827d9531ec6",
   "metadata": {},
   "outputs": [
    {
     "data": {
      "text/plain": [
       "'nidinidi'"
      ]
     },
     "execution_count": 36,
     "metadata": {},
     "output_type": "execute_result"
    }
   ],
   "source": [
    "'nidi'+'nidi'"
   ]
  },
  {
   "cell_type": "markdown",
   "id": "37362685-b160-4337-8005-1c93ce2f7def",
   "metadata": {},
   "source": [
    "**mutable-immutable**\n",
    "\n",
    "- mutable means change\n",
    "\n",
    "- immutable means can not change\n",
    "\n",
    "- we can not change the elements using index operations"
   ]
  },
  {
   "cell_type": "code",
   "execution_count": 38,
   "id": "e81b3b90-9f25-43bf-8160-a299f0720be7",
   "metadata": {},
   "outputs": [
    {
     "ename": "TypeError",
     "evalue": "'str' object does not support item assignment",
     "output_type": "error",
     "traceback": [
      "\u001b[1;31m---------------------------------------------------------------------------\u001b[0m",
      "\u001b[1;31mTypeError\u001b[0m                                 Traceback (most recent call last)",
      "Cell \u001b[1;32mIn[38], line 2\u001b[0m\n\u001b[0;32m      1\u001b[0m str1\u001b[38;5;241m=\u001b[39m\u001b[38;5;124m'\u001b[39m\u001b[38;5;124mhello\u001b[39m\u001b[38;5;124m'\u001b[39m\n\u001b[1;32m----> 2\u001b[0m str1[\u001b[38;5;241m2\u001b[39m]\u001b[38;5;241m=\u001b[39m\u001b[38;5;124m'\u001b[39m\u001b[38;5;124mL\u001b[39m\u001b[38;5;124m'\u001b[39m\n",
      "\u001b[1;31mTypeError\u001b[0m: 'str' object does not support item assignment"
     ]
    }
   ],
   "source": [
    "str1='hello'\n",
    "str1[2]='L'"
   ]
  },
  {
   "cell_type": "code",
   "execution_count": 41,
   "id": "b9fd0869-0e45-4431-b7ed-f98d6526cbc8",
   "metadata": {},
   "outputs": [
    {
     "data": {
      "text/plain": [
       "[10, 200, 30]"
      ]
     },
     "execution_count": 41,
     "metadata": {},
     "output_type": "execute_result"
    }
   ],
   "source": [
    "l=[10,20,30]\n",
    "l[1]=200\n",
    "l"
   ]
  },
  {
   "cell_type": "markdown",
   "id": "10653d61-7b0f-4774-a9e1-bcb684153b6f",
   "metadata": {},
   "source": [
    "**slice**\n",
    "\n",
    "- slice means cut into pieces\n",
    "\n",
    "- it has similar analogy with for loop range\n",
    "\n",
    "- in the for loop range we have start,stop,step\n",
    "\n",
    "- range(start,stop,step)  str[start:stop:step]"
   ]
  },
  {
   "cell_type": "code",
   "execution_count": null,
   "id": "846c967a-4d74-4fc3-bdbe-6a1c6dbb609e",
   "metadata": {},
   "outputs": [],
   "source": [
    "-17   -16   -15  -14  -13  -12  -11  -10  -9  -8  -7  -6  -5  -4  -3  -2  -1\n",
    " h      e    l    l     o         h   o    w       a   r   e       y   o   u\n",
    " 0      1    2    3     4   5     6   7    8   9   10  11  12  13  14  15  16"
   ]
  },
  {
   "cell_type": "markdown",
   "id": "5fd75b20-e986-4f91-8a81-663565012541",
   "metadata": {},
   "source": [
    "$case-1$\n",
    "\n",
    "**str[:stop]**\n",
    "\n",
    "- by default start=0\n",
    "\n",
    "- by default step = postive direction 1\n",
    "\n",
    "- last=stop-1"
   ]
  },
  {
   "cell_type": "code",
   "execution_count": 1,
   "id": "1efd5c73-1367-4b5d-ae95-403720d5c83f",
   "metadata": {},
   "outputs": [
    {
     "data": {
      "text/plain": [
       "'hello'"
      ]
     },
     "execution_count": 1,
     "metadata": {},
     "output_type": "execute_result"
    }
   ],
   "source": [
    "str1='hello how are you'\n",
    "str1[:5]\n",
    "# start=0  step =1  stop=5-1=4"
   ]
  },
  {
   "cell_type": "markdown",
   "id": "2228a97f-e810-48d5-a69c-5cc92324c02d",
   "metadata": {},
   "source": [
    "$case-2$\n",
    "\n",
    "**str[start:]**\n",
    "\n",
    "- by default start= start value\n",
    "\n",
    "- by default step = postive direction 1\n",
    "\n",
    "- last= last index"
   ]
  },
  {
   "cell_type": "code",
   "execution_count": 4,
   "id": "8b79f655-7419-4867-9ee7-70f33f3fd15e",
   "metadata": {},
   "outputs": [
    {
     "data": {
      "text/plain": [
       "'you'"
      ]
     },
     "execution_count": 4,
     "metadata": {},
     "output_type": "execute_result"
    }
   ],
   "source": [
    "str1[-3:]"
   ]
  },
  {
   "cell_type": "markdown",
   "id": "7bd49b0a-677f-45b2-8285-f9577b128295",
   "metadata": {},
   "source": [
    "$case-3$\n",
    "\n",
    "**str[start:stop]**\n",
    "\n",
    "- by default start= start value\n",
    "\n",
    "- by default step = postive direction 1\n",
    "\n",
    "- last= stop-1"
   ]
  },
  {
   "cell_type": "code",
   "execution_count": 5,
   "id": "35bfb017-4304-424b-bac2-91cd6c32f458",
   "metadata": {},
   "outputs": [
    {
     "data": {
      "text/plain": [
       "'are y'"
      ]
     },
     "execution_count": 5,
     "metadata": {},
     "output_type": "execute_result"
    }
   ],
   "source": [
    "# -17   -16   -15  -14  -13  -12  -11  -10  -9  -8  -7  -6  -5  -4  -3  -2  -1\n",
    "#  h      e    l    l     o         h   o    w       a   r   e       y   o   u\n",
    "#  0      1    2    3     4   5     6   7    8   9   10  11  12  13  14  15  16\n",
    "\n",
    "str1[10:15]  # start=10  dire postive step 1 last 15-1=14"
   ]
  },
  {
   "cell_type": "code",
   "execution_count": 6,
   "id": "11a318cf-d823-478a-a31f-144f7cd7a46d",
   "metadata": {},
   "outputs": [
    {
     "data": {
      "text/plain": [
       "'llo how '"
      ]
     },
     "execution_count": 6,
     "metadata": {},
     "output_type": "execute_result"
    }
   ],
   "source": [
    "str1[-15:10]"
   ]
  },
  {
   "cell_type": "code",
   "execution_count": 7,
   "id": "20b48b06-405a-4ba2-a02d-ef5ec6bd5a49",
   "metadata": {},
   "outputs": [
    {
     "data": {
      "text/plain": [
       "''"
      ]
     },
     "execution_count": 7,
     "metadata": {},
     "output_type": "execute_result"
    }
   ],
   "source": [
    "str1[-10:2]"
   ]
  },
  {
   "cell_type": "code",
   "execution_count": 8,
   "id": "0ef5562a-73b4-43a0-9c5f-df651269c14a",
   "metadata": {},
   "outputs": [
    {
     "data": {
      "text/plain": [
       "'llo how are y'"
      ]
     },
     "execution_count": 8,
     "metadata": {},
     "output_type": "execute_result"
    }
   ],
   "source": [
    "str1[2:-2]"
   ]
  },
  {
   "cell_type": "code",
   "execution_count": 9,
   "id": "8916d9da-6d73-4eed-9429-80ae96515f15",
   "metadata": {},
   "outputs": [],
   "source": [
    "for i in range(2,-2):\n",
    "    print(i)    #  real line"
   ]
  },
  {
   "cell_type": "markdown",
   "id": "dceca189-758e-4a65-a309-70930968be7a",
   "metadata": {},
   "source": [
    "$case-4$\n",
    "\n",
    "**str[start:stop:step]**\n",
    "\n",
    "- by default start= start value\n",
    "\n",
    "- if step is postive value\n",
    "\n",
    "    - last= stop-1\n",
    "\n",
    "- if step is negative value\n",
    "\n",
    "    - last = stop+1 "
   ]
  },
  {
   "cell_type": "code",
   "execution_count": 10,
   "id": "3a8239d5-2393-4798-9070-93da6f1f372f",
   "metadata": {},
   "outputs": [
    {
     "data": {
      "text/plain": [
       "'lohwaey'"
      ]
     },
     "execution_count": 10,
     "metadata": {},
     "output_type": "execute_result"
    }
   ],
   "source": [
    "# -17   -16   -15  -14  -13  -12  -11  -10  -9  -8  -7  -6  -5  -4  -3  -2  -1\n",
    "#  h      e    l    l     o         h   o    w       a   r   e       y   o   u\n",
    "#  0      1    2    3     4   5     6   7    8   9   10  11  12  13  14  15  16\n",
    "\n",
    "str1[2:15:2]  # start=2 dire=+  step=2  last=15-1=14"
   ]
  },
  {
   "cell_type": "code",
   "execution_count": 15,
   "id": "eeb07ad0-f234-4b1f-8d43-98fb35bda494",
   "metadata": {},
   "outputs": [
    {
     "data": {
      "text/plain": [
       "'lohwa'"
      ]
     },
     "execution_count": 15,
     "metadata": {},
     "output_type": "execute_result"
    }
   ],
   "source": [
    "str1[2:-5:2]  "
   ]
  },
  {
   "cell_type": "code",
   "execution_count": 12,
   "id": "b314f73b-d324-4edb-a3b0-ce08f3163788",
   "metadata": {},
   "outputs": [
    {
     "data": {
      "text/plain": [
       "''"
      ]
     },
     "execution_count": 12,
     "metadata": {},
     "output_type": "execute_result"
    }
   ],
   "source": [
    "str1[15:2:2]"
   ]
  },
  {
   "cell_type": "code",
   "execution_count": 17,
   "id": "38c2f750-c81e-477e-a0ef-b3348889aecd",
   "metadata": {},
   "outputs": [],
   "source": [
    "# -17   -16   -15  -14  -13  -12  -11  -10  -9  -8  -7  -6  -5  -4  -3  -2  -1\n",
    "#  h      e    l    l     o         h   o    w       a   r   e       y   o   u\n",
    "#  0      1    2    3     4   5     6   7    8   9   10  11  12  13  14  15  16\n"
   ]
  },
  {
   "cell_type": "code",
   "execution_count": 19,
   "id": "be772697-80bc-4590-a510-c025e4bac285",
   "metadata": {},
   "outputs": [
    {
     "data": {
      "text/plain": [
       "'llo how are you'"
      ]
     },
     "execution_count": 19,
     "metadata": {},
     "output_type": "execute_result"
    }
   ],
   "source": [
    "str1[2:150]"
   ]
  },
  {
   "cell_type": "code",
   "execution_count": 20,
   "id": "3998efd1-d122-451a-aa49-ee15d54ebfe1",
   "metadata": {},
   "outputs": [
    {
     "data": {
      "text/plain": [
       "'hello how are you'"
      ]
     },
     "execution_count": 20,
     "metadata": {},
     "output_type": "execute_result"
    }
   ],
   "source": [
    "str1[:]"
   ]
  },
  {
   "cell_type": "code",
   "execution_count": 21,
   "id": "36f1bd78-2943-4792-b64a-fbfea8e48771",
   "metadata": {},
   "outputs": [
    {
     "data": {
      "text/plain": [
       "'hello how are you'"
      ]
     },
     "execution_count": 21,
     "metadata": {},
     "output_type": "execute_result"
    }
   ],
   "source": [
    "str1[::]"
   ]
  },
  {
   "cell_type": "code",
   "execution_count": 22,
   "id": "e647b550-99ef-45fc-a169-6b167dd63913",
   "metadata": {},
   "outputs": [
    {
     "data": {
      "text/plain": [
       "'uoy era woh olleh'"
      ]
     },
     "execution_count": 22,
     "metadata": {},
     "output_type": "execute_result"
    }
   ],
   "source": [
    "str1[::-1]"
   ]
  },
  {
   "cell_type": "code",
   "execution_count": 25,
   "id": "9b2d9d28-783f-462a-9197-6d4e16d8cc94",
   "metadata": {},
   "outputs": [
    {
     "data": {
      "text/plain": [
       "54321"
      ]
     },
     "execution_count": 25,
     "metadata": {},
     "output_type": "execute_result"
    }
   ],
   "source": [
    "num=12345\n",
    "int(str(num)[::-1])"
   ]
  },
  {
   "cell_type": "code",
   "execution_count": 29,
   "id": "231b56da-f441-4f78-83bd-a94251d82c1e",
   "metadata": {},
   "outputs": [
    {
     "data": {
      "text/plain": [
       "'lhay'"
      ]
     },
     "execution_count": 29,
     "metadata": {},
     "output_type": "execute_result"
    }
   ],
   "source": [
    "str1[2:15:4]"
   ]
  },
  {
   "cell_type": "code",
   "execution_count": null,
   "id": "bf73497c-f693-409f-a3f9-d7cb26f371e5",
   "metadata": {},
   "outputs": [],
   "source": [
    "- basic representations\n",
    "\n",
    "- inbuilt functions\n",
    "\n",
    "    - min max len type sum reveresed sorted\n",
    "\n",
    "- concatenation\n",
    "\n",
    "- index\n",
    "\n",
    "- in vs range\n",
    "\n",
    "- mutable vs immutable\n",
    "\n",
    "- slice"
   ]
  },
  {
   "cell_type": "markdown",
   "id": "66c35fbf-cce7-4fb2-9114-fec0a795a4ea",
   "metadata": {},
   "source": [
    "## Methods"
   ]
  },
  {
   "cell_type": "code",
   "execution_count": 34,
   "id": "e6313f94-f9c3-46e4-a118-f44d6e2e2d16",
   "metadata": {},
   "outputs": [
    {
     "data": {
      "text/plain": [
       "['__add__',\n",
       " '__class__',\n",
       " '__contains__',\n",
       " '__delattr__',\n",
       " '__dir__',\n",
       " '__doc__',\n",
       " '__eq__',\n",
       " '__format__',\n",
       " '__ge__',\n",
       " '__getattribute__',\n",
       " '__getitem__',\n",
       " '__getnewargs__',\n",
       " '__getstate__',\n",
       " '__gt__',\n",
       " '__hash__',\n",
       " '__init__',\n",
       " '__init_subclass__',\n",
       " '__iter__',\n",
       " '__le__',\n",
       " '__len__',\n",
       " '__lt__',\n",
       " '__mod__',\n",
       " '__mul__',\n",
       " '__ne__',\n",
       " '__new__',\n",
       " '__reduce__',\n",
       " '__reduce_ex__',\n",
       " '__repr__',\n",
       " '__rmod__',\n",
       " '__rmul__',\n",
       " '__setattr__',\n",
       " '__sizeof__',\n",
       " '__str__',\n",
       " '__subclasshook__',\n",
       " 'capitalize',\n",
       " 'casefold',\n",
       " 'center',\n",
       " 'count',\n",
       " 'encode',\n",
       " 'endswith',\n",
       " 'expandtabs',\n",
       " 'find',\n",
       " 'format',\n",
       " 'format_map',\n",
       " 'index',\n",
       " 'isalnum',\n",
       " 'isalpha',\n",
       " 'isascii',\n",
       " 'isdecimal',\n",
       " 'isdigit',\n",
       " 'isidentifier',\n",
       " 'islower',\n",
       " 'isnumeric',\n",
       " 'isprintable',\n",
       " 'isspace',\n",
       " 'istitle',\n",
       " 'isupper',\n",
       " 'join',\n",
       " 'ljust',\n",
       " 'lower',\n",
       " 'lstrip',\n",
       " 'maketrans',\n",
       " 'partition',\n",
       " 'removeprefix',\n",
       " 'removesuffix',\n",
       " 'replace',\n",
       " 'rfind',\n",
       " 'rindex',\n",
       " 'rjust',\n",
       " 'rpartition',\n",
       " 'rsplit',\n",
       " 'rstrip',\n",
       " 'split',\n",
       " 'splitlines',\n",
       " 'startswith',\n",
       " 'strip',\n",
       " 'swapcase',\n",
       " 'title',\n",
       " 'translate',\n",
       " 'upper',\n",
       " 'zfill']"
      ]
     },
     "execution_count": 34,
     "metadata": {},
     "output_type": "execute_result"
    }
   ],
   "source": [
    "name='python'\n",
    "dir(name)  # dir('')"
   ]
  },
  {
   "cell_type": "markdown",
   "id": "8a40a504-9727-4d3a-a304-82c0fe422eb2",
   "metadata": {},
   "source": [
    "**upper**"
   ]
  },
  {
   "cell_type": "code",
   "execution_count": 38,
   "id": "82b13517-d5eb-41bd-b5ab-60ed0be60091",
   "metadata": {},
   "outputs": [
    {
     "data": {
      "text/plain": [
       "'WELCOME TO NARESHIT'"
      ]
     },
     "execution_count": 38,
     "metadata": {},
     "output_type": "execute_result"
    }
   ],
   "source": [
    "str1='welcome to nareshit'  \n",
    "str1.upper()"
   ]
  },
  {
   "cell_type": "code",
   "execution_count": 35,
   "id": "ecc3fae9-9748-4624-95c3-f2ceb6d7d482",
   "metadata": {},
   "outputs": [],
   "source": [
    "- lower\n",
    "\n",
    "- title\n",
    "\n",
    "- capitalize\n",
    "\n",
    "- casefold"
   ]
  },
  {
   "cell_type": "code",
   "execution_count": 39,
   "id": "3578078e-3052-44a6-9bad-92f74c68d372",
   "metadata": {},
   "outputs": [
    {
     "data": {
      "text/plain": [
       "'welcome to naresh it'"
      ]
     },
     "execution_count": 39,
     "metadata": {},
     "output_type": "execute_result"
    }
   ],
   "source": [
    "str1='WELCOME to Naresh IT'  \n",
    "str1.lower()"
   ]
  },
  {
   "cell_type": "code",
   "execution_count": 40,
   "id": "d72799b5-a45c-43ad-9ada-cd327f75a1d6",
   "metadata": {},
   "outputs": [
    {
     "data": {
      "text/plain": [
       "'welcome to naresh it'"
      ]
     },
     "execution_count": 40,
     "metadata": {},
     "output_type": "execute_result"
    }
   ],
   "source": [
    "str1='WELCOME to Naresh IT'  \n",
    "str1.casefold()"
   ]
  },
  {
   "cell_type": "code",
   "execution_count": 41,
   "id": "a94cad4e-f6e6-420e-a419-1c9832664edd",
   "metadata": {},
   "outputs": [
    {
     "data": {
      "text/plain": [
       "'Welcome To Nareshit'"
      ]
     },
     "execution_count": 41,
     "metadata": {},
     "output_type": "execute_result"
    }
   ],
   "source": [
    "str1='welcome to nareshit'  \n",
    "str1.title()"
   ]
  },
  {
   "cell_type": "code",
   "execution_count": 42,
   "id": "48290ac3-4fb2-474f-9574-1a863b54d7e2",
   "metadata": {},
   "outputs": [
    {
     "data": {
      "text/plain": [
       "'Welcome to nareshit'"
      ]
     },
     "execution_count": 42,
     "metadata": {},
     "output_type": "execute_result"
    }
   ],
   "source": [
    "str1='welcome to nareshit'  \n",
    "str1.capitalize()"
   ]
  },
  {
   "cell_type": "code",
   "execution_count": null,
   "id": "8426f251-44f3-4d65-a431-e3f8429393e1",
   "metadata": {},
   "outputs": [],
   "source": [
    "str1.upper()\n",
    "str1.lower()\n",
    "str1.title()\n",
    "str1.capitalize()\n",
    "str1.casefold()"
   ]
  },
  {
   "cell_type": "markdown",
   "id": "182c518e-0f0d-45f3-a9e5-73ad0dd30391",
   "metadata": {},
   "source": [
    "**difference between metods and inbulilt functions**"
   ]
  },
  {
   "cell_type": "code",
   "execution_count": null,
   "id": "22e84416-3310-4a73-a3a3-c1c3f363588b",
   "metadata": {},
   "outputs": [],
   "source": [
    "########## Inbuilt =======================\n",
    "len('python') \n",
    "max()\n",
    "min()\n",
    "type()\n",
    "print()\n",
    "sum()\n",
    "##################################\n",
    "str1.upper()\n",
    "str1.lower()\n",
    "str1.title()\n",
    "str1.capitalize()\n",
    "str1.casefold()"
   ]
  },
  {
   "cell_type": "markdown",
   "id": "bd623f64-c05b-4bfe-8d83-f62583bc51f9",
   "metadata": {},
   "source": [
    "**center**"
   ]
  },
  {
   "cell_type": "code",
   "execution_count": 50,
   "id": "5e339688-9fee-4330-b1a1-716afb6ac9b2",
   "metadata": {},
   "outputs": [
    {
     "data": {
      "text/plain": [
       "'**pythonn***'"
      ]
     },
     "execution_count": 50,
     "metadata": {},
     "output_type": "execute_result"
    }
   ],
   "source": [
    "str1='pythonn' # 7 5\n",
    "str1.center(12,'*')\n",
    "\n",
    "# 3starts + python(6)+ 4*\n",
    "# 4* + 6 +3*\n",
    "# here 12 means the len of string becomes 12 charcters\n",
    "# alreday 'pythonn' string has 7 charcters\n",
    "# so remaining 5 charcters padd as *"
   ]
  },
  {
   "cell_type": "code",
   "execution_count": null,
   "id": "36987985-8a28-4b41-b36d-37f0976da444",
   "metadata": {},
   "outputs": [],
   "source": [
    "# assume that i alreday have\n",
    "# string='***python'"
   ]
  },
  {
   "cell_type": "markdown",
   "id": "760d9ef6-3848-4051-a414-43949524995f",
   "metadata": {},
   "source": [
    "**strip-lstrip-rstrip**\n",
    "\n",
    "- strip will remove the charcters both left and right side\n",
    "\n",
    "- lstrip will remove the charcters on left side\n",
    "\n",
    "- rstrip will remove the charcters on right side"
   ]
  },
  {
   "cell_type": "code",
   "execution_count": 53,
   "id": "c034c1a4-075a-45fe-b31b-fd784a906030",
   "metadata": {},
   "outputs": [],
   "source": [
    "str1=' python '\n",
    "str2='***python****'\n",
    "str3='   python****'"
   ]
  },
  {
   "cell_type": "code",
   "execution_count": 57,
   "id": "fbb1e159-b4b8-4e6c-9e3c-2876de2ce14b",
   "metadata": {},
   "outputs": [
    {
     "data": {
      "text/plain": [
       "(' python ', 'python', 'python ', ' python')"
      ]
     },
     "execution_count": 57,
     "metadata": {},
     "output_type": "execute_result"
    }
   ],
   "source": [
    "str1,str1.strip(),str1.lstrip(),str1.rstrip()"
   ]
  },
  {
   "cell_type": "code",
   "execution_count": 61,
   "id": "b8432397-a8ee-4110-97c1-af674e3e3d50",
   "metadata": {},
   "outputs": [
    {
     "name": "stdout",
     "output_type": "stream",
     "text": [
      " python \n",
      "python\n",
      "python \n",
      " python\n"
     ]
    }
   ],
   "source": [
    "print(str1) \n",
    "print(str1.strip())\n",
    "print(str1.lstrip())\n",
    "print(str1.rstrip())"
   ]
  },
  {
   "cell_type": "code",
   "execution_count": 62,
   "id": "583f44d0-118f-4565-8669-b0eaae0597f6",
   "metadata": {},
   "outputs": [
    {
     "data": {
      "text/plain": [
       "('***python****', 'python', 'python****', '***python')"
      ]
     },
     "execution_count": 62,
     "metadata": {},
     "output_type": "execute_result"
    }
   ],
   "source": [
    "str2,str2.strip('*'),str2.lstrip('*'),str2.rstrip('*')"
   ]
  },
  {
   "cell_type": "code",
   "execution_count": 63,
   "id": "df7a9a10-ff56-4ea3-9ffb-6681c5868296",
   "metadata": {},
   "outputs": [
    {
     "data": {
      "text/plain": [
       "'***python****'"
      ]
     },
     "execution_count": 63,
     "metadata": {},
     "output_type": "execute_result"
    }
   ],
   "source": [
    "str2.strip()"
   ]
  },
  {
   "cell_type": "code",
   "execution_count": 67,
   "id": "20ccb809-2b5b-42a2-bb32-465ad951d429",
   "metadata": {},
   "outputs": [
    {
     "data": {
      "text/plain": [
       "'python'"
      ]
     },
     "execution_count": 67,
     "metadata": {},
     "output_type": "execute_result"
    }
   ],
   "source": [
    "str3='   python****'\n",
    "str4=str3.strip()\n",
    "str4.rstrip('*')"
   ]
  },
  {
   "cell_type": "code",
   "execution_count": 74,
   "id": "cc5bace6-c671-468b-8fa2-ade4a2a8772f",
   "metadata": {},
   "outputs": [
    {
     "data": {
      "text/plain": [
       "'python'"
      ]
     },
     "execution_count": 74,
     "metadata": {},
     "output_type": "execute_result"
    }
   ],
   "source": [
    "str3='++++python****'\n",
    "str3.lstrip('+').rstrip('*')"
   ]
  },
  {
   "cell_type": "code",
   "execution_count": null,
   "id": "93c78ef3-93f5-4f68-abf7-fdb07ebe5c72",
   "metadata": {},
   "outputs": [],
   "source": [
    "- upper\n",
    "\n",
    "- lower\n",
    "\n",
    "- title\n",
    "\n",
    "- capitalize\n",
    "\n",
    "- casefold\n",
    "\n",
    "- center\n",
    "\n",
    "- rstrip \n",
    "\n",
    "- lstrip\n",
    "\n",
    "- strip\n",
    "\n",
    "- startswith \n",
    "\n",
    "- endswith"
   ]
  }
 ],
 "metadata": {
  "kernelspec": {
   "display_name": "Python 3 (ipykernel)",
   "language": "python",
   "name": "python3"
  },
  "language_info": {
   "codemirror_mode": {
    "name": "ipython",
    "version": 3
   },
   "file_extension": ".py",
   "mimetype": "text/x-python",
   "name": "python",
   "nbconvert_exporter": "python",
   "pygments_lexer": "ipython3",
   "version": "3.11.7"
  }
 },
 "nbformat": 4,
 "nbformat_minor": 5
}
